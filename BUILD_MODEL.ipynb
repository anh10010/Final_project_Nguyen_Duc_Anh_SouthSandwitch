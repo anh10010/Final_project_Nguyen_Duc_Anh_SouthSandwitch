{
  "cells": [
    {
      "cell_type": "markdown",
      "metadata": {
        "id": "0lF_EnhS8H9F"
      },
      "source": [
        "## I/GET DATA"
      ]
    },
    {
      "cell_type": "code",
      "execution_count": 26,
      "metadata": {
        "colab": {
          "base_uri": "https://localhost:8080/"
        },
        "id": "mlqLfH7n8WKC",
        "outputId": "474233c3-21a1-4590-8d55-dfea509912ff"
      },
      "outputs": [
        {
          "name": "stdout",
          "output_type": "stream",
          "text": [
            "Note: you may need to restart the kernel to use updated packages.\n"
          ]
        },
        {
          "name": "stderr",
          "output_type": "stream",
          "text": [
            "ERROR: Invalid requirement: '#install'\n"
          ]
        }
      ],
      "source": [
        "%pip install -U scikit-learn #install sklearn 1.0.2\n",
        "import numpy as np\n",
        "import re\n",
        "import pandas as pd\n",
        "import seaborn as sns\n",
        "import matplotlib.pyplot as plt\n",
        "import pickle\n",
        "#Build Transformer\n",
        "from sklearn.preprocessing import OneHotEncoder,MinMaxScaler,PolynomialFeatures,OrdinalEncoder\n",
        "from sklearn.compose import ColumnTransformer\n",
        "from sklearn.pipeline import Pipeline\n",
        "from sklearn.metrics import mean_squared_error,mean_absolute_percentage_error\n",
        "from sklearn.model_selection import GridSearchCV,RandomizedSearchCV\n",
        "from scipy.stats import randint\n",
        "#Suicide rate in countries every year\n",
        "df_country_suicide_rate=pd.read_csv('DATASET/CLEANED_DATA/country_suicide_rate.csv')\n",
        "\n",
        "#Suicide rate in over the world every year(full data)\n",
        "df_suicide_rate=pd.read_csv('DATASET/CLEANED_DATA/suicide_rate.csv')\n",
        "\n",
        "#Mental health in 2016\n",
        "df_mental_health_2016=pd.read_csv('DATASET/CLEANED_DATA/mental_health.csv')"
      ]
    },
    {
      "cell_type": "code",
      "execution_count": 3,
      "metadata": {
        "colab": {
          "base_uri": "https://localhost:8080/"
        },
        "id": "YrFDoaMMBlBl",
        "outputId": "4500b5c2-d37f-4867-849c-d6d0e298f656"
      },
      "outputs": [
        {
          "data": {
            "text/html": [
              "<style type=\"text/css\">\n",
              "#T_b4854_row0_col0, #T_b4854_row1_col1, #T_b4854_row2_col2, #T_b4854_row3_col3, #T_b4854_row4_col4, #T_b4854_row5_col5 {\n",
              "  background-color: #08306b;\n",
              "  color: #f1f1f1;\n",
              "}\n",
              "#T_b4854_row0_col1, #T_b4854_row4_col0 {\n",
              "  background-color: #f2f8fd;\n",
              "  color: #000000;\n",
              "}\n",
              "#T_b4854_row0_col2 {\n",
              "  background-color: #b8d5ea;\n",
              "  color: #000000;\n",
              "}\n",
              "#T_b4854_row0_col3, #T_b4854_row0_col4, #T_b4854_row0_col5, #T_b4854_row5_col0, #T_b4854_row5_col1, #T_b4854_row5_col2 {\n",
              "  background-color: #f7fbff;\n",
              "  color: #000000;\n",
              "}\n",
              "#T_b4854_row1_col0 {\n",
              "  background-color: #e2edf8;\n",
              "  color: #000000;\n",
              "}\n",
              "#T_b4854_row1_col2 {\n",
              "  background-color: #c3daee;\n",
              "  color: #000000;\n",
              "}\n",
              "#T_b4854_row1_col3 {\n",
              "  background-color: #3888c1;\n",
              "  color: #f1f1f1;\n",
              "}\n",
              "#T_b4854_row1_col4 {\n",
              "  background-color: #1764ab;\n",
              "  color: #f1f1f1;\n",
              "}\n",
              "#T_b4854_row1_col5 {\n",
              "  background-color: #e6f0f9;\n",
              "  color: #000000;\n",
              "}\n",
              "#T_b4854_row2_col0 {\n",
              "  background-color: #a6cee4;\n",
              "  color: #000000;\n",
              "}\n",
              "#T_b4854_row2_col1 {\n",
              "  background-color: #c7dbef;\n",
              "  color: #000000;\n",
              "}\n",
              "#T_b4854_row2_col3, #T_b4854_row4_col5 {\n",
              "  background-color: #e3eef9;\n",
              "  color: #000000;\n",
              "}\n",
              "#T_b4854_row2_col4 {\n",
              "  background-color: #e7f0fa;\n",
              "  color: #000000;\n",
              "}\n",
              "#T_b4854_row2_col5, #T_b4854_row5_col4 {\n",
              "  background-color: #e8f1fa;\n",
              "  color: #000000;\n",
              "}\n",
              "#T_b4854_row3_col0 {\n",
              "  background-color: #f5fafe;\n",
              "  color: #000000;\n",
              "}\n",
              "#T_b4854_row3_col1 {\n",
              "  background-color: #4090c5;\n",
              "  color: #f1f1f1;\n",
              "}\n",
              "#T_b4854_row3_col2 {\n",
              "  background-color: #f0f6fd;\n",
              "  color: #000000;\n",
              "}\n",
              "#T_b4854_row3_col4 {\n",
              "  background-color: #1562a9;\n",
              "  color: #f1f1f1;\n",
              "}\n",
              "#T_b4854_row3_col5 {\n",
              "  background-color: #a0cbe2;\n",
              "  color: #000000;\n",
              "}\n",
              "#T_b4854_row4_col1 {\n",
              "  background-color: #1a68ae;\n",
              "  color: #f1f1f1;\n",
              "}\n",
              "#T_b4854_row4_col2 {\n",
              "  background-color: #f1f7fd;\n",
              "  color: #000000;\n",
              "}\n",
              "#T_b4854_row4_col3 {\n",
              "  background-color: #1561a9;\n",
              "  color: #f1f1f1;\n",
              "}\n",
              "#T_b4854_row5_col3 {\n",
              "  background-color: #a1cbe2;\n",
              "  color: #000000;\n",
              "}\n",
              "</style>\n",
              "<table id=\"T_b4854_\">\n",
              "  <thead>\n",
              "    <tr>\n",
              "      <th class=\"blank level0\" >&nbsp;</th>\n",
              "      <th class=\"col_heading level0 col0\" >Year</th>\n",
              "      <th class=\"col_heading level0 col1\" >GDP ($)</th>\n",
              "      <th class=\"col_heading level0 col2\" >GDP/Capita ($)</th>\n",
              "      <th class=\"col_heading level0 col3\" >No.Suicides</th>\n",
              "      <th class=\"col_heading level0 col4\" >Population</th>\n",
              "      <th class=\"col_heading level0 col5\" >Suicides_rate/100k pop</th>\n",
              "    </tr>\n",
              "  </thead>\n",
              "  <tbody>\n",
              "    <tr>\n",
              "      <th id=\"T_b4854_level0_row0\" class=\"row_heading level0 row0\" >Year</th>\n",
              "      <td id=\"T_b4854_row0_col0\" class=\"data row0 col0\" >1.000000</td>\n",
              "      <td id=\"T_b4854_row0_col1\" class=\"data row0 col1\" >0.094001</td>\n",
              "      <td id=\"T_b4854_row0_col2\" class=\"data row0 col2\" >0.339188</td>\n",
              "      <td id=\"T_b4854_row0_col3\" class=\"data row0 col3\" >-0.007759</td>\n",
              "      <td id=\"T_b4854_row0_col4\" class=\"data row0 col4\" >0.008887</td>\n",
              "      <td id=\"T_b4854_row0_col5\" class=\"data row0 col5\" >-0.015713</td>\n",
              "    </tr>\n",
              "    <tr>\n",
              "      <th id=\"T_b4854_level0_row1\" class=\"row_heading level0 row1\" >GDP ($)</th>\n",
              "      <td id=\"T_b4854_row1_col0\" class=\"data row1 col0\" >0.094001</td>\n",
              "      <td id=\"T_b4854_row1_col1\" class=\"data row1 col1\" >1.000000</td>\n",
              "      <td id=\"T_b4854_row1_col2\" class=\"data row1 col2\" >0.303126</td>\n",
              "      <td id=\"T_b4854_row1_col3\" class=\"data row1 col3\" >0.657589</td>\n",
              "      <td id=\"T_b4854_row1_col4\" class=\"data row1 col4\" >0.800281</td>\n",
              "      <td id=\"T_b4854_row1_col5\" class=\"data row1 col5\" >0.071868</td>\n",
              "    </tr>\n",
              "    <tr>\n",
              "      <th id=\"T_b4854_level0_row2\" class=\"row_heading level0 row2\" >GDP/Capita ($)</th>\n",
              "      <td id=\"T_b4854_row2_col0\" class=\"data row2 col0\" >0.339188</td>\n",
              "      <td id=\"T_b4854_row2_col1\" class=\"data row2 col1\" >0.303126</td>\n",
              "      <td id=\"T_b4854_row2_col2\" class=\"data row2 col2\" >1.000000</td>\n",
              "      <td id=\"T_b4854_row2_col3\" class=\"data row2 col3\" >0.093461</td>\n",
              "      <td id=\"T_b4854_row2_col4\" class=\"data row2 col4\" >0.091413</td>\n",
              "      <td id=\"T_b4854_row2_col5\" class=\"data row2 col5\" >0.060367</td>\n",
              "    </tr>\n",
              "    <tr>\n",
              "      <th id=\"T_b4854_level0_row3\" class=\"row_heading level0 row3\" >No.Suicides</th>\n",
              "      <td id=\"T_b4854_row3_col0\" class=\"data row3 col0\" >-0.007759</td>\n",
              "      <td id=\"T_b4854_row3_col1\" class=\"data row3 col1\" >0.657589</td>\n",
              "      <td id=\"T_b4854_row3_col2\" class=\"data row3 col2\" >0.093461</td>\n",
              "      <td id=\"T_b4854_row3_col3\" class=\"data row3 col3\" >1.000000</td>\n",
              "      <td id=\"T_b4854_row3_col4\" class=\"data row3 col4\" >0.808095</td>\n",
              "      <td id=\"T_b4854_row3_col5\" class=\"data row3 col5\" >0.360253</td>\n",
              "    </tr>\n",
              "    <tr>\n",
              "      <th id=\"T_b4854_level0_row4\" class=\"row_heading level0 row4\" >Population</th>\n",
              "      <td id=\"T_b4854_row4_col0\" class=\"data row4 col0\" >0.008887</td>\n",
              "      <td id=\"T_b4854_row4_col1\" class=\"data row4 col1\" >0.800281</td>\n",
              "      <td id=\"T_b4854_row4_col2\" class=\"data row4 col2\" >0.091413</td>\n",
              "      <td id=\"T_b4854_row4_col3\" class=\"data row4 col3\" >0.808095</td>\n",
              "      <td id=\"T_b4854_row4_col4\" class=\"data row4 col4\" >1.000000</td>\n",
              "      <td id=\"T_b4854_row4_col5\" class=\"data row4 col5\" >0.083918</td>\n",
              "    </tr>\n",
              "    <tr>\n",
              "      <th id=\"T_b4854_level0_row5\" class=\"row_heading level0 row5\" >Suicides_rate/100k pop</th>\n",
              "      <td id=\"T_b4854_row5_col0\" class=\"data row5 col0\" >-0.015713</td>\n",
              "      <td id=\"T_b4854_row5_col1\" class=\"data row5 col1\" >0.071868</td>\n",
              "      <td id=\"T_b4854_row5_col2\" class=\"data row5 col2\" >0.060367</td>\n",
              "      <td id=\"T_b4854_row5_col3\" class=\"data row5 col3\" >0.360253</td>\n",
              "      <td id=\"T_b4854_row5_col4\" class=\"data row5 col4\" >0.083918</td>\n",
              "      <td id=\"T_b4854_row5_col5\" class=\"data row5 col5\" >1.000000</td>\n",
              "    </tr>\n",
              "  </tbody>\n",
              "</table>\n"
            ],
            "text/plain": [
              "<pandas.io.formats.style.Styler at 0x1cb6aa980a0>"
            ]
          },
          "execution_count": 3,
          "metadata": {},
          "output_type": "execute_result"
        }
      ],
      "source": [
        "df_country_suicide_rate.corr().style.background_gradient(cmap='Blues')"
      ]
    },
    {
      "cell_type": "markdown",
      "metadata": {
        "id": "wNLieGVtOHe-"
      },
      "source": [
        "# II/ PREDICT NO.SUICIDE"
      ]
    },
    {
      "cell_type": "markdown",
      "metadata": {
        "id": "xBaf4wkWKgAN"
      },
      "source": [
        "## 1/ Prepare data"
      ]
    },
    {
      "cell_type": "markdown",
      "metadata": {
        "id": "Wr-v6jVULv7n"
      },
      "source": [
        "### Get train data:"
      ]
    },
    {
      "cell_type": "code",
      "execution_count": 2,
      "metadata": {
        "id": "zWmiMj-SOjJQ"
      },
      "outputs": [],
      "source": [
        "df_suicide=df_country_suicide_rate.sort_values(['Year','Country'],ascending=True)\n",
        "df=df_suicide.drop(columns=['Suicides_rate/100k pop','GDP/Capita ($)']) \n",
        "#Get division data\n",
        "df_div=df[df['Year']==2016]\n",
        "X_div=df_div.drop(columns=['No.Suicides']) \n",
        "y_div=df_div['No.Suicides']\n",
        "#Get train data\n",
        "df_train=df[df['Year']!=2016]\n",
        "X_train=df_train.drop(columns=['No.Suicides']) \n",
        "y_train=df_train['No.Suicides']"
      ]
    },
    {
      "cell_type": "markdown",
      "metadata": {
        "id": "uxpb1-ogYj-E"
      },
      "source": [
        "### Preprocessor"
      ]
    },
    {
      "cell_type": "code",
      "execution_count": 4,
      "metadata": {
        "id": "iPscE_f6Yjkr"
      },
      "outputs": [],
      "source": [
        "# Define categorical pipeline\n",
        "cat_pipe = Pipeline([('encoder', OneHotEncoder(handle_unknown='ignore', sparse=False))])\n",
        "\n",
        "# Define numerical pipeline\n",
        "num_pipe = Pipeline([('poly',PolynomialFeatures(degree = 1, include_bias=False)),('scaler', MinMaxScaler())])\n",
        "\n",
        "#\n",
        "col_pipe=Pipeline([('ordi',OrdinalEncoder(handle_unknown=\"use_encoded_value\", unknown_value=-1))])\n",
        "\n",
        "#Find numerical/categorical columns\n",
        "numerical = list(X_train.select_dtypes('number').columns) \n",
        "categorical = ['Country']\n",
        "\n",
        "\n",
        "tfm = ColumnTransformer(transformers=[('cat', cat_pipe, categorical), \n",
        "                                      ('num', num_pipe, numerical)],\n",
        "                                       remainder='passthrough')\n",
        "X_train_pre=tfm.fit_transform(X_train)"
      ]
    },
    {
      "cell_type": "code",
      "execution_count": 5,
      "metadata": {
        "id": "kLW0R-xxgmqB"
      },
      "outputs": [],
      "source": [
        "#Build TimeSeriesSplit\n",
        "\n",
        "from sklearn.model_selection import TimeSeriesSplit\n",
        "time_series_split = TimeSeriesSplit(n_splits = len(X_train['Year'].unique()))"
      ]
    },
    {
      "cell_type": "markdown",
      "metadata": {
        "id": "vGTExsO9EVwW"
      },
      "source": [
        "### Function"
      ]
    },
    {
      "cell_type": "code",
      "execution_count": 6,
      "metadata": {
        "id": "d_0CKYCjEhl4"
      },
      "outputs": [],
      "source": [
        "def build_final_pipe(model,tfm):\n",
        "  final_pipe=Pipeline(steps=[('preprocessor', tfm),('model',model )])                      \n",
        "  print(final_pipe.get_params().keys())\n",
        "  return final_pipe"
      ]
    },
    {
      "cell_type": "code",
      "execution_count": 7,
      "metadata": {
        "id": "gquHiabZkoU-"
      },
      "outputs": [],
      "source": [
        "def train_raw(model,X_train_pre,y_train):\n",
        "  model.fit(X_train_pre,y_train)\n",
        "  y_train_pred= model.predict(X_train_pre)\n",
        "  rfr_rmse = mean_squared_error(y_train,y_train_pred)\n",
        "  print(f\"The MSE is {rfr_rmse:.2f}\")\n",
        "  return model"
      ]
    },
    {
      "cell_type": "code",
      "execution_count": 8,
      "metadata": {
        "id": "6E1RcL0jEpVF"
      },
      "outputs": [],
      "source": [
        "def train_gsc(model,tfm,param,x,y,k=time_series_split):\n",
        "  final_pipe=build_final_pipe(model,tfm)\n",
        "  GSC = GridSearchCV(final_pipe,param_grid=param,scoring='neg_mean_squared_error',cv=k,n_jobs=-1,verbose=True)\n",
        "  GSC.fit(x,y)\n",
        "  get_score(GSC)\n",
        "  return GSC"
      ]
    },
    {
      "cell_type": "code",
      "execution_count": 9,
      "metadata": {
        "id": "handM2FSLxWe"
      },
      "outputs": [],
      "source": [
        "def get_score(model)  :\n",
        "  cv = pd.DataFrame(model.cv_results_)\n",
        "  cv = cv.sort_values('rank_test_score')\n",
        "  for rec in cv[['params','mean_test_score','std_test_score','rank_test_score']].values[:5]:\n",
        "    print(f'Rank {rec[-1]}')\n",
        "    print(f'Params: {rec[0]}')\n",
        "    print(f'Mean score:{rec[1]:.5f} +- {rec[2]:.5f}')\n",
        "    print('-'*10)"
      ]
    },
    {
      "cell_type": "code",
      "execution_count": 10,
      "metadata": {
        "id": "q4t5Xjy6Ln3P"
      },
      "outputs": [],
      "source": [
        "def train_rsc(model,tfm,param,n,x,y,k=time_series_split):\n",
        "  final_pipe=build_final_pipe(model,tfm)\n",
        "  RSC = RandomizedSearchCV(final_pipe,param_distributions=param,scoring='neg_mean_squared_error',cv=k,n_jobs=-1,n_iter=n,verbose=True,random_state=42)\n",
        "  RSC.fit(x,y)\n",
        "  get_score(RSC)  \n",
        "  return RSC"
      ]
    },
    {
      "cell_type": "code",
      "execution_count": 11,
      "metadata": {
        "id": "y-3LVehMEpIs"
      },
      "outputs": [],
      "source": [
        "#Get back the best_estimator\n",
        "def get_best_estimator(gsc,X_train,y_train,X_div,y_div):\n",
        "  best_estimator = gsc.best_estimator_\n",
        "  best_estimator.fit(X_train,y_train)\n",
        "# Predict training data\n",
        "  y_train_pred = best_estimator.predict(X_train)\n",
        "# MSE on training data\n",
        "  print(\"Model MSE on training data= {:5.4f}\".format(mean_squared_error(y_train,y_train_pred)))\n",
        "\n",
        "# Predict div data\n",
        "  y_test_pred = best_estimator.predict(X_div)\n",
        "# MSE on div set\n",
        "  print(\"Model MSE on div data= {:5.4f}\".format(mean_squared_error(y_div,y_test_pred)))\n",
        "  return best_estimator"
      ]
    },
    {
      "cell_type": "code",
      "execution_count": 12,
      "metadata": {
        "id": "zYGjLI7fEo63"
      },
      "outputs": [],
      "source": [
        "def save_model(best_estimator,filename):\n",
        "  pickle.dump(best_estimator, open(filename,'wb'))"
      ]
    },
    {
      "cell_type": "code",
      "execution_count": 13,
      "metadata": {
        "id": "xNhA43pLOELZ"
      },
      "outputs": [],
      "source": [
        "def load_model(filename,X_div, y_div):\n",
        "  loaded_model = pickle.load(open(filename, 'rb'))\n",
        "  # Predict div data\n",
        "  y_test_pred = loaded_model.predict(X_div)\n",
        "  # MSE on div set\n",
        "  print(\"Model MSE on div data= {:5.4f}\".format(mean_squared_error(y_div,y_test_pred)))\n",
        "  return loaded_model"
      ]
    },
    {
      "cell_type": "code",
      "execution_count": 15,
      "metadata": {
        "colab": {
          "base_uri": "https://localhost:8080/"
        },
        "id": "tI5LLswLnxSW",
        "outputId": "d02ab735-5899-4acb-a038-b2e612f55aac"
      },
      "outputs": [
        {
          "data": {
            "text/html": [
              "<div>\n",
              "<style scoped>\n",
              "    .dataframe tbody tr th:only-of-type {\n",
              "        vertical-align: middle;\n",
              "    }\n",
              "\n",
              "    .dataframe tbody tr th {\n",
              "        vertical-align: top;\n",
              "    }\n",
              "\n",
              "    .dataframe thead th {\n",
              "        text-align: right;\n",
              "    }\n",
              "</style>\n",
              "<table border=\"1\" class=\"dataframe\">\n",
              "  <thead>\n",
              "    <tr style=\"text-align: right;\">\n",
              "      <th></th>\n",
              "      <th>Country</th>\n",
              "      <th>Year</th>\n",
              "      <th>GDP ($)</th>\n",
              "      <th>Population</th>\n",
              "    </tr>\n",
              "  </thead>\n",
              "  <tbody>\n",
              "    <tr>\n",
              "      <th>22</th>\n",
              "      <td>Antigua and Barbuda</td>\n",
              "      <td>1985</td>\n",
              "      <td>240923926</td>\n",
              "      <td>62574</td>\n",
              "    </tr>\n",
              "    <tr>\n",
              "      <th>49</th>\n",
              "      <td>Argentina</td>\n",
              "      <td>1985</td>\n",
              "      <td>88416668900</td>\n",
              "      <td>27090800</td>\n",
              "    </tr>\n",
              "    <tr>\n",
              "      <th>119</th>\n",
              "      <td>Australia</td>\n",
              "      <td>1985</td>\n",
              "      <td>180190994861</td>\n",
              "      <td>14562500</td>\n",
              "    </tr>\n",
              "    <tr>\n",
              "      <th>149</th>\n",
              "      <td>Austria</td>\n",
              "      <td>1985</td>\n",
              "      <td>69386774475</td>\n",
              "      <td>7110115</td>\n",
              "    </tr>\n",
              "    <tr>\n",
              "      <th>197</th>\n",
              "      <td>Bahamas</td>\n",
              "      <td>1985</td>\n",
              "      <td>2320699900</td>\n",
              "      <td>203700</td>\n",
              "    </tr>\n",
              "  </tbody>\n",
              "</table>\n",
              "</div>"
            ],
            "text/plain": [
              "                 Country  Year       GDP ($)  Population\n",
              "22   Antigua and Barbuda  1985     240923926       62574\n",
              "49             Argentina  1985   88416668900    27090800\n",
              "119            Australia  1985  180190994861    14562500\n",
              "149              Austria  1985   69386774475     7110115\n",
              "197              Bahamas  1985    2320699900      203700"
            ]
          },
          "execution_count": 15,
          "metadata": {},
          "output_type": "execute_result"
        }
      ],
      "source": [
        "X_train.head()"
      ]
    },
    {
      "cell_type": "markdown",
      "metadata": {
        "id": "ZdMdHPzlImFe"
      },
      "source": [
        "## 2/Choose Model"
      ]
    },
    {
      "cell_type": "markdown",
      "metadata": {
        "id": "YkcgVrcXOQkh"
      },
      "source": [
        "### Ready Algorithm"
      ]
    },
    {
      "cell_type": "code",
      "execution_count": 17,
      "metadata": {
        "colab": {
          "base_uri": "https://localhost:8080/"
        },
        "id": "vb7n4ax_Izvn",
        "outputId": "72e7480c-0d08-40b4-9256-9b41c5668f09"
      },
      "outputs": [
        {
          "name": "stdout",
          "output_type": "stream",
          "text": [
            "Collecting xgboost\n",
            "  Downloading xgboost-1.5.1-py3-none-win_amd64.whl (106.6 MB)\n",
            "Requirement already satisfied: scipy in c:\\users\\admin\\miniconda3\\lib\\site-packages (from xgboost) (1.7.3)\n",
            "Requirement already satisfied: numpy in c:\\users\\admin\\miniconda3\\lib\\site-packages (from xgboost) (1.21.2)\n",
            "Installing collected packages: xgboost\n",
            "Successfully installed xgboost-1.5.1\n",
            "Collecting lightgbm\n",
            "  Downloading lightgbm-3.3.1-py3-none-win_amd64.whl (1.0 MB)\n",
            "Requirement already satisfied: scikit-learn!=0.22.0 in c:\\users\\admin\\miniconda3\\lib\\site-packages (from lightgbm) (1.0.2)\n",
            "Requirement already satisfied: wheel in c:\\users\\admin\\miniconda3\\lib\\site-packages (from lightgbm) (0.36.2)\n",
            "Requirement already satisfied: scipy in c:\\users\\admin\\miniconda3\\lib\\site-packages (from lightgbm) (1.7.3)\n",
            "Requirement already satisfied: numpy in c:\\users\\admin\\miniconda3\\lib\\site-packages (from lightgbm) (1.21.2)\n",
            "Requirement already satisfied: joblib>=0.11 in c:\\users\\admin\\miniconda3\\lib\\site-packages (from scikit-learn!=0.22.0->lightgbm) (1.1.0)\n",
            "Requirement already satisfied: threadpoolctl>=2.0.0 in c:\\users\\admin\\miniconda3\\lib\\site-packages (from scikit-learn!=0.22.0->lightgbm) (3.0.0)\n",
            "Installing collected packages: lightgbm\n",
            "Successfully installed lightgbm-3.3.1\n"
          ]
        }
      ],
      "source": [
        "%pip install xgboost\n",
        "%pip install lightgbm\n",
        "# Get Model\n",
        "from sklearn.linear_model import LinearRegression,Ridge,Lasso,ElasticNet\n",
        "from sklearn.svm import SVR\n",
        "from sklearn.neighbors import KNeighborsRegressor as KNR\n",
        "from sklearn.ensemble import RandomForestRegressor,GradientBoostingRegressor,AdaBoostRegressor\n",
        "from xgboost import XGBRegressor\n",
        "\n",
        "from lightgbm import LGBMRegressor\n",
        "#Algorithm score table \n",
        "rmse_val = {}\n",
        "#Scoring function:\n",
        "from sklearn.model_selection import cross_val_score\n",
        "def score_model(model,X_train,y_train):\n",
        "  scores = cross_val_score(model,\n",
        "                         X_train, y_train,\n",
        "                         scoring=\"neg_mean_squared_error\",\n",
        "                         cv=time_series_split)\n",
        "  rmse_score = np.sqrt(-scores)\n",
        "  mean_score = np.mean(rmse_score)\n",
        "  return mean_score\n",
        "#Print model MSE:\n",
        "def get_score_model(rmse_val):\n",
        "  rmse_df = pd.DataFrame.from_dict(rmse_val, orient='index').reset_index()\n",
        "  rmse_df.columns = [\"Algorithm\",\"RMSE\"]\n",
        "  rmse_df = rmse_df.sort_values(\"RMSE\", ascending=False).reset_index(drop=True)\n",
        "  \n",
        "  return rmse_df"
      ]
    },
    {
      "cell_type": "markdown",
      "metadata": {
        "id": "itaXTXYwOaKf"
      },
      "source": [
        "### Scoring Algorithm to choose model"
      ]
    },
    {
      "cell_type": "code",
      "execution_count": 18,
      "metadata": {
        "colab": {
          "base_uri": "https://localhost:8080/"
        },
        "id": "tGSY_NgYJ7XH",
        "outputId": "a693e70b-8541-4821-81a9-568f42026c73"
      },
      "outputs": [
        {
          "data": {
            "text/html": [
              "<div>\n",
              "<style scoped>\n",
              "    .dataframe tbody tr th:only-of-type {\n",
              "        vertical-align: middle;\n",
              "    }\n",
              "\n",
              "    .dataframe tbody tr th {\n",
              "        vertical-align: top;\n",
              "    }\n",
              "\n",
              "    .dataframe thead th {\n",
              "        text-align: right;\n",
              "    }\n",
              "</style>\n",
              "<table border=\"1\" class=\"dataframe\">\n",
              "  <thead>\n",
              "    <tr style=\"text-align: right;\">\n",
              "      <th></th>\n",
              "      <th>Algorithm</th>\n",
              "      <th>RMSE</th>\n",
              "    </tr>\n",
              "  </thead>\n",
              "  <tbody>\n",
              "    <tr>\n",
              "      <th>0</th>\n",
              "      <td>SVR</td>\n",
              "      <td>7442.716878</td>\n",
              "    </tr>\n",
              "    <tr>\n",
              "      <th>1</th>\n",
              "      <td>ElasticNet</td>\n",
              "      <td>6725.983446</td>\n",
              "    </tr>\n",
              "    <tr>\n",
              "      <th>2</th>\n",
              "      <td>LGBMRegressor</td>\n",
              "      <td>2514.014978</td>\n",
              "    </tr>\n",
              "    <tr>\n",
              "      <th>3</th>\n",
              "      <td>AdaBoostRegressor</td>\n",
              "      <td>1971.267186</td>\n",
              "    </tr>\n",
              "    <tr>\n",
              "      <th>4</th>\n",
              "      <td>Ridge</td>\n",
              "      <td>1755.263089</td>\n",
              "    </tr>\n",
              "    <tr>\n",
              "      <th>5</th>\n",
              "      <td>Lasso</td>\n",
              "      <td>1499.093475</td>\n",
              "    </tr>\n",
              "    <tr>\n",
              "      <th>6</th>\n",
              "      <td>KNR</td>\n",
              "      <td>1364.375859</td>\n",
              "    </tr>\n",
              "    <tr>\n",
              "      <th>7</th>\n",
              "      <td>GradientBoostingRegressor</td>\n",
              "      <td>1235.958215</td>\n",
              "    </tr>\n",
              "    <tr>\n",
              "      <th>8</th>\n",
              "      <td>RandomForestRegressor</td>\n",
              "      <td>1212.463240</td>\n",
              "    </tr>\n",
              "    <tr>\n",
              "      <th>9</th>\n",
              "      <td>XGBRegressor</td>\n",
              "      <td>1080.055125</td>\n",
              "    </tr>\n",
              "  </tbody>\n",
              "</table>\n",
              "</div>"
            ],
            "text/plain": [
              "                   Algorithm         RMSE\n",
              "0                        SVR  7442.716878\n",
              "1                 ElasticNet  6725.983446\n",
              "2              LGBMRegressor  2514.014978\n",
              "3          AdaBoostRegressor  1971.267186\n",
              "4                      Ridge  1755.263089\n",
              "5                      Lasso  1499.093475\n",
              "6                        KNR  1364.375859\n",
              "7  GradientBoostingRegressor  1235.958215\n",
              "8      RandomForestRegressor  1212.463240\n",
              "9               XGBRegressor  1080.055125"
            ]
          },
          "execution_count": 18,
          "metadata": {},
          "output_type": "execute_result"
        }
      ],
      "source": [
        "X_train_pre=tfm.fit_transform(X_train)\n",
        "all_algorithm={'Ridge':Ridge(),'Lasso':Lasso(),'ElasticNet':ElasticNet(),'SVR':SVR(),'KNR':KNR(),'RandomForestRegressor':RandomForestRegressor(),'GradientBoostingRegressor':GradientBoostingRegressor(),'AdaBoostRegressor':AdaBoostRegressor(),'XGBRegressor':XGBRegressor(objective='reg:squarederror'),'LGBMRegressor':LGBMRegressor()}\n",
        "for i in all_algorithm:\n",
        "  model=all_algorithm.get(i)\n",
        "  rmse_val[i]=score_model(model,X_train_pre,y_train)\n",
        "get_score_model(rmse_val)"
      ]
    },
    {
      "cell_type": "code",
      "execution_count": 19,
      "metadata": {
        "colab": {
          "base_uri": "https://localhost:8080/"
        },
        "id": "cKcFKE-gRzD3",
        "outputId": "c8ebe0e0-e34a-4a45-b570-e8c29d2a860e"
      },
      "outputs": [
        {
          "data": {
            "image/png": "[encoded data removed]",
            "text/plain": [
              "<Figure size 1080x360 with 1 Axes>"
            ]
          },
          "metadata": {
            "needs_background": "light"
          },
          "output_type": "display_data"
        }
      ],
      "source": [
        "plt.figure(figsize=(15,5))\n",
        "sns.barplot(data = get_score_model(rmse_val), x=\"Algorithm\", y = \"RMSE\", palette=\"viridis_r\")\n",
        "plt.xticks(rotation=90)\n",
        "plt.show()"
      ]
    },
    {
      "cell_type": "code",
      "execution_count": null,
      "metadata": {
        "id": "1qeSa-w4J8Hf"
      },
      "outputs": [],
      "source": [
        "# Choose Top 3 Best Algorithm to tuning : RandomForestRegressor,GradientBoostingRegressor,XGBRegressor"
      ]
    },
    {
      "cell_type": "markdown",
      "metadata": {
        "id": "dtr61G3yheIo"
      },
      "source": [
        "Choose Top 3 Best Algorithm to tuning :\n",
        "\n",
        "1.   GradientBoostingRegressor\n",
        "2.   RandomForestRegressor\n",
        "3.  XGBRegressor"
      ]
    },
    {
      "cell_type": "markdown",
      "metadata": {
        "id": "bse46mXlqsUY"
      },
      "source": [
        "##3/Build Model"
      ]
    },
    {
      "cell_type": "markdown",
      "metadata": {
        "id": "YSgQerlVIv7v"
      },
      "source": [
        "### Use GradientBoostingRegressor "
      ]
    },
    {
      "cell_type": "code",
      "execution_count": 56,
      "metadata": {
        "colab": {
          "base_uri": "https://localhost:8080/"
        },
        "id": "mMLZ_J1CwAmI",
        "outputId": "8971ec34-4e08-402e-e369-d5463691b0b7"
      },
      "outputs": [
        {
          "name": "stdout",
          "output_type": "stream",
          "text": [
            "The MSE is 404547.77\n"
          ]
        }
      ],
      "source": [
        "from sklearn.ensemble import GradientBoostingRegressor\n",
        "model = GradientBoostingRegressor()\n",
        "model_raw_gbr=train_raw(model,X_train_pre,y_train)\n"
      ]
    },
    {
      "cell_type": "code",
      "execution_count": null,
      "metadata": {
        "colab": {
          "base_uri": "https://localhost:8080/"
        },
        "id": "9yJJABerR-PU",
        "outputId": "9bcfc092-4a5f-4204-bf5c-518c859d6843"
      },
      "outputs": [
        {
          "name": "stdout",
          "output_type": "stream",
          "text": [
            "dict_keys(['memory', 'steps', 'verbose', 'preprocessor', 'model', 'preprocessor__n_jobs', 'preprocessor__remainder', 'preprocessor__sparse_threshold', 'preprocessor__transformer_weights', 'preprocessor__transformers', 'preprocessor__verbose', 'preprocessor__verbose_feature_names_out', 'preprocessor__cat', 'preprocessor__num', 'preprocessor__cat__memory', 'preprocessor__cat__steps', 'preprocessor__cat__verbose', 'preprocessor__cat__encoder', 'preprocessor__cat__encoder__categories', 'preprocessor__cat__encoder__drop', 'preprocessor__cat__encoder__dtype', 'preprocessor__cat__encoder__handle_unknown', 'preprocessor__cat__encoder__sparse', 'preprocessor__num__memory', 'preprocessor__num__steps', 'preprocessor__num__verbose', 'preprocessor__num__poly', 'preprocessor__num__scaler', 'preprocessor__num__poly__degree', 'preprocessor__num__poly__include_bias', 'preprocessor__num__poly__interaction_only', 'preprocessor__num__poly__order', 'preprocessor__num__scaler__clip', 'preprocessor__num__scaler__copy', 'preprocessor__num__scaler__feature_range', 'model__alpha', 'model__ccp_alpha', 'model__criterion', 'model__init', 'model__learning_rate', 'model__loss', 'model__max_depth', 'model__max_features', 'model__max_leaf_nodes', 'model__min_impurity_decrease', 'model__min_samples_leaf', 'model__min_samples_split', 'model__min_weight_fraction_leaf', 'model__n_estimators', 'model__n_iter_no_change', 'model__random_state', 'model__subsample', 'model__tol', 'model__validation_fraction', 'model__verbose', 'model__warm_start'])\n",
            "Fitting 31 folds for each of 10 candidates, totalling 310 fits\n",
            "Rank 1\n",
            "Params: {'model__max_depth': 86, 'model__max_features': 'auto', 'model__min_samples_leaf': 3, 'model__n_estimators': 237}\n",
            "Mean score:-2359975.08751 +- 4186060.16172\n",
            "----------\n",
            "Rank 2\n",
            "Params: {'model__max_depth': 128, 'model__max_features': 'auto', 'model__min_samples_leaf': 2, 'model__n_estimators': 207}\n",
            "Mean score:-2440847.71995 +- 4447843.80563\n",
            "----------\n",
            "Rank 3\n",
            "Params: {'model__max_depth': 172, 'model__max_features': 'auto', 'model__min_samples_leaf': 7, 'model__n_estimators': 279}\n",
            "Mean score:-3122239.96117 +- 4315426.33172\n",
            "----------\n",
            "Rank 4\n",
            "Params: {'model__max_depth': 125, 'model__max_features': 'auto', 'model__min_samples_leaf': 8, 'model__n_estimators': 271}\n",
            "Mean score:-3483013.42552 +- 4646431.86623\n",
            "----------\n",
            "Rank 5\n",
            "Params: {'model__max_depth': 164, 'model__max_features': 'auto', 'model__min_samples_leaf': 9, 'model__n_estimators': 280}\n",
            "Mean score:-4070240.47363 +- 5856067.53220\n",
            "----------\n"
          ]
        }
      ],
      "source": [
        "#Tuning\n",
        "param_grid = {\n",
        "              'model__max_depth': randint(low=65, high=180),\n",
        "              'model__max_features': ['auto'],\n",
        "              'model__min_samples_leaf': randint(low=2, high=22),\n",
        "              'model__n_estimators': randint(low=150, high=290)}\n",
        "              \n",
        "gbr=train_rsc(model_raw_gbr,tfm,param_grid,10,X_train,y_train)\n"
      ]
    },
    {
      "cell_type": "code",
      "execution_count": 26,
      "metadata": {
        "colab": {
          "base_uri": "https://localhost:8080/"
        },
        "id": "poGqKDiJgYd0",
        "outputId": "4b71447f-256b-4ccf-d57e-fe340ac1f408"
      },
      "outputs": [
        {
          "name": "stdout",
          "output_type": "stream",
          "text": [
            "dict_keys(['memory', 'steps', 'verbose', 'preprocessor', 'model', 'preprocessor__n_jobs', 'preprocessor__remainder', 'preprocessor__sparse_threshold', 'preprocessor__transformer_weights', 'preprocessor__transformers', 'preprocessor__verbose', 'preprocessor__verbose_feature_names_out', 'preprocessor__cat', 'preprocessor__num', 'preprocessor__cat__memory', 'preprocessor__cat__steps', 'preprocessor__cat__verbose', 'preprocessor__cat__encoder', 'preprocessor__cat__encoder__categories', 'preprocessor__cat__encoder__drop', 'preprocessor__cat__encoder__dtype', 'preprocessor__cat__encoder__handle_unknown', 'preprocessor__cat__encoder__sparse', 'preprocessor__num__memory', 'preprocessor__num__steps', 'preprocessor__num__verbose', 'preprocessor__num__poly', 'preprocessor__num__scaler', 'preprocessor__num__poly__degree', 'preprocessor__num__poly__include_bias', 'preprocessor__num__poly__interaction_only', 'preprocessor__num__poly__order', 'preprocessor__num__scaler__clip', 'preprocessor__num__scaler__copy', 'preprocessor__num__scaler__feature_range', 'model__alpha', 'model__ccp_alpha', 'model__criterion', 'model__init', 'model__learning_rate', 'model__loss', 'model__max_depth', 'model__max_features', 'model__max_leaf_nodes', 'model__min_impurity_decrease', 'model__min_samples_leaf', 'model__min_samples_split', 'model__min_weight_fraction_leaf', 'model__n_estimators', 'model__n_iter_no_change', 'model__random_state', 'model__subsample', 'model__tol', 'model__validation_fraction', 'model__verbose', 'model__warm_start'])\n",
            "Fitting 31 folds for each of 8 candidates, totalling 248 fits\n",
            "Rank 1\n",
            "Params: {'model__max_depth': 82, 'model__max_features': 'auto', 'model__min_samples_leaf': 3, 'model__n_estimators': 239}\n",
            "Mean score:-2338657.41372 +- 4198645.07775\n",
            "----------\n",
            "Rank 2\n",
            "Params: {'model__max_depth': 80, 'model__max_features': 'auto', 'model__min_samples_leaf': 3, 'model__n_estimators': 239}\n",
            "Mean score:-2339769.64819 +- 4194425.88687\n",
            "----------\n",
            "Rank 3\n",
            "Params: {'model__max_depth': 82, 'model__max_features': 'auto', 'model__min_samples_leaf': 3, 'model__n_estimators': 237}\n",
            "Mean score:-2362509.72665 +- 4272705.20960\n",
            "----------\n",
            "Rank 4\n",
            "Params: {'model__max_depth': 80, 'model__max_features': 'auto', 'model__min_samples_leaf': 3, 'model__n_estimators': 237}\n",
            "Mean score:-2366478.97255 +- 4308491.42422\n",
            "----------\n",
            "Rank 5\n",
            "Params: {'model__max_depth': 80, 'model__max_features': 'auto', 'model__min_samples_leaf': 2, 'model__n_estimators': 237}\n",
            "Mean score:-2432507.09682 +- 4384596.97109\n",
            "----------\n"
          ]
        }
      ],
      "source": [
        "#Fine Tuning\n",
        "param_grid = {\n",
        "              'model__max_depth': np.arange(80,84,2),\n",
        "              'model__max_features': ['auto'],\n",
        "              'model__min_samples_leaf': np.arange(2,4),\n",
        "              'model__n_estimators': np.arange(237,241,2)}\n",
        "              \n",
        "gbr=train_gsc(model_raw_gbr,tfm,param_grid,X_train,y_train)\n"
      ]
    },
    {
      "cell_type": "code",
      "execution_count": 27,
      "metadata": {},
      "outputs": [
        {
          "name": "stdout",
          "output_type": "stream",
          "text": [
            "Model MSE on training data= 209.0703\n",
            "Model MSE on div data= 26993.4254\n"
          ]
        }
      ],
      "source": [
        "#Get back the best_estimator\n",
        "best_estimator=get_best_estimator(gbr,X_train,y_train,X_div,y_div)"
      ]
    },
    {
      "cell_type": "code",
      "execution_count": 28,
      "metadata": {
        "id": "q51RhBMehxIL"
      },
      "outputs": [],
      "source": [
        "# save the model to disk\n",
        "filename='MODEL_SAVE/GradientBoostingRegressor.sav'\n",
        "save_model(best_estimator,filename)"
      ]
    },
    {
      "cell_type": "code",
      "execution_count": 29,
      "metadata": {
        "colab": {
          "base_uri": "https://localhost:8080/"
        },
        "id": "602fHyKZiqgt",
        "outputId": "8b0af7d3-9227-4e2c-fbb1-56402e798778"
      },
      "outputs": [
        {
          "name": "stdout",
          "output_type": "stream",
          "text": [
            "Model MSE on div data= 26993.4254\n"
          ]
        }
      ],
      "source": [
        "# load the model from disk\n",
        "import pickle\n",
        "filename='MODEL_SAVE/GradientBoostingRegressor.sav'\n",
        "gbr_load=load_model(filename,X_div, y_div)"
      ]
    },
    {
      "cell_type": "markdown",
      "metadata": {
        "id": "IiuHgbN-GRCE"
      },
      "source": [
        "### Use RandomForestRegressor"
      ]
    },
    {
      "cell_type": "code",
      "execution_count": 40,
      "metadata": {
        "colab": {
          "base_uri": "https://localhost:8080/"
        },
        "id": "E229XHjokPhB",
        "outputId": "564b8585-12e9-4023-c48e-530f4fa3ba2a"
      },
      "outputs": [
        {
          "name": "stdout",
          "output_type": "stream",
          "text": [
            "The MSE is 98512.13\n"
          ]
        }
      ],
      "source": [
        "#Model\n",
        "from sklearn.ensemble import RandomForestRegressor\n",
        "model = RandomForestRegressor()\n",
        "model_raw_rfr=train_raw(model,X_train_pre,y_train)"
      ]
    },
    {
      "cell_type": "code",
      "execution_count": null,
      "metadata": {
        "colab": {
          "base_uri": "https://localhost:8080/"
        },
        "id": "R0UOKU-NRfAl",
        "outputId": "9e258ee2-b46c-4e69-917e-d9d86c1b24cb"
      },
      "outputs": [
        {
          "name": "stdout",
          "output_type": "stream",
          "text": [
            "dict_keys(['memory', 'steps', 'verbose', 'preprocessor', 'model', 'preprocessor__n_jobs', 'preprocessor__remainder', 'preprocessor__sparse_threshold', 'preprocessor__transformer_weights', 'preprocessor__transformers', 'preprocessor__verbose', 'preprocessor__verbose_feature_names_out', 'preprocessor__cat', 'preprocessor__num', 'preprocessor__cat__memory', 'preprocessor__cat__steps', 'preprocessor__cat__verbose', 'preprocessor__cat__encoder', 'preprocessor__cat__encoder__categories', 'preprocessor__cat__encoder__drop', 'preprocessor__cat__encoder__dtype', 'preprocessor__cat__encoder__handle_unknown', 'preprocessor__cat__encoder__sparse', 'preprocessor__num__memory', 'preprocessor__num__steps', 'preprocessor__num__verbose', 'preprocessor__num__poly', 'preprocessor__num__scaler', 'preprocessor__num__poly__degree', 'preprocessor__num__poly__include_bias', 'preprocessor__num__poly__interaction_only', 'preprocessor__num__poly__order', 'preprocessor__num__scaler__clip', 'preprocessor__num__scaler__copy', 'preprocessor__num__scaler__feature_range', 'model__bootstrap', 'model__ccp_alpha', 'model__criterion', 'model__max_depth', 'model__max_features', 'model__max_leaf_nodes', 'model__max_samples', 'model__min_impurity_decrease', 'model__min_samples_leaf', 'model__min_samples_split', 'model__min_weight_fraction_leaf', 'model__n_estimators', 'model__n_jobs', 'model__oob_score', 'model__random_state', 'model__verbose', 'model__warm_start'])\n",
            "Fitting 31 folds for each of 20 candidates, totalling 620 fits\n",
            "Rank 1\n",
            "Params: {'model__bootstrap': False, 'model__max_depth': 170, 'model__max_features': 31, 'model__min_samples_leaf': 2, 'model__n_estimators': 81, 'preprocessor__num__poly__degree': 1}\n",
            "Mean score:-2296326.88540 +- 3541387.83729\n",
            "----------\n",
            "Rank 2\n",
            "Params: {'model__bootstrap': False, 'model__max_depth': 178, 'model__max_features': 26, 'model__min_samples_leaf': 2, 'model__n_estimators': 73, 'preprocessor__num__poly__degree': 1}\n",
            "Mean score:-2498388.00972 +- 3869738.39391\n",
            "----------\n",
            "Rank 3\n",
            "Params: {'model__bootstrap': False, 'model__max_depth': 184, 'model__max_features': 38, 'model__min_samples_leaf': 4, 'model__n_estimators': 89, 'preprocessor__num__poly__degree': 1}\n",
            "Mean score:-3536465.73658 +- 4771489.29971\n",
            "----------\n",
            "Rank 4\n",
            "Params: {'model__bootstrap': False, 'model__max_depth': 179, 'model__max_features': 23, 'model__min_samples_leaf': 2, 'model__n_estimators': 87, 'preprocessor__num__poly__degree': 4}\n",
            "Mean score:-5914128.16114 +- 9386554.02104\n",
            "----------\n",
            "Rank 5\n",
            "Params: {'model__bootstrap': False, 'model__max_depth': 171, 'model__max_features': 31, 'model__min_samples_leaf': 2, 'model__n_estimators': 75, 'preprocessor__num__poly__degree': 4}\n",
            "Mean score:-6063250.33265 +- 9515123.95944\n",
            "----------\n"
          ]
        }
      ],
      "source": [
        "#Tuning\n",
        "param_grid = {'preprocessor__num__poly__degree':np.arange(1,20,3),\n",
        "              'model__max_depth': randint(low=170, high=190),\n",
        "              'model__max_features': randint(low=20, high=40),\n",
        "              'model__min_samples_leaf': randint(low=1, high=5),              \n",
        "              'model__bootstrap': [False],\n",
        "              'model__n_estimators': randint(low=70, high=90)}\n",
        "rfr=train_rsc(model_raw_rfr,tfm,param_grid,20,X_train,y_train)"
      ]
    },
    {
      "cell_type": "code",
      "execution_count": 41,
      "metadata": {
        "colab": {
          "base_uri": "https://localhost:8080/"
        },
        "id": "Gm-LtWoH87kf",
        "outputId": "631cceaf-ec6f-4377-dbc1-dd6f98a826c7"
      },
      "outputs": [
        {
          "name": "stdout",
          "output_type": "stream",
          "text": [
            "dict_keys(['memory', 'steps', 'verbose', 'preprocessor', 'model', 'preprocessor__n_jobs', 'preprocessor__remainder', 'preprocessor__sparse_threshold', 'preprocessor__transformer_weights', 'preprocessor__transformers', 'preprocessor__verbose', 'preprocessor__verbose_feature_names_out', 'preprocessor__cat', 'preprocessor__num', 'preprocessor__cat__memory', 'preprocessor__cat__steps', 'preprocessor__cat__verbose', 'preprocessor__cat__encoder', 'preprocessor__cat__encoder__categories', 'preprocessor__cat__encoder__drop', 'preprocessor__cat__encoder__dtype', 'preprocessor__cat__encoder__handle_unknown', 'preprocessor__cat__encoder__sparse', 'preprocessor__num__memory', 'preprocessor__num__steps', 'preprocessor__num__verbose', 'preprocessor__num__poly', 'preprocessor__num__scaler', 'preprocessor__num__poly__degree', 'preprocessor__num__poly__include_bias', 'preprocessor__num__poly__interaction_only', 'preprocessor__num__poly__order', 'preprocessor__num__scaler__clip', 'preprocessor__num__scaler__copy', 'preprocessor__num__scaler__feature_range', 'model__bootstrap', 'model__ccp_alpha', 'model__criterion', 'model__max_depth', 'model__max_features', 'model__max_leaf_nodes', 'model__max_samples', 'model__min_impurity_decrease', 'model__min_samples_leaf', 'model__min_samples_split', 'model__min_weight_fraction_leaf', 'model__n_estimators', 'model__n_jobs', 'model__oob_score', 'model__random_state', 'model__verbose', 'model__warm_start'])\n",
            "Fitting 31 folds for each of 432 candidates, totalling 13392 fits\n",
            "Rank 1\n",
            "Params: {'model__bootstrap': False, 'model__max_depth': 183, 'model__max_features': 27, 'model__min_samples_leaf': 1, 'model__n_estimators': 75, 'preprocessor__num__poly__degree': 1}\n",
            "Mean score:-1882988.45864 +- 2920804.43480\n",
            "----------\n",
            "Rank 2\n",
            "Params: {'model__bootstrap': False, 'model__max_depth': 187, 'model__max_features': 31, 'model__min_samples_leaf': 1, 'model__n_estimators': 81, 'preprocessor__num__poly__degree': 1}\n",
            "Mean score:-1914552.91387 +- 3229645.38812\n",
            "----------\n",
            "Rank 3\n",
            "Params: {'model__bootstrap': False, 'model__max_depth': 183, 'model__max_features': 31, 'model__min_samples_leaf': 1, 'model__n_estimators': 83, 'preprocessor__num__poly__degree': 1}\n",
            "Mean score:-1927952.30071 +- 3166802.04265\n",
            "----------\n",
            "Rank 4\n",
            "Params: {'model__bootstrap': False, 'model__max_depth': 185, 'model__max_features': 27, 'model__min_samples_leaf': 1, 'model__n_estimators': 79, 'preprocessor__num__poly__degree': 1}\n",
            "Mean score:-1931806.52755 +- 3197240.09797\n",
            "----------\n",
            "Rank 5\n",
            "Params: {'model__bootstrap': False, 'model__max_depth': 183, 'model__max_features': 31, 'model__min_samples_leaf': 1, 'model__n_estimators': 77, 'preprocessor__num__poly__degree': 1}\n",
            "Mean score:-1941629.71818 +- 3382927.94237\n",
            "----------\n"
          ]
        }
      ],
      "source": [
        "#Fine Tuning\n",
        "param_grid = {'preprocessor__num__poly__degree':np.arange(1,4),\n",
        "              'model__max_depth':np.arange(183,189,2),\n",
        "              'model__max_features': np.arange(27,35,2),\n",
        "              'model__min_samples_leaf': np.arange(1,5,2),              \n",
        "              'model__bootstrap': [False],\n",
        "              'model__n_estimators': np.arange(73,85,2)}\n",
        "rfr=train_gsc(model_raw_rfr,tfm,param_grid,X_train,y_train)\n"
      ]
    },
    {
      "cell_type": "code",
      "execution_count": 65,
      "metadata": {
        "colab": {
          "base_uri": "https://localhost:8080/"
        },
        "id": "GX7czlC0lX3t",
        "outputId": "d7de26a4-2091-4668-c7e0-55778c077830"
      },
      "outputs": [
        {
          "name": "stdout",
          "output_type": "stream",
          "text": [
            "Model MSE on training data= 0.0001\n",
            "Model MSE on div data= 32354.2215\n"
          ]
        }
      ],
      "source": [
        "#Get back the best_estimator\n",
        "best_estimator=get_best_estimator(rfr,X_train,y_train,X_div,y_div)\n"
      ]
    },
    {
      "cell_type": "code",
      "execution_count": 66,
      "metadata": {
        "id": "-Op9WseHvB95"
      },
      "outputs": [],
      "source": [
        "# save the model to disk\n",
        "filename='MODEL_SAVE/RandomForestRegressor.sav'\n",
        "save_model(best_estimator,filename)"
      ]
    },
    {
      "cell_type": "code",
      "execution_count": 67,
      "metadata": {
        "colab": {
          "base_uri": "https://localhost:8080/"
        },
        "id": "14Ru5TbKvBxZ",
        "outputId": "c6439302-b3d6-4874-c35b-fea4c6d0a428"
      },
      "outputs": [
        {
          "name": "stdout",
          "output_type": "stream",
          "text": [
            "Model MSE on div data= 32354.2215\n"
          ]
        }
      ],
      "source": [
        "# load the model from disk\n",
        "filename='MODEL_SAVE/RandomForestRegressor.sav'\n",
        "rfr_load=load_model(filename,X_div, y_div)"
      ]
    },
    {
      "cell_type": "markdown",
      "metadata": {
        "id": "w3UDjuf_qsUZ"
      },
      "source": [
        "### Use XGBRegressor model"
      ]
    },
    {
      "cell_type": "code",
      "execution_count": 17,
      "metadata": {
        "colab": {
          "base_uri": "https://localhost:8080/"
        },
        "id": "APHWy61mqsUZ",
        "outputId": "0ff789ec-9aa4-475f-f8ff-9a2181c02431"
      },
      "outputs": [
        {
          "name": "stdout",
          "output_type": "stream",
          "text": [
            "The MSE is 9163.20\n"
          ]
        }
      ],
      "source": [
        "from xgboost import XGBRegressor\n",
        "model = XGBRegressor(objective='reg:squarederror')\n",
        "model_raw_xgbr=train_raw(model,X_train_pre,y_train)"
      ]
    },
    {
      "cell_type": "code",
      "execution_count": 22,
      "metadata": {
        "colab": {
          "base_uri": "https://localhost:8080/"
        },
        "id": "nd3C45gnqsUa",
        "outputId": "238f4f3b-e321-41dd-c64c-2a16398a9d7a"
      },
      "outputs": [
        {
          "name": "stdout",
          "output_type": "stream",
          "text": [
            "dict_keys(['memory', 'steps', 'verbose', 'preprocessor', 'model', 'preprocessor__n_jobs', 'preprocessor__remainder', 'preprocessor__sparse_threshold', 'preprocessor__transformer_weights', 'preprocessor__transformers', 'preprocessor__verbose', 'preprocessor__verbose_feature_names_out', 'preprocessor__cat', 'preprocessor__num', 'preprocessor__cat__memory', 'preprocessor__cat__steps', 'preprocessor__cat__verbose', 'preprocessor__cat__encoder', 'preprocessor__cat__encoder__categories', 'preprocessor__cat__encoder__drop', 'preprocessor__cat__encoder__dtype', 'preprocessor__cat__encoder__handle_unknown', 'preprocessor__cat__encoder__sparse', 'preprocessor__num__memory', 'preprocessor__num__steps', 'preprocessor__num__verbose', 'preprocessor__num__poly', 'preprocessor__num__scaler', 'preprocessor__num__poly__degree', 'preprocessor__num__poly__include_bias', 'preprocessor__num__poly__interaction_only', 'preprocessor__num__poly__order', 'preprocessor__num__scaler__clip', 'preprocessor__num__scaler__copy', 'preprocessor__num__scaler__feature_range', 'model__objective', 'model__base_score', 'model__booster', 'model__colsample_bylevel', 'model__colsample_bynode', 'model__colsample_bytree', 'model__enable_categorical', 'model__gamma', 'model__gpu_id', 'model__importance_type', 'model__interaction_constraints', 'model__learning_rate', 'model__max_delta_step', 'model__max_depth', 'model__min_child_weight', 'model__missing', 'model__monotone_constraints', 'model__n_estimators', 'model__n_jobs', 'model__num_parallel_tree', 'model__predictor', 'model__random_state', 'model__reg_alpha', 'model__reg_lambda', 'model__scale_pos_weight', 'model__subsample', 'model__tree_method', 'model__validate_parameters', 'model__verbosity'])\n",
            "Fitting 31 folds for each of 10 candidates, totalling 310 fits\n",
            "Rank 1\n",
            "Params: {'model__learning_rate': 0.1, 'model__max_depth': 233, 'model__n_estimators': 280}\n",
            "Mean score:-2340910.57221 +- 4816664.95158\n",
            "----------\n",
            "Rank 2\n",
            "Params: {'model__learning_rate': 0.1, 'model__max_depth': 150, 'model__n_estimators': 207}\n",
            "Mean score:-2340931.28991 +- 4816654.90910\n",
            "----------\n",
            "Rank 3\n",
            "Params: {'model__learning_rate': 0.1, 'model__max_depth': 218, 'model__n_estimators': 198}\n",
            "Mean score:-2340941.74070 +- 4816644.65899\n",
            "----------\n",
            "Rank 4\n",
            "Params: {'model__learning_rate': 0.1, 'model__max_depth': 287, 'model__n_estimators': 187}\n",
            "Mean score:-2340962.01222 +- 4816623.14046\n",
            "----------\n",
            "Rank 5\n",
            "Params: {'model__learning_rate': 0.1, 'model__max_depth': 182, 'model__n_estimators': 151}\n",
            "Mean score:-2341217.56878 +- 4816349.68958\n",
            "----------\n"
          ]
        }
      ],
      "source": [
        "#Tuning\n",
        "param_grid = {'model__learning_rate': [0.01,0.1],\n",
        "              'model__max_depth': randint(low=130, high=300),\n",
        "              'model__n_estimators': randint(low=150, high=300)}\n",
        "              \n",
        "xgbr=train_rsc(model_raw_xgbr,tfm,param_grid,10,X_train,y_train)\n"
      ]
    },
    {
      "cell_type": "code",
      "execution_count": 24,
      "metadata": {
        "colab": {
          "base_uri": "https://localhost:8080/"
        },
        "id": "s9RdRpU9qsUa",
        "outputId": "15cfa702-9f4e-4fe9-aad4-a1c53ef1d136"
      },
      "outputs": [
        {
          "name": "stdout",
          "output_type": "stream",
          "text": [
            "dict_keys(['memory', 'steps', 'verbose', 'preprocessor', 'model', 'preprocessor__n_jobs', 'preprocessor__remainder', 'preprocessor__sparse_threshold', 'preprocessor__transformer_weights', 'preprocessor__transformers', 'preprocessor__verbose', 'preprocessor__verbose_feature_names_out', 'preprocessor__cat', 'preprocessor__num', 'preprocessor__cat__memory', 'preprocessor__cat__steps', 'preprocessor__cat__verbose', 'preprocessor__cat__encoder', 'preprocessor__cat__encoder__categories', 'preprocessor__cat__encoder__drop', 'preprocessor__cat__encoder__dtype', 'preprocessor__cat__encoder__handle_unknown', 'preprocessor__cat__encoder__sparse', 'preprocessor__num__memory', 'preprocessor__num__steps', 'preprocessor__num__verbose', 'preprocessor__num__poly', 'preprocessor__num__scaler', 'preprocessor__num__poly__degree', 'preprocessor__num__poly__include_bias', 'preprocessor__num__poly__interaction_only', 'preprocessor__num__poly__order', 'preprocessor__num__scaler__clip', 'preprocessor__num__scaler__copy', 'preprocessor__num__scaler__feature_range', 'model__objective', 'model__base_score', 'model__booster', 'model__colsample_bylevel', 'model__colsample_bynode', 'model__colsample_bytree', 'model__enable_categorical', 'model__gamma', 'model__gpu_id', 'model__importance_type', 'model__interaction_constraints', 'model__learning_rate', 'model__max_delta_step', 'model__max_depth', 'model__min_child_weight', 'model__missing', 'model__monotone_constraints', 'model__n_estimators', 'model__n_jobs', 'model__num_parallel_tree', 'model__predictor', 'model__random_state', 'model__reg_alpha', 'model__reg_lambda', 'model__scale_pos_weight', 'model__subsample', 'model__tree_method', 'model__validate_parameters', 'model__verbosity'])\n",
            "Fitting 31 folds for each of 40 candidates, totalling 1240 fits\n",
            "Rank 1\n",
            "Params: {'model__learning_rate': 0.1, 'model__max_depth': 148, 'model__n_estimators': 289}\n",
            "Mean score:-2340910.51544 +- 4816664.95682\n",
            "----------\n",
            "Rank 1\n",
            "Params: {'model__learning_rate': 0.1, 'model__max_depth': 156, 'model__n_estimators': 289}\n",
            "Mean score:-2340910.51544 +- 4816664.95682\n",
            "----------\n",
            "Rank 1\n",
            "Params: {'model__learning_rate': 0.1, 'model__max_depth': 154, 'model__n_estimators': 289}\n",
            "Mean score:-2340910.51544 +- 4816664.95682\n",
            "----------\n",
            "Rank 1\n",
            "Params: {'model__learning_rate': 0.1, 'model__max_depth': 152, 'model__n_estimators': 289}\n",
            "Mean score:-2340910.51544 +- 4816664.95682\n",
            "----------\n",
            "Rank 1\n",
            "Params: {'model__learning_rate': 0.1, 'model__max_depth': 150, 'model__n_estimators': 289}\n",
            "Mean score:-2340910.51544 +- 4816664.95682\n",
            "----------\n"
          ]
        }
      ],
      "source": [
        "#Fine tune\n",
        "param_grid = { 'model__learning_rate': [0.1],\n",
        "              'model__max_depth': np.arange(140,160,2),\n",
        "              'model__n_estimators': np.arange(283,291,2)}\n",
        "xgbr=train_gsc(model_raw_xgbr,tfm,param_grid,X_train,y_train)       \n",
        "    "
      ]
    },
    {
      "cell_type": "code",
      "execution_count": 25,
      "metadata": {},
      "outputs": [
        {
          "name": "stdout",
          "output_type": "stream",
          "text": [
            "Model MSE on training data= 0.0000\n",
            "Model MSE on div data= 36395.0337\n"
          ]
        }
      ],
      "source": [
        "#Get back the best_estimator\n",
        "best_estimator=get_best_estimator(xgbr,X_train,y_train,X_div,y_div)\n"
      ]
    },
    {
      "cell_type": "code",
      "execution_count": 62,
      "metadata": {
        "colab": {
          "base_uri": "https://localhost:8080/"
        },
        "id": "AECKeq7YqsUa",
        "outputId": "9ec844d7-30e3-4fdf-c37d-5128c2808877"
      },
      "outputs": [
        {
          "name": "stdout",
          "output_type": "stream",
          "text": [
            "Model MSE on training data= 0.0000\n",
            "Model MSE on div data= 36395.2249\n"
          ]
        }
      ],
      "source": [
        "#Get back the best_estimator\n",
        "best_estimator=get_best_estimator(xgbr,X_train,y_train,X_div,y_div)"
      ]
    },
    {
      "cell_type": "code",
      "execution_count": 63,
      "metadata": {
        "id": "j26LS5Z4qsUa"
      },
      "outputs": [],
      "source": [
        "# save the model to disk\n",
        "\n",
        "filename='MODEL_SAVE/XGBRegressor.sav'\n",
        "save_model(best_estimator,filename)"
      ]
    },
    {
      "cell_type": "code",
      "execution_count": 64,
      "metadata": {
        "colab": {
          "base_uri": "https://localhost:8080/"
        },
        "id": "qAfChKdyqsUa",
        "outputId": "0b5e4002-91ab-4d2e-a443-ff08dde7cdac"
      },
      "outputs": [
        {
          "name": "stdout",
          "output_type": "stream",
          "text": [
            "Model MSE on div data= 36395.2249\n"
          ]
        }
      ],
      "source": [
        "# load the model from disk\n",
        "import pickle\n",
        "filename='MODEL_SAVE/XGBRegressor.sav'\n",
        "xgbr_load=load_model(filename,X_div, y_div)"
      ]
    },
    {
      "cell_type": "markdown",
      "metadata": {
        "id": "n9PMUTcxqsUe"
      },
      "source": [
        "### Choose best model after tuning"
      ]
    },
    {
      "cell_type": "code",
      "execution_count": 14,
      "metadata": {
        "id": "A8ZxitKFqsUe"
      },
      "outputs": [],
      "source": [
        "# Get Model\n",
        "from sklearn.ensemble import GradientBoostingRegressor,RandomForestRegressor\n",
        "from xgboost import XGBRegressor"
      ]
    },
    {
      "cell_type": "code",
      "execution_count": 15,
      "metadata": {
        "id": "UAS_-Vr0qsUe"
      },
      "outputs": [],
      "source": [
        "#Algorithm score table \n",
        "rmse = {}\n",
        "#Scoring function:\n",
        "from sklearn.model_selection import cross_val_score\n",
        "def score_model(name,model,X_train_pre,X_train,y_train):\n",
        "  scores = cross_val_score(model,\n",
        "                         X_train_pre, y_train,\n",
        "                         scoring=\"neg_mean_squared_error\",\n",
        "                         cv=time_series_split)\n",
        "  rmse_score = np.sqrt(-scores)\n",
        "  mean_score = np.mean(rmse_score)\n",
        "\n",
        "  filename='MODEL_SAVE/'+name+'.sav'\n",
        "  model_tuning= pickle.load(open(filename, 'rb'))\n",
        "  tuning_scores = cross_val_score(model_tuning,\n",
        "                         X_train, y_train,\n",
        "                         scoring=\"neg_mean_squared_error\",\n",
        "                         cv=time_series_split)\n",
        "  tuning_rmse_score = np.sqrt(-tuning_scores)\n",
        "  tuning_mean_score = np.mean(tuning_rmse_score)\n",
        "  \n",
        "  return mean_score,tuning_mean_score\n",
        "#Print model MSE:\n",
        "def get_score_model(rmse_val):\n",
        "  rmse_df = pd.DataFrame.from_dict(rmse_val, orient='index').reset_index()\n",
        "  rmse_df.columns = [\"Algorithm\",\"RMSE\",\"RMSE_tuning\"]\n",
        "  rmse_df = rmse_df.sort_values(\"RMSE\", ascending=False).reset_index(drop=True)\n",
        "  \n",
        "  return rmse_df"
      ]
    },
    {
      "cell_type": "code",
      "execution_count": 16,
      "metadata": {
        "colab": {
          "base_uri": "https://localhost:8080/",
          "height": 533
        },
        "id": "hM95dNoKqsUe",
        "outputId": "e0ab7f97-8b4e-499b-9704-46079b2ba241"
      },
      "outputs": [
        {
          "data": {
            "text/plain": [
              "<AxesSubplot:xlabel='Algorithm'>"
            ]
          },
          "execution_count": 16,
          "metadata": {},
          "output_type": "execute_result"
        },
        {
          "data": {
            "image/png": "[encoded data removed]",
            "text/plain": [
              "<Figure size 720x432 with 1 Axes>"
            ]
          },
          "metadata": {
            "needs_background": "light"
          },
          "output_type": "display_data"
        }
      ],
      "source": [
        "X_train_pre=tfm.fit_transform(X_train)\n",
        "tuning_model={'GradientBoostingRegressor':GradientBoostingRegressor(),'RandomForestRegressor':RandomForestRegressor(),'XGBRegressor':XGBRegressor(objective='reg:squarederror')}\n",
        "for i in tuning_model:\n",
        "  model=tuning_model.get(i)\n",
        "  rmse[i]=score_model(i,model,X_train_pre,X_train,y_train)\n",
        "get_score_model(rmse).plot(x=\"Algorithm\",\n",
        "                y=[\"RMSE\",\"RMSE_tuning\"],\n",
        "                kind=\"bar\",\n",
        "                figsize=(10,6))"
      ]
    }
  ],
  "metadata": {
    "colab": {
      "collapsed_sections": [
        "0lF_EnhS8H9F",
        "xBaf4wkWKgAN",
        "uxpb1-ogYj-E",
        "vGTExsO9EVwW",
        "ZdMdHPzlImFe",
        "YkcgVrcXOQkh",
        "itaXTXYwOaKf",
        "w3UDjuf_qsUZ",
        "n9PMUTcxqsUe"
      ],
      "name": "BUILD_MODEL.ipynb",
      "provenance": []
    },
    "kernelspec": {
      "display_name": "Python 3",
      "name": "python3"
    },
    "language_info": {
      "codemirror_mode": {
        "name": "ipython",
        "version": 3
      },
      "file_extension": ".py",
      "mimetype": "text/x-python",
      "name": "python",
      "nbconvert_exporter": "python",
      "pygments_lexer": "ipython3",
      "version": "3.9.5"
    }
  },
  "nbformat": 4,
  "nbformat_minor": 0
}
