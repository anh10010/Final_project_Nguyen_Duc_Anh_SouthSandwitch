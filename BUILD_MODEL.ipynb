{
  "nbformat": 4,
  "nbformat_minor": 0,
  "metadata": {
    "colab": {
      "name": "BUILD_MODEL.ipynb",
      "provenance": [],
      "collapsed_sections": [
        "0lF_EnhS8H9F",
        "xBaf4wkWKgAN",
        "uxpb1-ogYj-E",
        "vGTExsO9EVwW",
        "ZdMdHPzlImFe",
        "YkcgVrcXOQkh",
        "itaXTXYwOaKf",
        "w3UDjuf_qsUZ",
        "n9PMUTcxqsUe"
      ]
    },
    "kernelspec": {
      "name": "python3",
      "display_name": "Python 3"
    },
    "language_info": {
      "name": "python"
    }
  },
  "cells": [
    {
      "cell_type": "markdown",
      "source": [
        "## I/GET DATA"
      ],
      "metadata": {
        "id": "0lF_EnhS8H9F"
      }
    },
    {
      "cell_type": "code",
      "source": [
        "import numpy as np\n",
        "import re\n",
        "import pandas as pd\n",
        "import seaborn as sns\n",
        "import matplotlib.pyplot as plt\n",
        "import pickle\n",
        "#Build Transformer\n",
        "from sklearn.preprocessing import OneHotEncoder,MinMaxScaler,PolynomialFeatures,OrdinalEncoder\n",
        "from sklearn.compose import ColumnTransformer\n",
        "from sklearn.pipeline import Pipeline\n",
        "from sklearn.metrics import mean_squared_error,mean_absolute_percentage_error\n",
        "from sklearn.model_selection import GridSearchCV,RandomizedSearchCV\n",
        "from scipy.stats import randint\n",
        "#Connect DATASET in google drive\n",
        "from google.colab import drive\n",
        "drive.mount('/content/drive')\n",
        "pd.options.display.float_format = \"{:.2f}\".format\n",
        "#Suicide rate in countries every year\n",
        "df_country_suicide_rate=pd.read_csv('/content/drive/MyDrive/Final_project_Data/DATASET/CLEANED_DATA/country_suicide_rate.csv')\n",
        "\n",
        "#Suicide rate in over the world every year(full data)\n",
        "df_suicide_rate=pd.read_csv('/content/drive/MyDrive/Final_project_Data/DATASET/CLEANED_DATA/suicide_rate.csv')\n",
        "\n",
        "#Mental health in 2016\n",
        "df_mental_health_2016=pd.read_csv('/content/drive/MyDrive/Final_project_Data/DATASET/CLEANED_DATA/mental_health.csv')"
      ],
      "metadata": {
        "colab": {
          "base_uri": "https://localhost:8080/"
        },
        "id": "mlqLfH7n8WKC",
        "outputId": "474233c3-21a1-4590-8d55-dfea509912ff"
      },
      "execution_count": null,
      "outputs": [
        {
          "output_type": "stream",
          "name": "stdout",
          "text": [
            "Mounted at /content/drive\n"
          ]
        }
      ]
    },
    {
      "cell_type": "code",
      "source": [
        "df_country_suicide_rate.corr().style.background_gradient(cmap='Blues')"
      ],
      "metadata": {
        "colab": {
          "base_uri": "https://localhost:8080/"
        },
        "id": "YrFDoaMMBlBl",
        "outputId": "4500b5c2-d37f-4867-849c-d6d0e298f656"
      },
      "execution_count": null,
      "outputs": [
        {
          "output_type": "execute_result",
          "data": {
            "text/html": [
              "<style  type=\"text/css\" >\n",
              "#T_1e5b2eee_671e_11ec_91ae_0242ac1c0002row0_col0,#T_1e5b2eee_671e_11ec_91ae_0242ac1c0002row1_col1,#T_1e5b2eee_671e_11ec_91ae_0242ac1c0002row2_col2,#T_1e5b2eee_671e_11ec_91ae_0242ac1c0002row3_col3,#T_1e5b2eee_671e_11ec_91ae_0242ac1c0002row4_col4,#T_1e5b2eee_671e_11ec_91ae_0242ac1c0002row5_col5{\n",
              "            background-color:  #08306b;\n",
              "            color:  #f1f1f1;\n",
              "        }#T_1e5b2eee_671e_11ec_91ae_0242ac1c0002row0_col1,#T_1e5b2eee_671e_11ec_91ae_0242ac1c0002row4_col0{\n",
              "            background-color:  #f2f8fd;\n",
              "            color:  #000000;\n",
              "        }#T_1e5b2eee_671e_11ec_91ae_0242ac1c0002row0_col2{\n",
              "            background-color:  #b8d5ea;\n",
              "            color:  #000000;\n",
              "        }#T_1e5b2eee_671e_11ec_91ae_0242ac1c0002row0_col3,#T_1e5b2eee_671e_11ec_91ae_0242ac1c0002row0_col4,#T_1e5b2eee_671e_11ec_91ae_0242ac1c0002row0_col5,#T_1e5b2eee_671e_11ec_91ae_0242ac1c0002row5_col0,#T_1e5b2eee_671e_11ec_91ae_0242ac1c0002row5_col1,#T_1e5b2eee_671e_11ec_91ae_0242ac1c0002row5_col2{\n",
              "            background-color:  #f7fbff;\n",
              "            color:  #000000;\n",
              "        }#T_1e5b2eee_671e_11ec_91ae_0242ac1c0002row1_col0{\n",
              "            background-color:  #e2edf8;\n",
              "            color:  #000000;\n",
              "        }#T_1e5b2eee_671e_11ec_91ae_0242ac1c0002row1_col2{\n",
              "            background-color:  #c3daee;\n",
              "            color:  #000000;\n",
              "        }#T_1e5b2eee_671e_11ec_91ae_0242ac1c0002row1_col3{\n",
              "            background-color:  #3888c1;\n",
              "            color:  #000000;\n",
              "        }#T_1e5b2eee_671e_11ec_91ae_0242ac1c0002row1_col4{\n",
              "            background-color:  #1764ab;\n",
              "            color:  #f1f1f1;\n",
              "        }#T_1e5b2eee_671e_11ec_91ae_0242ac1c0002row1_col5{\n",
              "            background-color:  #e6f0f9;\n",
              "            color:  #000000;\n",
              "        }#T_1e5b2eee_671e_11ec_91ae_0242ac1c0002row2_col0{\n",
              "            background-color:  #a6cee4;\n",
              "            color:  #000000;\n",
              "        }#T_1e5b2eee_671e_11ec_91ae_0242ac1c0002row2_col1{\n",
              "            background-color:  #c7dbef;\n",
              "            color:  #000000;\n",
              "        }#T_1e5b2eee_671e_11ec_91ae_0242ac1c0002row2_col3,#T_1e5b2eee_671e_11ec_91ae_0242ac1c0002row4_col5{\n",
              "            background-color:  #e3eef9;\n",
              "            color:  #000000;\n",
              "        }#T_1e5b2eee_671e_11ec_91ae_0242ac1c0002row2_col4{\n",
              "            background-color:  #e7f0fa;\n",
              "            color:  #000000;\n",
              "        }#T_1e5b2eee_671e_11ec_91ae_0242ac1c0002row2_col5,#T_1e5b2eee_671e_11ec_91ae_0242ac1c0002row5_col4{\n",
              "            background-color:  #e8f1fa;\n",
              "            color:  #000000;\n",
              "        }#T_1e5b2eee_671e_11ec_91ae_0242ac1c0002row3_col0{\n",
              "            background-color:  #f5fafe;\n",
              "            color:  #000000;\n",
              "        }#T_1e5b2eee_671e_11ec_91ae_0242ac1c0002row3_col1{\n",
              "            background-color:  #4090c5;\n",
              "            color:  #000000;\n",
              "        }#T_1e5b2eee_671e_11ec_91ae_0242ac1c0002row3_col2{\n",
              "            background-color:  #f0f6fd;\n",
              "            color:  #000000;\n",
              "        }#T_1e5b2eee_671e_11ec_91ae_0242ac1c0002row3_col4{\n",
              "            background-color:  #1562a9;\n",
              "            color:  #f1f1f1;\n",
              "        }#T_1e5b2eee_671e_11ec_91ae_0242ac1c0002row3_col5{\n",
              "            background-color:  #a0cbe2;\n",
              "            color:  #000000;\n",
              "        }#T_1e5b2eee_671e_11ec_91ae_0242ac1c0002row4_col1{\n",
              "            background-color:  #1a68ae;\n",
              "            color:  #f1f1f1;\n",
              "        }#T_1e5b2eee_671e_11ec_91ae_0242ac1c0002row4_col2{\n",
              "            background-color:  #f1f7fd;\n",
              "            color:  #000000;\n",
              "        }#T_1e5b2eee_671e_11ec_91ae_0242ac1c0002row4_col3{\n",
              "            background-color:  #1561a9;\n",
              "            color:  #f1f1f1;\n",
              "        }#T_1e5b2eee_671e_11ec_91ae_0242ac1c0002row5_col3{\n",
              "            background-color:  #a1cbe2;\n",
              "            color:  #000000;\n",
              "        }</style><table id=\"T_1e5b2eee_671e_11ec_91ae_0242ac1c0002\" class=\"dataframe\"><thead>    <tr>        <th class=\"blank level0\" ></th>        <th class=\"col_heading level0 col0\" >Year</th>        <th class=\"col_heading level0 col1\" >GDP ($)</th>        <th class=\"col_heading level0 col2\" >GDP/Capita ($)</th>        <th class=\"col_heading level0 col3\" >No.Suicides</th>        <th class=\"col_heading level0 col4\" >Population</th>        <th class=\"col_heading level0 col5\" >Suicides_rate/100k pop</th>    </tr></thead><tbody>\n",
              "                <tr>\n",
              "                        <th id=\"T_1e5b2eee_671e_11ec_91ae_0242ac1c0002level0_row0\" class=\"row_heading level0 row0\" >Year</th>\n",
              "                        <td id=\"T_1e5b2eee_671e_11ec_91ae_0242ac1c0002row0_col0\" class=\"data row0 col0\" >1.000000</td>\n",
              "                        <td id=\"T_1e5b2eee_671e_11ec_91ae_0242ac1c0002row0_col1\" class=\"data row0 col1\" >0.094001</td>\n",
              "                        <td id=\"T_1e5b2eee_671e_11ec_91ae_0242ac1c0002row0_col2\" class=\"data row0 col2\" >0.339188</td>\n",
              "                        <td id=\"T_1e5b2eee_671e_11ec_91ae_0242ac1c0002row0_col3\" class=\"data row0 col3\" >-0.007759</td>\n",
              "                        <td id=\"T_1e5b2eee_671e_11ec_91ae_0242ac1c0002row0_col4\" class=\"data row0 col4\" >0.008887</td>\n",
              "                        <td id=\"T_1e5b2eee_671e_11ec_91ae_0242ac1c0002row0_col5\" class=\"data row0 col5\" >-0.015713</td>\n",
              "            </tr>\n",
              "            <tr>\n",
              "                        <th id=\"T_1e5b2eee_671e_11ec_91ae_0242ac1c0002level0_row1\" class=\"row_heading level0 row1\" >GDP ($)</th>\n",
              "                        <td id=\"T_1e5b2eee_671e_11ec_91ae_0242ac1c0002row1_col0\" class=\"data row1 col0\" >0.094001</td>\n",
              "                        <td id=\"T_1e5b2eee_671e_11ec_91ae_0242ac1c0002row1_col1\" class=\"data row1 col1\" >1.000000</td>\n",
              "                        <td id=\"T_1e5b2eee_671e_11ec_91ae_0242ac1c0002row1_col2\" class=\"data row1 col2\" >0.303126</td>\n",
              "                        <td id=\"T_1e5b2eee_671e_11ec_91ae_0242ac1c0002row1_col3\" class=\"data row1 col3\" >0.657589</td>\n",
              "                        <td id=\"T_1e5b2eee_671e_11ec_91ae_0242ac1c0002row1_col4\" class=\"data row1 col4\" >0.800281</td>\n",
              "                        <td id=\"T_1e5b2eee_671e_11ec_91ae_0242ac1c0002row1_col5\" class=\"data row1 col5\" >0.071868</td>\n",
              "            </tr>\n",
              "            <tr>\n",
              "                        <th id=\"T_1e5b2eee_671e_11ec_91ae_0242ac1c0002level0_row2\" class=\"row_heading level0 row2\" >GDP/Capita ($)</th>\n",
              "                        <td id=\"T_1e5b2eee_671e_11ec_91ae_0242ac1c0002row2_col0\" class=\"data row2 col0\" >0.339188</td>\n",
              "                        <td id=\"T_1e5b2eee_671e_11ec_91ae_0242ac1c0002row2_col1\" class=\"data row2 col1\" >0.303126</td>\n",
              "                        <td id=\"T_1e5b2eee_671e_11ec_91ae_0242ac1c0002row2_col2\" class=\"data row2 col2\" >1.000000</td>\n",
              "                        <td id=\"T_1e5b2eee_671e_11ec_91ae_0242ac1c0002row2_col3\" class=\"data row2 col3\" >0.093461</td>\n",
              "                        <td id=\"T_1e5b2eee_671e_11ec_91ae_0242ac1c0002row2_col4\" class=\"data row2 col4\" >0.091413</td>\n",
              "                        <td id=\"T_1e5b2eee_671e_11ec_91ae_0242ac1c0002row2_col5\" class=\"data row2 col5\" >0.060367</td>\n",
              "            </tr>\n",
              "            <tr>\n",
              "                        <th id=\"T_1e5b2eee_671e_11ec_91ae_0242ac1c0002level0_row3\" class=\"row_heading level0 row3\" >No.Suicides</th>\n",
              "                        <td id=\"T_1e5b2eee_671e_11ec_91ae_0242ac1c0002row3_col0\" class=\"data row3 col0\" >-0.007759</td>\n",
              "                        <td id=\"T_1e5b2eee_671e_11ec_91ae_0242ac1c0002row3_col1\" class=\"data row3 col1\" >0.657589</td>\n",
              "                        <td id=\"T_1e5b2eee_671e_11ec_91ae_0242ac1c0002row3_col2\" class=\"data row3 col2\" >0.093461</td>\n",
              "                        <td id=\"T_1e5b2eee_671e_11ec_91ae_0242ac1c0002row3_col3\" class=\"data row3 col3\" >1.000000</td>\n",
              "                        <td id=\"T_1e5b2eee_671e_11ec_91ae_0242ac1c0002row3_col4\" class=\"data row3 col4\" >0.808095</td>\n",
              "                        <td id=\"T_1e5b2eee_671e_11ec_91ae_0242ac1c0002row3_col5\" class=\"data row3 col5\" >0.360253</td>\n",
              "            </tr>\n",
              "            <tr>\n",
              "                        <th id=\"T_1e5b2eee_671e_11ec_91ae_0242ac1c0002level0_row4\" class=\"row_heading level0 row4\" >Population</th>\n",
              "                        <td id=\"T_1e5b2eee_671e_11ec_91ae_0242ac1c0002row4_col0\" class=\"data row4 col0\" >0.008887</td>\n",
              "                        <td id=\"T_1e5b2eee_671e_11ec_91ae_0242ac1c0002row4_col1\" class=\"data row4 col1\" >0.800281</td>\n",
              "                        <td id=\"T_1e5b2eee_671e_11ec_91ae_0242ac1c0002row4_col2\" class=\"data row4 col2\" >0.091413</td>\n",
              "                        <td id=\"T_1e5b2eee_671e_11ec_91ae_0242ac1c0002row4_col3\" class=\"data row4 col3\" >0.808095</td>\n",
              "                        <td id=\"T_1e5b2eee_671e_11ec_91ae_0242ac1c0002row4_col4\" class=\"data row4 col4\" >1.000000</td>\n",
              "                        <td id=\"T_1e5b2eee_671e_11ec_91ae_0242ac1c0002row4_col5\" class=\"data row4 col5\" >0.083918</td>\n",
              "            </tr>\n",
              "            <tr>\n",
              "                        <th id=\"T_1e5b2eee_671e_11ec_91ae_0242ac1c0002level0_row5\" class=\"row_heading level0 row5\" >Suicides_rate/100k pop</th>\n",
              "                        <td id=\"T_1e5b2eee_671e_11ec_91ae_0242ac1c0002row5_col0\" class=\"data row5 col0\" >-0.015713</td>\n",
              "                        <td id=\"T_1e5b2eee_671e_11ec_91ae_0242ac1c0002row5_col1\" class=\"data row5 col1\" >0.071868</td>\n",
              "                        <td id=\"T_1e5b2eee_671e_11ec_91ae_0242ac1c0002row5_col2\" class=\"data row5 col2\" >0.060367</td>\n",
              "                        <td id=\"T_1e5b2eee_671e_11ec_91ae_0242ac1c0002row5_col3\" class=\"data row5 col3\" >0.360253</td>\n",
              "                        <td id=\"T_1e5b2eee_671e_11ec_91ae_0242ac1c0002row5_col4\" class=\"data row5 col4\" >0.083918</td>\n",
              "                        <td id=\"T_1e5b2eee_671e_11ec_91ae_0242ac1c0002row5_col5\" class=\"data row5 col5\" >1.000000</td>\n",
              "            </tr>\n",
              "    </tbody></table>"
            ],
            "text/plain": [
              "<pandas.io.formats.style.Styler at 0x7f1e0a8bfe50>"
            ]
          },
          "metadata": {},
          "execution_count": 3
        }
      ]
    },
    {
      "cell_type": "markdown",
      "source": [
        "# II/ PREDICT NO.SUICIDE"
      ],
      "metadata": {
        "id": "wNLieGVtOHe-"
      }
    },
    {
      "cell_type": "markdown",
      "source": [
        "## 1/ Prepare data"
      ],
      "metadata": {
        "id": "xBaf4wkWKgAN"
      }
    },
    {
      "cell_type": "markdown",
      "source": [
        "### Get train data:"
      ],
      "metadata": {
        "id": "Wr-v6jVULv7n"
      }
    },
    {
      "cell_type": "code",
      "source": [
        "df_suicide=df_country_suicide_rate.sort_values(['Year','Country'],ascending=True)\n",
        "df=df_suicide.drop(columns=['Suicides_rate/100k pop','GDP/Capita ($)']) \n",
        "#Get division data\n",
        "df_div=df[df['Year']==2016]\n",
        "X_div=df_div.drop(columns=['No.Suicides']) \n",
        "y_div=df_div['No.Suicides']\n",
        "#Get train data\n",
        "df_train=df[df['Year']!=2016]\n",
        "X_train=df_train.drop(columns=['No.Suicides']) \n",
        "y_train=df_train['No.Suicides']"
      ],
      "metadata": {
        "id": "zWmiMj-SOjJQ"
      },
      "execution_count": null,
      "outputs": []
    },
    {
      "cell_type": "markdown",
      "source": [
        "### Preprocessor"
      ],
      "metadata": {
        "id": "uxpb1-ogYj-E"
      }
    },
    {
      "cell_type": "code",
      "source": [
        "# Define categorical pipeline\n",
        "cat_pipe = Pipeline([('encoder', OneHotEncoder(handle_unknown='ignore', sparse=False))])\n",
        "\n",
        "# Define numerical pipeline\n",
        "num_pipe = Pipeline([('poly',PolynomialFeatures(degree = 1, include_bias=False)),('scaler', MinMaxScaler())])\n",
        "\n",
        "#\n",
        "col_pipe=Pipeline([('ordi',OrdinalEncoder(handle_unknown=\"use_encoded_value\", unknown_value=-1))])\n",
        "\n",
        "#Find numerical/categorical columns\n",
        "numerical = list(X_train.select_dtypes('number').columns) \n",
        "categorical = ['Country']\n",
        "\n",
        "\n",
        "tfm = ColumnTransformer(transformers=[('cat', cat_pipe, categorical), \n",
        "                                      ('num', num_pipe, numerical)],\n",
        "                                       remainder='passthrough')\n",
        "X_train_pre=tfm.fit_transform(X_train)"
      ],
      "metadata": {
        "id": "iPscE_f6Yjkr"
      },
      "execution_count": null,
      "outputs": []
    },
    {
      "cell_type": "code",
      "source": [
        "#Build TimeSeriesSplit\n",
        "\n",
        "from sklearn.model_selection import TimeSeriesSplit\n",
        "time_series_split = TimeSeriesSplit(n_splits = len(X_train['Year'].unique()))"
      ],
      "metadata": {
        "id": "kLW0R-xxgmqB"
      },
      "execution_count": null,
      "outputs": []
    },
    {
      "cell_type": "markdown",
      "source": [
        "### Function"
      ],
      "metadata": {
        "id": "vGTExsO9EVwW"
      }
    },
    {
      "cell_type": "code",
      "source": [
        "def build_final_pipe(model,tfm):\n",
        "  final_pipe=Pipeline(steps=[('preprocessor', tfm),('model',model )])                      \n",
        "  print(final_pipe.get_params().keys())\n",
        "  return final_pipe"
      ],
      "metadata": {
        "id": "d_0CKYCjEhl4"
      },
      "execution_count": null,
      "outputs": []
    },
    {
      "cell_type": "code",
      "source": [
        "def train_raw(model,X_train_pre,y_train):\n",
        "  model.fit(X_train_pre,y_train)\n",
        "  y_train_pred= model.predict(X_train_pre)\n",
        "  rfr_rmse = mean_squared_error(y_train,y_train_pred)\n",
        "  print(f\"The MSE is {rfr_rmse:.2f}\")\n",
        "  return model"
      ],
      "metadata": {
        "id": "gquHiabZkoU-"
      },
      "execution_count": null,
      "outputs": []
    },
    {
      "cell_type": "code",
      "source": [
        "def train_gsc(model,tfm,param,x,y,k=time_series_split):\n",
        "  final_pipe=build_final_pipe(model,tfm)\n",
        "  GSC = GridSearchCV(final_pipe,param_grid=param,scoring='neg_mean_squared_error',cv=k,n_jobs=-1,verbose=True)\n",
        "  GSC.fit(x,y)\n",
        "  get_score(GSC)\n",
        "  return GSC"
      ],
      "metadata": {
        "id": "6E1RcL0jEpVF"
      },
      "execution_count": null,
      "outputs": []
    },
    {
      "cell_type": "code",
      "source": [
        "def get_score(model)  :\n",
        "  cv = pd.DataFrame(model.cv_results_)\n",
        "  cv = cv.sort_values('rank_test_score')\n",
        "  for rec in cv[['params','mean_test_score','std_test_score','rank_test_score']].values[:5]:\n",
        "    print(f'Rank {rec[-1]}')\n",
        "    print(f'Params: {rec[0]}')\n",
        "    print(f'Mean score:{rec[1]:.5f} +- {rec[2]:.5f}')\n",
        "    print('-'*10)"
      ],
      "metadata": {
        "id": "handM2FSLxWe"
      },
      "execution_count": null,
      "outputs": []
    },
    {
      "cell_type": "code",
      "source": [
        "def train_rsc(model,tfm,param,n,x,y,k=time_series_split):\n",
        "  final_pipe=build_final_pipe(model,tfm)\n",
        "  RSC = RandomizedSearchCV(final_pipe,param_distributions=param,scoring='neg_mean_squared_error',cv=k,n_jobs=-1,n_iter=n,verbose=True,random_state=42)\n",
        "  RSC.fit(x,y)\n",
        "  get_score(RSC)  \n",
        "  return RSC"
      ],
      "metadata": {
        "id": "q4t5Xjy6Ln3P"
      },
      "execution_count": null,
      "outputs": []
    },
    {
      "cell_type": "code",
      "source": [
        "#Get back the best_estimator\n",
        "def get_best_estimator(gsc,X_train,y_train,X_div,y_div):\n",
        "  best_estimator = gsc.best_estimator_\n",
        "  best_estimator.fit(X_train,y_train)\n",
        "# Predict training data\n",
        "  y_train_pred = best_estimator.predict(X_train)\n",
        "# MSE on training data\n",
        "  print(\"Model MSE on training data= {:5.4f}\".format(mean_squared_error(y_train,y_train_pred)))\n",
        "\n",
        "# Predict div data\n",
        "  y_test_pred = best_estimator.predict(X_div)\n",
        "# MSE on div set\n",
        "  print(\"Model MSE on div data= {:5.4f}\".format(mean_squared_error(y_div,y_test_pred)))\n",
        "  return best_estimator"
      ],
      "metadata": {
        "id": "y-3LVehMEpIs"
      },
      "execution_count": null,
      "outputs": []
    },
    {
      "cell_type": "code",
      "source": [
        "def save_model(best_estimator,filename):\n",
        "  pickle.dump(best_estimator, open(filename,'wb'))"
      ],
      "metadata": {
        "id": "zYGjLI7fEo63"
      },
      "execution_count": null,
      "outputs": []
    },
    {
      "cell_type": "code",
      "source": [
        "def load_model(filename,X_div, y_div):\n",
        "  loaded_model = pickle.load(open(filename, 'rb'))\n",
        "  # Predict div data\n",
        "  y_test_pred = loaded_model.predict(X_div)\n",
        "  # MSE on div set\n",
        "  print(\"Model MSE on div data= {:5.4f}\".format(mean_squared_error(y_div,y_test_pred)))\n",
        "  return loaded_model"
      ],
      "metadata": {
        "id": "xNhA43pLOELZ"
      },
      "execution_count": null,
      "outputs": []
    },
    {
      "cell_type": "code",
      "source": [
        "X_train"
      ],
      "metadata": {
        "colab": {
          "base_uri": "https://localhost:8080/"
        },
        "id": "tI5LLswLnxSW",
        "outputId": "d02ab735-5899-4acb-a038-b2e612f55aac"
      },
      "execution_count": null,
      "outputs": [
        {
          "output_type": "execute_result",
          "data": {
            "text/html": [
              "\n",
              "  <div id=\"df-a9d22ad0-091c-410e-adab-e707a076aa2b\">\n",
              "    <div class=\"colab-df-container\">\n",
              "      <div>\n",
              "<style scoped>\n",
              "    .dataframe tbody tr th:only-of-type {\n",
              "        vertical-align: middle;\n",
              "    }\n",
              "\n",
              "    .dataframe tbody tr th {\n",
              "        vertical-align: top;\n",
              "    }\n",
              "\n",
              "    .dataframe thead th {\n",
              "        text-align: right;\n",
              "    }\n",
              "</style>\n",
              "<table border=\"1\" class=\"dataframe\">\n",
              "  <thead>\n",
              "    <tr style=\"text-align: right;\">\n",
              "      <th></th>\n",
              "      <th>Country</th>\n",
              "      <th>Year</th>\n",
              "      <th>GDP ($)</th>\n",
              "      <th>Population</th>\n",
              "    </tr>\n",
              "  </thead>\n",
              "  <tbody>\n",
              "    <tr>\n",
              "      <th>22</th>\n",
              "      <td>Antigua and Barbuda</td>\n",
              "      <td>1985</td>\n",
              "      <td>240923926</td>\n",
              "      <td>62574</td>\n",
              "    </tr>\n",
              "    <tr>\n",
              "      <th>49</th>\n",
              "      <td>Argentina</td>\n",
              "      <td>1985</td>\n",
              "      <td>88416668900</td>\n",
              "      <td>27090800</td>\n",
              "    </tr>\n",
              "    <tr>\n",
              "      <th>119</th>\n",
              "      <td>Australia</td>\n",
              "      <td>1985</td>\n",
              "      <td>180190994861</td>\n",
              "      <td>14562500</td>\n",
              "    </tr>\n",
              "    <tr>\n",
              "      <th>149</th>\n",
              "      <td>Austria</td>\n",
              "      <td>1985</td>\n",
              "      <td>69386774475</td>\n",
              "      <td>7110115</td>\n",
              "    </tr>\n",
              "    <tr>\n",
              "      <th>197</th>\n",
              "      <td>Bahamas</td>\n",
              "      <td>1985</td>\n",
              "      <td>2320699900</td>\n",
              "      <td>203700</td>\n",
              "    </tr>\n",
              "    <tr>\n",
              "      <th>...</th>\n",
              "      <td>...</td>\n",
              "      <td>...</td>\n",
              "      <td>...</td>\n",
              "      <td>...</td>\n",
              "    </tr>\n",
              "    <tr>\n",
              "      <th>2174</th>\n",
              "      <td>Turkmenistan</td>\n",
              "      <td>2015</td>\n",
              "      <td>35799628571</td>\n",
              "      <td>4886514</td>\n",
              "    </tr>\n",
              "    <tr>\n",
              "      <th>2202</th>\n",
              "      <td>Ukraine</td>\n",
              "      <td>2015</td>\n",
              "      <td>91030959455</td>\n",
              "      <td>40345446</td>\n",
              "    </tr>\n",
              "    <tr>\n",
              "      <th>2239</th>\n",
              "      <td>United Kingdom</td>\n",
              "      <td>2015</td>\n",
              "      <td>2885570309161</td>\n",
              "      <td>61082942</td>\n",
              "    </tr>\n",
              "    <tr>\n",
              "      <th>2270</th>\n",
              "      <td>United States</td>\n",
              "      <td>2015</td>\n",
              "      <td>18120714000000</td>\n",
              "      <td>300078511</td>\n",
              "    </tr>\n",
              "    <tr>\n",
              "      <th>2298</th>\n",
              "      <td>Uruguay</td>\n",
              "      <td>2015</td>\n",
              "      <td>53274304222</td>\n",
              "      <td>3190795</td>\n",
              "    </tr>\n",
              "  </tbody>\n",
              "</table>\n",
              "<p>2305 rows × 4 columns</p>\n",
              "</div>\n",
              "      <button class=\"colab-df-convert\" onclick=\"convertToInteractive('df-a9d22ad0-091c-410e-adab-e707a076aa2b')\"\n",
              "              title=\"Convert this dataframe to an interactive table.\"\n",
              "              style=\"display:none;\">\n",
              "        \n",
              "  <svg xmlns=\"http://www.w3.org/2000/svg\" height=\"24px\"viewBox=\"0 0 24 24\"\n",
              "       width=\"24px\">\n",
              "    <path d=\"M0 0h24v24H0V0z\" fill=\"none\"/>\n",
              "    <path d=\"M18.56 5.44l.94 2.06.94-2.06 2.06-.94-2.06-.94-.94-2.06-.94 2.06-2.06.94zm-11 1L8.5 8.5l.94-2.06 2.06-.94-2.06-.94L8.5 2.5l-.94 2.06-2.06.94zm10 10l.94 2.06.94-2.06 2.06-.94-2.06-.94-.94-2.06-.94 2.06-2.06.94z\"/><path d=\"M17.41 7.96l-1.37-1.37c-.4-.4-.92-.59-1.43-.59-.52 0-1.04.2-1.43.59L10.3 9.45l-7.72 7.72c-.78.78-.78 2.05 0 2.83L4 21.41c.39.39.9.59 1.41.59.51 0 1.02-.2 1.41-.59l7.78-7.78 2.81-2.81c.8-.78.8-2.07 0-2.86zM5.41 20L4 18.59l7.72-7.72 1.47 1.35L5.41 20z\"/>\n",
              "  </svg>\n",
              "      </button>\n",
              "      \n",
              "  <style>\n",
              "    .colab-df-container {\n",
              "      display:flex;\n",
              "      flex-wrap:wrap;\n",
              "      gap: 12px;\n",
              "    }\n",
              "\n",
              "    .colab-df-convert {\n",
              "      background-color: #E8F0FE;\n",
              "      border: none;\n",
              "      border-radius: 50%;\n",
              "      cursor: pointer;\n",
              "      display: none;\n",
              "      fill: #1967D2;\n",
              "      height: 32px;\n",
              "      padding: 0 0 0 0;\n",
              "      width: 32px;\n",
              "    }\n",
              "\n",
              "    .colab-df-convert:hover {\n",
              "      background-color: #E2EBFA;\n",
              "      box-shadow: 0px 1px 2px rgba(60, 64, 67, 0.3), 0px 1px 3px 1px rgba(60, 64, 67, 0.15);\n",
              "      fill: #174EA6;\n",
              "    }\n",
              "\n",
              "    [theme=dark] .colab-df-convert {\n",
              "      background-color: #3B4455;\n",
              "      fill: #D2E3FC;\n",
              "    }\n",
              "\n",
              "    [theme=dark] .colab-df-convert:hover {\n",
              "      background-color: #434B5C;\n",
              "      box-shadow: 0px 1px 3px 1px rgba(0, 0, 0, 0.15);\n",
              "      filter: drop-shadow(0px 1px 2px rgba(0, 0, 0, 0.3));\n",
              "      fill: #FFFFFF;\n",
              "    }\n",
              "  </style>\n",
              "\n",
              "      <script>\n",
              "        const buttonEl =\n",
              "          document.querySelector('#df-a9d22ad0-091c-410e-adab-e707a076aa2b button.colab-df-convert');\n",
              "        buttonEl.style.display =\n",
              "          google.colab.kernel.accessAllowed ? 'block' : 'none';\n",
              "\n",
              "        async function convertToInteractive(key) {\n",
              "          const element = document.querySelector('#df-a9d22ad0-091c-410e-adab-e707a076aa2b');\n",
              "          const dataTable =\n",
              "            await google.colab.kernel.invokeFunction('convertToInteractive',\n",
              "                                                     [key], {});\n",
              "          if (!dataTable) return;\n",
              "\n",
              "          const docLinkHtml = 'Like what you see? Visit the ' +\n",
              "            '<a target=\"_blank\" href=https://colab.research.google.com/notebooks/data_table.ipynb>data table notebook</a>'\n",
              "            + ' to learn more about interactive tables.';\n",
              "          element.innerHTML = '';\n",
              "          dataTable['output_type'] = 'display_data';\n",
              "          await google.colab.output.renderOutput(dataTable, element);\n",
              "          const docLink = document.createElement('div');\n",
              "          docLink.innerHTML = docLinkHtml;\n",
              "          element.appendChild(docLink);\n",
              "        }\n",
              "      </script>\n",
              "    </div>\n",
              "  </div>\n",
              "  "
            ],
            "text/plain": [
              "                  Country  Year         GDP ($)  Population\n",
              "22    Antigua and Barbuda  1985       240923926       62574\n",
              "49              Argentina  1985     88416668900    27090800\n",
              "119             Australia  1985    180190994861    14562500\n",
              "149               Austria  1985     69386774475     7110115\n",
              "197               Bahamas  1985      2320699900      203700\n",
              "...                   ...   ...             ...         ...\n",
              "2174         Turkmenistan  2015     35799628571     4886514\n",
              "2202              Ukraine  2015     91030959455    40345446\n",
              "2239       United Kingdom  2015   2885570309161    61082942\n",
              "2270        United States  2015  18120714000000   300078511\n",
              "2298              Uruguay  2015     53274304222     3190795\n",
              "\n",
              "[2305 rows x 4 columns]"
            ]
          },
          "metadata": {},
          "execution_count": 15
        }
      ]
    },
    {
      "cell_type": "markdown",
      "source": [
        "## 2/Choose Model"
      ],
      "metadata": {
        "id": "ZdMdHPzlImFe"
      }
    },
    {
      "cell_type": "markdown",
      "source": [
        "### Ready Algorithm"
      ],
      "metadata": {
        "id": "YkcgVrcXOQkh"
      }
    },
    {
      "cell_type": "code",
      "source": [
        "# Get Model\n",
        "from sklearn.linear_model import LinearRegression,Ridge,Lasso,ElasticNet\n",
        "from sklearn.svm import SVR\n",
        "from sklearn.neighbors import KNeighborsRegressor as KNR\n",
        "from sklearn.ensemble import RandomForestRegressor,GradientBoostingRegressor,AdaBoostRegressor\n",
        "from xgboost import XGBRegressor\n",
        "!pip install lightgbm\n",
        "from lightgbm import LGBMRegressor\n",
        "#Algorithm score table \n",
        "rmse_val = {}\n",
        "#Scoring function:\n",
        "from sklearn.model_selection import cross_val_score\n",
        "def score_model(model,X_train,y_train):\n",
        "  scores = cross_val_score(model,\n",
        "                         X_train, y_train,\n",
        "                         scoring=\"neg_mean_squared_error\",\n",
        "                         cv=time_series_split)\n",
        "  rmse_score = np.sqrt(-scores)\n",
        "  mean_score = np.mean(rmse_score)\n",
        "  return mean_score\n",
        "#Print model MSE:\n",
        "def get_score_model(rmse_val):\n",
        "  rmse_df = pd.DataFrame.from_dict(rmse_val, orient='index').reset_index()\n",
        "  rmse_df.columns = [\"Algorithm\",\"RMSE\"]\n",
        "  rmse_df = rmse_df.sort_values(\"RMSE\", ascending=False).reset_index(drop=True)\n",
        "  \n",
        "  return rmse_df"
      ],
      "metadata": {
        "colab": {
          "base_uri": "https://localhost:8080/"
        },
        "id": "vb7n4ax_Izvn",
        "outputId": "72e7480c-0d08-40b4-9256-9b41c5668f09"
      },
      "execution_count": null,
      "outputs": [
        {
          "output_type": "stream",
          "name": "stdout",
          "text": [
            "Requirement already satisfied: lightgbm in /usr/local/lib/python3.7/dist-packages (2.2.3)\n",
            "Requirement already satisfied: scikit-learn in /usr/local/lib/python3.7/dist-packages (from lightgbm) (1.0.1)\n",
            "Requirement already satisfied: scipy in /usr/local/lib/python3.7/dist-packages (from lightgbm) (1.4.1)\n",
            "Requirement already satisfied: numpy in /usr/local/lib/python3.7/dist-packages (from lightgbm) (1.19.5)\n",
            "Requirement already satisfied: threadpoolctl>=2.0.0 in /usr/local/lib/python3.7/dist-packages (from scikit-learn->lightgbm) (3.0.0)\n",
            "Requirement already satisfied: joblib>=0.11 in /usr/local/lib/python3.7/dist-packages (from scikit-learn->lightgbm) (1.1.0)\n"
          ]
        }
      ]
    },
    {
      "cell_type": "markdown",
      "source": [
        "### Scoring Algorithm to choose model"
      ],
      "metadata": {
        "id": "itaXTXYwOaKf"
      }
    },
    {
      "cell_type": "code",
      "source": [
        "X_train_pre=tfm.fit_transform(X_train)\n",
        "all_algorithm={'Ridge':Ridge(),'Lasso':Lasso(),'ElasticNet':ElasticNet(),'SVR':SVR(),'KNR':KNR(),'RandomForestRegressor':RandomForestRegressor(),'GradientBoostingRegressor':GradientBoostingRegressor(),'AdaBoostRegressor':AdaBoostRegressor(),'XGBRegressor':XGBRegressor(objective='reg:squarederror'),'LGBMRegressor':LGBMRegressor()}\n",
        "for i in all_algorithm:\n",
        "  model=all_algorithm.get(i)\n",
        "  rmse_val[i]=score_model(model,X_train_pre,y_train)\n",
        "get_score_model(rmse_val)"
      ],
      "metadata": {
        "colab": {
          "base_uri": "https://localhost:8080/"
        },
        "id": "tGSY_NgYJ7XH",
        "outputId": "a693e70b-8541-4821-81a9-568f42026c73"
      },
      "execution_count": null,
      "outputs": [
        {
          "output_type": "execute_result",
          "data": {
            "text/html": [
              "\n",
              "  <div id=\"df-1660ce31-964b-447b-b2f4-bce0f103ce47\">\n",
              "    <div class=\"colab-df-container\">\n",
              "      <div>\n",
              "<style scoped>\n",
              "    .dataframe tbody tr th:only-of-type {\n",
              "        vertical-align: middle;\n",
              "    }\n",
              "\n",
              "    .dataframe tbody tr th {\n",
              "        vertical-align: top;\n",
              "    }\n",
              "\n",
              "    .dataframe thead th {\n",
              "        text-align: right;\n",
              "    }\n",
              "</style>\n",
              "<table border=\"1\" class=\"dataframe\">\n",
              "  <thead>\n",
              "    <tr style=\"text-align: right;\">\n",
              "      <th></th>\n",
              "      <th>Algorithm</th>\n",
              "      <th>RMSE</th>\n",
              "    </tr>\n",
              "  </thead>\n",
              "  <tbody>\n",
              "    <tr>\n",
              "      <th>0</th>\n",
              "      <td>SVR</td>\n",
              "      <td>7442.72</td>\n",
              "    </tr>\n",
              "    <tr>\n",
              "      <th>1</th>\n",
              "      <td>ElasticNet</td>\n",
              "      <td>6725.98</td>\n",
              "    </tr>\n",
              "    <tr>\n",
              "      <th>2</th>\n",
              "      <td>LGBMRegressor</td>\n",
              "      <td>2514.01</td>\n",
              "    </tr>\n",
              "    <tr>\n",
              "      <th>3</th>\n",
              "      <td>AdaBoostRegressor</td>\n",
              "      <td>1960.86</td>\n",
              "    </tr>\n",
              "    <tr>\n",
              "      <th>4</th>\n",
              "      <td>Ridge</td>\n",
              "      <td>1755.26</td>\n",
              "    </tr>\n",
              "    <tr>\n",
              "      <th>5</th>\n",
              "      <td>Lasso</td>\n",
              "      <td>1499.09</td>\n",
              "    </tr>\n",
              "    <tr>\n",
              "      <th>6</th>\n",
              "      <td>KNR</td>\n",
              "      <td>1364.38</td>\n",
              "    </tr>\n",
              "    <tr>\n",
              "      <th>7</th>\n",
              "      <td>XGBRegressor</td>\n",
              "      <td>1328.46</td>\n",
              "    </tr>\n",
              "    <tr>\n",
              "      <th>8</th>\n",
              "      <td>RandomForestRegressor</td>\n",
              "      <td>1223.84</td>\n",
              "    </tr>\n",
              "    <tr>\n",
              "      <th>9</th>\n",
              "      <td>GradientBoostingRegressor</td>\n",
              "      <td>1217.80</td>\n",
              "    </tr>\n",
              "  </tbody>\n",
              "</table>\n",
              "</div>\n",
              "      <button class=\"colab-df-convert\" onclick=\"convertToInteractive('df-1660ce31-964b-447b-b2f4-bce0f103ce47')\"\n",
              "              title=\"Convert this dataframe to an interactive table.\"\n",
              "              style=\"display:none;\">\n",
              "        \n",
              "  <svg xmlns=\"http://www.w3.org/2000/svg\" height=\"24px\"viewBox=\"0 0 24 24\"\n",
              "       width=\"24px\">\n",
              "    <path d=\"M0 0h24v24H0V0z\" fill=\"none\"/>\n",
              "    <path d=\"M18.56 5.44l.94 2.06.94-2.06 2.06-.94-2.06-.94-.94-2.06-.94 2.06-2.06.94zm-11 1L8.5 8.5l.94-2.06 2.06-.94-2.06-.94L8.5 2.5l-.94 2.06-2.06.94zm10 10l.94 2.06.94-2.06 2.06-.94-2.06-.94-.94-2.06-.94 2.06-2.06.94z\"/><path d=\"M17.41 7.96l-1.37-1.37c-.4-.4-.92-.59-1.43-.59-.52 0-1.04.2-1.43.59L10.3 9.45l-7.72 7.72c-.78.78-.78 2.05 0 2.83L4 21.41c.39.39.9.59 1.41.59.51 0 1.02-.2 1.41-.59l7.78-7.78 2.81-2.81c.8-.78.8-2.07 0-2.86zM5.41 20L4 18.59l7.72-7.72 1.47 1.35L5.41 20z\"/>\n",
              "  </svg>\n",
              "      </button>\n",
              "      \n",
              "  <style>\n",
              "    .colab-df-container {\n",
              "      display:flex;\n",
              "      flex-wrap:wrap;\n",
              "      gap: 12px;\n",
              "    }\n",
              "\n",
              "    .colab-df-convert {\n",
              "      background-color: #E8F0FE;\n",
              "      border: none;\n",
              "      border-radius: 50%;\n",
              "      cursor: pointer;\n",
              "      display: none;\n",
              "      fill: #1967D2;\n",
              "      height: 32px;\n",
              "      padding: 0 0 0 0;\n",
              "      width: 32px;\n",
              "    }\n",
              "\n",
              "    .colab-df-convert:hover {\n",
              "      background-color: #E2EBFA;\n",
              "      box-shadow: 0px 1px 2px rgba(60, 64, 67, 0.3), 0px 1px 3px 1px rgba(60, 64, 67, 0.15);\n",
              "      fill: #174EA6;\n",
              "    }\n",
              "\n",
              "    [theme=dark] .colab-df-convert {\n",
              "      background-color: #3B4455;\n",
              "      fill: #D2E3FC;\n",
              "    }\n",
              "\n",
              "    [theme=dark] .colab-df-convert:hover {\n",
              "      background-color: #434B5C;\n",
              "      box-shadow: 0px 1px 3px 1px rgba(0, 0, 0, 0.15);\n",
              "      filter: drop-shadow(0px 1px 2px rgba(0, 0, 0, 0.3));\n",
              "      fill: #FFFFFF;\n",
              "    }\n",
              "  </style>\n",
              "\n",
              "      <script>\n",
              "        const buttonEl =\n",
              "          document.querySelector('#df-1660ce31-964b-447b-b2f4-bce0f103ce47 button.colab-df-convert');\n",
              "        buttonEl.style.display =\n",
              "          google.colab.kernel.accessAllowed ? 'block' : 'none';\n",
              "\n",
              "        async function convertToInteractive(key) {\n",
              "          const element = document.querySelector('#df-1660ce31-964b-447b-b2f4-bce0f103ce47');\n",
              "          const dataTable =\n",
              "            await google.colab.kernel.invokeFunction('convertToInteractive',\n",
              "                                                     [key], {});\n",
              "          if (!dataTable) return;\n",
              "\n",
              "          const docLinkHtml = 'Like what you see? Visit the ' +\n",
              "            '<a target=\"_blank\" href=https://colab.research.google.com/notebooks/data_table.ipynb>data table notebook</a>'\n",
              "            + ' to learn more about interactive tables.';\n",
              "          element.innerHTML = '';\n",
              "          dataTable['output_type'] = 'display_data';\n",
              "          await google.colab.output.renderOutput(dataTable, element);\n",
              "          const docLink = document.createElement('div');\n",
              "          docLink.innerHTML = docLinkHtml;\n",
              "          element.appendChild(docLink);\n",
              "        }\n",
              "      </script>\n",
              "    </div>\n",
              "  </div>\n",
              "  "
            ],
            "text/plain": [
              "                   Algorithm    RMSE\n",
              "0                        SVR 7442.72\n",
              "1                 ElasticNet 6725.98\n",
              "2              LGBMRegressor 2514.01\n",
              "3          AdaBoostRegressor 1960.86\n",
              "4                      Ridge 1755.26\n",
              "5                      Lasso 1499.09\n",
              "6                        KNR 1364.38\n",
              "7               XGBRegressor 1328.46\n",
              "8      RandomForestRegressor 1223.84\n",
              "9  GradientBoostingRegressor 1217.80"
            ]
          },
          "metadata": {},
          "execution_count": 46
        }
      ]
    },
    {
      "cell_type": "code",
      "source": [
        "plt.figure(figsize=(15,5))\n",
        "sns.barplot(data = get_score_model(rmse_val), x=\"Algorithm\", y = \"RMSE\", palette=\"viridis_r\")\n",
        "plt.xticks(rotation=90)\n",
        "plt.show()"
      ],
      "metadata": {
        "colab": {
          "base_uri": "https://localhost:8080/"
        },
        "id": "cKcFKE-gRzD3",
        "outputId": "c8ebe0e0-e34a-4a45-b570-e8c29d2a860e"
      },
      "execution_count": null,
      "outputs": [
        {
          "output_type": "display_data",
          "data": {
            "image/png": "[encoded data removed]",
            "text/plain": [
              "<Figure size 1080x360 with 1 Axes>"
            ]
          },
          "metadata": {
            "needs_background": "light"
          }
        }
      ]
    },
    {
      "cell_type": "code",
      "source": [
        "# Choose Top 5 Best Algorithm to tuning : RandomForestRegressor,KNR,LGBMRegressor,GradientBoostingRegressor,XGBRegressor"
      ],
      "metadata": {
        "id": "1qeSa-w4J8Hf"
      },
      "execution_count": null,
      "outputs": []
    },
    {
      "cell_type": "markdown",
      "source": [
        "Choose Top 3 Best Algorithm to tuning :\n",
        "\n",
        "1.   Lasso\n",
        "2.   KNR\n",
        "3.  XGBRegressor"
      ],
      "metadata": {
        "id": "dtr61G3yheIo"
      }
    },
    {
      "cell_type": "markdown",
      "source": [
        "##3/Build Model"
      ],
      "metadata": {
        "id": "bse46mXlqsUY"
      }
    },
    {
      "cell_type": "markdown",
      "source": [
        "### Use GradientBoostingRegressor "
      ],
      "metadata": {
        "id": "YSgQerlVIv7v"
      }
    },
    {
      "cell_type": "code",
      "source": [
        "from sklearn.ensemble import GradientBoostingRegressor\n",
        "model = GradientBoostingRegressor()\n",
        "model_raw_gbr=train_raw(model,X_train_pre,y_train)\n"
      ],
      "metadata": {
        "id": "mMLZ_J1CwAmI",
        "colab": {
          "base_uri": "https://localhost:8080/"
        },
        "outputId": "8971ec34-4e08-402e-e369-d5463691b0b7"
      },
      "execution_count": null,
      "outputs": [
        {
          "output_type": "stream",
          "name": "stdout",
          "text": [
            "The MSE is 404547.77\n"
          ]
        }
      ]
    },
    {
      "cell_type": "code",
      "source": [
        "#Tuning\n",
        "param_grid = {\n",
        "              'model__max_depth': randint(low=65, high=180),\n",
        "              'model__max_features': ['auto'],\n",
        "              'model__min_samples_leaf': randint(low=2, high=22),\n",
        "              'model__n_estimators': randint(low=150, high=290)}\n",
        "              \n",
        "gbr=train_rsc(model_raw_gbr,tfm,param_grid,10,X_train,y_train)\n"
      ],
      "metadata": {
        "id": "9yJJABerR-PU",
        "colab": {
          "base_uri": "https://localhost:8080/"
        },
        "outputId": "9bcfc092-4a5f-4204-bf5c-518c859d6843"
      },
      "execution_count": null,
      "outputs": [
        {
          "output_type": "stream",
          "name": "stdout",
          "text": [
            "dict_keys(['memory', 'steps', 'verbose', 'preprocessor', 'model', 'preprocessor__n_jobs', 'preprocessor__remainder', 'preprocessor__sparse_threshold', 'preprocessor__transformer_weights', 'preprocessor__transformers', 'preprocessor__verbose', 'preprocessor__verbose_feature_names_out', 'preprocessor__cat', 'preprocessor__num', 'preprocessor__cat__memory', 'preprocessor__cat__steps', 'preprocessor__cat__verbose', 'preprocessor__cat__encoder', 'preprocessor__cat__encoder__categories', 'preprocessor__cat__encoder__drop', 'preprocessor__cat__encoder__dtype', 'preprocessor__cat__encoder__handle_unknown', 'preprocessor__cat__encoder__sparse', 'preprocessor__num__memory', 'preprocessor__num__steps', 'preprocessor__num__verbose', 'preprocessor__num__poly', 'preprocessor__num__scaler', 'preprocessor__num__poly__degree', 'preprocessor__num__poly__include_bias', 'preprocessor__num__poly__interaction_only', 'preprocessor__num__poly__order', 'preprocessor__num__scaler__clip', 'preprocessor__num__scaler__copy', 'preprocessor__num__scaler__feature_range', 'model__alpha', 'model__ccp_alpha', 'model__criterion', 'model__init', 'model__learning_rate', 'model__loss', 'model__max_depth', 'model__max_features', 'model__max_leaf_nodes', 'model__min_impurity_decrease', 'model__min_samples_leaf', 'model__min_samples_split', 'model__min_weight_fraction_leaf', 'model__n_estimators', 'model__n_iter_no_change', 'model__random_state', 'model__subsample', 'model__tol', 'model__validation_fraction', 'model__verbose', 'model__warm_start'])\n",
            "Fitting 31 folds for each of 10 candidates, totalling 310 fits\n",
            "Rank 1\n",
            "Params: {'model__max_depth': 86, 'model__max_features': 'auto', 'model__min_samples_leaf': 3, 'model__n_estimators': 237}\n",
            "Mean score:-2359975.08751 +- 4186060.16172\n",
            "----------\n",
            "Rank 2\n",
            "Params: {'model__max_depth': 128, 'model__max_features': 'auto', 'model__min_samples_leaf': 2, 'model__n_estimators': 207}\n",
            "Mean score:-2440847.71995 +- 4447843.80563\n",
            "----------\n",
            "Rank 3\n",
            "Params: {'model__max_depth': 172, 'model__max_features': 'auto', 'model__min_samples_leaf': 7, 'model__n_estimators': 279}\n",
            "Mean score:-3122239.96117 +- 4315426.33172\n",
            "----------\n",
            "Rank 4\n",
            "Params: {'model__max_depth': 125, 'model__max_features': 'auto', 'model__min_samples_leaf': 8, 'model__n_estimators': 271}\n",
            "Mean score:-3483013.42552 +- 4646431.86623\n",
            "----------\n",
            "Rank 5\n",
            "Params: {'model__max_depth': 164, 'model__max_features': 'auto', 'model__min_samples_leaf': 9, 'model__n_estimators': 280}\n",
            "Mean score:-4070240.47363 +- 5856067.53220\n",
            "----------\n"
          ]
        }
      ]
    },
    {
      "cell_type": "code",
      "source": [
        "#Fine Tuning\n",
        "param_grid = {\n",
        "              'model__max_depth': np.arange(80,84,2),\n",
        "              'model__max_features': ['auto'],\n",
        "              'model__min_samples_leaf': np.arange(2,4),\n",
        "              'model__n_estimators': np.arange(237,241,2)}\n",
        "              \n",
        "gbr=train_gsc(model_raw_gbr,tfm,param_grid,X_train,y_train)\n"
      ],
      "metadata": {
        "colab": {
          "base_uri": "https://localhost:8080/"
        },
        "id": "poGqKDiJgYd0",
        "outputId": "4b71447f-256b-4ccf-d57e-fe340ac1f408"
      },
      "execution_count": null,
      "outputs": [
        {
          "output_type": "stream",
          "name": "stdout",
          "text": [
            "dict_keys(['memory', 'steps', 'verbose', 'preprocessor', 'model', 'preprocessor__n_jobs', 'preprocessor__remainder', 'preprocessor__sparse_threshold', 'preprocessor__transformer_weights', 'preprocessor__transformers', 'preprocessor__verbose', 'preprocessor__verbose_feature_names_out', 'preprocessor__cat', 'preprocessor__num', 'preprocessor__cat__memory', 'preprocessor__cat__steps', 'preprocessor__cat__verbose', 'preprocessor__cat__encoder', 'preprocessor__cat__encoder__categories', 'preprocessor__cat__encoder__drop', 'preprocessor__cat__encoder__dtype', 'preprocessor__cat__encoder__handle_unknown', 'preprocessor__cat__encoder__sparse', 'preprocessor__num__memory', 'preprocessor__num__steps', 'preprocessor__num__verbose', 'preprocessor__num__poly', 'preprocessor__num__scaler', 'preprocessor__num__poly__degree', 'preprocessor__num__poly__include_bias', 'preprocessor__num__poly__interaction_only', 'preprocessor__num__poly__order', 'preprocessor__num__scaler__clip', 'preprocessor__num__scaler__copy', 'preprocessor__num__scaler__feature_range', 'model__alpha', 'model__ccp_alpha', 'model__criterion', 'model__init', 'model__learning_rate', 'model__loss', 'model__max_depth', 'model__max_features', 'model__max_leaf_nodes', 'model__min_impurity_decrease', 'model__min_samples_leaf', 'model__min_samples_split', 'model__min_weight_fraction_leaf', 'model__n_estimators', 'model__n_iter_no_change', 'model__random_state', 'model__subsample', 'model__tol', 'model__validation_fraction', 'model__verbose', 'model__warm_start'])\n",
            "Fitting 31 folds for each of 8 candidates, totalling 248 fits\n",
            "Rank 1\n",
            "Params: {'model__max_depth': 82, 'model__max_features': 'auto', 'model__min_samples_leaf': 3, 'model__n_estimators': 237}\n",
            "Mean score:-2348378.75426 +- 4196119.83432\n",
            "----------\n",
            "Rank 2\n",
            "Params: {'model__max_depth': 80, 'model__max_features': 'auto', 'model__min_samples_leaf': 3, 'model__n_estimators': 237}\n",
            "Mean score:-2381277.98123 +- 4341176.04681\n",
            "----------\n",
            "Rank 3\n",
            "Params: {'model__max_depth': 80, 'model__max_features': 'auto', 'model__min_samples_leaf': 3, 'model__n_estimators': 239}\n",
            "Mean score:-2386565.11085 +- 4342107.17701\n",
            "----------\n",
            "Rank 4\n",
            "Params: {'model__max_depth': 82, 'model__max_features': 'auto', 'model__min_samples_leaf': 3, 'model__n_estimators': 239}\n",
            "Mean score:-2400680.00911 +- 4373249.72025\n",
            "----------\n",
            "Rank 5\n",
            "Params: {'model__max_depth': 80, 'model__max_features': 'auto', 'model__min_samples_leaf': 2, 'model__n_estimators': 237}\n",
            "Mean score:-2429382.75479 +- 4380840.76460\n",
            "----------\n"
          ]
        }
      ]
    },
    {
      "cell_type": "code",
      "source": [
        "#Get back the best_estimator\n",
        "best_estimator=get_best_estimator(gbr,X_train,y_train,X_div,y_div)"
      ],
      "metadata": {
        "id": "MJuJIZoHiR4l",
        "colab": {
          "base_uri": "https://localhost:8080/"
        },
        "outputId": "b3343699-c328-4fe3-96c7-dbbd026f59b0"
      },
      "execution_count": null,
      "outputs": [
        {
          "output_type": "stream",
          "name": "stdout",
          "text": [
            "Model MSE on training data= 213.4806\n",
            "Model MSE on div data= 26252.6989\n"
          ]
        }
      ]
    },
    {
      "cell_type": "code",
      "source": [
        "# save the model to disk\n",
        "filename='./drive/MyDrive/Final_project_Data/MODEL_SAVE/GradientBoostingRegressor.sav'\n",
        "save_model(best_estimator,filename)"
      ],
      "metadata": {
        "id": "q51RhBMehxIL"
      },
      "execution_count": null,
      "outputs": []
    },
    {
      "cell_type": "code",
      "source": [
        "# load the model from disk\n",
        "import pickle\n",
        "filename='./drive/MyDrive/Final_project_Data/MODEL_SAVE/GradientBoostingRegressor.sav'\n",
        "RSC_ab_load=load_model(filename,X_div, y_div)"
      ],
      "metadata": {
        "id": "602fHyKZiqgt",
        "colab": {
          "base_uri": "https://localhost:8080/"
        },
        "outputId": "8b0af7d3-9227-4e2c-fbb1-56402e798778"
      },
      "execution_count": null,
      "outputs": [
        {
          "output_type": "stream",
          "name": "stdout",
          "text": [
            "Model MSE on div data= 26252.6989\n"
          ]
        }
      ]
    },
    {
      "cell_type": "markdown",
      "source": [
        "### Use RandomForestRegressor"
      ],
      "metadata": {
        "id": "IiuHgbN-GRCE"
      }
    },
    {
      "cell_type": "code",
      "source": [
        "#Model\n",
        "from sklearn.ensemble import RandomForestRegressor\n",
        "model = RandomForestRegressor()\n",
        "model_raw_rfr=train_raw(model,X_train_pre,y_train)"
      ],
      "metadata": {
        "colab": {
          "base_uri": "https://localhost:8080/"
        },
        "id": "E229XHjokPhB",
        "outputId": "564b8585-12e9-4023-c48e-530f4fa3ba2a"
      },
      "execution_count": null,
      "outputs": [
        {
          "output_type": "stream",
          "name": "stdout",
          "text": [
            "The MSE is 79482.60\n"
          ]
        }
      ]
    },
    {
      "cell_type": "code",
      "source": [
        "#Tuning\n",
        "param_grid = {'preprocessor__num__poly__degree':np.arange(1,20,3),\n",
        "              'model__max_depth': randint(low=170, high=190),\n",
        "              'model__max_features': randint(low=20, high=40),\n",
        "              'model__min_samples_leaf': randint(low=1, high=5),              \n",
        "              'model__bootstrap': [False],\n",
        "              'model__n_estimators': randint(low=70, high=90)}\n",
        "rfr=train_rsc(model_raw_rfr,tfm,param_grid,20,X_train,y_train)"
      ],
      "metadata": {
        "colab": {
          "base_uri": "https://localhost:8080/"
        },
        "id": "R0UOKU-NRfAl",
        "outputId": "9e258ee2-b46c-4e69-917e-d9d86c1b24cb"
      },
      "execution_count": null,
      "outputs": [
        {
          "output_type": "stream",
          "name": "stdout",
          "text": [
            "dict_keys(['memory', 'steps', 'verbose', 'preprocessor', 'model', 'preprocessor__n_jobs', 'preprocessor__remainder', 'preprocessor__sparse_threshold', 'preprocessor__transformer_weights', 'preprocessor__transformers', 'preprocessor__verbose', 'preprocessor__verbose_feature_names_out', 'preprocessor__cat', 'preprocessor__num', 'preprocessor__cat__memory', 'preprocessor__cat__steps', 'preprocessor__cat__verbose', 'preprocessor__cat__encoder', 'preprocessor__cat__encoder__categories', 'preprocessor__cat__encoder__drop', 'preprocessor__cat__encoder__dtype', 'preprocessor__cat__encoder__handle_unknown', 'preprocessor__cat__encoder__sparse', 'preprocessor__num__memory', 'preprocessor__num__steps', 'preprocessor__num__verbose', 'preprocessor__num__poly', 'preprocessor__num__scaler', 'preprocessor__num__poly__degree', 'preprocessor__num__poly__include_bias', 'preprocessor__num__poly__interaction_only', 'preprocessor__num__poly__order', 'preprocessor__num__scaler__clip', 'preprocessor__num__scaler__copy', 'preprocessor__num__scaler__feature_range', 'model__bootstrap', 'model__ccp_alpha', 'model__criterion', 'model__max_depth', 'model__max_features', 'model__max_leaf_nodes', 'model__max_samples', 'model__min_impurity_decrease', 'model__min_samples_leaf', 'model__min_samples_split', 'model__min_weight_fraction_leaf', 'model__n_estimators', 'model__n_jobs', 'model__oob_score', 'model__random_state', 'model__verbose', 'model__warm_start'])\n",
            "Fitting 31 folds for each of 20 candidates, totalling 620 fits\n",
            "Rank 1\n",
            "Params: {'model__bootstrap': False, 'model__max_depth': 170, 'model__max_features': 31, 'model__min_samples_leaf': 2, 'model__n_estimators': 81, 'preprocessor__num__poly__degree': 1}\n",
            "Mean score:-2296326.88540 +- 3541387.83729\n",
            "----------\n",
            "Rank 2\n",
            "Params: {'model__bootstrap': False, 'model__max_depth': 178, 'model__max_features': 26, 'model__min_samples_leaf': 2, 'model__n_estimators': 73, 'preprocessor__num__poly__degree': 1}\n",
            "Mean score:-2498388.00972 +- 3869738.39391\n",
            "----------\n",
            "Rank 3\n",
            "Params: {'model__bootstrap': False, 'model__max_depth': 184, 'model__max_features': 38, 'model__min_samples_leaf': 4, 'model__n_estimators': 89, 'preprocessor__num__poly__degree': 1}\n",
            "Mean score:-3536465.73658 +- 4771489.29971\n",
            "----------\n",
            "Rank 4\n",
            "Params: {'model__bootstrap': False, 'model__max_depth': 179, 'model__max_features': 23, 'model__min_samples_leaf': 2, 'model__n_estimators': 87, 'preprocessor__num__poly__degree': 4}\n",
            "Mean score:-5914128.16114 +- 9386554.02104\n",
            "----------\n",
            "Rank 5\n",
            "Params: {'model__bootstrap': False, 'model__max_depth': 171, 'model__max_features': 31, 'model__min_samples_leaf': 2, 'model__n_estimators': 75, 'preprocessor__num__poly__degree': 4}\n",
            "Mean score:-6063250.33265 +- 9515123.95944\n",
            "----------\n"
          ]
        }
      ]
    },
    {
      "cell_type": "code",
      "source": [
        "#Fine Tuning\n",
        "param_grid = {'preprocessor__num__poly__degree':np.arange(1,4),\n",
        "              'model__max_depth':np.arange(183,189,2),\n",
        "              'model__max_features': np.arange(27,35,2),\n",
        "              'model__min_samples_leaf': np.arange(1,5,2),              \n",
        "              'model__bootstrap': [False],\n",
        "              'model__n_estimators': np.arange(73,85,2)}\n",
        "rfr=train_gsc(model_raw_rfr,tfm,param_grid,X_train,y_train)\n"
      ],
      "metadata": {
        "colab": {
          "base_uri": "https://localhost:8080/"
        },
        "id": "Gm-LtWoH87kf",
        "outputId": "631cceaf-ec6f-4377-dbc1-dd6f98a826c7"
      },
      "execution_count": null,
      "outputs": [
        {
          "output_type": "stream",
          "name": "stdout",
          "text": [
            "dict_keys(['memory', 'steps', 'verbose', 'preprocessor', 'model', 'preprocessor__n_jobs', 'preprocessor__remainder', 'preprocessor__sparse_threshold', 'preprocessor__transformer_weights', 'preprocessor__transformers', 'preprocessor__verbose', 'preprocessor__verbose_feature_names_out', 'preprocessor__cat', 'preprocessor__num', 'preprocessor__cat__memory', 'preprocessor__cat__steps', 'preprocessor__cat__verbose', 'preprocessor__cat__encoder', 'preprocessor__cat__encoder__categories', 'preprocessor__cat__encoder__drop', 'preprocessor__cat__encoder__dtype', 'preprocessor__cat__encoder__handle_unknown', 'preprocessor__cat__encoder__sparse', 'preprocessor__num__memory', 'preprocessor__num__steps', 'preprocessor__num__verbose', 'preprocessor__num__poly', 'preprocessor__num__scaler', 'preprocessor__num__poly__degree', 'preprocessor__num__poly__include_bias', 'preprocessor__num__poly__interaction_only', 'preprocessor__num__poly__order', 'preprocessor__num__scaler__clip', 'preprocessor__num__scaler__copy', 'preprocessor__num__scaler__feature_range', 'model__bootstrap', 'model__ccp_alpha', 'model__criterion', 'model__max_depth', 'model__max_features', 'model__max_leaf_nodes', 'model__max_samples', 'model__min_impurity_decrease', 'model__min_samples_leaf', 'model__min_samples_split', 'model__min_weight_fraction_leaf', 'model__n_estimators', 'model__n_jobs', 'model__oob_score', 'model__random_state', 'model__verbose', 'model__warm_start'])\n",
            "Fitting 31 folds for each of 432 candidates, totalling 13392 fits\n",
            "Rank 1\n",
            "Params: {'model__bootstrap': False, 'model__max_depth': 183, 'model__max_features': 29, 'model__min_samples_leaf': 1, 'model__n_estimators': 75, 'preprocessor__num__poly__degree': 1}\n",
            "Mean score:-1872492.84322 +- 3157684.29077\n",
            "----------\n",
            "Rank 2\n",
            "Params: {'model__bootstrap': False, 'model__max_depth': 187, 'model__max_features': 33, 'model__min_samples_leaf': 1, 'model__n_estimators': 83, 'preprocessor__num__poly__degree': 1}\n",
            "Mean score:-1891410.18695 +- 3281788.11908\n",
            "----------\n",
            "Rank 3\n",
            "Params: {'model__bootstrap': False, 'model__max_depth': 183, 'model__max_features': 29, 'model__min_samples_leaf': 1, 'model__n_estimators': 79, 'preprocessor__num__poly__degree': 1}\n",
            "Mean score:-1909356.76007 +- 3212156.66880\n",
            "----------\n",
            "Rank 4\n",
            "Params: {'model__bootstrap': False, 'model__max_depth': 187, 'model__max_features': 29, 'model__min_samples_leaf': 1, 'model__n_estimators': 75, 'preprocessor__num__poly__degree': 1}\n",
            "Mean score:-1921185.34629 +- 3191518.40120\n",
            "----------\n",
            "Rank 5\n",
            "Params: {'model__bootstrap': False, 'model__max_depth': 187, 'model__max_features': 27, 'model__min_samples_leaf': 1, 'model__n_estimators': 81, 'preprocessor__num__poly__degree': 1}\n",
            "Mean score:-1948300.22823 +- 3214889.04470\n",
            "----------\n"
          ]
        }
      ]
    },
    {
      "cell_type": "code",
      "source": [
        "#Get back the best_estimator\n",
        "best_estimator=get_best_estimator(rfr,X_train,y_train,X_div,y_div)\n"
      ],
      "metadata": {
        "colab": {
          "base_uri": "https://localhost:8080/"
        },
        "id": "GX7czlC0lX3t",
        "outputId": "d7de26a4-2091-4668-c7e0-55778c077830"
      },
      "execution_count": null,
      "outputs": [
        {
          "output_type": "stream",
          "name": "stdout",
          "text": [
            "Model MSE on training data= 0.0001\n",
            "Model MSE on div data= 22507.5110\n"
          ]
        }
      ]
    },
    {
      "cell_type": "code",
      "source": [
        "# save the model to disk\n",
        "filename='./drive/MyDrive/Final_project_Data/MODEL_SAVE/RandomForestRegressor.sav'\n",
        "save_model(best_estimator,filename)"
      ],
      "metadata": {
        "id": "-Op9WseHvB95"
      },
      "execution_count": null,
      "outputs": []
    },
    {
      "cell_type": "code",
      "source": [
        "# load the model from disk\n",
        "filename='./drive/MyDrive/Final_project_Data/MODEL_SAVE/RandomForestRegressor.sav'\n",
        "rfr_load=load_model(filename,X_div, y_div)"
      ],
      "metadata": {
        "colab": {
          "base_uri": "https://localhost:8080/"
        },
        "id": "14Ru5TbKvBxZ",
        "outputId": "c6439302-b3d6-4874-c35b-fea4c6d0a428"
      },
      "execution_count": null,
      "outputs": [
        {
          "output_type": "stream",
          "name": "stdout",
          "text": [
            "Model MSE on div data= 21923.1566\n"
          ]
        }
      ]
    },
    {
      "cell_type": "markdown",
      "source": [
        "### Use XGBRegressor model"
      ],
      "metadata": {
        "id": "w3UDjuf_qsUZ"
      }
    },
    {
      "cell_type": "code",
      "source": [
        "from xgboost import XGBRegressor\n",
        "model = XGBRegressor(objective='reg:squarederror')\n",
        "model_raw_xgbr=train_raw(model,X_train_pre,y_train)"
      ],
      "metadata": {
        "colab": {
          "base_uri": "https://localhost:8080/"
        },
        "outputId": "0ff789ec-9aa4-475f-f8ff-9a2181c02431",
        "id": "APHWy61mqsUZ"
      },
      "execution_count": null,
      "outputs": [
        {
          "output_type": "stream",
          "name": "stdout",
          "text": [
            "The MSE is 453438.77\n"
          ]
        }
      ]
    },
    {
      "cell_type": "code",
      "source": [
        "#Tuning\n",
        "param_grid = {'model__estimator__learning_rate': [0.01,0.001,0.1],\n",
        "              'model__estimator__max_depth': randint(low=200, high=300),\n",
        "              'model__estimator__n_estimators': randint(low=100, high=300)}\n",
        "              \n",
        "xgbr=train_rsc(model_raw_xgbr,tfm,param_grid,20,X_train,y_train)\n"
      ],
      "metadata": {
        "colab": {
          "base_uri": "https://localhost:8080/"
        },
        "outputId": "238f4f3b-e321-41dd-c64c-2a16398a9d7a",
        "id": "nd3C45gnqsUa"
      },
      "execution_count": null,
      "outputs": [
        {
          "output_type": "stream",
          "name": "stdout",
          "text": [
            "dict_keys(['memory', 'steps', 'verbose', 'preprocessor', 'model', 'preprocessor__n_jobs', 'preprocessor__remainder', 'preprocessor__sparse_threshold', 'preprocessor__transformer_weights', 'preprocessor__transformers', 'preprocessor__verbose', 'preprocessor__verbose_feature_names_out', 'preprocessor__cat', 'preprocessor__num', 'preprocessor__cat__memory', 'preprocessor__cat__steps', 'preprocessor__cat__verbose', 'preprocessor__cat__encoder', 'preprocessor__cat__encoder__categories', 'preprocessor__cat__encoder__drop', 'preprocessor__cat__encoder__dtype', 'preprocessor__cat__encoder__handle_unknown', 'preprocessor__cat__encoder__sparse', 'preprocessor__num__memory', 'preprocessor__num__steps', 'preprocessor__num__verbose', 'preprocessor__num__poly', 'preprocessor__num__scaler', 'preprocessor__num__poly__degree', 'preprocessor__num__poly__include_bias', 'preprocessor__num__poly__interaction_only', 'preprocessor__num__poly__order', 'preprocessor__num__scaler__clip', 'preprocessor__num__scaler__copy', 'preprocessor__num__scaler__feature_range', 'model__base_score', 'model__booster', 'model__colsample_bylevel', 'model__colsample_bynode', 'model__colsample_bytree', 'model__gamma', 'model__importance_type', 'model__learning_rate', 'model__max_delta_step', 'model__max_depth', 'model__min_child_weight', 'model__missing', 'model__n_estimators', 'model__n_jobs', 'model__nthread', 'model__objective', 'model__random_state', 'model__reg_alpha', 'model__reg_lambda', 'model__scale_pos_weight', 'model__seed', 'model__silent', 'model__subsample', 'model__verbosity'])\n",
            "Fitting 31 folds for each of 20 candidates, totalling 620 fits\n",
            "Rank 1\n",
            "Params: {'model__estimator__learning_rate': 0.1, 'model__estimator__max_depth': 251, 'model__estimator__n_estimators': 192}\n",
            "Mean score:-2626130.66083 +- 4466678.76311\n",
            "----------\n",
            "Rank 1\n",
            "Params: {'model__estimator__learning_rate': 0.01, 'model__estimator__max_depth': 201, 'model__estimator__n_estimators': 183}\n",
            "Mean score:-2626130.66083 +- 4466678.76311\n",
            "----------\n",
            "Rank 1\n",
            "Params: {'model__estimator__learning_rate': 0.001, 'model__estimator__max_depth': 208, 'model__estimator__n_estimators': 189}\n",
            "Mean score:-2626130.66083 +- 4466678.76311\n",
            "----------\n",
            "Rank 1\n",
            "Params: {'model__estimator__learning_rate': 0.001, 'model__estimator__max_depth': 203, 'model__estimator__n_estimators': 188}\n",
            "Mean score:-2626130.66083 +- 4466678.76311\n",
            "----------\n",
            "Rank 1\n",
            "Params: {'model__estimator__learning_rate': 0.01, 'model__estimator__max_depth': 272, 'model__estimator__n_estimators': 266}\n",
            "Mean score:-2626130.66083 +- 4466678.76311\n",
            "----------\n"
          ]
        }
      ]
    },
    {
      "cell_type": "code",
      "source": [
        "#Fine tune\n",
        "param_grid = { 'model__estimator__learning_rate': [0.01,0.1],\n",
        "              'model__estimator__max_depth': np.arange(253,261,2),\n",
        "              'model__estimator__n_estimators': np.arange(190,210)}\n",
        "xgbr=train_gsc(model_raw_xgbr,tfm,param_grid,X_train,y_train)       \n",
        "    "
      ],
      "metadata": {
        "colab": {
          "base_uri": "https://localhost:8080/"
        },
        "outputId": "15cfa702-9f4e-4fe9-aad4-a1c53ef1d136",
        "id": "s9RdRpU9qsUa"
      },
      "execution_count": null,
      "outputs": [
        {
          "output_type": "stream",
          "name": "stdout",
          "text": [
            "dict_keys(['memory', 'steps', 'verbose', 'preprocessor', 'model', 'preprocessor__n_jobs', 'preprocessor__remainder', 'preprocessor__sparse_threshold', 'preprocessor__transformer_weights', 'preprocessor__transformers', 'preprocessor__verbose', 'preprocessor__verbose_feature_names_out', 'preprocessor__cat', 'preprocessor__num', 'preprocessor__cat__memory', 'preprocessor__cat__steps', 'preprocessor__cat__verbose', 'preprocessor__cat__encoder', 'preprocessor__cat__encoder__categories', 'preprocessor__cat__encoder__drop', 'preprocessor__cat__encoder__dtype', 'preprocessor__cat__encoder__handle_unknown', 'preprocessor__cat__encoder__sparse', 'preprocessor__num__memory', 'preprocessor__num__steps', 'preprocessor__num__verbose', 'preprocessor__num__poly', 'preprocessor__num__scaler', 'preprocessor__num__poly__degree', 'preprocessor__num__poly__include_bias', 'preprocessor__num__poly__interaction_only', 'preprocessor__num__poly__order', 'preprocessor__num__scaler__clip', 'preprocessor__num__scaler__copy', 'preprocessor__num__scaler__feature_range', 'model__base_score', 'model__booster', 'model__colsample_bylevel', 'model__colsample_bynode', 'model__colsample_bytree', 'model__gamma', 'model__importance_type', 'model__learning_rate', 'model__max_delta_step', 'model__max_depth', 'model__min_child_weight', 'model__missing', 'model__n_estimators', 'model__n_jobs', 'model__nthread', 'model__objective', 'model__random_state', 'model__reg_alpha', 'model__reg_lambda', 'model__scale_pos_weight', 'model__seed', 'model__silent', 'model__subsample', 'model__verbosity'])\n",
            "Fitting 31 folds for each of 160 candidates, totalling 4960 fits\n",
            "Rank 1\n",
            "Params: {'model__estimator__learning_rate': 0.01, 'model__estimator__max_depth': 253, 'model__estimator__n_estimators': 190}\n",
            "Mean score:-2626130.66083 +- 4466678.76311\n",
            "----------\n",
            "Rank 1\n",
            "Params: {'model__estimator__learning_rate': 0.1, 'model__estimator__max_depth': 255, 'model__estimator__n_estimators': 192}\n",
            "Mean score:-2626130.66083 +- 4466678.76311\n",
            "----------\n",
            "Rank 1\n",
            "Params: {'model__estimator__learning_rate': 0.1, 'model__estimator__max_depth': 255, 'model__estimator__n_estimators': 193}\n",
            "Mean score:-2626130.66083 +- 4466678.76311\n",
            "----------\n",
            "Rank 1\n",
            "Params: {'model__estimator__learning_rate': 0.1, 'model__estimator__max_depth': 255, 'model__estimator__n_estimators': 194}\n",
            "Mean score:-2626130.66083 +- 4466678.76311\n",
            "----------\n",
            "Rank 1\n",
            "Params: {'model__estimator__learning_rate': 0.1, 'model__estimator__max_depth': 255, 'model__estimator__n_estimators': 195}\n",
            "Mean score:-2626130.66083 +- 4466678.76311\n",
            "----------\n"
          ]
        }
      ]
    },
    {
      "cell_type": "code",
      "source": [
        "best_estimator=get_best_estimator(xgbr,X_train,y_train,X_div,y_div)"
      ],
      "metadata": {
        "colab": {
          "base_uri": "https://localhost:8080/"
        },
        "outputId": "9ec844d7-30e3-4fdf-c37d-5128c2808877",
        "id": "AECKeq7YqsUa"
      },
      "execution_count": null,
      "outputs": [
        {
          "output_type": "stream",
          "name": "stdout",
          "text": [
            "Model MSE on training data= 453438.7735\n",
            "Model MSE on div data= 42652.1902\n"
          ]
        }
      ]
    },
    {
      "cell_type": "code",
      "source": [
        "# save the model to disk\n",
        "\n",
        "filename='./drive/MyDrive/Final_project_Data/MODEL_SAVE/XGBRegressor.sav'\n",
        "save_model(best_estimator,filename)"
      ],
      "metadata": {
        "id": "j26LS5Z4qsUa"
      },
      "execution_count": null,
      "outputs": []
    },
    {
      "cell_type": "code",
      "source": [
        "# load the model from disk\n",
        "import pickle\n",
        "filename='./drive/MyDrive/Final_project_Data/MODEL_SAVE/XGBRegressor.sav'\n",
        "knn_load=load_model(filename,X_div, y_div)"
      ],
      "metadata": {
        "colab": {
          "base_uri": "https://localhost:8080/"
        },
        "outputId": "0b5e4002-91ab-4d2e-a443-ff08dde7cdac",
        "id": "qAfChKdyqsUa"
      },
      "execution_count": null,
      "outputs": [
        {
          "output_type": "stream",
          "name": "stdout",
          "text": [
            "Model MSE on div data= 42652.1902\n"
          ]
        }
      ]
    },
    {
      "cell_type": "markdown",
      "source": [
        "### Choose best model after tuning"
      ],
      "metadata": {
        "id": "n9PMUTcxqsUe"
      }
    },
    {
      "cell_type": "code",
      "source": [
        "# Get Model\n",
        "from sklearn.ensemble import GradientBoostingRegressor,RandomForestRegressor\n",
        "from xgboost import XGBRegressor"
      ],
      "metadata": {
        "id": "A8ZxitKFqsUe"
      },
      "execution_count": null,
      "outputs": []
    },
    {
      "cell_type": "code",
      "source": [
        "#Algorithm score table \n",
        "rmse = {}\n",
        "#Scoring function:\n",
        "from sklearn.model_selection import cross_val_score\n",
        "def score_model(name,model,X_train_pre,X_train,y_train):\n",
        "  scores = cross_val_score(model,\n",
        "                         X_train_pre, y_train,\n",
        "                         scoring=\"neg_mean_squared_error\",\n",
        "                         cv=time_series_split)\n",
        "  rmse_score = np.sqrt(-scores)\n",
        "  mean_score = np.mean(rmse_score)\n",
        "\n",
        "  filename='./drive/MyDrive/Final_project_Data/MODEL_SAVE/'+name+'.sav'\n",
        "  model_tuning= pickle.load(open(filename, 'rb'))\n",
        "  tuning_scores = cross_val_score(model_tuning,\n",
        "                         X_train, y_train,\n",
        "                         scoring=\"neg_mean_squared_error\",\n",
        "                         cv=time_series_split)\n",
        "  tuning_rmse_score = np.sqrt(-tuning_scores)\n",
        "  tuning_mean_score = np.mean(tuning_rmse_score)\n",
        "  \n",
        "  return mean_score,tuning_mean_score\n",
        "#Print model MSE:\n",
        "def get_score_model(rmse_val):\n",
        "  rmse_df = pd.DataFrame.from_dict(rmse_val, orient='index').reset_index()\n",
        "  rmse_df.columns = [\"Algorithm\",\"RMSE\",\"RMSE_tuning\"]\n",
        "  rmse_df = rmse_df.sort_values(\"RMSE\", ascending=False).reset_index(drop=True)\n",
        "  \n",
        "  return rmse_df"
      ],
      "metadata": {
        "id": "UAS_-Vr0qsUe"
      },
      "execution_count": null,
      "outputs": []
    },
    {
      "cell_type": "code",
      "source": [
        "X_train_pre=tfm.fit_transform(X_train)\n",
        "tuning_model={'GradientBoostingRegressor':GradientBoostingRegressor(),'RandomForestRegressor':RandomForestRegressor(),'XGBRegressor':XGBRegressor(objective='reg:squarederror')}\n",
        "for i in tuning_model:\n",
        "  model=all_algorithm.get(i)\n",
        "  rmse[i]=score_model(i,model,X_train_pre,X_train,y_train)\n",
        "get_score_model(rmse).plot(x=\"Algorithm\",\n",
        "                y=[\"RMSE\",\"RMSE_tuning\"],\n",
        "                kind=\"bar\",\n",
        "                figsize=(10,6))"
      ],
      "metadata": {
        "colab": {
          "base_uri": "https://localhost:8080/",
          "height": 533
        },
        "outputId": "e0ab7f97-8b4e-499b-9704-46079b2ba241",
        "id": "hM95dNoKqsUe"
      },
      "execution_count": null,
      "outputs": [
        {
          "output_type": "execute_result",
          "data": {
            "text/plain": [
              "<matplotlib.axes._subplots.AxesSubplot at 0x7f0c9cd10d90>"
            ]
          },
          "metadata": {},
          "execution_count": 127
        },
        {
          "output_type": "display_data",
          "data": {
            "image/png": "[encoded data removed]",
            "text/plain": [
              "<Figure size 720x432 with 1 Axes>"
            ]
          },
          "metadata": {
            "needs_background": "light"
          }
        }
      ]
    }
  ]
}