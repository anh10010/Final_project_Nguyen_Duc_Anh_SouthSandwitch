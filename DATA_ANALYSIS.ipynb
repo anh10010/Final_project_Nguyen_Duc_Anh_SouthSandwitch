{
  "cells": [
    {
      "cell_type": "markdown",
      "metadata": {
        "id": "HRUddkZJFLn0"
      },
      "source": [
        "# I/GET DATA"
      ]
    },
    {
      "cell_type": "code",
      "execution_count": 2,
      "metadata": {
        "colab": {
          "base_uri": "https://localhost:8080/"
        },
        "id": "hHpussB1RdOJ",
        "outputId": "8ad5aa7b-65f6-4e7c-e8a6-a153c270a13f"
      },
      "outputs": [
        {
          "name": "stdout",
          "output_type": "stream",
          "text": [
            "Requirement already satisfied: seaborn in c:\\users\\admin\\miniconda3\\lib\\site-packages (0.11.2)\n",
            "Requirement already satisfied: numpy>=1.15 in c:\\users\\admin\\miniconda3\\lib\\site-packages (from seaborn) (1.21.2)\n",
            "Requirement already satisfied: scipy>=1.0 in c:\\users\\admin\\miniconda3\\lib\\site-packages (from seaborn) (1.7.3)\n",
            "Requirement already satisfied: pandas>=0.23 in c:\\users\\admin\\miniconda3\\lib\\site-packages (from seaborn) (1.3.5)\n",
            "Requirement already satisfied: matplotlib>=2.2 in c:\\users\\admin\\miniconda3\\lib\\site-packages (from seaborn) (3.5.1)\n",
            "Requirement already satisfied: python-dateutil>=2.7 in c:\\users\\admin\\miniconda3\\lib\\site-packages (from matplotlib>=2.2->seaborn) (2.8.2)\n",
            "Requirement already satisfied: kiwisolver>=1.0.1 in c:\\users\\admin\\miniconda3\\lib\\site-packages (from matplotlib>=2.2->seaborn) (1.3.2)\n",
            "Requirement already satisfied: cycler>=0.10 in c:\\users\\admin\\miniconda3\\lib\\site-packages (from matplotlib>=2.2->seaborn) (0.11.0)\n",
            "Requirement already satisfied: packaging>=20.0 in c:\\users\\admin\\miniconda3\\lib\\site-packages (from matplotlib>=2.2->seaborn) (21.3)\n",
            "Requirement already satisfied: pillow>=6.2.0 in c:\\users\\admin\\miniconda3\\lib\\site-packages (from matplotlib>=2.2->seaborn) (8.4.0)\n",
            "Requirement already satisfied: pyparsing>=2.2.1 in c:\\users\\admin\\miniconda3\\lib\\site-packages (from matplotlib>=2.2->seaborn) (3.0.6)\n",
            "Requirement already satisfied: fonttools>=4.22.0 in c:\\users\\admin\\miniconda3\\lib\\site-packages (from matplotlib>=2.2->seaborn) (4.28.5)\n",
            "Requirement already satisfied: pytz>=2017.3 in c:\\users\\admin\\miniconda3\\lib\\site-packages (from pandas>=0.23->seaborn) (2021.3)\n",
            "Requirement already satisfied: six>=1.5 in c:\\users\\admin\\miniconda3\\lib\\site-packages (from python-dateutil>=2.7->matplotlib>=2.2->seaborn) (1.16.0)\n",
            "Note: you may need to restart the kernel to use updated packages.\n"
          ]
        }
      ],
      "source": [
        "%pip install seaborn\n",
        "import numpy as np\n",
        "import re\n",
        "import pandas as pd\n",
        "import seaborn as sns\n",
        "import matplotlib.pyplot as plt\n",
        "\n",
        "\n"
      ]
    },
    {
      "cell_type": "code",
      "execution_count": 3,
      "metadata": {
        "id": "350BX5ArF-EF"
      },
      "outputs": [],
      "source": [
        "#IMPORT TABLE\n",
        "df1=pd.read_csv('DATASET\\master.csv')\n",
        "df2=pd.read_csv('DATASET/suicide_dataset.csv')\n",
        "df4=pd.read_csv('DATASET/Facilities.csv')\n",
        "df5=pd.read_csv('DATASET/Human Resources.csv')"
      ]
    },
    {
      "cell_type": "code",
      "execution_count": 4,
      "metadata": {
        "colab": {
          "base_uri": "https://localhost:8080/",
          "height": 0
        },
        "id": "ez70C7ZxG5HX",
        "outputId": "a76de851-ba91-4730-bc6e-92b6576467cc"
      },
      "outputs": [
        {
          "data": {
            "text/html": [
              "<div>\n",
              "<style scoped>\n",
              "    .dataframe tbody tr th:only-of-type {\n",
              "        vertical-align: middle;\n",
              "    }\n",
              "\n",
              "    .dataframe tbody tr th {\n",
              "        vertical-align: top;\n",
              "    }\n",
              "\n",
              "    .dataframe thead th {\n",
              "        text-align: right;\n",
              "    }\n",
              "</style>\n",
              "<table border=\"1\" class=\"dataframe\">\n",
              "  <thead>\n",
              "    <tr style=\"text-align: right;\">\n",
              "      <th></th>\n",
              "      <th>country</th>\n",
              "      <th>year</th>\n",
              "      <th>sex</th>\n",
              "      <th>age</th>\n",
              "      <th>suicides_no</th>\n",
              "      <th>population</th>\n",
              "      <th>suicides/100k pop</th>\n",
              "      <th>country-year</th>\n",
              "      <th>HDI for year</th>\n",
              "      <th>gdp_for_year ($)</th>\n",
              "      <th>gdp_per_capita ($)</th>\n",
              "      <th>generation</th>\n",
              "    </tr>\n",
              "  </thead>\n",
              "  <tbody>\n",
              "    <tr>\n",
              "      <th>0</th>\n",
              "      <td>Albania</td>\n",
              "      <td>1987</td>\n",
              "      <td>male</td>\n",
              "      <td>15-24 years</td>\n",
              "      <td>21</td>\n",
              "      <td>312900</td>\n",
              "      <td>6.71</td>\n",
              "      <td>Albania1987</td>\n",
              "      <td>NaN</td>\n",
              "      <td>2,156,624,900</td>\n",
              "      <td>796</td>\n",
              "      <td>Generation X</td>\n",
              "    </tr>\n",
              "    <tr>\n",
              "      <th>1</th>\n",
              "      <td>Albania</td>\n",
              "      <td>1987</td>\n",
              "      <td>male</td>\n",
              "      <td>35-54 years</td>\n",
              "      <td>16</td>\n",
              "      <td>308000</td>\n",
              "      <td>5.19</td>\n",
              "      <td>Albania1987</td>\n",
              "      <td>NaN</td>\n",
              "      <td>2,156,624,900</td>\n",
              "      <td>796</td>\n",
              "      <td>Silent</td>\n",
              "    </tr>\n",
              "    <tr>\n",
              "      <th>2</th>\n",
              "      <td>Albania</td>\n",
              "      <td>1987</td>\n",
              "      <td>female</td>\n",
              "      <td>15-24 years</td>\n",
              "      <td>14</td>\n",
              "      <td>289700</td>\n",
              "      <td>4.83</td>\n",
              "      <td>Albania1987</td>\n",
              "      <td>NaN</td>\n",
              "      <td>2,156,624,900</td>\n",
              "      <td>796</td>\n",
              "      <td>Generation X</td>\n",
              "    </tr>\n",
              "    <tr>\n",
              "      <th>3</th>\n",
              "      <td>Albania</td>\n",
              "      <td>1987</td>\n",
              "      <td>male</td>\n",
              "      <td>75+ years</td>\n",
              "      <td>1</td>\n",
              "      <td>21800</td>\n",
              "      <td>4.59</td>\n",
              "      <td>Albania1987</td>\n",
              "      <td>NaN</td>\n",
              "      <td>2,156,624,900</td>\n",
              "      <td>796</td>\n",
              "      <td>G.I. Generation</td>\n",
              "    </tr>\n",
              "    <tr>\n",
              "      <th>4</th>\n",
              "      <td>Albania</td>\n",
              "      <td>1987</td>\n",
              "      <td>male</td>\n",
              "      <td>25-34 years</td>\n",
              "      <td>9</td>\n",
              "      <td>274300</td>\n",
              "      <td>3.28</td>\n",
              "      <td>Albania1987</td>\n",
              "      <td>NaN</td>\n",
              "      <td>2,156,624,900</td>\n",
              "      <td>796</td>\n",
              "      <td>Boomers</td>\n",
              "    </tr>\n",
              "  </tbody>\n",
              "</table>\n",
              "</div>"
            ],
            "text/plain": [
              "   country  year     sex          age  suicides_no  population  \\\n",
              "0  Albania  1987    male  15-24 years           21      312900   \n",
              "1  Albania  1987    male  35-54 years           16      308000   \n",
              "2  Albania  1987  female  15-24 years           14      289700   \n",
              "3  Albania  1987    male    75+ years            1       21800   \n",
              "4  Albania  1987    male  25-34 years            9      274300   \n",
              "\n",
              "   suicides/100k pop country-year  HDI for year  gdp_for_year ($)   \\\n",
              "0               6.71  Albania1987           NaN      2,156,624,900   \n",
              "1               5.19  Albania1987           NaN      2,156,624,900   \n",
              "2               4.83  Albania1987           NaN      2,156,624,900   \n",
              "3               4.59  Albania1987           NaN      2,156,624,900   \n",
              "4               3.28  Albania1987           NaN      2,156,624,900   \n",
              "\n",
              "   gdp_per_capita ($)       generation  \n",
              "0                 796     Generation X  \n",
              "1                 796           Silent  \n",
              "2                 796     Generation X  \n",
              "3                 796  G.I. Generation  \n",
              "4                 796          Boomers  "
            ]
          },
          "execution_count": 4,
          "metadata": {},
          "output_type": "execute_result"
        }
      ],
      "source": [
        "df1.head()\n"
      ]
    },
    {
      "cell_type": "code",
      "execution_count": 5,
      "metadata": {
        "colab": {
          "base_uri": "https://localhost:8080/",
          "height": 0
        },
        "id": "3Vt7oh4Lw2OD",
        "outputId": "d5e48d2f-3474-4ad5-90a8-94a8a62ca866"
      },
      "outputs": [
        {
          "data": {
            "text/html": [
              "<div>\n",
              "<style scoped>\n",
              "    .dataframe tbody tr th:only-of-type {\n",
              "        vertical-align: middle;\n",
              "    }\n",
              "\n",
              "    .dataframe tbody tr th {\n",
              "        vertical-align: top;\n",
              "    }\n",
              "\n",
              "    .dataframe thead th {\n",
              "        text-align: right;\n",
              "    }\n",
              "</style>\n",
              "<table border=\"1\" class=\"dataframe\">\n",
              "  <thead>\n",
              "    <tr style=\"text-align: right;\">\n",
              "      <th></th>\n",
              "      <th>Country</th>\n",
              "      <th>Sex</th>\n",
              "      <th>Year</th>\n",
              "      <th>Suicide Rate</th>\n",
              "      <th>Mental hospitals (per 100 000 population)</th>\n",
              "      <th>Mental health units in general hospitals (per 100 000 population)</th>\n",
              "      <th>Mental health outpatient facilities (per 100 000 population)</th>\n",
              "      <th>Mental health day treatment facilities (per 100 000 population)</th>\n",
              "      <th>Community residential facilities (per 100 000 population)</th>\n",
              "      <th>Psychiatrists working in mental health sector (per 100 000 population)</th>\n",
              "      <th>...</th>\n",
              "      <th>Social workers working in mental health sector (per 100 000 population)</th>\n",
              "      <th>Psychologists working in mental health sector (per 100 000 population)</th>\n",
              "      <th>Government expenditures on mental hospitals as a percentage of total government expenditures on mental health (%)</th>\n",
              "      <th>Stand-alone law for mental health</th>\n",
              "      <th>Year the law was enacted (latest revision)</th>\n",
              "      <th>Stand-alone policy or plan for mental health</th>\n",
              "      <th>Publication year of the policy or plan (latest revision)</th>\n",
              "      <th>Beds in community residential facilities (per 100k population)</th>\n",
              "      <th>Beds in mental hospitals (per 100k population)</th>\n",
              "      <th>Beds for mental health in general hospitals (per 100k population)</th>\n",
              "    </tr>\n",
              "  </thead>\n",
              "  <tbody>\n",
              "    <tr>\n",
              "      <th>0</th>\n",
              "      <td>Afghanistan</td>\n",
              "      <td>Both sexes</td>\n",
              "      <td>2000</td>\n",
              "      <td>8.1</td>\n",
              "      <td>NaN</td>\n",
              "      <td>NaN</td>\n",
              "      <td>NaN</td>\n",
              "      <td>NaN</td>\n",
              "      <td>NaN</td>\n",
              "      <td>NaN</td>\n",
              "      <td>...</td>\n",
              "      <td>NaN</td>\n",
              "      <td>NaN</td>\n",
              "      <td>NaN</td>\n",
              "      <td>NaN</td>\n",
              "      <td>NaN</td>\n",
              "      <td>NaN</td>\n",
              "      <td>NaN</td>\n",
              "      <td>NaN</td>\n",
              "      <td>NaN</td>\n",
              "      <td>NaN</td>\n",
              "    </tr>\n",
              "    <tr>\n",
              "      <th>1</th>\n",
              "      <td>Afghanistan</td>\n",
              "      <td>Male</td>\n",
              "      <td>2000</td>\n",
              "      <td>14.3</td>\n",
              "      <td>NaN</td>\n",
              "      <td>NaN</td>\n",
              "      <td>NaN</td>\n",
              "      <td>NaN</td>\n",
              "      <td>NaN</td>\n",
              "      <td>NaN</td>\n",
              "      <td>...</td>\n",
              "      <td>NaN</td>\n",
              "      <td>NaN</td>\n",
              "      <td>NaN</td>\n",
              "      <td>NaN</td>\n",
              "      <td>NaN</td>\n",
              "      <td>NaN</td>\n",
              "      <td>NaN</td>\n",
              "      <td>NaN</td>\n",
              "      <td>NaN</td>\n",
              "      <td>NaN</td>\n",
              "    </tr>\n",
              "    <tr>\n",
              "      <th>2</th>\n",
              "      <td>Afghanistan</td>\n",
              "      <td>Female</td>\n",
              "      <td>2000</td>\n",
              "      <td>1.7</td>\n",
              "      <td>NaN</td>\n",
              "      <td>NaN</td>\n",
              "      <td>NaN</td>\n",
              "      <td>NaN</td>\n",
              "      <td>NaN</td>\n",
              "      <td>NaN</td>\n",
              "      <td>...</td>\n",
              "      <td>NaN</td>\n",
              "      <td>NaN</td>\n",
              "      <td>NaN</td>\n",
              "      <td>NaN</td>\n",
              "      <td>NaN</td>\n",
              "      <td>NaN</td>\n",
              "      <td>NaN</td>\n",
              "      <td>NaN</td>\n",
              "      <td>NaN</td>\n",
              "      <td>NaN</td>\n",
              "    </tr>\n",
              "    <tr>\n",
              "      <th>3</th>\n",
              "      <td>Albania</td>\n",
              "      <td>Both sexes</td>\n",
              "      <td>2000</td>\n",
              "      <td>5.8</td>\n",
              "      <td>NaN</td>\n",
              "      <td>NaN</td>\n",
              "      <td>NaN</td>\n",
              "      <td>NaN</td>\n",
              "      <td>NaN</td>\n",
              "      <td>NaN</td>\n",
              "      <td>...</td>\n",
              "      <td>NaN</td>\n",
              "      <td>NaN</td>\n",
              "      <td>NaN</td>\n",
              "      <td>NaN</td>\n",
              "      <td>NaN</td>\n",
              "      <td>NaN</td>\n",
              "      <td>NaN</td>\n",
              "      <td>NaN</td>\n",
              "      <td>NaN</td>\n",
              "      <td>NaN</td>\n",
              "    </tr>\n",
              "    <tr>\n",
              "      <th>4</th>\n",
              "      <td>Albania</td>\n",
              "      <td>Male</td>\n",
              "      <td>2000</td>\n",
              "      <td>8.2</td>\n",
              "      <td>NaN</td>\n",
              "      <td>NaN</td>\n",
              "      <td>NaN</td>\n",
              "      <td>NaN</td>\n",
              "      <td>NaN</td>\n",
              "      <td>NaN</td>\n",
              "      <td>...</td>\n",
              "      <td>NaN</td>\n",
              "      <td>NaN</td>\n",
              "      <td>NaN</td>\n",
              "      <td>NaN</td>\n",
              "      <td>NaN</td>\n",
              "      <td>NaN</td>\n",
              "      <td>NaN</td>\n",
              "      <td>NaN</td>\n",
              "      <td>NaN</td>\n",
              "      <td>NaN</td>\n",
              "    </tr>\n",
              "  </tbody>\n",
              "</table>\n",
              "<p>5 rows × 21 columns</p>\n",
              "</div>"
            ],
            "text/plain": [
              "       Country          Sex  Year  Suicide Rate  \\\n",
              "0  Afghanistan   Both sexes  2000           8.1   \n",
              "1  Afghanistan         Male  2000          14.3   \n",
              "2  Afghanistan       Female  2000           1.7   \n",
              "3      Albania   Both sexes  2000           5.8   \n",
              "4      Albania         Male  2000           8.2   \n",
              "\n",
              "   Mental hospitals (per 100 000 population)  \\\n",
              "0                                        NaN   \n",
              "1                                        NaN   \n",
              "2                                        NaN   \n",
              "3                                        NaN   \n",
              "4                                        NaN   \n",
              "\n",
              "   Mental health units in general hospitals (per 100 000 population)  \\\n",
              "0                                                NaN                   \n",
              "1                                                NaN                   \n",
              "2                                                NaN                   \n",
              "3                                                NaN                   \n",
              "4                                                NaN                   \n",
              "\n",
              "   Mental health outpatient facilities (per 100 000 population)  \\\n",
              "0                                                NaN              \n",
              "1                                                NaN              \n",
              "2                                                NaN              \n",
              "3                                                NaN              \n",
              "4                                                NaN              \n",
              "\n",
              "   Mental health day treatment facilities (per 100 000 population)  \\\n",
              "0                                                NaN                 \n",
              "1                                                NaN                 \n",
              "2                                                NaN                 \n",
              "3                                                NaN                 \n",
              "4                                                NaN                 \n",
              "\n",
              "   Community residential facilities (per 100 000 population)  \\\n",
              "0                                                NaN           \n",
              "1                                                NaN           \n",
              "2                                                NaN           \n",
              "3                                                NaN           \n",
              "4                                                NaN           \n",
              "\n",
              "   Psychiatrists working in mental health sector (per 100 000 population)  \\\n",
              "0                                                NaN                        \n",
              "1                                                NaN                        \n",
              "2                                                NaN                        \n",
              "3                                                NaN                        \n",
              "4                                                NaN                        \n",
              "\n",
              "   ...  \\\n",
              "0  ...   \n",
              "1  ...   \n",
              "2  ...   \n",
              "3  ...   \n",
              "4  ...   \n",
              "\n",
              "   Social workers working in mental health sector (per 100 000 population)  \\\n",
              "0                                                NaN                         \n",
              "1                                                NaN                         \n",
              "2                                                NaN                         \n",
              "3                                                NaN                         \n",
              "4                                                NaN                         \n",
              "\n",
              "   Psychologists working in mental health sector (per 100 000 population)  \\\n",
              "0                                                NaN                        \n",
              "1                                                NaN                        \n",
              "2                                                NaN                        \n",
              "3                                                NaN                        \n",
              "4                                                NaN                        \n",
              "\n",
              "   Government expenditures on mental hospitals as a percentage of total government expenditures on mental health (%)  \\\n",
              "0                                                NaN                                                                   \n",
              "1                                                NaN                                                                   \n",
              "2                                                NaN                                                                   \n",
              "3                                                NaN                                                                   \n",
              "4                                                NaN                                                                   \n",
              "\n",
              "   Stand-alone law for mental health  \\\n",
              "0                                NaN   \n",
              "1                                NaN   \n",
              "2                                NaN   \n",
              "3                                NaN   \n",
              "4                                NaN   \n",
              "\n",
              "  Year the law was enacted (latest revision)  \\\n",
              "0                                        NaN   \n",
              "1                                        NaN   \n",
              "2                                        NaN   \n",
              "3                                        NaN   \n",
              "4                                        NaN   \n",
              "\n",
              "  Stand-alone policy or plan for mental health  \\\n",
              "0                                          NaN   \n",
              "1                                          NaN   \n",
              "2                                          NaN   \n",
              "3                                          NaN   \n",
              "4                                          NaN   \n",
              "\n",
              "  Publication year of the policy or plan (latest revision)  \\\n",
              "0                                                NaN         \n",
              "1                                                NaN         \n",
              "2                                                NaN         \n",
              "3                                                NaN         \n",
              "4                                                NaN         \n",
              "\n",
              "   Beds in community residential facilities (per 100k population)  \\\n",
              "0                                                NaN                \n",
              "1                                                NaN                \n",
              "2                                                NaN                \n",
              "3                                                NaN                \n",
              "4                                                NaN                \n",
              "\n",
              "   Beds in mental hospitals (per 100k population)  \\\n",
              "0                                             NaN   \n",
              "1                                             NaN   \n",
              "2                                             NaN   \n",
              "3                                             NaN   \n",
              "4                                             NaN   \n",
              "\n",
              "   Beds for mental health in general hospitals (per 100k population)  \n",
              "0                                                NaN                  \n",
              "1                                                NaN                  \n",
              "2                                                NaN                  \n",
              "3                                                NaN                  \n",
              "4                                                NaN                  \n",
              "\n",
              "[5 rows x 21 columns]"
            ]
          },
          "execution_count": 5,
          "metadata": {},
          "output_type": "execute_result"
        }
      ],
      "source": [
        "df2.head()"
      ]
    },
    {
      "cell_type": "code",
      "execution_count": 6,
      "metadata": {
        "colab": {
          "base_uri": "https://localhost:8080/",
          "height": 0
        },
        "id": "3U_DB04gG792",
        "outputId": "a5ba7e53-e94d-41e2-8f19-ebabb99549b5"
      },
      "outputs": [
        {
          "data": {
            "text/html": [
              "<div>\n",
              "<style scoped>\n",
              "    .dataframe tbody tr th:only-of-type {\n",
              "        vertical-align: middle;\n",
              "    }\n",
              "\n",
              "    .dataframe tbody tr th {\n",
              "        vertical-align: top;\n",
              "    }\n",
              "\n",
              "    .dataframe thead th {\n",
              "        text-align: right;\n",
              "    }\n",
              "</style>\n",
              "<table border=\"1\" class=\"dataframe\">\n",
              "  <thead>\n",
              "    <tr style=\"text-align: right;\">\n",
              "      <th></th>\n",
              "      <th>Country</th>\n",
              "      <th>Year</th>\n",
              "      <th>Mental _hospitals</th>\n",
              "      <th>health_units</th>\n",
              "      <th>outpatient _facilities</th>\n",
              "      <th>day _treatment</th>\n",
              "      <th>residential_facilities</th>\n",
              "    </tr>\n",
              "  </thead>\n",
              "  <tbody>\n",
              "    <tr>\n",
              "      <th>0</th>\n",
              "      <td>Afghanistan</td>\n",
              "      <td>2016</td>\n",
              "      <td>0.003</td>\n",
              "      <td>0.012</td>\n",
              "      <td>0.006</td>\n",
              "      <td>NaN</td>\n",
              "      <td>NaN</td>\n",
              "    </tr>\n",
              "    <tr>\n",
              "      <th>1</th>\n",
              "      <td>Albania</td>\n",
              "      <td>2016</td>\n",
              "      <td>0.068</td>\n",
              "      <td>0.068</td>\n",
              "      <td>0.410</td>\n",
              "      <td>NaN</td>\n",
              "      <td>0.445</td>\n",
              "    </tr>\n",
              "    <tr>\n",
              "      <th>2</th>\n",
              "      <td>Algeria</td>\n",
              "      <td>2016</td>\n",
              "      <td>0.048</td>\n",
              "      <td>0.068</td>\n",
              "      <td>0.048</td>\n",
              "      <td>NaN</td>\n",
              "      <td>NaN</td>\n",
              "    </tr>\n",
              "    <tr>\n",
              "      <th>3</th>\n",
              "      <td>Angola</td>\n",
              "      <td>2016</td>\n",
              "      <td>0.011</td>\n",
              "      <td>NaN</td>\n",
              "      <td>NaN</td>\n",
              "      <td>NaN</td>\n",
              "      <td>0.014</td>\n",
              "    </tr>\n",
              "    <tr>\n",
              "      <th>4</th>\n",
              "      <td>Antigua and Barbuda</td>\n",
              "      <td>2016</td>\n",
              "      <td>1.001</td>\n",
              "      <td>NaN</td>\n",
              "      <td>NaN</td>\n",
              "      <td>NaN</td>\n",
              "      <td>NaN</td>\n",
              "    </tr>\n",
              "  </tbody>\n",
              "</table>\n",
              "</div>"
            ],
            "text/plain": [
              "               Country  Year  Mental _hospitals  health_units  \\\n",
              "0          Afghanistan  2016              0.003         0.012   \n",
              "1              Albania  2016              0.068         0.068   \n",
              "2              Algeria  2016              0.048         0.068   \n",
              "3               Angola  2016              0.011           NaN   \n",
              "4  Antigua and Barbuda  2016              1.001           NaN   \n",
              "\n",
              "   outpatient _facilities  day _treatment  residential_facilities  \n",
              "0                   0.006             NaN                     NaN  \n",
              "1                   0.410             NaN                   0.445  \n",
              "2                   0.048             NaN                     NaN  \n",
              "3                     NaN             NaN                   0.014  \n",
              "4                     NaN             NaN                     NaN  "
            ]
          },
          "execution_count": 6,
          "metadata": {},
          "output_type": "execute_result"
        }
      ],
      "source": [
        "df4.sort_values('Country', ascending=True).head(5)"
      ]
    },
    {
      "cell_type": "code",
      "execution_count": 7,
      "metadata": {
        "colab": {
          "base_uri": "https://localhost:8080/",
          "height": 0
        },
        "id": "fjfbY6TXG9rT",
        "outputId": "6b93aeca-055c-43e6-8dff-e219bc7900dc"
      },
      "outputs": [
        {
          "data": {
            "text/html": [
              "<div>\n",
              "<style scoped>\n",
              "    .dataframe tbody tr th:only-of-type {\n",
              "        vertical-align: middle;\n",
              "    }\n",
              "\n",
              "    .dataframe tbody tr th {\n",
              "        vertical-align: top;\n",
              "    }\n",
              "\n",
              "    .dataframe thead th {\n",
              "        text-align: right;\n",
              "    }\n",
              "</style>\n",
              "<table border=\"1\" class=\"dataframe\">\n",
              "  <thead>\n",
              "    <tr style=\"text-align: right;\">\n",
              "      <th></th>\n",
              "      <th>Country</th>\n",
              "      <th>Year</th>\n",
              "      <th>Psychiatrists</th>\n",
              "      <th>Nurses</th>\n",
              "      <th>Social_workers</th>\n",
              "      <th>Psychologists</th>\n",
              "    </tr>\n",
              "  </thead>\n",
              "  <tbody>\n",
              "    <tr>\n",
              "      <th>0</th>\n",
              "      <td>Afghanistan</td>\n",
              "      <td>2016</td>\n",
              "      <td>0.231</td>\n",
              "      <td>0.098</td>\n",
              "      <td>NaN</td>\n",
              "      <td>0.296</td>\n",
              "    </tr>\n",
              "    <tr>\n",
              "      <th>1</th>\n",
              "      <td>Albania</td>\n",
              "      <td>2016</td>\n",
              "      <td>1.471</td>\n",
              "      <td>6.876</td>\n",
              "      <td>1.060</td>\n",
              "      <td>1.231</td>\n",
              "    </tr>\n",
              "    <tr>\n",
              "      <th>2</th>\n",
              "      <td>Angola</td>\n",
              "      <td>2016</td>\n",
              "      <td>0.057</td>\n",
              "      <td>0.660</td>\n",
              "      <td>0.022</td>\n",
              "      <td>0.179</td>\n",
              "    </tr>\n",
              "    <tr>\n",
              "      <th>3</th>\n",
              "      <td>Antigua and Barbuda</td>\n",
              "      <td>2016</td>\n",
              "      <td>1.001</td>\n",
              "      <td>7.005</td>\n",
              "      <td>4.003</td>\n",
              "      <td>NaN</td>\n",
              "    </tr>\n",
              "    <tr>\n",
              "      <th>4</th>\n",
              "      <td>Argentina</td>\n",
              "      <td>2016</td>\n",
              "      <td>21.705</td>\n",
              "      <td>NaN</td>\n",
              "      <td>NaN</td>\n",
              "      <td>222.572</td>\n",
              "    </tr>\n",
              "  </tbody>\n",
              "</table>\n",
              "</div>"
            ],
            "text/plain": [
              "               Country  Year  Psychiatrists  Nurses  Social_workers  \\\n",
              "0          Afghanistan  2016          0.231   0.098             NaN   \n",
              "1              Albania  2016          1.471   6.876           1.060   \n",
              "2               Angola  2016          0.057   0.660           0.022   \n",
              "3  Antigua and Barbuda  2016          1.001   7.005           4.003   \n",
              "4            Argentina  2016         21.705     NaN             NaN   \n",
              "\n",
              "   Psychologists  \n",
              "0          0.296  \n",
              "1          1.231  \n",
              "2          0.179  \n",
              "3            NaN  \n",
              "4        222.572  "
            ]
          },
          "execution_count": 7,
          "metadata": {},
          "output_type": "execute_result"
        }
      ],
      "source": [
        "df5.sort_values('Country', ascending=True).head(5)"
      ]
    },
    {
      "cell_type": "markdown",
      "metadata": {
        "id": "3C9gD86CGAXW"
      },
      "source": [
        "# II/CLEAN DATA"
      ]
    },
    {
      "cell_type": "markdown",
      "metadata": {
        "id": "PvUA6F4IKR6_"
      },
      "source": [
        "## 1/Remove unwanted data"
      ]
    },
    {
      "cell_type": "code",
      "execution_count": 8,
      "metadata": {
        "id": "emmZrNGrTVh7"
      },
      "outputs": [],
      "source": [
        "df_suicide_rate=df1.drop(columns=['country-year', 'generation','HDI for year']) \n",
        "df_suicide_rate_2016=df2.sort_values(['Country','Sex'], ascending=True)\n",
        "df_facilities_2016=df4.drop(columns=['day _treatment', 'residential_facilities']) \n",
        "df_human_resources_2016=df5.sort_values(['Country','Year'], ascending=True)\n",
        "\n"
      ]
    },
    {
      "cell_type": "code",
      "execution_count": 9,
      "metadata": {
        "colab": {
          "base_uri": "https://localhost:8080/",
          "height": 0
        },
        "id": "_4OFj-DnGIKz",
        "outputId": "b56de209-26a6-4429-a30d-1c4e4794274e"
      },
      "outputs": [
        {
          "data": {
            "text/html": [
              "<div>\n",
              "<style scoped>\n",
              "    .dataframe tbody tr th:only-of-type {\n",
              "        vertical-align: middle;\n",
              "    }\n",
              "\n",
              "    .dataframe tbody tr th {\n",
              "        vertical-align: top;\n",
              "    }\n",
              "\n",
              "    .dataframe thead th {\n",
              "        text-align: right;\n",
              "    }\n",
              "</style>\n",
              "<table border=\"1\" class=\"dataframe\">\n",
              "  <thead>\n",
              "    <tr style=\"text-align: right;\">\n",
              "      <th></th>\n",
              "      <th>Country</th>\n",
              "      <th>Year</th>\n",
              "      <th>Sex</th>\n",
              "      <th>Age</th>\n",
              "      <th>No.Suicides</th>\n",
              "      <th>Population</th>\n",
              "      <th>Suicides_rate/100k pop</th>\n",
              "      <th>GDP ($)</th>\n",
              "      <th>GDP/Capita ($)</th>\n",
              "    </tr>\n",
              "  </thead>\n",
              "  <tbody>\n",
              "    <tr>\n",
              "      <th>9</th>\n",
              "      <td>Albania</td>\n",
              "      <td>1987</td>\n",
              "      <td>female</td>\n",
              "      <td>05-14 years</td>\n",
              "      <td>0</td>\n",
              "      <td>311000</td>\n",
              "      <td>0.00</td>\n",
              "      <td>2,156,624,900</td>\n",
              "      <td>796</td>\n",
              "    </tr>\n",
              "    <tr>\n",
              "      <th>2</th>\n",
              "      <td>Albania</td>\n",
              "      <td>1987</td>\n",
              "      <td>female</td>\n",
              "      <td>15-24 years</td>\n",
              "      <td>14</td>\n",
              "      <td>289700</td>\n",
              "      <td>4.83</td>\n",
              "      <td>2,156,624,900</td>\n",
              "      <td>796</td>\n",
              "    </tr>\n",
              "    <tr>\n",
              "      <th>7</th>\n",
              "      <td>Albania</td>\n",
              "      <td>1987</td>\n",
              "      <td>female</td>\n",
              "      <td>25-34 years</td>\n",
              "      <td>4</td>\n",
              "      <td>257200</td>\n",
              "      <td>1.56</td>\n",
              "      <td>2,156,624,900</td>\n",
              "      <td>796</td>\n",
              "    </tr>\n",
              "    <tr>\n",
              "      <th>6</th>\n",
              "      <td>Albania</td>\n",
              "      <td>1987</td>\n",
              "      <td>female</td>\n",
              "      <td>35-54 years</td>\n",
              "      <td>6</td>\n",
              "      <td>278800</td>\n",
              "      <td>2.15</td>\n",
              "      <td>2,156,624,900</td>\n",
              "      <td>796</td>\n",
              "    </tr>\n",
              "    <tr>\n",
              "      <th>10</th>\n",
              "      <td>Albania</td>\n",
              "      <td>1987</td>\n",
              "      <td>female</td>\n",
              "      <td>55-74 years</td>\n",
              "      <td>0</td>\n",
              "      <td>144600</td>\n",
              "      <td>0.00</td>\n",
              "      <td>2,156,624,900</td>\n",
              "      <td>796</td>\n",
              "    </tr>\n",
              "    <tr>\n",
              "      <th>5</th>\n",
              "      <td>Albania</td>\n",
              "      <td>1987</td>\n",
              "      <td>female</td>\n",
              "      <td>75+ years</td>\n",
              "      <td>1</td>\n",
              "      <td>35600</td>\n",
              "      <td>2.81</td>\n",
              "      <td>2,156,624,900</td>\n",
              "      <td>796</td>\n",
              "    </tr>\n",
              "    <tr>\n",
              "      <th>11</th>\n",
              "      <td>Albania</td>\n",
              "      <td>1987</td>\n",
              "      <td>male</td>\n",
              "      <td>05-14 years</td>\n",
              "      <td>0</td>\n",
              "      <td>338200</td>\n",
              "      <td>0.00</td>\n",
              "      <td>2,156,624,900</td>\n",
              "      <td>796</td>\n",
              "    </tr>\n",
              "    <tr>\n",
              "      <th>0</th>\n",
              "      <td>Albania</td>\n",
              "      <td>1987</td>\n",
              "      <td>male</td>\n",
              "      <td>15-24 years</td>\n",
              "      <td>21</td>\n",
              "      <td>312900</td>\n",
              "      <td>6.71</td>\n",
              "      <td>2,156,624,900</td>\n",
              "      <td>796</td>\n",
              "    </tr>\n",
              "    <tr>\n",
              "      <th>4</th>\n",
              "      <td>Albania</td>\n",
              "      <td>1987</td>\n",
              "      <td>male</td>\n",
              "      <td>25-34 years</td>\n",
              "      <td>9</td>\n",
              "      <td>274300</td>\n",
              "      <td>3.28</td>\n",
              "      <td>2,156,624,900</td>\n",
              "      <td>796</td>\n",
              "    </tr>\n",
              "    <tr>\n",
              "      <th>1</th>\n",
              "      <td>Albania</td>\n",
              "      <td>1987</td>\n",
              "      <td>male</td>\n",
              "      <td>35-54 years</td>\n",
              "      <td>16</td>\n",
              "      <td>308000</td>\n",
              "      <td>5.19</td>\n",
              "      <td>2,156,624,900</td>\n",
              "      <td>796</td>\n",
              "    </tr>\n",
              "  </tbody>\n",
              "</table>\n",
              "</div>"
            ],
            "text/plain": [
              "    Country  Year     Sex          Age  No.Suicides  Population  \\\n",
              "9   Albania  1987  female  05-14 years            0      311000   \n",
              "2   Albania  1987  female  15-24 years           14      289700   \n",
              "7   Albania  1987  female  25-34 years            4      257200   \n",
              "6   Albania  1987  female  35-54 years            6      278800   \n",
              "10  Albania  1987  female  55-74 years            0      144600   \n",
              "5   Albania  1987  female    75+ years            1       35600   \n",
              "11  Albania  1987    male  05-14 years            0      338200   \n",
              "0   Albania  1987    male  15-24 years           21      312900   \n",
              "4   Albania  1987    male  25-34 years            9      274300   \n",
              "1   Albania  1987    male  35-54 years           16      308000   \n",
              "\n",
              "    Suicides_rate/100k pop        GDP ($)  GDP/Capita ($)  \n",
              "9                     0.00  2,156,624,900             796  \n",
              "2                     4.83  2,156,624,900             796  \n",
              "7                     1.56  2,156,624,900             796  \n",
              "6                     2.15  2,156,624,900             796  \n",
              "10                    0.00  2,156,624,900             796  \n",
              "5                     2.81  2,156,624,900             796  \n",
              "11                    0.00  2,156,624,900             796  \n",
              "0                     6.71  2,156,624,900             796  \n",
              "4                     3.28  2,156,624,900             796  \n",
              "1                     5.19  2,156,624,900             796  "
            ]
          },
          "execution_count": 9,
          "metadata": {},
          "output_type": "execute_result"
        }
      ],
      "source": [
        "df_suicide_rate = df_suicide_rate.rename(columns={'country':'Country', 'year':'Year', 'sex':'Sex', 'age':'Age', 'suicides_no':'No.Suicides', 'population':'Population', 'suicides/100k pop':'Suicides_rate/100k pop',' gdp_for_year ($) ':'GDP ($)', 'gdp_per_capita ($)':'GDP/Capita ($)'})\n",
        "def clean_age(x):\n",
        "  if x['Age']=='5-14 years':\n",
        "    return '05-14 years'\n",
        "  else :\n",
        "    return x['Age']\n",
        "df_suicide_rate['Age']=df_suicide_rate.apply(clean_age,axis=1)\n",
        "df_suicide_rate=df_suicide_rate.sort_values(['Country','Year','Sex','Age'], ascending=True)\n",
        "df_suicide_rate.head(10)"
      ]
    },
    {
      "cell_type": "code",
      "execution_count": 10,
      "metadata": {
        "id": "W8Kd3kRE0eP7"
      },
      "outputs": [],
      "source": [
        "df_suicide_rate_2016=df_suicide_rate_2016[df_suicide_rate_2016['Year']==2016]"
      ]
    },
    {
      "cell_type": "code",
      "execution_count": 11,
      "metadata": {
        "colab": {
          "base_uri": "https://localhost:8080/",
          "height": 0
        },
        "id": "4KtPF5gJ6lRX",
        "outputId": "a961c5d7-e33b-4d08-c9ce-bfe2fa3e2154"
      },
      "outputs": [
        {
          "data": {
            "text/html": [
              "<div>\n",
              "<style scoped>\n",
              "    .dataframe tbody tr th:only-of-type {\n",
              "        vertical-align: middle;\n",
              "    }\n",
              "\n",
              "    .dataframe tbody tr th {\n",
              "        vertical-align: top;\n",
              "    }\n",
              "\n",
              "    .dataframe thead th {\n",
              "        text-align: right;\n",
              "    }\n",
              "</style>\n",
              "<table border=\"1\" class=\"dataframe\">\n",
              "  <thead>\n",
              "    <tr style=\"text-align: right;\">\n",
              "      <th></th>\n",
              "      <th>Country</th>\n",
              "      <th>Year</th>\n",
              "      <th>Mental_hospitals</th>\n",
              "      <th>Health_units</th>\n",
              "      <th>Outpatient_facilities</th>\n",
              "    </tr>\n",
              "  </thead>\n",
              "  <tbody>\n",
              "    <tr>\n",
              "      <th>0</th>\n",
              "      <td>Afghanistan</td>\n",
              "      <td>2016</td>\n",
              "      <td>0.003</td>\n",
              "      <td>0.012</td>\n",
              "      <td>0.006</td>\n",
              "    </tr>\n",
              "    <tr>\n",
              "      <th>1</th>\n",
              "      <td>Albania</td>\n",
              "      <td>2016</td>\n",
              "      <td>0.068</td>\n",
              "      <td>0.068</td>\n",
              "      <td>0.410</td>\n",
              "    </tr>\n",
              "    <tr>\n",
              "      <th>2</th>\n",
              "      <td>Algeria</td>\n",
              "      <td>2016</td>\n",
              "      <td>0.048</td>\n",
              "      <td>0.068</td>\n",
              "      <td>0.048</td>\n",
              "    </tr>\n",
              "    <tr>\n",
              "      <th>3</th>\n",
              "      <td>Angola</td>\n",
              "      <td>2016</td>\n",
              "      <td>0.011</td>\n",
              "      <td>NaN</td>\n",
              "      <td>NaN</td>\n",
              "    </tr>\n",
              "    <tr>\n",
              "      <th>4</th>\n",
              "      <td>Antigua and Barbuda</td>\n",
              "      <td>2016</td>\n",
              "      <td>1.001</td>\n",
              "      <td>NaN</td>\n",
              "      <td>NaN</td>\n",
              "    </tr>\n",
              "  </tbody>\n",
              "</table>\n",
              "</div>"
            ],
            "text/plain": [
              "               Country  Year  Mental_hospitals  Health_units  \\\n",
              "0          Afghanistan  2016             0.003         0.012   \n",
              "1              Albania  2016             0.068         0.068   \n",
              "2              Algeria  2016             0.048         0.068   \n",
              "3               Angola  2016             0.011           NaN   \n",
              "4  Antigua and Barbuda  2016             1.001           NaN   \n",
              "\n",
              "   Outpatient_facilities  \n",
              "0                  0.006  \n",
              "1                  0.410  \n",
              "2                  0.048  \n",
              "3                    NaN  \n",
              "4                    NaN  "
            ]
          },
          "execution_count": 11,
          "metadata": {},
          "output_type": "execute_result"
        }
      ],
      "source": [
        "df_facilities_2016=df_facilities_2016.rename(columns={'health_units':'Health_units' , 'outpatient _facilities':'Outpatient_facilities','Mental _hospitals':'Mental_hospitals'})\n",
        "df_facilities_2016=df_facilities_2016.sort_values(['Country','Year'], ascending=True)\n",
        "df_facilities_2016.head()"
      ]
    },
    {
      "cell_type": "code",
      "execution_count": 12,
      "metadata": {
        "colab": {
          "base_uri": "https://localhost:8080/",
          "height": 0
        },
        "id": "GfQZ6j0y6GP2",
        "outputId": "859afdf4-6889-492d-8f62-4fbe3eac9689"
      },
      "outputs": [
        {
          "data": {
            "text/html": [
              "<div>\n",
              "<style scoped>\n",
              "    .dataframe tbody tr th:only-of-type {\n",
              "        vertical-align: middle;\n",
              "    }\n",
              "\n",
              "    .dataframe tbody tr th {\n",
              "        vertical-align: top;\n",
              "    }\n",
              "\n",
              "    .dataframe thead th {\n",
              "        text-align: right;\n",
              "    }\n",
              "</style>\n",
              "<table border=\"1\" class=\"dataframe\">\n",
              "  <thead>\n",
              "    <tr style=\"text-align: right;\">\n",
              "      <th></th>\n",
              "      <th>Country</th>\n",
              "      <th>Year</th>\n",
              "      <th>Psychiatrists</th>\n",
              "      <th>Nurses</th>\n",
              "      <th>Social_workers</th>\n",
              "      <th>Psychologists</th>\n",
              "    </tr>\n",
              "  </thead>\n",
              "  <tbody>\n",
              "    <tr>\n",
              "      <th>0</th>\n",
              "      <td>Afghanistan</td>\n",
              "      <td>2016</td>\n",
              "      <td>0.231</td>\n",
              "      <td>0.098</td>\n",
              "      <td>NaN</td>\n",
              "      <td>0.296</td>\n",
              "    </tr>\n",
              "    <tr>\n",
              "      <th>1</th>\n",
              "      <td>Albania</td>\n",
              "      <td>2016</td>\n",
              "      <td>1.471</td>\n",
              "      <td>6.876</td>\n",
              "      <td>1.060</td>\n",
              "      <td>1.231</td>\n",
              "    </tr>\n",
              "    <tr>\n",
              "      <th>2</th>\n",
              "      <td>Angola</td>\n",
              "      <td>2016</td>\n",
              "      <td>0.057</td>\n",
              "      <td>0.660</td>\n",
              "      <td>0.022</td>\n",
              "      <td>0.179</td>\n",
              "    </tr>\n",
              "    <tr>\n",
              "      <th>3</th>\n",
              "      <td>Antigua and Barbuda</td>\n",
              "      <td>2016</td>\n",
              "      <td>1.001</td>\n",
              "      <td>7.005</td>\n",
              "      <td>4.003</td>\n",
              "      <td>NaN</td>\n",
              "    </tr>\n",
              "    <tr>\n",
              "      <th>4</th>\n",
              "      <td>Argentina</td>\n",
              "      <td>2016</td>\n",
              "      <td>21.705</td>\n",
              "      <td>NaN</td>\n",
              "      <td>NaN</td>\n",
              "      <td>222.572</td>\n",
              "    </tr>\n",
              "  </tbody>\n",
              "</table>\n",
              "</div>"
            ],
            "text/plain": [
              "               Country  Year  Psychiatrists  Nurses  Social_workers  \\\n",
              "0          Afghanistan  2016          0.231   0.098             NaN   \n",
              "1              Albania  2016          1.471   6.876           1.060   \n",
              "2               Angola  2016          0.057   0.660           0.022   \n",
              "3  Antigua and Barbuda  2016          1.001   7.005           4.003   \n",
              "4            Argentina  2016         21.705     NaN             NaN   \n",
              "\n",
              "   Psychologists  \n",
              "0          0.296  \n",
              "1          1.231  \n",
              "2          0.179  \n",
              "3            NaN  \n",
              "4        222.572  "
            ]
          },
          "execution_count": 12,
          "metadata": {},
          "output_type": "execute_result"
        }
      ],
      "source": [
        "df_human_resources_2016.head()"
      ]
    },
    {
      "cell_type": "markdown",
      "metadata": {
        "id": "gCV5hQ5zKVla"
      },
      "source": [
        "## 2/Check and change datatype"
      ]
    },
    {
      "cell_type": "code",
      "execution_count": 13,
      "metadata": {
        "id": "Hs_LNJyTKWLp"
      },
      "outputs": [],
      "source": [
        "# GDP str to int\n",
        "import re\n",
        "def clean_gdp(x):\n",
        "   a= re.sub(',' , '', x.loc['GDP ($)'])\n",
        "   a=int(a)\n",
        "   return a\n",
        "df_suicide_rate['GDP ($)']=df_suicide_rate.apply(clean_gdp,axis=1)"
      ]
    },
    {
      "cell_type": "code",
      "execution_count": 14,
      "metadata": {
        "colab": {
          "base_uri": "https://localhost:8080/",
          "height": 0
        },
        "id": "A-Buv0IgGtjq",
        "outputId": "206950f9-7eda-49a5-abb7-b86cd1335c87"
      },
      "outputs": [
        {
          "data": {
            "text/html": [
              "<div>\n",
              "<style scoped>\n",
              "    .dataframe tbody tr th:only-of-type {\n",
              "        vertical-align: middle;\n",
              "    }\n",
              "\n",
              "    .dataframe tbody tr th {\n",
              "        vertical-align: top;\n",
              "    }\n",
              "\n",
              "    .dataframe thead th {\n",
              "        text-align: right;\n",
              "    }\n",
              "</style>\n",
              "<table border=\"1\" class=\"dataframe\">\n",
              "  <thead>\n",
              "    <tr style=\"text-align: right;\">\n",
              "      <th></th>\n",
              "      <th>Country</th>\n",
              "      <th>Year</th>\n",
              "      <th>Sex</th>\n",
              "      <th>Age</th>\n",
              "      <th>No.Suicides</th>\n",
              "      <th>Population</th>\n",
              "      <th>Suicides_rate/100k pop</th>\n",
              "      <th>GDP ($)</th>\n",
              "      <th>GDP/Capita ($)</th>\n",
              "    </tr>\n",
              "  </thead>\n",
              "  <tbody>\n",
              "    <tr>\n",
              "      <th>9</th>\n",
              "      <td>Albania</td>\n",
              "      <td>1987</td>\n",
              "      <td>female</td>\n",
              "      <td>05-14 years</td>\n",
              "      <td>0</td>\n",
              "      <td>311000</td>\n",
              "      <td>0.00</td>\n",
              "      <td>2156624900</td>\n",
              "      <td>796</td>\n",
              "    </tr>\n",
              "    <tr>\n",
              "      <th>2</th>\n",
              "      <td>Albania</td>\n",
              "      <td>1987</td>\n",
              "      <td>female</td>\n",
              "      <td>15-24 years</td>\n",
              "      <td>14</td>\n",
              "      <td>289700</td>\n",
              "      <td>4.83</td>\n",
              "      <td>2156624900</td>\n",
              "      <td>796</td>\n",
              "    </tr>\n",
              "    <tr>\n",
              "      <th>7</th>\n",
              "      <td>Albania</td>\n",
              "      <td>1987</td>\n",
              "      <td>female</td>\n",
              "      <td>25-34 years</td>\n",
              "      <td>4</td>\n",
              "      <td>257200</td>\n",
              "      <td>1.56</td>\n",
              "      <td>2156624900</td>\n",
              "      <td>796</td>\n",
              "    </tr>\n",
              "    <tr>\n",
              "      <th>6</th>\n",
              "      <td>Albania</td>\n",
              "      <td>1987</td>\n",
              "      <td>female</td>\n",
              "      <td>35-54 years</td>\n",
              "      <td>6</td>\n",
              "      <td>278800</td>\n",
              "      <td>2.15</td>\n",
              "      <td>2156624900</td>\n",
              "      <td>796</td>\n",
              "    </tr>\n",
              "    <tr>\n",
              "      <th>10</th>\n",
              "      <td>Albania</td>\n",
              "      <td>1987</td>\n",
              "      <td>female</td>\n",
              "      <td>55-74 years</td>\n",
              "      <td>0</td>\n",
              "      <td>144600</td>\n",
              "      <td>0.00</td>\n",
              "      <td>2156624900</td>\n",
              "      <td>796</td>\n",
              "    </tr>\n",
              "  </tbody>\n",
              "</table>\n",
              "</div>"
            ],
            "text/plain": [
              "    Country  Year     Sex          Age  No.Suicides  Population  \\\n",
              "9   Albania  1987  female  05-14 years            0      311000   \n",
              "2   Albania  1987  female  15-24 years           14      289700   \n",
              "7   Albania  1987  female  25-34 years            4      257200   \n",
              "6   Albania  1987  female  35-54 years            6      278800   \n",
              "10  Albania  1987  female  55-74 years            0      144600   \n",
              "\n",
              "    Suicides_rate/100k pop     GDP ($)  GDP/Capita ($)  \n",
              "9                     0.00  2156624900             796  \n",
              "2                     4.83  2156624900             796  \n",
              "7                     1.56  2156624900             796  \n",
              "6                     2.15  2156624900             796  \n",
              "10                    0.00  2156624900             796  "
            ]
          },
          "execution_count": 14,
          "metadata": {},
          "output_type": "execute_result"
        }
      ],
      "source": [
        "df_suicide_rate.head()"
      ]
    },
    {
      "cell_type": "markdown",
      "metadata": {
        "id": "axjY_2NHKiOt"
      },
      "source": [
        "## 3/Working with Missing Values"
      ]
    },
    {
      "cell_type": "code",
      "execution_count": 15,
      "metadata": {
        "colab": {
          "base_uri": "https://localhost:8080/"
        },
        "id": "BdlZd2teK-eD",
        "outputId": "4964424e-b9d2-4102-dc74-ea4236be85e4"
      },
      "outputs": [
        {
          "data": {
            "text/plain": [
              "Country                   0.0\n",
              "Year                      0.0\n",
              "Sex                       0.0\n",
              "Age                       0.0\n",
              "No.Suicides               0.0\n",
              "Population                0.0\n",
              "Suicides_rate/100k pop    0.0\n",
              "GDP ($)                   0.0\n",
              "GDP/Capita ($)            0.0\n",
              "dtype: float64"
            ]
          },
          "execution_count": 15,
          "metadata": {},
          "output_type": "execute_result"
        }
      ],
      "source": [
        "#% missing data of each collumn\n",
        "df_suicide_rate.isna().sum()/df_suicide_rate.shape[0]*100"
      ]
    },
    {
      "cell_type": "code",
      "execution_count": 16,
      "metadata": {
        "colab": {
          "base_uri": "https://localhost:8080/"
        },
        "id": "SNKHbsxAHyAT",
        "outputId": "71271c2c-69cb-4109-facc-2f1336d8ea8c"
      },
      "outputs": [
        {
          "data": {
            "text/plain": [
              "Country                                                                                                               0.000000\n",
              "Sex                                                                                                                   0.543478\n",
              "Year                                                                                                                  0.000000\n",
              "Suicide Rate                                                                                                          0.543478\n",
              "Mental hospitals (per 100 000 population)                                                                            51.086957\n",
              "Mental health units in general hospitals (per 100 000 population)                                                    44.927536\n",
              "Mental health outpatient facilities (per 100 000 population)                                                         46.739130\n",
              "Mental health day treatment facilities (per 100 000 population)                                                      73.007246\n",
              "Community residential facilities (per 100 000 population)                                                            75.905797\n",
              "Psychiatrists working in mental health sector (per 100 000 population)                                               44.202899\n",
              "Nurses working in mental health sector (per 100 000 population)                                                      51.630435\n",
              "Social workers working in mental health sector (per 100 000 population)                                              63.768116\n",
              "Psychologists working in mental health sector (per 100 000 population)                                               55.072464\n",
              "Government expenditures on mental hospitals as a percentage of total government expenditures on mental health (%)    70.289855\n",
              "Stand-alone law for mental health                                                                                    38.043478\n",
              "Year the law was enacted (latest revision)                                                                           61.050725\n",
              "Stand-alone policy or plan for mental health                                                                         38.586957\n",
              "Publication year of the policy or plan (latest revision)                                                             50.724638\n",
              "Beds in community residential facilities (per 100k population)                                                       78.623188\n",
              "Beds in mental hospitals (per 100k population)                                                                       52.173913\n",
              "Beds for mental health in general hospitals (per 100k population)                                                    47.644928\n",
              "dtype: float64"
            ]
          },
          "execution_count": 16,
          "metadata": {},
          "output_type": "execute_result"
        }
      ],
      "source": [
        "#% missing data of each collumn\n",
        "df_suicide_rate_2016.isna().sum()/df_suicide_rate_2016.shape[0]*100"
      ]
    },
    {
      "cell_type": "code",
      "execution_count": 17,
      "metadata": {
        "colab": {
          "base_uri": "https://localhost:8080/"
        },
        "id": "LFCc4di1RgtB",
        "outputId": "1b01bd83-8a75-4f8e-f615-74b44be9df47"
      },
      "outputs": [
        {
          "data": {
            "text/plain": [
              "Country                                                     0.0\n",
              "Sex                                                         0.0\n",
              "Suicide Rate                                                0.0\n",
              "Year the law was enacted (latest revision)                  0.0\n",
              "Publication year of the policy or plan (latest revision)    0.0\n",
              "dtype: float64"
            ]
          },
          "execution_count": 17,
          "metadata": {},
          "output_type": "execute_result"
        }
      ],
      "source": [
        "df_suicide_rate_2016=df_suicide_rate_2016[['Country','Sex','Suicide Rate','Year the law was enacted (latest revision)','Publication year of the policy or plan (latest revision)']]\n",
        "df_suicide_rate_2016['Year the law was enacted (latest revision)'] = df_suicide_rate_2016['Year the law was enacted (latest revision)'].fillna(0)\n",
        "df_suicide_rate_2016['Publication year of the policy or plan (latest revision)'] = df_suicide_rate_2016['Publication year of the policy or plan (latest revision)'].fillna(0)\n",
        "df_suicide_rate_2016 = df_suicide_rate_2016.dropna(axis=0)\n",
        "df_suicide_rate_2016.isna().sum()/df_suicide_rate_2016.shape[0]*100"
      ]
    },
    {
      "cell_type": "code",
      "execution_count": 18,
      "metadata": {
        "colab": {
          "base_uri": "https://localhost:8080/"
        },
        "id": "zZLA9OZsJssf",
        "outputId": "9dbaf94d-5551-4ca1-b3a1-ec7b5b2c92da"
      },
      "outputs": [
        {
          "data": {
            "text/plain": [
              "Country                   0.000000\n",
              "Year                      0.000000\n",
              "Mental_hospitals         19.642857\n",
              "Health_units              8.928571\n",
              "Outpatient_facilities    10.714286\n",
              "dtype: float64"
            ]
          },
          "execution_count": 18,
          "metadata": {},
          "output_type": "execute_result"
        }
      ],
      "source": [
        "#% missing data of each collumn\n",
        "df_facilities_2016.isna().sum()/df_facilities_2016.shape[0]*100"
      ]
    },
    {
      "cell_type": "code",
      "execution_count": 19,
      "metadata": {
        "colab": {
          "base_uri": "https://localhost:8080/"
        },
        "id": "UFUexDBjL9gz",
        "outputId": "b9dfbcfa-2d16-4402-f0a6-84290ec4fe6e"
      },
      "outputs": [
        {
          "data": {
            "text/plain": [
              "Country                  0.0\n",
              "Year                     0.0\n",
              "Mental_hospitals         0.0\n",
              "Health_units             0.0\n",
              "Outpatient_facilities    0.0\n",
              "dtype: float64"
            ]
          },
          "execution_count": 19,
          "metadata": {},
          "output_type": "execute_result"
        }
      ],
      "source": [
        "df_facilities_2016['Mental_hospitals'] = df_facilities_2016['Mental_hospitals'].fillna(df_facilities_2016['Mental_hospitals'].mean())\n",
        "df_facilities_2016['Health_units'] = df_facilities_2016['Health_units'].fillna(df_facilities_2016['Health_units'].mean())\n",
        "df_facilities_2016['Outpatient_facilities'] = df_facilities_2016['Outpatient_facilities'].fillna(df_facilities_2016['Outpatient_facilities'].mean())\n",
        "#% missing data of each collumn\n",
        "df_facilities_2016.isna().sum()/df_facilities_2016.shape[0]*100"
      ]
    },
    {
      "cell_type": "code",
      "execution_count": 20,
      "metadata": {
        "colab": {
          "base_uri": "https://localhost:8080/"
        },
        "id": "dsnikKNsJ2hi",
        "outputId": "641db40e-2917-48bd-91a2-c06c85386c2f"
      },
      "outputs": [
        {
          "data": {
            "text/plain": [
              "Country            0.000000\n",
              "Year               0.000000\n",
              "Psychiatrists      2.803738\n",
              "Nurses            14.953271\n",
              "Social_workers    36.448598\n",
              "Psychologists     21.495327\n",
              "dtype: float64"
            ]
          },
          "execution_count": 20,
          "metadata": {},
          "output_type": "execute_result"
        }
      ],
      "source": [
        "#% missing data of each collumn\n",
        "df_human_resources_2016.isna().sum()/df_human_resources_2016.shape[0]*100"
      ]
    },
    {
      "cell_type": "code",
      "execution_count": 21,
      "metadata": {
        "colab": {
          "base_uri": "https://localhost:8080/"
        },
        "id": "LB90BjxyHvRn",
        "outputId": "7903f504-e195-41fa-d546-178d44600cdb"
      },
      "outputs": [
        {
          "data": {
            "text/plain": [
              "Country           0.0\n",
              "Year              0.0\n",
              "Psychiatrists     0.0\n",
              "Nurses            0.0\n",
              "Social_workers    0.0\n",
              "Psychologists     0.0\n",
              "dtype: float64"
            ]
          },
          "execution_count": 21,
          "metadata": {},
          "output_type": "execute_result"
        }
      ],
      "source": [
        "df_human_resources_2016['Psychiatrists'] = df_human_resources_2016['Psychiatrists'].fillna(df_human_resources_2016['Psychiatrists'].mean())\n",
        "df_human_resources_2016['Nurses'] = df_human_resources_2016['Nurses'].fillna(df_human_resources_2016['Nurses'].mean())\n",
        "df_human_resources_2016['Social_workers'] = df_human_resources_2016['Social_workers'].fillna(df_human_resources_2016['Social_workers'].mean())\n",
        "df_human_resources_2016['Psychologists'] = df_human_resources_2016['Psychologists'].fillna(df_human_resources_2016['Psychologists'].mean())\n",
        "#% missing data of each collumn\n",
        "df_human_resources_2016.isna().sum()/df_human_resources_2016.shape[0]*100"
      ]
    },
    {
      "cell_type": "markdown",
      "metadata": {
        "id": "gSL06mAaKprk"
      },
      "source": [
        "## 4/Handling duplicated data"
      ]
    },
    {
      "cell_type": "code",
      "execution_count": 22,
      "metadata": {
        "colab": {
          "base_uri": "https://localhost:8080/"
        },
        "id": "GLm0MBJVK-7G",
        "outputId": "edfbf2d9-b953-49b7-884f-62d8f61478aa"
      },
      "outputs": [
        {
          "data": {
            "text/plain": [
              "0"
            ]
          },
          "execution_count": 22,
          "metadata": {},
          "output_type": "execute_result"
        }
      ],
      "source": [
        "df_suicide_rate.duplicated().sum()"
      ]
    },
    {
      "cell_type": "code",
      "execution_count": 23,
      "metadata": {
        "colab": {
          "base_uri": "https://localhost:8080/"
        },
        "id": "msnNm2caNQPA",
        "outputId": "f91c4d84-7aa8-47bc-be43-da35d6bcce69"
      },
      "outputs": [
        {
          "data": {
            "text/plain": [
              "0"
            ]
          },
          "execution_count": 23,
          "metadata": {},
          "output_type": "execute_result"
        }
      ],
      "source": [
        "df_suicide_rate_2016.duplicated().sum()"
      ]
    },
    {
      "cell_type": "code",
      "execution_count": 24,
      "metadata": {
        "colab": {
          "base_uri": "https://localhost:8080/"
        },
        "id": "_2M-jp4CNTvx",
        "outputId": "87673b14-7c7e-4ec9-8754-9549ac9f36fd"
      },
      "outputs": [
        {
          "data": {
            "text/plain": [
              "0"
            ]
          },
          "execution_count": 24,
          "metadata": {},
          "output_type": "execute_result"
        }
      ],
      "source": [
        "df_facilities_2016.duplicated().sum()"
      ]
    },
    {
      "cell_type": "code",
      "execution_count": 25,
      "metadata": {
        "colab": {
          "base_uri": "https://localhost:8080/"
        },
        "id": "rnWeVQqTNTQV",
        "outputId": "e29c2560-6889-4698-a0e7-23a2968e4193"
      },
      "outputs": [
        {
          "data": {
            "text/plain": [
              "0"
            ]
          },
          "execution_count": 25,
          "metadata": {},
          "output_type": "execute_result"
        }
      ],
      "source": [
        "df_human_resources_2016.duplicated().sum()"
      ]
    },
    {
      "cell_type": "markdown",
      "metadata": {
        "id": "_N4UtUHPKvFi"
      },
      "source": [
        "## 5/Handle mislabeled and corrupted data"
      ]
    },
    {
      "cell_type": "code",
      "execution_count": 26,
      "metadata": {
        "id": "DEYrPyCKPyze"
      },
      "outputs": [],
      "source": [
        "pd.options.display.float_format = \"{:.2f}\".format"
      ]
    },
    {
      "cell_type": "code",
      "execution_count": 27,
      "metadata": {
        "colab": {
          "base_uri": "https://localhost:8080/",
          "height": 0
        },
        "id": "rV1UGofLK_d6",
        "outputId": "496b363a-20e8-4a19-877e-33cab60e1635"
      },
      "outputs": [
        {
          "data": {
            "text/html": [
              "<div>\n",
              "<style scoped>\n",
              "    .dataframe tbody tr th:only-of-type {\n",
              "        vertical-align: middle;\n",
              "    }\n",
              "\n",
              "    .dataframe tbody tr th {\n",
              "        vertical-align: top;\n",
              "    }\n",
              "\n",
              "    .dataframe thead th {\n",
              "        text-align: right;\n",
              "    }\n",
              "</style>\n",
              "<table border=\"1\" class=\"dataframe\">\n",
              "  <thead>\n",
              "    <tr style=\"text-align: right;\">\n",
              "      <th></th>\n",
              "      <th>Year</th>\n",
              "      <th>No.Suicides</th>\n",
              "      <th>Population</th>\n",
              "      <th>Suicides_rate/100k pop</th>\n",
              "      <th>GDP ($)</th>\n",
              "      <th>GDP/Capita ($)</th>\n",
              "    </tr>\n",
              "  </thead>\n",
              "  <tbody>\n",
              "    <tr>\n",
              "      <th>count</th>\n",
              "      <td>27820.00</td>\n",
              "      <td>27820.00</td>\n",
              "      <td>27820.00</td>\n",
              "      <td>27820.00</td>\n",
              "      <td>27820.00</td>\n",
              "      <td>27820.00</td>\n",
              "    </tr>\n",
              "    <tr>\n",
              "      <th>mean</th>\n",
              "      <td>2001.26</td>\n",
              "      <td>242.57</td>\n",
              "      <td>1844793.62</td>\n",
              "      <td>12.82</td>\n",
              "      <td>445580969025.73</td>\n",
              "      <td>16866.46</td>\n",
              "    </tr>\n",
              "    <tr>\n",
              "      <th>std</th>\n",
              "      <td>8.47</td>\n",
              "      <td>902.05</td>\n",
              "      <td>3911779.44</td>\n",
              "      <td>18.96</td>\n",
              "      <td>1453609985940.91</td>\n",
              "      <td>18887.58</td>\n",
              "    </tr>\n",
              "    <tr>\n",
              "      <th>min</th>\n",
              "      <td>1985.00</td>\n",
              "      <td>0.00</td>\n",
              "      <td>278.00</td>\n",
              "      <td>0.00</td>\n",
              "      <td>46919625.00</td>\n",
              "      <td>251.00</td>\n",
              "    </tr>\n",
              "    <tr>\n",
              "      <th>25%</th>\n",
              "      <td>1995.00</td>\n",
              "      <td>3.00</td>\n",
              "      <td>97498.50</td>\n",
              "      <td>0.92</td>\n",
              "      <td>8985352832.00</td>\n",
              "      <td>3447.00</td>\n",
              "    </tr>\n",
              "    <tr>\n",
              "      <th>50%</th>\n",
              "      <td>2002.00</td>\n",
              "      <td>25.00</td>\n",
              "      <td>430150.00</td>\n",
              "      <td>5.99</td>\n",
              "      <td>48114688201.00</td>\n",
              "      <td>9372.00</td>\n",
              "    </tr>\n",
              "    <tr>\n",
              "      <th>75%</th>\n",
              "      <td>2008.00</td>\n",
              "      <td>131.00</td>\n",
              "      <td>1486143.25</td>\n",
              "      <td>16.62</td>\n",
              "      <td>260202429150.00</td>\n",
              "      <td>24874.00</td>\n",
              "    </tr>\n",
              "    <tr>\n",
              "      <th>max</th>\n",
              "      <td>2016.00</td>\n",
              "      <td>22338.00</td>\n",
              "      <td>43805214.00</td>\n",
              "      <td>224.97</td>\n",
              "      <td>18120714000000.00</td>\n",
              "      <td>126352.00</td>\n",
              "    </tr>\n",
              "  </tbody>\n",
              "</table>\n",
              "</div>"
            ],
            "text/plain": [
              "          Year  No.Suicides  Population  Suicides_rate/100k pop  \\\n",
              "count 27820.00     27820.00    27820.00                27820.00   \n",
              "mean   2001.26       242.57  1844793.62                   12.82   \n",
              "std       8.47       902.05  3911779.44                   18.96   \n",
              "min    1985.00         0.00      278.00                    0.00   \n",
              "25%    1995.00         3.00    97498.50                    0.92   \n",
              "50%    2002.00        25.00   430150.00                    5.99   \n",
              "75%    2008.00       131.00  1486143.25                   16.62   \n",
              "max    2016.00     22338.00 43805214.00                  224.97   \n",
              "\n",
              "                GDP ($)  GDP/Capita ($)  \n",
              "count          27820.00        27820.00  \n",
              "mean    445580969025.73        16866.46  \n",
              "std    1453609985940.91        18887.58  \n",
              "min         46919625.00          251.00  \n",
              "25%       8985352832.00         3447.00  \n",
              "50%      48114688201.00         9372.00  \n",
              "75%     260202429150.00        24874.00  \n",
              "max   18120714000000.00       126352.00  "
            ]
          },
          "execution_count": 27,
          "metadata": {},
          "output_type": "execute_result"
        }
      ],
      "source": [
        "df_suicide_rate.describe()"
      ]
    },
    {
      "cell_type": "code",
      "execution_count": 28,
      "metadata": {
        "colab": {
          "base_uri": "https://localhost:8080/",
          "height": 0
        },
        "id": "CX5f5xyhOja9",
        "outputId": "e4b931a3-30ef-4dab-d130-5474cc442d7d"
      },
      "outputs": [
        {
          "data": {
            "text/html": [
              "<div>\n",
              "<style scoped>\n",
              "    .dataframe tbody tr th:only-of-type {\n",
              "        vertical-align: middle;\n",
              "    }\n",
              "\n",
              "    .dataframe tbody tr th {\n",
              "        vertical-align: top;\n",
              "    }\n",
              "\n",
              "    .dataframe thead th {\n",
              "        text-align: right;\n",
              "    }\n",
              "</style>\n",
              "<table border=\"1\" class=\"dataframe\">\n",
              "  <thead>\n",
              "    <tr style=\"text-align: right;\">\n",
              "      <th></th>\n",
              "      <th>Country</th>\n",
              "      <th>Year</th>\n",
              "      <th>Sex</th>\n",
              "      <th>Age</th>\n",
              "      <th>No.Suicides</th>\n",
              "      <th>Population</th>\n",
              "      <th>Suicides_rate/100k pop</th>\n",
              "      <th>GDP ($)</th>\n",
              "      <th>GDP/Capita ($)</th>\n",
              "    </tr>\n",
              "  </thead>\n",
              "  <tbody>\n",
              "    <tr>\n",
              "      <th>1258</th>\n",
              "      <td>Aruba</td>\n",
              "      <td>1995</td>\n",
              "      <td>male</td>\n",
              "      <td>75+ years</td>\n",
              "      <td>2</td>\n",
              "      <td>889</td>\n",
              "      <td>224.97</td>\n",
              "      <td>1320670391</td>\n",
              "      <td>17949</td>\n",
              "    </tr>\n",
              "    <tr>\n",
              "      <th>1282</th>\n",
              "      <td>Aruba</td>\n",
              "      <td>2000</td>\n",
              "      <td>female</td>\n",
              "      <td>75+ years</td>\n",
              "      <td>2</td>\n",
              "      <td>1499</td>\n",
              "      <td>133.42</td>\n",
              "      <td>1873452514</td>\n",
              "      <td>22333</td>\n",
              "    </tr>\n",
              "    <tr>\n",
              "      <th>1283</th>\n",
              "      <td>Aruba</td>\n",
              "      <td>2000</td>\n",
              "      <td>male</td>\n",
              "      <td>75+ years</td>\n",
              "      <td>1</td>\n",
              "      <td>989</td>\n",
              "      <td>101.11</td>\n",
              "      <td>1873452514</td>\n",
              "      <td>22333</td>\n",
              "    </tr>\n",
              "    <tr>\n",
              "      <th>1798</th>\n",
              "      <td>Austria</td>\n",
              "      <td>1986</td>\n",
              "      <td>male</td>\n",
              "      <td>75+ years</td>\n",
              "      <td>173</td>\n",
              "      <td>158694</td>\n",
              "      <td>109.01</td>\n",
              "      <td>99036165210</td>\n",
              "      <td>13911</td>\n",
              "    </tr>\n",
              "    <tr>\n",
              "      <th>1810</th>\n",
              "      <td>Austria</td>\n",
              "      <td>1987</td>\n",
              "      <td>male</td>\n",
              "      <td>75+ years</td>\n",
              "      <td>208</td>\n",
              "      <td>161591</td>\n",
              "      <td>128.72</td>\n",
              "      <td>124168442860</td>\n",
              "      <td>17415</td>\n",
              "    </tr>\n",
              "    <tr>\n",
              "      <th>...</th>\n",
              "      <td>...</td>\n",
              "      <td>...</td>\n",
              "      <td>...</td>\n",
              "      <td>...</td>\n",
              "      <td>...</td>\n",
              "      <td>...</td>\n",
              "      <td>...</td>\n",
              "      <td>...</td>\n",
              "      <td>...</td>\n",
              "    </tr>\n",
              "    <tr>\n",
              "      <th>24092</th>\n",
              "      <td>Suriname</td>\n",
              "      <td>1990</td>\n",
              "      <td>male</td>\n",
              "      <td>75+ years</td>\n",
              "      <td>3</td>\n",
              "      <td>2000</td>\n",
              "      <td>150.00</td>\n",
              "      <td>388300000</td>\n",
              "      <td>1114</td>\n",
              "    </tr>\n",
              "    <tr>\n",
              "      <th>24308</th>\n",
              "      <td>Suriname</td>\n",
              "      <td>2010</td>\n",
              "      <td>male</td>\n",
              "      <td>75+ years</td>\n",
              "      <td>5</td>\n",
              "      <td>4994</td>\n",
              "      <td>100.12</td>\n",
              "      <td>4368398048</td>\n",
              "      <td>9176</td>\n",
              "    </tr>\n",
              "    <tr>\n",
              "      <th>24332</th>\n",
              "      <td>Suriname</td>\n",
              "      <td>2012</td>\n",
              "      <td>male</td>\n",
              "      <td>75+ years</td>\n",
              "      <td>10</td>\n",
              "      <td>5346</td>\n",
              "      <td>187.06</td>\n",
              "      <td>4980000000</td>\n",
              "      <td>10227</td>\n",
              "    </tr>\n",
              "    <tr>\n",
              "      <th>27364</th>\n",
              "      <td>Uruguay</td>\n",
              "      <td>1999</td>\n",
              "      <td>male</td>\n",
              "      <td>75+ years</td>\n",
              "      <td>66</td>\n",
              "      <td>62922</td>\n",
              "      <td>104.89</td>\n",
              "      <td>23983945191</td>\n",
              "      <td>7903</td>\n",
              "    </tr>\n",
              "    <tr>\n",
              "      <th>27400</th>\n",
              "      <td>Uruguay</td>\n",
              "      <td>2002</td>\n",
              "      <td>male</td>\n",
              "      <td>75+ years</td>\n",
              "      <td>78</td>\n",
              "      <td>67798</td>\n",
              "      <td>115.05</td>\n",
              "      <td>13606494599</td>\n",
              "      <td>4439</td>\n",
              "    </tr>\n",
              "  </tbody>\n",
              "</table>\n",
              "<p>186 rows × 9 columns</p>\n",
              "</div>"
            ],
            "text/plain": [
              "        Country  Year     Sex        Age  No.Suicides  Population  \\\n",
              "1258      Aruba  1995    male  75+ years            2         889   \n",
              "1282      Aruba  2000  female  75+ years            2        1499   \n",
              "1283      Aruba  2000    male  75+ years            1         989   \n",
              "1798    Austria  1986    male  75+ years          173      158694   \n",
              "1810    Austria  1987    male  75+ years          208      161591   \n",
              "...         ...   ...     ...        ...          ...         ...   \n",
              "24092  Suriname  1990    male  75+ years            3        2000   \n",
              "24308  Suriname  2010    male  75+ years            5        4994   \n",
              "24332  Suriname  2012    male  75+ years           10        5346   \n",
              "27364   Uruguay  1999    male  75+ years           66       62922   \n",
              "27400   Uruguay  2002    male  75+ years           78       67798   \n",
              "\n",
              "       Suicides_rate/100k pop       GDP ($)  GDP/Capita ($)  \n",
              "1258                   224.97    1320670391           17949  \n",
              "1282                   133.42    1873452514           22333  \n",
              "1283                   101.11    1873452514           22333  \n",
              "1798                   109.01   99036165210           13911  \n",
              "1810                   128.72  124168442860           17415  \n",
              "...                       ...           ...             ...  \n",
              "24092                  150.00     388300000            1114  \n",
              "24308                  100.12    4368398048            9176  \n",
              "24332                  187.06    4980000000           10227  \n",
              "27364                  104.89   23983945191            7903  \n",
              "27400                  115.05   13606494599            4439  \n",
              "\n",
              "[186 rows x 9 columns]"
            ]
          },
          "execution_count": 28,
          "metadata": {},
          "output_type": "execute_result"
        }
      ],
      "source": [
        "df_suicide_rate[df_suicide_rate['Suicides_rate/100k pop']>=100]"
      ]
    },
    {
      "cell_type": "code",
      "execution_count": 29,
      "metadata": {
        "colab": {
          "base_uri": "https://localhost:8080/"
        },
        "id": "3fhD1ozoQiNz",
        "outputId": "a93f2c2d-93a2-475a-b7a4-931be6aae40f"
      },
      "outputs": [
        {
          "data": {
            "text/plain": [
              "array(['Albania', 'Antigua and Barbuda', 'Argentina', 'Armenia', 'Aruba',\n",
              "       'Australia', 'Austria', 'Azerbaijan', 'Bahamas', 'Bahrain',\n",
              "       'Barbados', 'Belarus', 'Belgium', 'Belize',\n",
              "       'Bosnia and Herzegovina', 'Brazil', 'Bulgaria', 'Cabo Verde',\n",
              "       'Canada', 'Chile', 'Colombia', 'Costa Rica', 'Croatia', 'Cuba',\n",
              "       'Cyprus', 'Czech Republic', 'Denmark', 'Dominica', 'Ecuador',\n",
              "       'El Salvador', 'Estonia', 'Fiji', 'Finland', 'France', 'Georgia',\n",
              "       'Germany', 'Greece', 'Grenada', 'Guatemala', 'Guyana', 'Hungary',\n",
              "       'Iceland', 'Ireland', 'Israel', 'Italy', 'Jamaica', 'Japan',\n",
              "       'Kazakhstan', 'Kiribati', 'Kuwait', 'Kyrgyzstan', 'Latvia',\n",
              "       'Lithuania', 'Luxembourg', 'Macau', 'Maldives', 'Malta',\n",
              "       'Mauritius', 'Mexico', 'Mongolia', 'Montenegro', 'Netherlands',\n",
              "       'New Zealand', 'Nicaragua', 'Norway', 'Oman', 'Panama', 'Paraguay',\n",
              "       'Philippines', 'Poland', 'Portugal', 'Puerto Rico', 'Qatar',\n",
              "       'Republic of Korea', 'Romania', 'Russian Federation',\n",
              "       'Saint Kitts and Nevis', 'Saint Lucia',\n",
              "       'Saint Vincent and Grenadines', 'San Marino', 'Serbia',\n",
              "       'Seychelles', 'Singapore', 'Slovakia', 'Slovenia', 'South Africa',\n",
              "       'Spain', 'Sri Lanka', 'Suriname', 'Sweden', 'Switzerland',\n",
              "       'Thailand', 'Trinidad and Tobago', 'Turkey', 'Turkmenistan',\n",
              "       'Ukraine', 'United Arab Emirates', 'United Kingdom',\n",
              "       'United States', 'Uruguay', 'Uzbekistan'], dtype=object)"
            ]
          },
          "execution_count": 29,
          "metadata": {},
          "output_type": "execute_result"
        }
      ],
      "source": [
        "# Categorical \n",
        "df_suicide_rate['Country'].unique()"
      ]
    },
    {
      "cell_type": "code",
      "execution_count": 30,
      "metadata": {
        "colab": {
          "base_uri": "https://localhost:8080/"
        },
        "id": "8bWVZUa0QxM-",
        "outputId": "eb7dd590-26ab-44f7-e990-bf2d93353ea4"
      },
      "outputs": [
        {
          "data": {
            "text/plain": [
              "array([1985, 1986, 1987, 1988, 1989, 1990, 1991, 1992, 1993, 1994, 1995,\n",
              "       1996, 1997, 1998, 1999, 2000, 2001, 2002, 2003, 2004, 2005, 2006,\n",
              "       2007, 2008, 2009, 2010, 2011, 2012, 2013, 2014, 2015, 2016],\n",
              "      dtype=int64)"
            ]
          },
          "execution_count": 30,
          "metadata": {},
          "output_type": "execute_result"
        }
      ],
      "source": [
        "df_suicide_rate.sort_values(['Year'], ascending=True)['Year'].unique()"
      ]
    },
    {
      "cell_type": "code",
      "execution_count": 31,
      "metadata": {
        "id": "NrwlZvmkhtGm"
      },
      "outputs": [],
      "source": [
        "def clean_sex(x):\n",
        "  if x['Sex']=='female':\n",
        "    return 'Female'\n",
        "  else:\n",
        "    return 'Male'\n",
        "df_suicide_rate['Sex']=df_suicide_rate.apply(clean_sex,axis=1)"
      ]
    },
    {
      "cell_type": "code",
      "execution_count": 32,
      "metadata": {
        "colab": {
          "base_uri": "https://localhost:8080/"
        },
        "id": "nQABlRsrSeO7",
        "outputId": "0ed3d8d9-688c-4e05-f24c-cca02eb4aa21"
      },
      "outputs": [
        {
          "data": {
            "text/plain": [
              "array(['Female', 'Male'], dtype=object)"
            ]
          },
          "execution_count": 32,
          "metadata": {},
          "output_type": "execute_result"
        }
      ],
      "source": [
        "\n",
        "df_suicide_rate['Sex'].unique()"
      ]
    },
    {
      "cell_type": "code",
      "execution_count": 33,
      "metadata": {
        "colab": {
          "base_uri": "https://localhost:8080/"
        },
        "id": "FYW5gKp1SQ_K",
        "outputId": "05f502ee-74ea-48ce-dc07-a55997aa677c"
      },
      "outputs": [
        {
          "data": {
            "text/plain": [
              "array(['05-14 years', '15-24 years', '25-34 years', '35-54 years',\n",
              "       '55-74 years', '75+ years'], dtype=object)"
            ]
          },
          "execution_count": 33,
          "metadata": {},
          "output_type": "execute_result"
        }
      ],
      "source": [
        "df_suicide_rate['Age'].unique()"
      ]
    },
    {
      "cell_type": "code",
      "execution_count": 34,
      "metadata": {
        "colab": {
          "base_uri": "https://localhost:8080/",
          "height": 0
        },
        "id": "0sV4qYNBN5dP",
        "outputId": "d119d5db-4c2d-4ae8-fea6-55675d23294d"
      },
      "outputs": [
        {
          "data": {
            "text/html": [
              "<div>\n",
              "<style scoped>\n",
              "    .dataframe tbody tr th:only-of-type {\n",
              "        vertical-align: middle;\n",
              "    }\n",
              "\n",
              "    .dataframe tbody tr th {\n",
              "        vertical-align: top;\n",
              "    }\n",
              "\n",
              "    .dataframe thead th {\n",
              "        text-align: right;\n",
              "    }\n",
              "</style>\n",
              "<table border=\"1\" class=\"dataframe\">\n",
              "  <thead>\n",
              "    <tr style=\"text-align: right;\">\n",
              "      <th></th>\n",
              "      <th>Suicide Rate</th>\n",
              "      <th>Publication year of the policy or plan (latest revision)</th>\n",
              "    </tr>\n",
              "  </thead>\n",
              "  <tbody>\n",
              "    <tr>\n",
              "      <th>count</th>\n",
              "      <td>549.00</td>\n",
              "      <td>549.00</td>\n",
              "    </tr>\n",
              "    <tr>\n",
              "      <th>mean</th>\n",
              "      <td>9.79</td>\n",
              "      <td>989.80</td>\n",
              "    </tr>\n",
              "    <tr>\n",
              "      <th>std</th>\n",
              "      <td>7.47</td>\n",
              "      <td>1007.08</td>\n",
              "    </tr>\n",
              "    <tr>\n",
              "      <th>min</th>\n",
              "      <td>0.00</td>\n",
              "      <td>0.00</td>\n",
              "    </tr>\n",
              "    <tr>\n",
              "      <th>25%</th>\n",
              "      <td>4.30</td>\n",
              "      <td>0.00</td>\n",
              "    </tr>\n",
              "    <tr>\n",
              "      <th>50%</th>\n",
              "      <td>7.90</td>\n",
              "      <td>0.00</td>\n",
              "    </tr>\n",
              "    <tr>\n",
              "      <th>75%</th>\n",
              "      <td>13.40</td>\n",
              "      <td>2014.00</td>\n",
              "    </tr>\n",
              "    <tr>\n",
              "      <th>max</th>\n",
              "      <td>48.30</td>\n",
              "      <td>2017.00</td>\n",
              "    </tr>\n",
              "  </tbody>\n",
              "</table>\n",
              "</div>"
            ],
            "text/plain": [
              "       Suicide Rate  Publication year of the policy or plan (latest revision)\n",
              "count        549.00                                             549.00       \n",
              "mean           9.79                                             989.80       \n",
              "std            7.47                                            1007.08       \n",
              "min            0.00                                               0.00       \n",
              "25%            4.30                                               0.00       \n",
              "50%            7.90                                               0.00       \n",
              "75%           13.40                                            2014.00       \n",
              "max           48.30                                            2017.00       "
            ]
          },
          "execution_count": 34,
          "metadata": {},
          "output_type": "execute_result"
        }
      ],
      "source": [
        "df_suicide_rate_2016.describe()\n"
      ]
    },
    {
      "cell_type": "code",
      "execution_count": 35,
      "metadata": {
        "colab": {
          "base_uri": "https://localhost:8080/"
        },
        "id": "26yqaDI0XOtL",
        "outputId": "5395523e-7384-4234-bddb-8825a3abc184"
      },
      "outputs": [
        {
          "data": {
            "text/plain": [
              "183"
            ]
          },
          "execution_count": 35,
          "metadata": {},
          "output_type": "execute_result"
        }
      ],
      "source": [
        "len(df_suicide_rate_2016['Country'].unique())"
      ]
    },
    {
      "cell_type": "code",
      "execution_count": 36,
      "metadata": {
        "colab": {
          "base_uri": "https://localhost:8080/"
        },
        "id": "x_jR-QIAVGf2",
        "outputId": "b1849f5d-9896-4c52-a78a-1f184a22d7e4"
      },
      "outputs": [
        {
          "data": {
            "text/plain": [
              "array(['1987', '2012', '1905', 0, '1957', '2013', '2004', '2011', '2015',\n",
              "       'No', '2001', '2014', '2006', '2009', '2010', '2016', '1964',\n",
              "       '2007', '1999', '1930', '2017', '1989', '2005', '1838', '1959',\n",
              "       '1912', '1973', '1992', '2018', '1998', '1975', '2008', '2002',\n",
              "       '1953', '1936', '1951', '1996'], dtype=object)"
            ]
          },
          "execution_count": 36,
          "metadata": {},
          "output_type": "execute_result"
        }
      ],
      "source": [
        "df_suicide_rate_2016['Year the law was enacted (latest revision)'].unique()"
      ]
    },
    {
      "cell_type": "code",
      "execution_count": 37,
      "metadata": {
        "colab": {
          "base_uri": "https://localhost:8080/",
          "height": 0
        },
        "id": "6PGNzHxTN6o5",
        "outputId": "09a67731-2218-4059-d8b0-e142285e3307"
      },
      "outputs": [
        {
          "data": {
            "text/html": [
              "<div>\n",
              "<style scoped>\n",
              "    .dataframe tbody tr th:only-of-type {\n",
              "        vertical-align: middle;\n",
              "    }\n",
              "\n",
              "    .dataframe tbody tr th {\n",
              "        vertical-align: top;\n",
              "    }\n",
              "\n",
              "    .dataframe thead th {\n",
              "        text-align: right;\n",
              "    }\n",
              "</style>\n",
              "<table border=\"1\" class=\"dataframe\">\n",
              "  <thead>\n",
              "    <tr style=\"text-align: right;\">\n",
              "      <th></th>\n",
              "      <th>Year</th>\n",
              "      <th>Mental_hospitals</th>\n",
              "      <th>Health_units</th>\n",
              "      <th>Outpatient_facilities</th>\n",
              "    </tr>\n",
              "  </thead>\n",
              "  <tbody>\n",
              "    <tr>\n",
              "      <th>count</th>\n",
              "      <td>112.00</td>\n",
              "      <td>112.00</td>\n",
              "      <td>112.00</td>\n",
              "      <td>112.00</td>\n",
              "    </tr>\n",
              "    <tr>\n",
              "      <th>mean</th>\n",
              "      <td>2016.00</td>\n",
              "      <td>0.25</td>\n",
              "      <td>0.32</td>\n",
              "      <td>1.88</td>\n",
              "    </tr>\n",
              "    <tr>\n",
              "      <th>std</th>\n",
              "      <td>0.00</td>\n",
              "      <td>0.82</td>\n",
              "      <td>0.59</td>\n",
              "      <td>3.05</td>\n",
              "    </tr>\n",
              "    <tr>\n",
              "      <th>min</th>\n",
              "      <td>2016.00</td>\n",
              "      <td>0.00</td>\n",
              "      <td>0.01</td>\n",
              "      <td>0.01</td>\n",
              "    </tr>\n",
              "    <tr>\n",
              "      <th>25%</th>\n",
              "      <td>2016.00</td>\n",
              "      <td>0.02</td>\n",
              "      <td>0.04</td>\n",
              "      <td>0.16</td>\n",
              "    </tr>\n",
              "    <tr>\n",
              "      <th>50%</th>\n",
              "      <td>2016.00</td>\n",
              "      <td>0.08</td>\n",
              "      <td>0.13</td>\n",
              "      <td>0.88</td>\n",
              "    </tr>\n",
              "    <tr>\n",
              "      <th>75%</th>\n",
              "      <td>2016.00</td>\n",
              "      <td>0.25</td>\n",
              "      <td>0.33</td>\n",
              "      <td>1.88</td>\n",
              "    </tr>\n",
              "    <tr>\n",
              "      <th>max</th>\n",
              "      <td>2016.00</td>\n",
              "      <td>8.31</td>\n",
              "      <td>4.54</td>\n",
              "      <td>19.75</td>\n",
              "    </tr>\n",
              "  </tbody>\n",
              "</table>\n",
              "</div>"
            ],
            "text/plain": [
              "         Year  Mental_hospitals  Health_units  Outpatient_facilities\n",
              "count  112.00            112.00        112.00                 112.00\n",
              "mean  2016.00              0.25          0.32                   1.88\n",
              "std      0.00              0.82          0.59                   3.05\n",
              "min   2016.00              0.00          0.01                   0.01\n",
              "25%   2016.00              0.02          0.04                   0.16\n",
              "50%   2016.00              0.08          0.13                   0.88\n",
              "75%   2016.00              0.25          0.33                   1.88\n",
              "max   2016.00              8.31          4.54                  19.75"
            ]
          },
          "execution_count": 37,
          "metadata": {},
          "output_type": "execute_result"
        }
      ],
      "source": [
        "df_facilities_2016.describe()"
      ]
    },
    {
      "cell_type": "code",
      "execution_count": 38,
      "metadata": {
        "colab": {
          "base_uri": "https://localhost:8080/"
        },
        "id": "MBT0nTdKXx2q",
        "outputId": "19dc3702-c75b-497b-8170-db4b64e9bb82"
      },
      "outputs": [
        {
          "name": "stdout",
          "output_type": "stream",
          "text": [
            "112\n"
          ]
        },
        {
          "data": {
            "text/plain": [
              "array(['Afghanistan', 'Albania', 'Algeria', 'Angola',\n",
              "       'Antigua and Barbuda', 'Argentina', 'Armenia', 'Azerbaijan',\n",
              "       'Bangladesh', 'Belarus', 'Belize', 'Bhutan',\n",
              "       'Bolivia (Plurinational State of)', 'Brazil', 'Brunei Darussalam',\n",
              "       'Bulgaria', 'Burkina Faso', 'Cambodia', 'Chad', 'Chile',\n",
              "       'Colombia', 'Congo', 'Cook Islands', 'Costa Rica', 'Croatia',\n",
              "       'Cuba', \"Côte d'Ivoire\", 'Dominican Republic', 'Ecuador', 'Egypt',\n",
              "       'El Salvador', 'Eritrea', 'Estonia', 'Fiji', 'Gabon', 'Georgia',\n",
              "       'Ghana', 'Greece', 'Grenada', 'Guatemala', 'Guinea',\n",
              "       'Guinea-Bissau', 'Guyana', 'Haiti', 'Hungary', 'Iceland', 'India',\n",
              "       'Indonesia', 'Ireland', 'Israel', 'Japan', 'Jordan', 'Kenya',\n",
              "       'Kyrgyzstan', 'Liberia', 'Libya', 'Lithuania', 'Madagascar',\n",
              "       'Malaysia', 'Mali', 'Mexico', 'Monaco', 'Mongolia', 'Montenegro',\n",
              "       'Morocco', 'Mozambique', 'Myanmar', 'Namibia', 'Nauru', 'Nepal',\n",
              "       'New Zealand', 'Niger', 'Norway', 'Pakistan', 'Panama', 'Paraguay',\n",
              "       'Peru', 'Philippines', 'Poland', 'Portugal', 'Qatar',\n",
              "       'Republic of Korea', 'Romania', 'Rwanda', 'Saint Lucia', 'Samoa',\n",
              "       'Sao Tome and Principe', 'Saudi Arabia', 'Senegal', 'Seychelles',\n",
              "       'Singapore', 'Slovenia', 'South Africa', 'South Sudan',\n",
              "       'Syrian Arab Republic', 'Tajikistan', 'Thailand', 'Timor-Leste',\n",
              "       'Togo', 'Tonga', 'Turkey', 'Uganda', 'Ukraine',\n",
              "       'United Arab Emirates', 'United States of America', 'Uruguay',\n",
              "       'Uzbekistan', 'Vanuatu', 'Viet Nam', 'Yemen', 'Zambia', 'Zimbabwe'],\n",
              "      dtype=object)"
            ]
          },
          "execution_count": 38,
          "metadata": {},
          "output_type": "execute_result"
        }
      ],
      "source": [
        "print(len(df_facilities_2016['Country'].unique()))\n",
        "df_facilities_2016['Country'].unique()"
      ]
    },
    {
      "cell_type": "code",
      "execution_count": 39,
      "metadata": {
        "colab": {
          "base_uri": "https://localhost:8080/"
        },
        "id": "Ym7HXX5N2xwv",
        "outputId": "be3cae1d-e98c-4cb4-f0b2-dfaab4ba47b8"
      },
      "outputs": [
        {
          "data": {
            "text/plain": [
              "array([2016], dtype=int64)"
            ]
          },
          "execution_count": 39,
          "metadata": {},
          "output_type": "execute_result"
        }
      ],
      "source": [
        "df_facilities_2016['Year'].unique()"
      ]
    },
    {
      "cell_type": "code",
      "execution_count": 40,
      "metadata": {
        "colab": {
          "base_uri": "https://localhost:8080/",
          "height": 0
        },
        "id": "voABG374N7xs",
        "outputId": "b61b58ee-d1df-4754-9244-b9a85a079645"
      },
      "outputs": [
        {
          "data": {
            "text/html": [
              "<div>\n",
              "<style scoped>\n",
              "    .dataframe tbody tr th:only-of-type {\n",
              "        vertical-align: middle;\n",
              "    }\n",
              "\n",
              "    .dataframe tbody tr th {\n",
              "        vertical-align: top;\n",
              "    }\n",
              "\n",
              "    .dataframe thead th {\n",
              "        text-align: right;\n",
              "    }\n",
              "</style>\n",
              "<table border=\"1\" class=\"dataframe\">\n",
              "  <thead>\n",
              "    <tr style=\"text-align: right;\">\n",
              "      <th></th>\n",
              "      <th>Year</th>\n",
              "      <th>Psychiatrists</th>\n",
              "      <th>Nurses</th>\n",
              "      <th>Social_workers</th>\n",
              "      <th>Psychologists</th>\n",
              "    </tr>\n",
              "  </thead>\n",
              "  <tbody>\n",
              "    <tr>\n",
              "      <th>count</th>\n",
              "      <td>107.00</td>\n",
              "      <td>107.00</td>\n",
              "      <td>107.00</td>\n",
              "      <td>107.00</td>\n",
              "      <td>107.00</td>\n",
              "    </tr>\n",
              "    <tr>\n",
              "      <th>mean</th>\n",
              "      <td>2016.00</td>\n",
              "      <td>4.34</td>\n",
              "      <td>12.12</td>\n",
              "      <td>4.83</td>\n",
              "      <td>10.42</td>\n",
              "    </tr>\n",
              "    <tr>\n",
              "      <th>std</th>\n",
              "      <td>0.00</td>\n",
              "      <td>7.54</td>\n",
              "      <td>21.07</td>\n",
              "      <td>13.44</td>\n",
              "      <td>27.83</td>\n",
              "    </tr>\n",
              "    <tr>\n",
              "      <th>min</th>\n",
              "      <td>2016.00</td>\n",
              "      <td>0.01</td>\n",
              "      <td>0.00</td>\n",
              "      <td>0.01</td>\n",
              "      <td>0.00</td>\n",
              "    </tr>\n",
              "    <tr>\n",
              "      <th>25%</th>\n",
              "      <td>2016.00</td>\n",
              "      <td>0.23</td>\n",
              "      <td>1.00</td>\n",
              "      <td>0.23</td>\n",
              "      <td>0.41</td>\n",
              "    </tr>\n",
              "    <tr>\n",
              "      <th>50%</th>\n",
              "      <td>2016.00</td>\n",
              "      <td>1.32</td>\n",
              "      <td>6.00</td>\n",
              "      <td>1.61</td>\n",
              "      <td>2.08</td>\n",
              "    </tr>\n",
              "    <tr>\n",
              "      <th>75%</th>\n",
              "      <td>2016.00</td>\n",
              "      <td>4.34</td>\n",
              "      <td>12.12</td>\n",
              "      <td>4.83</td>\n",
              "      <td>10.42</td>\n",
              "    </tr>\n",
              "    <tr>\n",
              "      <th>max</th>\n",
              "      <td>2016.00</td>\n",
              "      <td>48.04</td>\n",
              "      <td>150.25</td>\n",
              "      <td>102.59</td>\n",
              "      <td>222.57</td>\n",
              "    </tr>\n",
              "  </tbody>\n",
              "</table>\n",
              "</div>"
            ],
            "text/plain": [
              "         Year  Psychiatrists  Nurses  Social_workers  Psychologists\n",
              "count  107.00         107.00  107.00          107.00         107.00\n",
              "mean  2016.00           4.34   12.12            4.83          10.42\n",
              "std      0.00           7.54   21.07           13.44          27.83\n",
              "min   2016.00           0.01    0.00            0.01           0.00\n",
              "25%   2016.00           0.23    1.00            0.23           0.41\n",
              "50%   2016.00           1.32    6.00            1.61           2.08\n",
              "75%   2016.00           4.34   12.12            4.83          10.42\n",
              "max   2016.00          48.04  150.25          102.59         222.57"
            ]
          },
          "execution_count": 40,
          "metadata": {},
          "output_type": "execute_result"
        }
      ],
      "source": [
        "df_human_resources_2016.describe()"
      ]
    },
    {
      "cell_type": "code",
      "execution_count": 41,
      "metadata": {
        "colab": {
          "base_uri": "https://localhost:8080/"
        },
        "id": "btTTBhKhYLER",
        "outputId": "3feef1b0-f618-420b-f96e-facddbcd7c89"
      },
      "outputs": [
        {
          "name": "stdout",
          "output_type": "stream",
          "text": [
            "107\n"
          ]
        },
        {
          "data": {
            "text/plain": [
              "array(['Afghanistan', 'Albania', 'Angola', 'Antigua and Barbuda',\n",
              "       'Argentina', 'Armenia', 'Azerbaijan', 'Bangladesh', 'Belarus',\n",
              "       'Belize', 'Bhutan', 'Bolivia (Plurinational State of)', 'Brazil',\n",
              "       'Brunei Darussalam', 'Bulgaria', 'Burkina Faso', 'Cambodia',\n",
              "       'Chad', 'Chile', 'Colombia', 'Congo', 'Cook Islands', 'Costa Rica',\n",
              "       'Croatia', 'Cuba', \"Côte d'Ivoire\", 'Dominican Republic',\n",
              "       'Ecuador', 'Egypt', 'El Salvador', 'Eritrea', 'Estonia', 'Fiji',\n",
              "       'Gabon', 'Gambia', 'Georgia', 'Ghana', 'Greece', 'Grenada',\n",
              "       'Guatemala', 'Guinea', 'Guinea-Bissau', 'Guyana', 'Haiti',\n",
              "       'Hungary', 'India', 'Indonesia', 'Israel', 'Japan', 'Jordan',\n",
              "       'Kenya', 'Kyrgyzstan', 'Liberia', 'Lithuania', 'Madagascar',\n",
              "       'Malaysia', 'Mali', 'Mexico', 'Monaco', 'Mongolia', 'Montenegro',\n",
              "       'Morocco', 'Mozambique', 'Myanmar', 'Namibia', 'Nauru', 'Nepal',\n",
              "       'New Zealand', 'Niger', 'Norway', 'Panama', 'Peru', 'Philippines',\n",
              "       'Poland', 'Qatar', 'Republic of Korea', 'Romania', 'Rwanda',\n",
              "       'Saint Lucia', 'Samoa', 'Sao Tome and Principe', 'Saudi Arabia',\n",
              "       'Senegal', 'Seychelles', 'Singapore', 'Slovenia', 'South Africa',\n",
              "       'South Sudan', 'Suriname', 'Sweden', 'Syrian Arab Republic',\n",
              "       'Tajikistan', 'Thailand', 'Timor-Leste', 'Togo', 'Tonga', 'Turkey',\n",
              "       'Uganda', 'Ukraine', 'United Arab Emirates',\n",
              "       'United States of America', 'Uruguay', 'Uzbekistan', 'Vanuatu',\n",
              "       'Yemen', 'Zambia', 'Zimbabwe'], dtype=object)"
            ]
          },
          "execution_count": 41,
          "metadata": {},
          "output_type": "execute_result"
        }
      ],
      "source": [
        "print(len(df_human_resources_2016['Country'].unique()))\n",
        "df_human_resources_2016['Country'].unique()"
      ]
    },
    {
      "cell_type": "code",
      "execution_count": 42,
      "metadata": {
        "colab": {
          "base_uri": "https://localhost:8080/"
        },
        "id": "VRhheNuA27HR",
        "outputId": "a1eff2ef-8997-4a9e-8140-1192ef5580fb"
      },
      "outputs": [
        {
          "data": {
            "text/plain": [
              "array([2016], dtype=int64)"
            ]
          },
          "execution_count": 42,
          "metadata": {},
          "output_type": "execute_result"
        }
      ],
      "source": [
        "df_human_resources_2016['Year'].unique()"
      ]
    },
    {
      "cell_type": "markdown",
      "metadata": {
        "id": "6ApV092i5MqW"
      },
      "source": [
        "# III/READY DATA"
      ]
    },
    {
      "cell_type": "markdown",
      "metadata": {
        "id": "F_OwhNyQlQDF"
      },
      "source": [
        "## 1/Suicide rate"
      ]
    },
    {
      "cell_type": "code",
      "execution_count": 43,
      "metadata": {
        "colab": {
          "base_uri": "https://localhost:8080/",
          "height": 0
        },
        "id": "70hNZghF4_NS",
        "outputId": "6318f762-69b8-4180-b945-2d385e488d8b"
      },
      "outputs": [
        {
          "name": "stderr",
          "output_type": "stream",
          "text": [
            "C:\\Users\\ADMIN\\AppData\\Local\\Temp/ipykernel_14852/2639260144.py:2: FutureWarning: Indexing with multiple keys (implicitly converted to a tuple of keys) will be deprecated, use a list instead.\n",
            "  df_country_suicide=df_suicide_rate.groupby(['Country','Year','GDP ($)','GDP/Capita ($)'])['No.Suicides','Population'].sum().reset_index()\n"
          ]
        },
        {
          "data": {
            "text/html": [
              "<div>\n",
              "<style scoped>\n",
              "    .dataframe tbody tr th:only-of-type {\n",
              "        vertical-align: middle;\n",
              "    }\n",
              "\n",
              "    .dataframe tbody tr th {\n",
              "        vertical-align: top;\n",
              "    }\n",
              "\n",
              "    .dataframe thead th {\n",
              "        text-align: right;\n",
              "    }\n",
              "</style>\n",
              "<table border=\"1\" class=\"dataframe\">\n",
              "  <thead>\n",
              "    <tr style=\"text-align: right;\">\n",
              "      <th></th>\n",
              "      <th>Country</th>\n",
              "      <th>Year</th>\n",
              "      <th>GDP ($)</th>\n",
              "      <th>GDP/Capita ($)</th>\n",
              "      <th>No.Suicides</th>\n",
              "      <th>Population</th>\n",
              "      <th>Suicides_rate/100k pop</th>\n",
              "    </tr>\n",
              "  </thead>\n",
              "  <tbody>\n",
              "    <tr>\n",
              "      <th>0</th>\n",
              "      <td>Albania</td>\n",
              "      <td>1987</td>\n",
              "      <td>2156624900</td>\n",
              "      <td>796</td>\n",
              "      <td>73</td>\n",
              "      <td>2709600</td>\n",
              "      <td>2.69</td>\n",
              "    </tr>\n",
              "    <tr>\n",
              "      <th>1</th>\n",
              "      <td>Albania</td>\n",
              "      <td>1988</td>\n",
              "      <td>2126000000</td>\n",
              "      <td>769</td>\n",
              "      <td>63</td>\n",
              "      <td>2764300</td>\n",
              "      <td>2.28</td>\n",
              "    </tr>\n",
              "    <tr>\n",
              "      <th>2</th>\n",
              "      <td>Albania</td>\n",
              "      <td>1989</td>\n",
              "      <td>2335124988</td>\n",
              "      <td>833</td>\n",
              "      <td>68</td>\n",
              "      <td>2803100</td>\n",
              "      <td>2.43</td>\n",
              "    </tr>\n",
              "    <tr>\n",
              "      <th>3</th>\n",
              "      <td>Albania</td>\n",
              "      <td>1992</td>\n",
              "      <td>709452584</td>\n",
              "      <td>251</td>\n",
              "      <td>47</td>\n",
              "      <td>2822500</td>\n",
              "      <td>1.67</td>\n",
              "    </tr>\n",
              "    <tr>\n",
              "      <th>4</th>\n",
              "      <td>Albania</td>\n",
              "      <td>1993</td>\n",
              "      <td>1228071038</td>\n",
              "      <td>437</td>\n",
              "      <td>73</td>\n",
              "      <td>2807300</td>\n",
              "      <td>2.60</td>\n",
              "    </tr>\n",
              "  </tbody>\n",
              "</table>\n",
              "</div>"
            ],
            "text/plain": [
              "   Country  Year     GDP ($)  GDP/Capita ($)  No.Suicides  Population  \\\n",
              "0  Albania  1987  2156624900             796           73     2709600   \n",
              "1  Albania  1988  2126000000             769           63     2764300   \n",
              "2  Albania  1989  2335124988             833           68     2803100   \n",
              "3  Albania  1992   709452584             251           47     2822500   \n",
              "4  Albania  1993  1228071038             437           73     2807300   \n",
              "\n",
              "   Suicides_rate/100k pop  \n",
              "0                    2.69  \n",
              "1                    2.28  \n",
              "2                    2.43  \n",
              "3                    1.67  \n",
              "4                    2.60  "
            ]
          },
          "execution_count": 43,
          "metadata": {},
          "output_type": "execute_result"
        }
      ],
      "source": [
        "#Suicide rate by Country every year\n",
        "df_country_suicide=df_suicide_rate.groupby(['Country','Year','GDP ($)','GDP/Capita ($)'])['No.Suicides','Population'].sum().reset_index()\n",
        "\n",
        "df_country_suicide['Suicides_rate/100k pop']=df_country_suicide['No.Suicides']/df_country_suicide['Population']*100000\n",
        "df_country_suicide.head()"
      ]
    },
    {
      "cell_type": "code",
      "execution_count": 44,
      "metadata": {
        "colab": {
          "base_uri": "https://localhost:8080/"
        },
        "id": "RkZBvY-fgh-m",
        "outputId": "d9f32df2-b421-47f6-f8e3-661967ba83fd"
      },
      "outputs": [
        {
          "data": {
            "text/plain": [
              "array(['Albania', 'Antigua and Barbuda', 'Argentina', 'Armenia', 'Aruba',\n",
              "       'Australia', 'Austria', 'Azerbaijan', 'Bahamas', 'Bahrain',\n",
              "       'Barbados', 'Belarus', 'Belgium', 'Belize',\n",
              "       'Bosnia and Herzegovina', 'Brazil', 'Bulgaria', 'Cabo Verde',\n",
              "       'Canada', 'Chile', 'Colombia', 'Costa Rica', 'Croatia', 'Cuba',\n",
              "       'Cyprus', 'Czech Republic', 'Denmark', 'Dominica', 'Ecuador',\n",
              "       'El Salvador', 'Estonia', 'Fiji', 'Finland', 'France', 'Georgia',\n",
              "       'Germany', 'Greece', 'Grenada', 'Guatemala', 'Guyana', 'Hungary',\n",
              "       'Iceland', 'Ireland', 'Israel', 'Italy', 'Jamaica', 'Japan',\n",
              "       'Kazakhstan', 'Kiribati', 'Kuwait', 'Kyrgyzstan', 'Latvia',\n",
              "       'Lithuania', 'Luxembourg', 'Macau', 'Maldives', 'Malta',\n",
              "       'Mauritius', 'Mexico', 'Mongolia', 'Montenegro', 'Netherlands',\n",
              "       'New Zealand', 'Nicaragua', 'Norway', 'Oman', 'Panama', 'Paraguay',\n",
              "       'Philippines', 'Poland', 'Portugal', 'Puerto Rico', 'Qatar',\n",
              "       'Republic of Korea', 'Romania', 'Russian Federation',\n",
              "       'Saint Kitts and Nevis', 'Saint Lucia',\n",
              "       'Saint Vincent and Grenadines', 'San Marino', 'Serbia',\n",
              "       'Seychelles', 'Singapore', 'Slovakia', 'Slovenia', 'South Africa',\n",
              "       'Spain', 'Sri Lanka', 'Suriname', 'Sweden', 'Switzerland',\n",
              "       'Thailand', 'Trinidad and Tobago', 'Turkey', 'Turkmenistan',\n",
              "       'Ukraine', 'United Arab Emirates', 'United Kingdom',\n",
              "       'United States', 'Uruguay', 'Uzbekistan'], dtype=object)"
            ]
          },
          "execution_count": 44,
          "metadata": {},
          "output_type": "execute_result"
        }
      ],
      "source": [
        "df_country_suicide['Country'].unique()"
      ]
    },
    {
      "cell_type": "code",
      "execution_count": 45,
      "metadata": {
        "colab": {
          "base_uri": "https://localhost:8080/"
        },
        "id": "yoGrNx0aWVhw",
        "outputId": "c31e3fd6-15c5-4bfc-94f5-cef82d6f660e"
      },
      "outputs": [
        {
          "data": {
            "text/plain": [
              "array(['Antigua and Barbuda', 'Argentina', 'Armenia', 'Australia',\n",
              "       'Austria', 'Belgium', 'Belize', 'Brazil', 'Chile', 'Colombia',\n",
              "       'Croatia', 'Cuba', 'Cyprus', 'Czech Republic', 'Denmark',\n",
              "       'Ecuador', 'Estonia', 'Finland', 'Georgia', 'Germany', 'Greece',\n",
              "       'Grenada', 'Guatemala', 'Hungary', 'Iceland', 'Israel', 'Italy',\n",
              "       'Japan', 'Kazakhstan', 'Kyrgyzstan', 'Latvia', 'Lithuania',\n",
              "       'Luxembourg', 'Malta', 'Mauritius', 'Mexico', 'Netherlands',\n",
              "       'Nicaragua', 'Norway', 'Panama', 'Poland', 'Puerto Rico', 'Qatar',\n",
              "       'Republic of Korea', 'Romania', 'Russian Federation',\n",
              "       'Saint Vincent and Grenadines', 'Serbia', 'Seychelles',\n",
              "       'Singapore', 'Slovenia', 'South Africa', 'Spain', 'Sweden',\n",
              "       'Switzerland', 'Thailand', 'Turkey', 'Turkmenistan', 'Ukraine',\n",
              "       'United Kingdom', 'United States', 'Uruguay'], dtype=object)"
            ]
          },
          "execution_count": 45,
          "metadata": {},
          "output_type": "execute_result"
        }
      ],
      "source": [
        "df_country_suicide[df_country_suicide['Year']==2015]['Country'].unique()"
      ]
    },
    {
      "cell_type": "code",
      "execution_count": 46,
      "metadata": {
        "colab": {
          "base_uri": "https://localhost:8080/",
          "height": 0
        },
        "id": "iDK4YGUvY20Y",
        "outputId": "1848b267-06df-43f6-e703-ad0fd53a66d6"
      },
      "outputs": [
        {
          "data": {
            "text/html": [
              "<div>\n",
              "<style scoped>\n",
              "    .dataframe tbody tr th:only-of-type {\n",
              "        vertical-align: middle;\n",
              "    }\n",
              "\n",
              "    .dataframe tbody tr th {\n",
              "        vertical-align: top;\n",
              "    }\n",
              "\n",
              "    .dataframe thead th {\n",
              "        text-align: right;\n",
              "    }\n",
              "</style>\n",
              "<table border=\"1\" class=\"dataframe\">\n",
              "  <thead>\n",
              "    <tr style=\"text-align: right;\">\n",
              "      <th></th>\n",
              "      <th>Country</th>\n",
              "      <th>Year</th>\n",
              "      <th>GDP ($)</th>\n",
              "      <th>GDP/Capita ($)</th>\n",
              "      <th>No.Suicides</th>\n",
              "      <th>Population</th>\n",
              "      <th>Suicides_rate/100k pop</th>\n",
              "    </tr>\n",
              "  </thead>\n",
              "  <tbody>\n",
              "    <tr>\n",
              "      <th>104</th>\n",
              "      <td>Armenia</td>\n",
              "      <td>2016</td>\n",
              "      <td>10546135160</td>\n",
              "      <td>3788</td>\n",
              "      <td>67</td>\n",
              "      <td>2400033</td>\n",
              "      <td>2.79</td>\n",
              "    </tr>\n",
              "    <tr>\n",
              "      <th>180</th>\n",
              "      <td>Austria</td>\n",
              "      <td>2016</td>\n",
              "      <td>390799991147</td>\n",
              "      <td>46976</td>\n",
              "      <td>1201</td>\n",
              "      <td>7484629</td>\n",
              "      <td>16.05</td>\n",
              "    </tr>\n",
              "    <tr>\n",
              "      <th>552</th>\n",
              "      <td>Croatia</td>\n",
              "      <td>2016</td>\n",
              "      <td>51338524831</td>\n",
              "      <td>12905</td>\n",
              "      <td>683</td>\n",
              "      <td>3567043</td>\n",
              "      <td>19.15</td>\n",
              "    </tr>\n",
              "    <tr>\n",
              "      <th>591</th>\n",
              "      <td>Cyprus</td>\n",
              "      <td>2016</td>\n",
              "      <td>20153871681</td>\n",
              "      <td>25098</td>\n",
              "      <td>36</td>\n",
              "      <td>711344</td>\n",
              "      <td>5.06</td>\n",
              "    </tr>\n",
              "    <tr>\n",
              "      <th>618</th>\n",
              "      <td>Czech Republic</td>\n",
              "      <td>2016</td>\n",
              "      <td>195305084919</td>\n",
              "      <td>19505</td>\n",
              "      <td>1318</td>\n",
              "      <td>8929942</td>\n",
              "      <td>14.76</td>\n",
              "    </tr>\n",
              "    <tr>\n",
              "      <th>892</th>\n",
              "      <td>Grenada</td>\n",
              "      <td>2016</td>\n",
              "      <td>1056188593</td>\n",
              "      <td>10838</td>\n",
              "      <td>0</td>\n",
              "      <td>79012</td>\n",
              "      <td>0.00</td>\n",
              "    </tr>\n",
              "    <tr>\n",
              "      <th>973</th>\n",
              "      <td>Hungary</td>\n",
              "      <td>2016</td>\n",
              "      <td>125816640421</td>\n",
              "      <td>13448</td>\n",
              "      <td>1761</td>\n",
              "      <td>8390370</td>\n",
              "      <td>20.99</td>\n",
              "    </tr>\n",
              "    <tr>\n",
              "      <th>1005</th>\n",
              "      <td>Iceland</td>\n",
              "      <td>2016</td>\n",
              "      <td>20304098101</td>\n",
              "      <td>64708</td>\n",
              "      <td>40</td>\n",
              "      <td>268773</td>\n",
              "      <td>14.88</td>\n",
              "    </tr>\n",
              "    <tr>\n",
              "      <th>1276</th>\n",
              "      <td>Lithuania</td>\n",
              "      <td>2016</td>\n",
              "      <td>42773029835</td>\n",
              "      <td>15742</td>\n",
              "      <td>822</td>\n",
              "      <td>2445296</td>\n",
              "      <td>33.62</td>\n",
              "    </tr>\n",
              "    <tr>\n",
              "      <th>1381</th>\n",
              "      <td>Mauritius</td>\n",
              "      <td>2016</td>\n",
              "      <td>12232463656</td>\n",
              "      <td>10570</td>\n",
              "      <td>98</td>\n",
              "      <td>992432</td>\n",
              "      <td>9.87</td>\n",
              "    </tr>\n",
              "    <tr>\n",
              "      <th>1413</th>\n",
              "      <td>Mongolia</td>\n",
              "      <td>2016</td>\n",
              "      <td>11183458131</td>\n",
              "      <td>4145</td>\n",
              "      <td>423</td>\n",
              "      <td>2167589</td>\n",
              "      <td>19.51</td>\n",
              "    </tr>\n",
              "    <tr>\n",
              "      <th>1455</th>\n",
              "      <td>Netherlands</td>\n",
              "      <td>2016</td>\n",
              "      <td>777227541581</td>\n",
              "      <td>48108</td>\n",
              "      <td>1886</td>\n",
              "      <td>14239554</td>\n",
              "      <td>13.24</td>\n",
              "    </tr>\n",
              "    <tr>\n",
              "      <th>1687</th>\n",
              "      <td>Qatar</td>\n",
              "      <td>2016</td>\n",
              "      <td>152451923077</td>\n",
              "      <td>62484</td>\n",
              "      <td>68</td>\n",
              "      <td>2213121</td>\n",
              "      <td>3.07</td>\n",
              "    </tr>\n",
              "    <tr>\n",
              "      <th>1746</th>\n",
              "      <td>Romania</td>\n",
              "      <td>2016</td>\n",
              "      <td>187805922349</td>\n",
              "      <td>10020</td>\n",
              "      <td>1953</td>\n",
              "      <td>16644905</td>\n",
              "      <td>11.73</td>\n",
              "    </tr>\n",
              "    <tr>\n",
              "      <th>2062</th>\n",
              "      <td>Sweden</td>\n",
              "      <td>2016</td>\n",
              "      <td>514459972806</td>\n",
              "      <td>55594</td>\n",
              "      <td>1130</td>\n",
              "      <td>8125852</td>\n",
              "      <td>13.91</td>\n",
              "    </tr>\n",
              "    <tr>\n",
              "      <th>2111</th>\n",
              "      <td>Thailand</td>\n",
              "      <td>2016</td>\n",
              "      <td>411755164833</td>\n",
              "      <td>6713</td>\n",
              "      <td>4117</td>\n",
              "      <td>53442001</td>\n",
              "      <td>7.70</td>\n",
              "    </tr>\n",
              "  </tbody>\n",
              "</table>\n",
              "</div>"
            ],
            "text/plain": [
              "             Country  Year       GDP ($)  GDP/Capita ($)  No.Suicides  \\\n",
              "104          Armenia  2016   10546135160            3788           67   \n",
              "180          Austria  2016  390799991147           46976         1201   \n",
              "552          Croatia  2016   51338524831           12905          683   \n",
              "591           Cyprus  2016   20153871681           25098           36   \n",
              "618   Czech Republic  2016  195305084919           19505         1318   \n",
              "892          Grenada  2016    1056188593           10838            0   \n",
              "973          Hungary  2016  125816640421           13448         1761   \n",
              "1005         Iceland  2016   20304098101           64708           40   \n",
              "1276       Lithuania  2016   42773029835           15742          822   \n",
              "1381       Mauritius  2016   12232463656           10570           98   \n",
              "1413        Mongolia  2016   11183458131            4145          423   \n",
              "1455     Netherlands  2016  777227541581           48108         1886   \n",
              "1687           Qatar  2016  152451923077           62484           68   \n",
              "1746         Romania  2016  187805922349           10020         1953   \n",
              "2062          Sweden  2016  514459972806           55594         1130   \n",
              "2111        Thailand  2016  411755164833            6713         4117   \n",
              "\n",
              "      Population  Suicides_rate/100k pop  \n",
              "104      2400033                    2.79  \n",
              "180      7484629                   16.05  \n",
              "552      3567043                   19.15  \n",
              "591       711344                    5.06  \n",
              "618      8929942                   14.76  \n",
              "892        79012                    0.00  \n",
              "973      8390370                   20.99  \n",
              "1005      268773                   14.88  \n",
              "1276     2445296                   33.62  \n",
              "1381      992432                    9.87  \n",
              "1413     2167589                   19.51  \n",
              "1455    14239554                   13.24  \n",
              "1687     2213121                    3.07  \n",
              "1746    16644905                   11.73  \n",
              "2062     8125852                   13.91  \n",
              "2111    53442001                    7.70  "
            ]
          },
          "execution_count": 46,
          "metadata": {},
          "output_type": "execute_result"
        }
      ],
      "source": [
        "df_country_suicide[df_country_suicide['Year']==2016].sort_values(['Country'])"
      ]
    },
    {
      "cell_type": "code",
      "execution_count": 47,
      "metadata": {
        "colab": {
          "base_uri": "https://localhost:8080/",
          "height": 0
        },
        "id": "eHqQY8fl5oVp",
        "outputId": "4cf130cc-e87b-4506-dfbd-b926dfde2a8f"
      },
      "outputs": [
        {
          "name": "stderr",
          "output_type": "stream",
          "text": [
            "C:\\Users\\ADMIN\\AppData\\Local\\Temp/ipykernel_14852/849031320.py:2: FutureWarning: Indexing with multiple keys (implicitly converted to a tuple of keys) will be deprecated, use a list instead.\n",
            "  df_total_suicide=df_suicide_rate.groupby(['Year','Sex'])['No.Suicides','Population'].sum().reset_index()\n"
          ]
        },
        {
          "data": {
            "text/html": [
              "<div>\n",
              "<style scoped>\n",
              "    .dataframe tbody tr th:only-of-type {\n",
              "        vertical-align: middle;\n",
              "    }\n",
              "\n",
              "    .dataframe tbody tr th {\n",
              "        vertical-align: top;\n",
              "    }\n",
              "\n",
              "    .dataframe thead th {\n",
              "        text-align: right;\n",
              "    }\n",
              "</style>\n",
              "<table border=\"1\" class=\"dataframe\">\n",
              "  <thead>\n",
              "    <tr style=\"text-align: right;\">\n",
              "      <th></th>\n",
              "      <th>Year</th>\n",
              "      <th>Sex</th>\n",
              "      <th>No.Suicides</th>\n",
              "      <th>Population</th>\n",
              "      <th>Suicides_rate/100k pop</th>\n",
              "    </tr>\n",
              "  </thead>\n",
              "  <tbody>\n",
              "    <tr>\n",
              "      <th>0</th>\n",
              "      <td>1985</td>\n",
              "      <td>Female</td>\n",
              "      <td>32479</td>\n",
              "      <td>513013055</td>\n",
              "      <td>6.33</td>\n",
              "    </tr>\n",
              "    <tr>\n",
              "      <th>1</th>\n",
              "      <td>1985</td>\n",
              "      <td>Male</td>\n",
              "      <td>83584</td>\n",
              "      <td>495587031</td>\n",
              "      <td>16.87</td>\n",
              "    </tr>\n",
              "    <tr>\n",
              "      <th>2</th>\n",
              "      <td>1986</td>\n",
              "      <td>Female</td>\n",
              "      <td>33852</td>\n",
              "      <td>524465866</td>\n",
              "      <td>6.45</td>\n",
              "    </tr>\n",
              "    <tr>\n",
              "      <th>3</th>\n",
              "      <td>1986</td>\n",
              "      <td>Male</td>\n",
              "      <td>86818</td>\n",
              "      <td>505443747</td>\n",
              "      <td>17.18</td>\n",
              "    </tr>\n",
              "    <tr>\n",
              "      <th>4</th>\n",
              "      <td>1987</td>\n",
              "      <td>Female</td>\n",
              "      <td>35006</td>\n",
              "      <td>559183789</td>\n",
              "      <td>6.26</td>\n",
              "    </tr>\n",
              "  </tbody>\n",
              "</table>\n",
              "</div>"
            ],
            "text/plain": [
              "   Year     Sex  No.Suicides  Population  Suicides_rate/100k pop\n",
              "0  1985  Female        32479   513013055                    6.33\n",
              "1  1985    Male        83584   495587031                   16.87\n",
              "2  1986  Female        33852   524465866                    6.45\n",
              "3  1986    Male        86818   505443747                   17.18\n",
              "4  1987  Female        35006   559183789                    6.26"
            ]
          },
          "execution_count": 47,
          "metadata": {},
          "output_type": "execute_result"
        }
      ],
      "source": [
        "#Suicide rate by Sex every year\n",
        "df_total_suicide=df_suicide_rate.groupby(['Year','Sex'])['No.Suicides','Population'].sum().reset_index()\n",
        "\n",
        "df_total_suicide['Suicides_rate/100k pop']=df_total_suicide['No.Suicides']/df_total_suicide['Population']*100000\n",
        "df_total_suicide.head()"
      ]
    },
    {
      "cell_type": "code",
      "execution_count": 48,
      "metadata": {
        "colab": {
          "base_uri": "https://localhost:8080/",
          "height": 0
        },
        "id": "fiw1lGbGjxQn",
        "outputId": "95709ea5-61ff-4d81-a922-582754021f00"
      },
      "outputs": [
        {
          "name": "stderr",
          "output_type": "stream",
          "text": [
            "C:\\Users\\ADMIN\\AppData\\Local\\Temp/ipykernel_14852/1494942707.py:2: FutureWarning: Indexing with multiple keys (implicitly converted to a tuple of keys) will be deprecated, use a list instead.\n",
            "  df_age_suicide=df_suicide_rate.groupby(['Age'])['No.Suicides','Population'].sum().reset_index()\n"
          ]
        },
        {
          "data": {
            "text/html": [
              "<div>\n",
              "<style scoped>\n",
              "    .dataframe tbody tr th:only-of-type {\n",
              "        vertical-align: middle;\n",
              "    }\n",
              "\n",
              "    .dataframe tbody tr th {\n",
              "        vertical-align: top;\n",
              "    }\n",
              "\n",
              "    .dataframe thead th {\n",
              "        text-align: right;\n",
              "    }\n",
              "</style>\n",
              "<table border=\"1\" class=\"dataframe\">\n",
              "  <thead>\n",
              "    <tr style=\"text-align: right;\">\n",
              "      <th></th>\n",
              "      <th>Age</th>\n",
              "      <th>No.Suicides</th>\n",
              "      <th>Population</th>\n",
              "      <th>Suicides_rate/100k pop</th>\n",
              "    </tr>\n",
              "  </thead>\n",
              "  <tbody>\n",
              "    <tr>\n",
              "      <th>0</th>\n",
              "      <td>05-14 years</td>\n",
              "      <td>52264</td>\n",
              "      <td>8398693237</td>\n",
              "      <td>0.62</td>\n",
              "    </tr>\n",
              "    <tr>\n",
              "      <th>1</th>\n",
              "      <td>15-24 years</td>\n",
              "      <td>808542</td>\n",
              "      <td>8642946896</td>\n",
              "      <td>9.35</td>\n",
              "    </tr>\n",
              "    <tr>\n",
              "      <th>2</th>\n",
              "      <td>25-34 years</td>\n",
              "      <td>1123912</td>\n",
              "      <td>8438103587</td>\n",
              "      <td>13.32</td>\n",
              "    </tr>\n",
              "    <tr>\n",
              "      <th>3</th>\n",
              "      <td>35-54 years</td>\n",
              "      <td>2452141</td>\n",
              "      <td>14375888123</td>\n",
              "      <td>17.06</td>\n",
              "    </tr>\n",
              "    <tr>\n",
              "      <th>4</th>\n",
              "      <td>55-74 years</td>\n",
              "      <td>1658443</td>\n",
              "      <td>8803245340</td>\n",
              "      <td>18.84</td>\n",
              "    </tr>\n",
              "    <tr>\n",
              "      <th>5</th>\n",
              "      <td>75+ years</td>\n",
              "      <td>653118</td>\n",
              "      <td>2663281253</td>\n",
              "      <td>24.52</td>\n",
              "    </tr>\n",
              "  </tbody>\n",
              "</table>\n",
              "</div>"
            ],
            "text/plain": [
              "           Age  No.Suicides   Population  Suicides_rate/100k pop\n",
              "0  05-14 years        52264   8398693237                    0.62\n",
              "1  15-24 years       808542   8642946896                    9.35\n",
              "2  25-34 years      1123912   8438103587                   13.32\n",
              "3  35-54 years      2452141  14375888123                   17.06\n",
              "4  55-74 years      1658443   8803245340                   18.84\n",
              "5    75+ years       653118   2663281253                   24.52"
            ]
          },
          "execution_count": 48,
          "metadata": {},
          "output_type": "execute_result"
        }
      ],
      "source": [
        "#Suicide rate by Age all time\n",
        "df_age_suicide=df_suicide_rate.groupby(['Age'])['No.Suicides','Population'].sum().reset_index()\n",
        "\n",
        "df_age_suicide['Suicides_rate/100k pop']=df_age_suicide['No.Suicides']/df_age_suicide['Population']*100000\n",
        "df_age_suicide"
      ]
    },
    {
      "cell_type": "code",
      "execution_count": 49,
      "metadata": {
        "colab": {
          "base_uri": "https://localhost:8080/",
          "height": 0
        },
        "id": "qYXj7Qov1E7Y",
        "outputId": "907a01b4-d787-4fb6-eb67-f028f4cd1032"
      },
      "outputs": [
        {
          "data": {
            "text/html": [
              "<div>\n",
              "<style scoped>\n",
              "    .dataframe tbody tr th:only-of-type {\n",
              "        vertical-align: middle;\n",
              "    }\n",
              "\n",
              "    .dataframe tbody tr th {\n",
              "        vertical-align: top;\n",
              "    }\n",
              "\n",
              "    .dataframe thead th {\n",
              "        text-align: right;\n",
              "    }\n",
              "</style>\n",
              "<table border=\"1\" class=\"dataframe\">\n",
              "  <thead>\n",
              "    <tr style=\"text-align: right;\">\n",
              "      <th></th>\n",
              "      <th>Country</th>\n",
              "      <th>GDP ($)</th>\n",
              "      <th>GDP/Capita ($)</th>\n",
              "      <th>No.Suicides</th>\n",
              "      <th>Suicides_rate/100k pop</th>\n",
              "    </tr>\n",
              "  </thead>\n",
              "  <tbody>\n",
              "    <tr>\n",
              "      <th>0</th>\n",
              "      <td>Albania</td>\n",
              "      <td>5211661212.14</td>\n",
              "      <td>1859.05</td>\n",
              "      <td>7.46</td>\n",
              "      <td>3.50</td>\n",
              "    </tr>\n",
              "    <tr>\n",
              "      <th>1</th>\n",
              "      <td>Antigua and Barbuda</td>\n",
              "      <td>803545216.70</td>\n",
              "      <td>10448.19</td>\n",
              "      <td>0.03</td>\n",
              "      <td>0.55</td>\n",
              "    </tr>\n",
              "    <tr>\n",
              "      <th>2</th>\n",
              "      <td>Argentina</td>\n",
              "      <td>274256497624.61</td>\n",
              "      <td>7914.10</td>\n",
              "      <td>221.02</td>\n",
              "      <td>10.47</td>\n",
              "    </tr>\n",
              "    <tr>\n",
              "      <th>3</th>\n",
              "      <td>Armenia</td>\n",
              "      <td>5386592177.83</td>\n",
              "      <td>1873.92</td>\n",
              "      <td>6.39</td>\n",
              "      <td>3.28</td>\n",
              "    </tr>\n",
              "    <tr>\n",
              "      <th>4</th>\n",
              "      <td>Aruba</td>\n",
              "      <td>2196223463.79</td>\n",
              "      <td>24221.64</td>\n",
              "      <td>0.60</td>\n",
              "      <td>9.50</td>\n",
              "    </tr>\n",
              "  </tbody>\n",
              "</table>\n",
              "</div>"
            ],
            "text/plain": [
              "               Country         GDP ($)  GDP/Capita ($)  No.Suicides  \\\n",
              "0              Albania   5211661212.14         1859.05         7.46   \n",
              "1  Antigua and Barbuda    803545216.70        10448.19         0.03   \n",
              "2            Argentina 274256497624.61         7914.10       221.02   \n",
              "3              Armenia   5386592177.83         1873.92         6.39   \n",
              "4                Aruba   2196223463.79        24221.64         0.60   \n",
              "\n",
              "   Suicides_rate/100k pop  \n",
              "0                    3.50  \n",
              "1                    0.55  \n",
              "2                   10.47  \n",
              "3                    3.28  \n",
              "4                    9.50  "
            ]
          },
          "execution_count": 49,
          "metadata": {},
          "output_type": "execute_result"
        }
      ],
      "source": [
        "#Suicide rate by Country all time\n",
        "df_country_suicide_all_time=df_suicide_rate.groupby(['Country']).agg({'GDP ($)':'mean','GDP/Capita ($)':'mean','No.Suicides':'mean','Suicides_rate/100k pop':'mean'}).reset_index()\n",
        "df_country_suicide_all_time.head()"
      ]
    },
    {
      "cell_type": "code",
      "execution_count": 50,
      "metadata": {
        "colab": {
          "base_uri": "https://localhost:8080/",
          "height": 0
        },
        "id": "p2YH7YXHcSpV",
        "outputId": "1e6ef8b2-326b-42d4-e337-8288dcc3ab8a"
      },
      "outputs": [
        {
          "data": {
            "text/html": [
              "<div>\n",
              "<style scoped>\n",
              "    .dataframe tbody tr th:only-of-type {\n",
              "        vertical-align: middle;\n",
              "    }\n",
              "\n",
              "    .dataframe tbody tr th {\n",
              "        vertical-align: top;\n",
              "    }\n",
              "\n",
              "    .dataframe thead th {\n",
              "        text-align: right;\n",
              "    }\n",
              "</style>\n",
              "<table border=\"1\" class=\"dataframe\">\n",
              "  <thead>\n",
              "    <tr style=\"text-align: right;\">\n",
              "      <th></th>\n",
              "      <th>Country</th>\n",
              "      <th>GDP ($)</th>\n",
              "      <th>GDP/Capita ($)</th>\n",
              "      <th>No.Suicides</th>\n",
              "      <th>Suicides_rate/100k pop</th>\n",
              "      <th>Classify</th>\n",
              "    </tr>\n",
              "  </thead>\n",
              "  <tbody>\n",
              "    <tr>\n",
              "      <th>0</th>\n",
              "      <td>Albania</td>\n",
              "      <td>5211661212.14</td>\n",
              "      <td>1859.05</td>\n",
              "      <td>7.46</td>\n",
              "      <td>3.50</td>\n",
              "      <td>Poor</td>\n",
              "    </tr>\n",
              "    <tr>\n",
              "      <th>1</th>\n",
              "      <td>Antigua and Barbuda</td>\n",
              "      <td>803545216.70</td>\n",
              "      <td>10448.19</td>\n",
              "      <td>0.03</td>\n",
              "      <td>0.55</td>\n",
              "      <td>Poor</td>\n",
              "    </tr>\n",
              "    <tr>\n",
              "      <th>2</th>\n",
              "      <td>Argentina</td>\n",
              "      <td>274256497624.61</td>\n",
              "      <td>7914.10</td>\n",
              "      <td>221.02</td>\n",
              "      <td>10.47</td>\n",
              "      <td>Poor</td>\n",
              "    </tr>\n",
              "    <tr>\n",
              "      <th>3</th>\n",
              "      <td>Armenia</td>\n",
              "      <td>5386592177.83</td>\n",
              "      <td>1873.92</td>\n",
              "      <td>6.39</td>\n",
              "      <td>3.28</td>\n",
              "      <td>Poor</td>\n",
              "    </tr>\n",
              "    <tr>\n",
              "      <th>4</th>\n",
              "      <td>Aruba</td>\n",
              "      <td>2196223463.79</td>\n",
              "      <td>24221.64</td>\n",
              "      <td>0.60</td>\n",
              "      <td>9.50</td>\n",
              "      <td>Rich</td>\n",
              "    </tr>\n",
              "  </tbody>\n",
              "</table>\n",
              "</div>"
            ],
            "text/plain": [
              "               Country         GDP ($)  GDP/Capita ($)  No.Suicides  \\\n",
              "0              Albania   5211661212.14         1859.05         7.46   \n",
              "1  Antigua and Barbuda    803545216.70        10448.19         0.03   \n",
              "2            Argentina 274256497624.61         7914.10       221.02   \n",
              "3              Armenia   5386592177.83         1873.92         6.39   \n",
              "4                Aruba   2196223463.79        24221.64         0.60   \n",
              "\n",
              "   Suicides_rate/100k pop Classify  \n",
              "0                    3.50     Poor  \n",
              "1                    0.55     Poor  \n",
              "2                   10.47     Poor  \n",
              "3                    3.28     Poor  \n",
              "4                    9.50     Rich  "
            ]
          },
          "execution_count": 50,
          "metadata": {},
          "output_type": "execute_result"
        }
      ],
      "source": [
        "#Classify countries function \n",
        "def classify_country(x):\n",
        "  a=df_country_suicide_all_time['GDP/Capita ($)'].mean()\n",
        "  upper=a*4/3\n",
        "  lower=a*2/3\n",
        "  if  x['GDP/Capita ($)']>=upper:\n",
        "    return 'Rich'\n",
        "  else:\n",
        "    if x['GDP/Capita ($)']<=lower:\n",
        "      return 'Poor'\n",
        "    else:\n",
        "      return 'Normal'\n",
        "#Classify countries\n",
        "df_country_suicide_all_time['Classify']=df_country_suicide_all_time.apply(classify_country,axis=1)\n",
        "df_country_suicide_all_time.head()"
      ]
    },
    {
      "cell_type": "markdown",
      "metadata": {
        "id": "UAIwikyclEIZ"
      },
      "source": [
        "## 2/Facilities and Human resources in 2016"
      ]
    },
    {
      "cell_type": "code",
      "execution_count": 51,
      "metadata": {
        "colab": {
          "base_uri": "https://localhost:8080/",
          "height": 0
        },
        "id": "W6Ubva_1BcEN",
        "outputId": "abac4737-e44d-451a-c40c-eab972392d4d"
      },
      "outputs": [
        {
          "data": {
            "text/html": [
              "<div>\n",
              "<style scoped>\n",
              "    .dataframe tbody tr th:only-of-type {\n",
              "        vertical-align: middle;\n",
              "    }\n",
              "\n",
              "    .dataframe tbody tr th {\n",
              "        vertical-align: top;\n",
              "    }\n",
              "\n",
              "    .dataframe thead th {\n",
              "        text-align: right;\n",
              "    }\n",
              "</style>\n",
              "<table border=\"1\" class=\"dataframe\">\n",
              "  <thead>\n",
              "    <tr style=\"text-align: right;\">\n",
              "      <th></th>\n",
              "      <th>Country</th>\n",
              "      <th>Sex</th>\n",
              "      <th>Suicide Rate</th>\n",
              "      <th>Year the law was enacted (latest revision)</th>\n",
              "      <th>Publication year of the policy or plan (latest revision)</th>\n",
              "    </tr>\n",
              "  </thead>\n",
              "  <tbody>\n",
              "    <tr>\n",
              "      <th>1647</th>\n",
              "      <td>Afghanistan</td>\n",
              "      <td>Both sexes</td>\n",
              "      <td>6.40</td>\n",
              "      <td>1987</td>\n",
              "      <td>2016.00</td>\n",
              "    </tr>\n",
              "    <tr>\n",
              "      <th>1649</th>\n",
              "      <td>Afghanistan</td>\n",
              "      <td>Female</td>\n",
              "      <td>2.10</td>\n",
              "      <td>1987</td>\n",
              "      <td>2016.00</td>\n",
              "    </tr>\n",
              "    <tr>\n",
              "      <th>1648</th>\n",
              "      <td>Afghanistan</td>\n",
              "      <td>Male</td>\n",
              "      <td>10.60</td>\n",
              "      <td>1987</td>\n",
              "      <td>2016.00</td>\n",
              "    </tr>\n",
              "    <tr>\n",
              "      <th>1650</th>\n",
              "      <td>Albania</td>\n",
              "      <td>Both sexes</td>\n",
              "      <td>5.60</td>\n",
              "      <td>2012</td>\n",
              "      <td>2013.00</td>\n",
              "    </tr>\n",
              "    <tr>\n",
              "      <th>1652</th>\n",
              "      <td>Albania</td>\n",
              "      <td>Female</td>\n",
              "      <td>4.30</td>\n",
              "      <td>2012</td>\n",
              "      <td>2013.00</td>\n",
              "    </tr>\n",
              "  </tbody>\n",
              "</table>\n",
              "</div>"
            ],
            "text/plain": [
              "          Country          Sex  Suicide Rate  \\\n",
              "1647  Afghanistan   Both sexes          6.40   \n",
              "1649  Afghanistan       Female          2.10   \n",
              "1648  Afghanistan         Male         10.60   \n",
              "1650      Albania   Both sexes          5.60   \n",
              "1652      Albania       Female          4.30   \n",
              "\n",
              "     Year the law was enacted (latest revision)  \\\n",
              "1647                                       1987   \n",
              "1649                                       1987   \n",
              "1648                                       1987   \n",
              "1650                                       2012   \n",
              "1652                                       2012   \n",
              "\n",
              "      Publication year of the policy or plan (latest revision)  \n",
              "1647                                            2016.00         \n",
              "1649                                            2016.00         \n",
              "1648                                            2016.00         \n",
              "1650                                            2013.00         \n",
              "1652                                            2013.00         "
            ]
          },
          "execution_count": 51,
          "metadata": {},
          "output_type": "execute_result"
        }
      ],
      "source": [
        "df_suicide_rate_2016.head()"
      ]
    },
    {
      "cell_type": "code",
      "execution_count": 52,
      "metadata": {
        "colab": {
          "base_uri": "https://localhost:8080/"
        },
        "id": "Dgj0pKEPBaVQ",
        "outputId": "2eb4be49-c6bc-4d8c-e860-383d5185b646"
      },
      "outputs": [
        {
          "data": {
            "text/plain": [
              "Country                  0\n",
              "Year                     0\n",
              "Mental_hospitals         0\n",
              "Health_units             0\n",
              "Outpatient_facilities    0\n",
              "Psychiatrists            0\n",
              "Nurses                   0\n",
              "Social_workers           0\n",
              "Psychologists            0\n",
              "dtype: int64"
            ]
          },
          "execution_count": 52,
          "metadata": {},
          "output_type": "execute_result"
        }
      ],
      "source": [
        "df_all_resources=pd.merge(df_facilities_2016, df_human_resources_2016, how='left', on=[\"Country\",'Year'])\n",
        "df_all_resources['Psychiatrists'] = df_all_resources['Psychiatrists'].fillna(df_all_resources['Psychiatrists'].mean())\n",
        "df_all_resources['Nurses'] = df_all_resources['Nurses'].fillna(df_all_resources['Nurses'].mean())\n",
        "df_all_resources['Social_workers'] = df_all_resources['Social_workers'].fillna(df_all_resources['Social_workers'].mean())\n",
        "df_all_resources['Psychologists'] = df_all_resources['Psychologists'].fillna(df_all_resources['Psychologists'].mean())\n",
        "df_all_resources.isna().sum()"
      ]
    },
    {
      "cell_type": "code",
      "execution_count": 53,
      "metadata": {
        "colab": {
          "base_uri": "https://localhost:8080/",
          "height": 0
        },
        "id": "V7ZHbncnfelZ",
        "outputId": "91dbba45-3850-4721-ed5c-ef1457661cdb"
      },
      "outputs": [
        {
          "data": {
            "text/html": [
              "<div>\n",
              "<style scoped>\n",
              "    .dataframe tbody tr th:only-of-type {\n",
              "        vertical-align: middle;\n",
              "    }\n",
              "\n",
              "    .dataframe tbody tr th {\n",
              "        vertical-align: top;\n",
              "    }\n",
              "\n",
              "    .dataframe thead th {\n",
              "        text-align: right;\n",
              "    }\n",
              "</style>\n",
              "<table border=\"1\" class=\"dataframe\">\n",
              "  <thead>\n",
              "    <tr style=\"text-align: right;\">\n",
              "      <th></th>\n",
              "      <th>Country</th>\n",
              "      <th>Sex</th>\n",
              "      <th>Suicide Rate</th>\n",
              "      <th>Year the law was enacted (latest revision)</th>\n",
              "      <th>Publication year of the policy or plan (latest revision)</th>\n",
              "    </tr>\n",
              "  </thead>\n",
              "  <tbody>\n",
              "    <tr>\n",
              "      <th>1647</th>\n",
              "      <td>Afghanistan</td>\n",
              "      <td>Both sexes</td>\n",
              "      <td>6.40</td>\n",
              "      <td>1987</td>\n",
              "      <td>2016.00</td>\n",
              "    </tr>\n",
              "    <tr>\n",
              "      <th>1650</th>\n",
              "      <td>Albania</td>\n",
              "      <td>Both sexes</td>\n",
              "      <td>5.60</td>\n",
              "      <td>2012</td>\n",
              "      <td>2013.00</td>\n",
              "    </tr>\n",
              "    <tr>\n",
              "      <th>1653</th>\n",
              "      <td>Algeria</td>\n",
              "      <td>Both sexes</td>\n",
              "      <td>3.30</td>\n",
              "      <td>1905</td>\n",
              "      <td>0.00</td>\n",
              "    </tr>\n",
              "    <tr>\n",
              "      <th>1656</th>\n",
              "      <td>Angola</td>\n",
              "      <td>Both sexes</td>\n",
              "      <td>8.90</td>\n",
              "      <td>0</td>\n",
              "      <td>0.00</td>\n",
              "    </tr>\n",
              "    <tr>\n",
              "      <th>1659</th>\n",
              "      <td>Antigua and Barbuda</td>\n",
              "      <td>Both sexes</td>\n",
              "      <td>0.50</td>\n",
              "      <td>1957</td>\n",
              "      <td>2013.00</td>\n",
              "    </tr>\n",
              "  </tbody>\n",
              "</table>\n",
              "</div>"
            ],
            "text/plain": [
              "                  Country          Sex  Suicide Rate  \\\n",
              "1647          Afghanistan   Both sexes          6.40   \n",
              "1650              Albania   Both sexes          5.60   \n",
              "1653              Algeria   Both sexes          3.30   \n",
              "1656               Angola   Both sexes          8.90   \n",
              "1659  Antigua and Barbuda   Both sexes          0.50   \n",
              "\n",
              "     Year the law was enacted (latest revision)  \\\n",
              "1647                                       1987   \n",
              "1650                                       2012   \n",
              "1653                                       1905   \n",
              "1656                                          0   \n",
              "1659                                       1957   \n",
              "\n",
              "      Publication year of the policy or plan (latest revision)  \n",
              "1647                                            2016.00         \n",
              "1650                                            2013.00         \n",
              "1653                                               0.00         \n",
              "1656                                               0.00         \n",
              "1659                                            2013.00         "
            ]
          },
          "execution_count": 53,
          "metadata": {},
          "output_type": "execute_result"
        }
      ],
      "source": [
        "df_all_suicide_rate_2016=df_suicide_rate_2016[df_suicide_rate_2016['Sex']==' Both sexes']\n",
        "df_all_suicide_rate_2016.head()"
      ]
    },
    {
      "cell_type": "code",
      "execution_count": 54,
      "metadata": {
        "colab": {
          "base_uri": "https://localhost:8080/",
          "height": 0
        },
        "id": "eUA4IBNlKD2d",
        "outputId": "c3ce6ce5-ebf8-415b-f003-a1c885507bfb"
      },
      "outputs": [
        {
          "data": {
            "text/html": [
              "<div>\n",
              "<style scoped>\n",
              "    .dataframe tbody tr th:only-of-type {\n",
              "        vertical-align: middle;\n",
              "    }\n",
              "\n",
              "    .dataframe tbody tr th {\n",
              "        vertical-align: top;\n",
              "    }\n",
              "\n",
              "    .dataframe thead th {\n",
              "        text-align: right;\n",
              "    }\n",
              "</style>\n",
              "<table border=\"1\" class=\"dataframe\">\n",
              "  <thead>\n",
              "    <tr style=\"text-align: right;\">\n",
              "      <th></th>\n",
              "      <th>Country</th>\n",
              "      <th>Suicide Rate</th>\n",
              "      <th>Year the law was enacted (latest revision)</th>\n",
              "      <th>Publication year of the policy or plan (latest revision)</th>\n",
              "      <th>Mental_hospitals</th>\n",
              "      <th>Health_units</th>\n",
              "      <th>Outpatient_facilities</th>\n",
              "      <th>Psychiatrists</th>\n",
              "      <th>Nurses</th>\n",
              "      <th>Social_workers</th>\n",
              "      <th>Psychologists</th>\n",
              "    </tr>\n",
              "  </thead>\n",
              "  <tbody>\n",
              "    <tr>\n",
              "      <th>0</th>\n",
              "      <td>Afghanistan</td>\n",
              "      <td>6.40</td>\n",
              "      <td>1987</td>\n",
              "      <td>2016.00</td>\n",
              "      <td>0.00</td>\n",
              "      <td>0.01</td>\n",
              "      <td>0.01</td>\n",
              "      <td>0.23</td>\n",
              "      <td>0.10</td>\n",
              "      <td>4.83</td>\n",
              "      <td>0.30</td>\n",
              "    </tr>\n",
              "    <tr>\n",
              "      <th>1</th>\n",
              "      <td>Albania</td>\n",
              "      <td>5.60</td>\n",
              "      <td>2012</td>\n",
              "      <td>2013.00</td>\n",
              "      <td>0.07</td>\n",
              "      <td>0.07</td>\n",
              "      <td>0.41</td>\n",
              "      <td>1.47</td>\n",
              "      <td>6.88</td>\n",
              "      <td>1.06</td>\n",
              "      <td>1.23</td>\n",
              "    </tr>\n",
              "    <tr>\n",
              "      <th>2</th>\n",
              "      <td>Algeria</td>\n",
              "      <td>3.30</td>\n",
              "      <td>1905</td>\n",
              "      <td>0.00</td>\n",
              "      <td>0.05</td>\n",
              "      <td>0.07</td>\n",
              "      <td>0.05</td>\n",
              "      <td>4.25</td>\n",
              "      <td>11.82</td>\n",
              "      <td>4.92</td>\n",
              "      <td>10.51</td>\n",
              "    </tr>\n",
              "    <tr>\n",
              "      <th>3</th>\n",
              "      <td>Angola</td>\n",
              "      <td>8.90</td>\n",
              "      <td>0</td>\n",
              "      <td>0.00</td>\n",
              "      <td>0.01</td>\n",
              "      <td>0.32</td>\n",
              "      <td>1.88</td>\n",
              "      <td>0.06</td>\n",
              "      <td>0.66</td>\n",
              "      <td>0.02</td>\n",
              "      <td>0.18</td>\n",
              "    </tr>\n",
              "    <tr>\n",
              "      <th>4</th>\n",
              "      <td>Antigua and Barbuda</td>\n",
              "      <td>0.50</td>\n",
              "      <td>1957</td>\n",
              "      <td>2013.00</td>\n",
              "      <td>1.00</td>\n",
              "      <td>0.32</td>\n",
              "      <td>1.88</td>\n",
              "      <td>1.00</td>\n",
              "      <td>7.00</td>\n",
              "      <td>4.00</td>\n",
              "      <td>10.42</td>\n",
              "    </tr>\n",
              "  </tbody>\n",
              "</table>\n",
              "</div>"
            ],
            "text/plain": [
              "               Country  Suicide Rate  \\\n",
              "0          Afghanistan          6.40   \n",
              "1              Albania          5.60   \n",
              "2              Algeria          3.30   \n",
              "3               Angola          8.90   \n",
              "4  Antigua and Barbuda          0.50   \n",
              "\n",
              "  Year the law was enacted (latest revision)  \\\n",
              "0                                       1987   \n",
              "1                                       2012   \n",
              "2                                       1905   \n",
              "3                                          0   \n",
              "4                                       1957   \n",
              "\n",
              "   Publication year of the policy or plan (latest revision)  Mental_hospitals  \\\n",
              "0                                            2016.00                     0.00   \n",
              "1                                            2013.00                     0.07   \n",
              "2                                               0.00                     0.05   \n",
              "3                                               0.00                     0.01   \n",
              "4                                            2013.00                     1.00   \n",
              "\n",
              "   Health_units  Outpatient_facilities  Psychiatrists  Nurses  Social_workers  \\\n",
              "0          0.01                   0.01           0.23    0.10            4.83   \n",
              "1          0.07                   0.41           1.47    6.88            1.06   \n",
              "2          0.07                   0.05           4.25   11.82            4.92   \n",
              "3          0.32                   1.88           0.06    0.66            0.02   \n",
              "4          0.32                   1.88           1.00    7.00            4.00   \n",
              "\n",
              "   Psychologists  \n",
              "0           0.30  \n",
              "1           1.23  \n",
              "2          10.51  \n",
              "3           0.18  \n",
              "4          10.42  "
            ]
          },
          "execution_count": 54,
          "metadata": {},
          "output_type": "execute_result"
        }
      ],
      "source": [
        "df_2016=pd.merge(df_all_suicide_rate_2016, df_all_resources, how='left', on=[\"Country\"])\n",
        "df_2016 = df_2016.drop(columns=['Sex','Year'])\n",
        "df_2016 = df_2016.dropna(axis=0)\n",
        "df_2016.head()"
      ]
    },
    {
      "cell_type": "markdown",
      "metadata": {
        "id": "mPH7KuYrmrsQ"
      },
      "source": [
        "# IV/VISUALIZATION DATA"
      ]
    },
    {
      "cell_type": "markdown",
      "metadata": {
        "id": "kXBguDBHsrdr"
      },
      "source": [
        "## 1/Suicide rate around the world "
      ]
    },
    {
      "cell_type": "code",
      "execution_count": 55,
      "metadata": {
        "colab": {
          "base_uri": "https://localhost:8080/",
          "height": 175
        },
        "id": "kFjTRsKo8__s",
        "outputId": "3ae7e9ef-01c3-4282-c7bd-9a1f453f79b7"
      },
      "outputs": [
        {
          "data": {
            "text/html": [
              "<style type=\"text/css\">\n",
              "#T_9cfdf_row0_col0, #T_9cfdf_row1_col1, #T_9cfdf_row2_col2, #T_9cfdf_row3_col3 {\n",
              "  background-color: #08306b;\n",
              "  color: #f1f1f1;\n",
              "}\n",
              "#T_9cfdf_row0_col1 {\n",
              "  background-color: #c7dcef;\n",
              "  color: #000000;\n",
              "}\n",
              "#T_9cfdf_row0_col2 {\n",
              "  background-color: #3888c1;\n",
              "  color: #f1f1f1;\n",
              "}\n",
              "#T_9cfdf_row0_col3 {\n",
              "  background-color: #eef5fc;\n",
              "  color: #000000;\n",
              "}\n",
              "#T_9cfdf_row1_col0 {\n",
              "  background-color: #cee0f2;\n",
              "  color: #000000;\n",
              "}\n",
              "#T_9cfdf_row1_col2, #T_9cfdf_row1_col3, #T_9cfdf_row3_col0, #T_9cfdf_row3_col1 {\n",
              "  background-color: #f7fbff;\n",
              "  color: #000000;\n",
              "}\n",
              "#T_9cfdf_row2_col0 {\n",
              "  background-color: #3787c0;\n",
              "  color: #f1f1f1;\n",
              "}\n",
              "#T_9cfdf_row2_col1 {\n",
              "  background-color: #ecf4fb;\n",
              "  color: #000000;\n",
              "}\n",
              "#T_9cfdf_row2_col3 {\n",
              "  background-color: #aed1e7;\n",
              "  color: #000000;\n",
              "}\n",
              "#T_9cfdf_row3_col2 {\n",
              "  background-color: #bcd7eb;\n",
              "  color: #000000;\n",
              "}\n",
              "</style>\n",
              "<table id=\"T_9cfdf_\">\n",
              "  <thead>\n",
              "    <tr>\n",
              "      <th class=\"blank level0\" >&nbsp;</th>\n",
              "      <th class=\"col_heading level0 col0\" >GDP ($)</th>\n",
              "      <th class=\"col_heading level0 col1\" >GDP/Capita ($)</th>\n",
              "      <th class=\"col_heading level0 col2\" >No.Suicides</th>\n",
              "      <th class=\"col_heading level0 col3\" >Suicides_rate/100k pop</th>\n",
              "    </tr>\n",
              "  </thead>\n",
              "  <tbody>\n",
              "    <tr>\n",
              "      <th id=\"T_9cfdf_level0_row0\" class=\"row_heading level0 row0\" >GDP ($)</th>\n",
              "      <td id=\"T_9cfdf_row0_col0\" class=\"data row0 col0\" >1.000000</td>\n",
              "      <td id=\"T_9cfdf_row0_col1\" class=\"data row0 col1\" >0.274728</td>\n",
              "      <td id=\"T_9cfdf_row0_col2\" class=\"data row0 col2\" >0.694625</td>\n",
              "      <td id=\"T_9cfdf_row0_col3\" class=\"data row0 col3\" >0.081693</td>\n",
              "    </tr>\n",
              "    <tr>\n",
              "      <th id=\"T_9cfdf_level0_row1\" class=\"row_heading level0 row1\" >GDP/Capita ($)</th>\n",
              "      <td id=\"T_9cfdf_row1_col0\" class=\"data row1 col0\" >0.274728</td>\n",
              "      <td id=\"T_9cfdf_row1_col1\" class=\"data row1 col1\" >1.000000</td>\n",
              "      <td id=\"T_9cfdf_row1_col2\" class=\"data row1 col2\" >0.093967</td>\n",
              "      <td id=\"T_9cfdf_row1_col3\" class=\"data row1 col3\" >0.038206</td>\n",
              "    </tr>\n",
              "    <tr>\n",
              "      <th id=\"T_9cfdf_level0_row2\" class=\"row_heading level0 row2\" >No.Suicides</th>\n",
              "      <td id=\"T_9cfdf_row2_col0\" class=\"data row2 col0\" >0.694625</td>\n",
              "      <td id=\"T_9cfdf_row2_col1\" class=\"data row2 col1\" >0.093967</td>\n",
              "      <td id=\"T_9cfdf_row2_col2\" class=\"data row2 col2\" >1.000000</td>\n",
              "      <td id=\"T_9cfdf_row2_col3\" class=\"data row2 col3\" >0.350454</td>\n",
              "    </tr>\n",
              "    <tr>\n",
              "      <th id=\"T_9cfdf_level0_row3\" class=\"row_heading level0 row3\" >Suicides_rate/100k pop</th>\n",
              "      <td id=\"T_9cfdf_row3_col0\" class=\"data row3 col0\" >0.081693</td>\n",
              "      <td id=\"T_9cfdf_row3_col1\" class=\"data row3 col1\" >0.038206</td>\n",
              "      <td id=\"T_9cfdf_row3_col2\" class=\"data row3 col2\" >0.350454</td>\n",
              "      <td id=\"T_9cfdf_row3_col3\" class=\"data row3 col3\" >1.000000</td>\n",
              "    </tr>\n",
              "  </tbody>\n",
              "</table>\n"
            ],
            "text/plain": [
              "<pandas.io.formats.style.Styler at 0x20a9d3db100>"
            ]
          },
          "execution_count": 55,
          "metadata": {},
          "output_type": "execute_result"
        }
      ],
      "source": [
        "df_country_suicide_all_time.corr().style.background_gradient(cmap='Blues')"
      ]
    },
    {
      "cell_type": "markdown",
      "metadata": {
        "id": "U9UjAaEhF8g7"
      },
      "source": [
        "### Top 10 Highest number of suicide Countries of all time"
      ]
    },
    {
      "cell_type": "code",
      "execution_count": 56,
      "metadata": {
        "colab": {
          "base_uri": "https://localhost:8080/",
          "height": 458
        },
        "id": "wL2MkId8soem",
        "outputId": "516e6fee-0d7d-4b53-afc1-2c753e1a037e"
      },
      "outputs": [
        {
          "data": {
            "image/png": "[encoded data removed]",
            "text/plain": [
              "<Figure size 1440x720 with 2 Axes>"
            ]
          },
          "metadata": {
            "needs_background": "light"
          },
          "output_type": "display_data"
        }
      ],
      "source": [
        "#Top 10 Countries have highest suicide rate of all time\n",
        "df_country_suicide_all_time_top_10=df_country_suicide_all_time.sort_values(['No.Suicides'], ascending=False).head(10)\n",
        "#Visualizing\n",
        "plt.figure(figsize=(20,10))\n",
        "plt.style.use('classic')\n",
        "\n",
        "plt.subplot(211)\n",
        "sns.barplot(data=df_country_suicide_all_time_top_10,x='Country',y='No.Suicides',palette=\"tab10\")\n",
        "plt.xlabel('Country')\n",
        "plt.ylabel('No.Suicides every year')\n",
        "\n",
        "plt.subplot(212)\n",
        "sns.barplot(data=df_country_suicide_all_time_top_10,x='Country',y='Suicides_rate/100k pop',palette=\"tab10\")\n",
        "plt.xlabel('Country')\n",
        "plt.ylabel('Suicides_rate/100k pop every year')\n",
        "\n",
        "#plt.savefig('country_suicide_all_time_top_10_suicide_rate.png')\n",
        "plt.show()"
      ]
    },
    {
      "cell_type": "code",
      "execution_count": 57,
      "metadata": {
        "colab": {
          "base_uri": "https://localhost:8080/",
          "height": 455
        },
        "id": "amUhMxrHf-_B",
        "outputId": "b11ad940-aa95-48ba-d65c-0c669339931d"
      },
      "outputs": [
        {
          "data": {
            "image/png": "[encoded data removed]",
            "text/plain": [
              "<Figure size 1600x800 with 2 Axes>"
            ]
          },
          "metadata": {},
          "output_type": "display_data"
        }
      ],
      "source": [
        "#Top 10 Countries have highest suicide rate of all time\n",
        "df_country_suicide_all_time_top_10=df_country_suicide_all_time.sort_values(['No.Suicides'], ascending=False).head(10)\n",
        "#Visualizing\n",
        "plt.figure(figsize=(20,10))\n",
        "plt.style.use('classic')\n",
        "\n",
        "plt.subplot(211)\n",
        "sns.barplot(data=df_country_suicide_all_time_top_10,x='Country',y='Suicides_rate/100k pop',palette=\"tab10\")\n",
        "#plt.suptitle('Top 10 Countries have most  Suicides rate of all time')\n",
        "plt.xlabel('Country')\n",
        "plt.ylabel('Suicides_rate/100k pop every year')\n",
        "\n",
        "plt.subplot(212)\n",
        "sns.barplot(data=df_country_suicide_all_time_top_10,x='Country',y='GDP/Capita ($)',palette=\"tab10\")\n",
        "plt.xlabel('Country')\n",
        "plt.ylabel('GDP/Capital ($) every year')\n",
        "\n",
        "#plt.savefig('country_suicide_all_time_top_10_GDP.png')\n",
        "plt.show()"
      ]
    },
    {
      "cell_type": "markdown",
      "metadata": {
        "id": "-V1p-VDazvUf"
      },
      "source": [
        "### Top 10 Lowest  suicide rate  Countries of all time"
      ]
    },
    {
      "cell_type": "code",
      "execution_count": 58,
      "metadata": {
        "colab": {
          "base_uri": "https://localhost:8080/",
          "height": 363
        },
        "id": "24LYgBZyzSKC",
        "outputId": "ef73c227-532d-4b9a-ad0b-bee2c3478c25"
      },
      "outputs": [
        {
          "data": {
            "text/html": [
              "<div>\n",
              "<style scoped>\n",
              "    .dataframe tbody tr th:only-of-type {\n",
              "        vertical-align: middle;\n",
              "    }\n",
              "\n",
              "    .dataframe tbody tr th {\n",
              "        vertical-align: top;\n",
              "    }\n",
              "\n",
              "    .dataframe thead th {\n",
              "        text-align: right;\n",
              "    }\n",
              "</style>\n",
              "<table border=\"1\" class=\"dataframe\">\n",
              "  <thead>\n",
              "    <tr style=\"text-align: right;\">\n",
              "      <th></th>\n",
              "      <th>Country</th>\n",
              "      <th>GDP ($)</th>\n",
              "      <th>GDP/Capita ($)</th>\n",
              "      <th>No.Suicides</th>\n",
              "      <th>Suicides_rate/100k pop</th>\n",
              "      <th>Classify</th>\n",
              "    </tr>\n",
              "  </thead>\n",
              "  <tbody>\n",
              "    <tr>\n",
              "      <th>75</th>\n",
              "      <td>Russian Federation</td>\n",
              "      <td>884322917284.89</td>\n",
              "      <td>6518.81</td>\n",
              "      <td>3733.77</td>\n",
              "      <td>34.89</td>\n",
              "      <td>Poor</td>\n",
              "    </tr>\n",
              "    <tr>\n",
              "      <th>98</th>\n",
              "      <td>United States</td>\n",
              "      <td>10510712193548.39</td>\n",
              "      <td>39269.61</td>\n",
              "      <td>2779.60</td>\n",
              "      <td>13.82</td>\n",
              "      <td>Rich</td>\n",
              "    </tr>\n",
              "    <tr>\n",
              "      <th>46</th>\n",
              "      <td>Japan</td>\n",
              "      <td>4339220721652.13</td>\n",
              "      <td>36397.55</td>\n",
              "      <td>2169.09</td>\n",
              "      <td>21.57</td>\n",
              "      <td>Rich</td>\n",
              "    </tr>\n",
              "    <tr>\n",
              "      <th>95</th>\n",
              "      <td>Ukraine</td>\n",
              "      <td>83891109353.86</td>\n",
              "      <td>1867.54</td>\n",
              "      <td>952.23</td>\n",
              "      <td>26.58</td>\n",
              "      <td>Poor</td>\n",
              "    </tr>\n",
              "    <tr>\n",
              "      <th>35</th>\n",
              "      <td>Germany</td>\n",
              "      <td>2742233009725.73</td>\n",
              "      <td>35164.23</td>\n",
              "      <td>933.53</td>\n",
              "      <td>15.56</td>\n",
              "      <td>Rich</td>\n",
              "    </tr>\n",
              "    <tr>\n",
              "      <th>33</th>\n",
              "      <td>France</td>\n",
              "      <td>1781194065793.10</td>\n",
              "      <td>31481.47</td>\n",
              "      <td>914.24</td>\n",
              "      <td>21.68</td>\n",
              "      <td>Rich</td>\n",
              "    </tr>\n",
              "    <tr>\n",
              "      <th>73</th>\n",
              "      <td>Republic of Korea</td>\n",
              "      <td>673420794900.58</td>\n",
              "      <td>14801.26</td>\n",
              "      <td>703.58</td>\n",
              "      <td>25.14</td>\n",
              "      <td>Normal</td>\n",
              "    </tr>\n",
              "    <tr>\n",
              "      <th>15</th>\n",
              "      <td>Brazil</td>\n",
              "      <td>1022560962485.35</td>\n",
              "      <td>6091.48</td>\n",
              "      <td>609.17</td>\n",
              "      <td>5.85</td>\n",
              "      <td>Poor</td>\n",
              "    </tr>\n",
              "    <tr>\n",
              "      <th>69</th>\n",
              "      <td>Poland</td>\n",
              "      <td>294458281651.67</td>\n",
              "      <td>8146.46</td>\n",
              "      <td>482.98</td>\n",
              "      <td>15.27</td>\n",
              "      <td>Poor</td>\n",
              "    </tr>\n",
              "    <tr>\n",
              "      <th>87</th>\n",
              "      <td>Sri Lanka</td>\n",
              "      <td>15326445828.55</td>\n",
              "      <td>904.27</td>\n",
              "      <td>421.52</td>\n",
              "      <td>35.30</td>\n",
              "      <td>Poor</td>\n",
              "    </tr>\n",
              "  </tbody>\n",
              "</table>\n",
              "</div>"
            ],
            "text/plain": [
              "               Country           GDP ($)  GDP/Capita ($)  No.Suicides  \\\n",
              "75  Russian Federation   884322917284.89         6518.81      3733.77   \n",
              "98       United States 10510712193548.39        39269.61      2779.60   \n",
              "46               Japan  4339220721652.13        36397.55      2169.09   \n",
              "95             Ukraine    83891109353.86         1867.54       952.23   \n",
              "35             Germany  2742233009725.73        35164.23       933.53   \n",
              "33              France  1781194065793.10        31481.47       914.24   \n",
              "73   Republic of Korea   673420794900.58        14801.26       703.58   \n",
              "15              Brazil  1022560962485.35         6091.48       609.17   \n",
              "69              Poland   294458281651.67         8146.46       482.98   \n",
              "87           Sri Lanka    15326445828.55          904.27       421.52   \n",
              "\n",
              "    Suicides_rate/100k pop Classify  \n",
              "75                   34.89     Poor  \n",
              "98                   13.82     Rich  \n",
              "46                   21.57     Rich  \n",
              "95                   26.58     Poor  \n",
              "35                   15.56     Rich  \n",
              "33                   21.68     Rich  \n",
              "73                   25.14   Normal  \n",
              "15                    5.85     Poor  \n",
              "69                   15.27     Poor  \n",
              "87                   35.30     Poor  "
            ]
          },
          "execution_count": 58,
          "metadata": {},
          "output_type": "execute_result"
        }
      ],
      "source": [
        "df_country_suicide_all_time_top_10"
      ]
    },
    {
      "cell_type": "code",
      "execution_count": 59,
      "metadata": {
        "colab": {
          "base_uri": "https://localhost:8080/",
          "height": 373
        },
        "id": "71NO8A15zhf_",
        "outputId": "3b89bb9d-b1a5-4ca2-f5a4-3e56e5e920dc"
      },
      "outputs": [
        {
          "data": {
            "image/png": "[encoded data removed]",
            "text/plain": [
              "<Figure size 2000x800 with 2 Axes>"
            ]
          },
          "metadata": {},
          "output_type": "display_data"
        }
      ],
      "source": [
        "#Top 10 Countries have lowest suicide rate of all time\n",
        "df_country_suicide_all_time_top_10=df_country_suicide_all_time.sort_values(['No.Suicides'], ascending=True).head(10)\n",
        "#Visualizing\n",
        "plt.figure(figsize=(25,10))\n",
        "plt.style.use('classic')\n",
        "plt.subplot(211)\n",
        "sns.barplot(data=df_country_suicide_all_time_top_10,x='Country',y='Suicides_rate/100k pop',palette=\"tab10\")\n",
        "#plt.suptitle('Top 10 Countries have lowest Suicides rate of all time')\n",
        "plt.xlabel('Country')\n",
        "plt.ylabel('Suicides_rate/100k pop every year')\n",
        "\n",
        "plt.subplot(212)\n",
        "sns.barplot(data=df_country_suicide_all_time_top_10,x='Country',y='GDP/Capita ($)',palette=\"tab10\")\n",
        "plt.xlabel('Country')\n",
        "plt.ylabel('GDP/Capita ($) every year')\n",
        "#plt.savefig('country_lowest_suicide_all_time_top_10.png')\n",
        "plt.show()"
      ]
    },
    {
      "cell_type": "markdown",
      "metadata": {
        "id": "4oJmoOJLWtTJ"
      },
      "source": [
        "### Number of Suicides by classify countries of  all time"
      ]
    },
    {
      "cell_type": "code",
      "execution_count": 60,
      "metadata": {
        "colab": {
          "base_uri": "https://localhost:8080/",
          "height": 175
        },
        "id": "GvbLtroaOYco",
        "outputId": "f7dc8818-d31e-4c78-fb72-d539d30408cc"
      },
      "outputs": [
        {
          "data": {
            "text/html": [
              "<style type=\"text/css\">\n",
              "#T_a3691_row0_col0, #T_a3691_row1_col1, #T_a3691_row2_col2, #T_a3691_row3_col3 {\n",
              "  background-color: #08306b;\n",
              "  color: #f1f1f1;\n",
              "}\n",
              "#T_a3691_row0_col1 {\n",
              "  background-color: #c7dcef;\n",
              "  color: #000000;\n",
              "}\n",
              "#T_a3691_row0_col2 {\n",
              "  background-color: #3888c1;\n",
              "  color: #f1f1f1;\n",
              "}\n",
              "#T_a3691_row0_col3 {\n",
              "  background-color: #eef5fc;\n",
              "  color: #000000;\n",
              "}\n",
              "#T_a3691_row1_col0 {\n",
              "  background-color: #cee0f2;\n",
              "  color: #000000;\n",
              "}\n",
              "#T_a3691_row1_col2, #T_a3691_row1_col3, #T_a3691_row3_col0, #T_a3691_row3_col1 {\n",
              "  background-color: #f7fbff;\n",
              "  color: #000000;\n",
              "}\n",
              "#T_a3691_row2_col0 {\n",
              "  background-color: #3787c0;\n",
              "  color: #f1f1f1;\n",
              "}\n",
              "#T_a3691_row2_col1 {\n",
              "  background-color: #ecf4fb;\n",
              "  color: #000000;\n",
              "}\n",
              "#T_a3691_row2_col3 {\n",
              "  background-color: #aed1e7;\n",
              "  color: #000000;\n",
              "}\n",
              "#T_a3691_row3_col2 {\n",
              "  background-color: #bcd7eb;\n",
              "  color: #000000;\n",
              "}\n",
              "</style>\n",
              "<table id=\"T_a3691_\">\n",
              "  <thead>\n",
              "    <tr>\n",
              "      <th class=\"blank level0\" >&nbsp;</th>\n",
              "      <th class=\"col_heading level0 col0\" >GDP ($)</th>\n",
              "      <th class=\"col_heading level0 col1\" >GDP/Capita ($)</th>\n",
              "      <th class=\"col_heading level0 col2\" >No.Suicides</th>\n",
              "      <th class=\"col_heading level0 col3\" >Suicides_rate/100k pop</th>\n",
              "    </tr>\n",
              "  </thead>\n",
              "  <tbody>\n",
              "    <tr>\n",
              "      <th id=\"T_a3691_level0_row0\" class=\"row_heading level0 row0\" >GDP ($)</th>\n",
              "      <td id=\"T_a3691_row0_col0\" class=\"data row0 col0\" >1.000000</td>\n",
              "      <td id=\"T_a3691_row0_col1\" class=\"data row0 col1\" >0.274728</td>\n",
              "      <td id=\"T_a3691_row0_col2\" class=\"data row0 col2\" >0.694625</td>\n",
              "      <td id=\"T_a3691_row0_col3\" class=\"data row0 col3\" >0.081693</td>\n",
              "    </tr>\n",
              "    <tr>\n",
              "      <th id=\"T_a3691_level0_row1\" class=\"row_heading level0 row1\" >GDP/Capita ($)</th>\n",
              "      <td id=\"T_a3691_row1_col0\" class=\"data row1 col0\" >0.274728</td>\n",
              "      <td id=\"T_a3691_row1_col1\" class=\"data row1 col1\" >1.000000</td>\n",
              "      <td id=\"T_a3691_row1_col2\" class=\"data row1 col2\" >0.093967</td>\n",
              "      <td id=\"T_a3691_row1_col3\" class=\"data row1 col3\" >0.038206</td>\n",
              "    </tr>\n",
              "    <tr>\n",
              "      <th id=\"T_a3691_level0_row2\" class=\"row_heading level0 row2\" >No.Suicides</th>\n",
              "      <td id=\"T_a3691_row2_col0\" class=\"data row2 col0\" >0.694625</td>\n",
              "      <td id=\"T_a3691_row2_col1\" class=\"data row2 col1\" >0.093967</td>\n",
              "      <td id=\"T_a3691_row2_col2\" class=\"data row2 col2\" >1.000000</td>\n",
              "      <td id=\"T_a3691_row2_col3\" class=\"data row2 col3\" >0.350454</td>\n",
              "    </tr>\n",
              "    <tr>\n",
              "      <th id=\"T_a3691_level0_row3\" class=\"row_heading level0 row3\" >Suicides_rate/100k pop</th>\n",
              "      <td id=\"T_a3691_row3_col0\" class=\"data row3 col0\" >0.081693</td>\n",
              "      <td id=\"T_a3691_row3_col1\" class=\"data row3 col1\" >0.038206</td>\n",
              "      <td id=\"T_a3691_row3_col2\" class=\"data row3 col2\" >0.350454</td>\n",
              "      <td id=\"T_a3691_row3_col3\" class=\"data row3 col3\" >1.000000</td>\n",
              "    </tr>\n",
              "  </tbody>\n",
              "</table>\n"
            ],
            "text/plain": [
              "<pandas.io.formats.style.Styler at 0x20a9dc1b160>"
            ]
          },
          "execution_count": 60,
          "metadata": {},
          "output_type": "execute_result"
        }
      ],
      "source": [
        "df_country_suicide_all_time.corr().style.background_gradient(cmap='Blues')"
      ]
    },
    {
      "cell_type": "code",
      "execution_count": 61,
      "metadata": {
        "colab": {
          "base_uri": "https://localhost:8080/",
          "height": 1000
        },
        "id": "AYOU2_SP6xPT",
        "outputId": "a8c1f01d-3a7e-4eac-ced4-377908183f17"
      },
      "outputs": [
        {
          "data": {
            "image/png": "[encoded data removed]",
            "text/plain": [
              "<Figure size 800x1600 with 2 Axes>"
            ]
          },
          "metadata": {},
          "output_type": "display_data"
        }
      ],
      "source": [
        "\n",
        "#Suicide rate by classify countries\n",
        "df_country_classify_all_time=df_country_suicide_all_time.groupby(['Classify']).agg({'No.Suicides':'sum','Suicides_rate/100k pop':'mean'}).reset_index()\n",
        "#Visualizing\n",
        "plt.figure(figsize=(10,20))\n",
        "plt.style.use('classic')\n",
        "plt.subplot(211)\n",
        "sns.barplot(data=df_country_classify_all_time,x='Classify',y='No.Suicides',palette=\"tab10\",order=['Poor','Normal','Rich'])\n",
        "plt.xlabel('Classify')\n",
        "plt.ylabel('No.Suicides/Year')\n",
        "\n",
        "plt.subplot(212)\n",
        "sns.barplot(data=df_country_classify_all_time,x='Classify',y='Suicides_rate/100k pop',palette=\"tab10\",order=['Poor','Normal','Rich'])\n",
        "plt.xlabel('Classify')\n",
        "plt.ylabel('Suicides_rate/100k pop')\n",
        "#plt.savefig('countries_suicide_classify.png')\n",
        "plt.show()"
      ]
    },
    {
      "cell_type": "markdown",
      "metadata": {
        "id": "PJrabWL-Ubzq"
      },
      "source": [
        "Rich and Poor people are more easy to commit suicide than Normal people.\n",
        "\n"
      ]
    },
    {
      "cell_type": "markdown",
      "metadata": {
        "id": "PbIov1Pd32c4"
      },
      "source": [
        "### No.Suicide by Age of all time"
      ]
    },
    {
      "cell_type": "code",
      "execution_count": 62,
      "metadata": {
        "colab": {
          "base_uri": "https://localhost:8080/",
          "height": 706
        },
        "id": "HOPQhIVz34qa",
        "outputId": "86627547-a40d-43c8-8c24-6360f82b4501"
      },
      "outputs": [
        {
          "data": {
            "image/png": "[encoded data removed]",
            "text/plain": [
              "<Figure size 1600x800 with 2 Axes>"
            ]
          },
          "metadata": {},
          "output_type": "display_data"
        }
      ],
      "source": [
        "plt.figure(figsize=(20,10))\n",
        "plt.style.use('classic')\n",
        "plt.subplot(211)\n",
        "sns.barplot(data=df_age_suicide,x='Age',y='Suicides_rate/100k pop',palette=\"tab10\")\n",
        "plt.xlabel('Age')\n",
        "plt.ylabel('Suicides_rate/100k pop')\n",
        "\n",
        "plt.subplot(212)\n",
        "sns.barplot(data=df_age_suicide,x='Age',y='No.Suicides',palette=\"tab10\")\n",
        "plt.xlabel('Age')\n",
        "plt.ylabel('No.Suicides/Year')\n",
        "#plt.savefig('countries_suicide_age.png')\n",
        "plt.show()\n",
        "\n"
      ]
    },
    {
      "cell_type": "markdown",
      "metadata": {
        "id": "UuhKoUuRSPpj"
      },
      "source": [
        "Suicide rate increases when people older. The elder more easy think of dead because they know they live long enough.\n",
        "\n",
        "The people at 35-54 years old has number of Suicides highest in all of Ages even the Suicide rate not so high.\n",
        "\n",
        "\n"
      ]
    },
    {
      "cell_type": "markdown",
      "metadata": {
        "id": "haBDqsbscjjA"
      },
      "source": [
        "### No.Suicides every year over the world"
      ]
    },
    {
      "cell_type": "code",
      "execution_count": 63,
      "metadata": {
        "colab": {
          "base_uri": "https://localhost:8080/",
          "height": 369
        },
        "id": "tRC6Jw5nDCdo",
        "outputId": "035971bf-9a11-4c64-daba-7476c80fd980"
      },
      "outputs": [
        {
          "name": "stderr",
          "output_type": "stream",
          "text": [
            "C:\\Users\\ADMIN\\AppData\\Local\\Temp/ipykernel_14852/3374930593.py:2: FutureWarning: Indexing with multiple keys (implicitly converted to a tuple of keys) will be deprecated, use a list instead.\n",
            "  df_total_world_suicide=df_total_suicide.groupby(['Year'])['No.Suicides','Population'].sum().reset_index()\n"
          ]
        },
        {
          "data": {
            "image/png": "[encoded data removed]",
            "text/plain": [
              "<Figure size 2400x800 with 2 Axes>"
            ]
          },
          "metadata": {},
          "output_type": "display_data"
        }
      ],
      "source": [
        "#Suicide every year\n",
        "df_total_world_suicide=df_total_suicide.groupby(['Year'])['No.Suicides','Population'].sum().reset_index()\n",
        "#Visualizing\n",
        "plt.figure(figsize=(30,10))\n",
        "plt.style.use('classic')\n",
        "plt.subplot(211)\n",
        "sns.barplot(data=df_total_suicide[df_total_suicide['Year']<2016],x='Year',y='No.Suicides',hue='Sex')\n",
        "plt.xlabel('Year')\n",
        "plt.ylabel('No.Suicides')\n",
        "\n",
        "plt.subplot(212)\n",
        "sns.barplot(data=df_total_world_suicide[df_total_world_suicide['Year']<2016],x='Year',y='No.Suicides',color='red')\n",
        "plt.xlabel('Year')\n",
        "plt.ylabel('No.Suicides')\n",
        "#plt.ylim(100000,270000)\n",
        "#plt.xlim(1985,2015)\n",
        "#plt.savefig('countries_suicide_sex.png')\n",
        "plt.show()"
      ]
    },
    {
      "cell_type": "code",
      "execution_count": 64,
      "metadata": {
        "colab": {
          "base_uri": "https://localhost:8080/",
          "height": 237
        },
        "id": "VK2yz0nhr-wi",
        "outputId": "fc865bd0-0eff-4784-ed8d-278dcbdc390f"
      },
      "outputs": [
        {
          "data": {
            "text/html": [
              "<style type=\"text/css\">\n",
              "#T_13e30_row0_col0, #T_13e30_row1_col1, #T_13e30_row2_col2, #T_13e30_row3_col3, #T_13e30_row4_col4, #T_13e30_row5_col5 {\n",
              "  background-color: #08306b;\n",
              "  color: #f1f1f1;\n",
              "}\n",
              "#T_13e30_row0_col1, #T_13e30_row4_col0 {\n",
              "  background-color: #f2f8fd;\n",
              "  color: #000000;\n",
              "}\n",
              "#T_13e30_row0_col2 {\n",
              "  background-color: #b8d5ea;\n",
              "  color: #000000;\n",
              "}\n",
              "#T_13e30_row0_col3, #T_13e30_row0_col4, #T_13e30_row0_col5, #T_13e30_row5_col0, #T_13e30_row5_col1, #T_13e30_row5_col2 {\n",
              "  background-color: #f7fbff;\n",
              "  color: #000000;\n",
              "}\n",
              "#T_13e30_row1_col0 {\n",
              "  background-color: #e2edf8;\n",
              "  color: #000000;\n",
              "}\n",
              "#T_13e30_row1_col2 {\n",
              "  background-color: #c3daee;\n",
              "  color: #000000;\n",
              "}\n",
              "#T_13e30_row1_col3 {\n",
              "  background-color: #3888c1;\n",
              "  color: #f1f1f1;\n",
              "}\n",
              "#T_13e30_row1_col4 {\n",
              "  background-color: #1764ab;\n",
              "  color: #f1f1f1;\n",
              "}\n",
              "#T_13e30_row1_col5 {\n",
              "  background-color: #e6f0f9;\n",
              "  color: #000000;\n",
              "}\n",
              "#T_13e30_row2_col0 {\n",
              "  background-color: #a6cee4;\n",
              "  color: #000000;\n",
              "}\n",
              "#T_13e30_row2_col1 {\n",
              "  background-color: #c7dbef;\n",
              "  color: #000000;\n",
              "}\n",
              "#T_13e30_row2_col3, #T_13e30_row4_col5 {\n",
              "  background-color: #e3eef9;\n",
              "  color: #000000;\n",
              "}\n",
              "#T_13e30_row2_col4 {\n",
              "  background-color: #e7f0fa;\n",
              "  color: #000000;\n",
              "}\n",
              "#T_13e30_row2_col5, #T_13e30_row5_col4 {\n",
              "  background-color: #e8f1fa;\n",
              "  color: #000000;\n",
              "}\n",
              "#T_13e30_row3_col0 {\n",
              "  background-color: #f5fafe;\n",
              "  color: #000000;\n",
              "}\n",
              "#T_13e30_row3_col1 {\n",
              "  background-color: #4090c5;\n",
              "  color: #f1f1f1;\n",
              "}\n",
              "#T_13e30_row3_col2 {\n",
              "  background-color: #f0f6fd;\n",
              "  color: #000000;\n",
              "}\n",
              "#T_13e30_row3_col4 {\n",
              "  background-color: #1562a9;\n",
              "  color: #f1f1f1;\n",
              "}\n",
              "#T_13e30_row3_col5 {\n",
              "  background-color: #a0cbe2;\n",
              "  color: #000000;\n",
              "}\n",
              "#T_13e30_row4_col1 {\n",
              "  background-color: #1a68ae;\n",
              "  color: #f1f1f1;\n",
              "}\n",
              "#T_13e30_row4_col2 {\n",
              "  background-color: #f1f7fd;\n",
              "  color: #000000;\n",
              "}\n",
              "#T_13e30_row4_col3 {\n",
              "  background-color: #1561a9;\n",
              "  color: #f1f1f1;\n",
              "}\n",
              "#T_13e30_row5_col3 {\n",
              "  background-color: #a1cbe2;\n",
              "  color: #000000;\n",
              "}\n",
              "</style>\n",
              "<table id=\"T_13e30_\">\n",
              "  <thead>\n",
              "    <tr>\n",
              "      <th class=\"blank level0\" >&nbsp;</th>\n",
              "      <th class=\"col_heading level0 col0\" >Year</th>\n",
              "      <th class=\"col_heading level0 col1\" >GDP ($)</th>\n",
              "      <th class=\"col_heading level0 col2\" >GDP/Capita ($)</th>\n",
              "      <th class=\"col_heading level0 col3\" >No.Suicides</th>\n",
              "      <th class=\"col_heading level0 col4\" >Population</th>\n",
              "      <th class=\"col_heading level0 col5\" >Suicides_rate/100k pop</th>\n",
              "    </tr>\n",
              "  </thead>\n",
              "  <tbody>\n",
              "    <tr>\n",
              "      <th id=\"T_13e30_level0_row0\" class=\"row_heading level0 row0\" >Year</th>\n",
              "      <td id=\"T_13e30_row0_col0\" class=\"data row0 col0\" >1.000000</td>\n",
              "      <td id=\"T_13e30_row0_col1\" class=\"data row0 col1\" >0.094001</td>\n",
              "      <td id=\"T_13e30_row0_col2\" class=\"data row0 col2\" >0.339188</td>\n",
              "      <td id=\"T_13e30_row0_col3\" class=\"data row0 col3\" >-0.007759</td>\n",
              "      <td id=\"T_13e30_row0_col4\" class=\"data row0 col4\" >0.008887</td>\n",
              "      <td id=\"T_13e30_row0_col5\" class=\"data row0 col5\" >-0.015713</td>\n",
              "    </tr>\n",
              "    <tr>\n",
              "      <th id=\"T_13e30_level0_row1\" class=\"row_heading level0 row1\" >GDP ($)</th>\n",
              "      <td id=\"T_13e30_row1_col0\" class=\"data row1 col0\" >0.094001</td>\n",
              "      <td id=\"T_13e30_row1_col1\" class=\"data row1 col1\" >1.000000</td>\n",
              "      <td id=\"T_13e30_row1_col2\" class=\"data row1 col2\" >0.303126</td>\n",
              "      <td id=\"T_13e30_row1_col3\" class=\"data row1 col3\" >0.657589</td>\n",
              "      <td id=\"T_13e30_row1_col4\" class=\"data row1 col4\" >0.800281</td>\n",
              "      <td id=\"T_13e30_row1_col5\" class=\"data row1 col5\" >0.071868</td>\n",
              "    </tr>\n",
              "    <tr>\n",
              "      <th id=\"T_13e30_level0_row2\" class=\"row_heading level0 row2\" >GDP/Capita ($)</th>\n",
              "      <td id=\"T_13e30_row2_col0\" class=\"data row2 col0\" >0.339188</td>\n",
              "      <td id=\"T_13e30_row2_col1\" class=\"data row2 col1\" >0.303126</td>\n",
              "      <td id=\"T_13e30_row2_col2\" class=\"data row2 col2\" >1.000000</td>\n",
              "      <td id=\"T_13e30_row2_col3\" class=\"data row2 col3\" >0.093461</td>\n",
              "      <td id=\"T_13e30_row2_col4\" class=\"data row2 col4\" >0.091413</td>\n",
              "      <td id=\"T_13e30_row2_col5\" class=\"data row2 col5\" >0.060367</td>\n",
              "    </tr>\n",
              "    <tr>\n",
              "      <th id=\"T_13e30_level0_row3\" class=\"row_heading level0 row3\" >No.Suicides</th>\n",
              "      <td id=\"T_13e30_row3_col0\" class=\"data row3 col0\" >-0.007759</td>\n",
              "      <td id=\"T_13e30_row3_col1\" class=\"data row3 col1\" >0.657589</td>\n",
              "      <td id=\"T_13e30_row3_col2\" class=\"data row3 col2\" >0.093461</td>\n",
              "      <td id=\"T_13e30_row3_col3\" class=\"data row3 col3\" >1.000000</td>\n",
              "      <td id=\"T_13e30_row3_col4\" class=\"data row3 col4\" >0.808095</td>\n",
              "      <td id=\"T_13e30_row3_col5\" class=\"data row3 col5\" >0.360253</td>\n",
              "    </tr>\n",
              "    <tr>\n",
              "      <th id=\"T_13e30_level0_row4\" class=\"row_heading level0 row4\" >Population</th>\n",
              "      <td id=\"T_13e30_row4_col0\" class=\"data row4 col0\" >0.008887</td>\n",
              "      <td id=\"T_13e30_row4_col1\" class=\"data row4 col1\" >0.800281</td>\n",
              "      <td id=\"T_13e30_row4_col2\" class=\"data row4 col2\" >0.091413</td>\n",
              "      <td id=\"T_13e30_row4_col3\" class=\"data row4 col3\" >0.808095</td>\n",
              "      <td id=\"T_13e30_row4_col4\" class=\"data row4 col4\" >1.000000</td>\n",
              "      <td id=\"T_13e30_row4_col5\" class=\"data row4 col5\" >0.083918</td>\n",
              "    </tr>\n",
              "    <tr>\n",
              "      <th id=\"T_13e30_level0_row5\" class=\"row_heading level0 row5\" >Suicides_rate/100k pop</th>\n",
              "      <td id=\"T_13e30_row5_col0\" class=\"data row5 col0\" >-0.015713</td>\n",
              "      <td id=\"T_13e30_row5_col1\" class=\"data row5 col1\" >0.071868</td>\n",
              "      <td id=\"T_13e30_row5_col2\" class=\"data row5 col2\" >0.060367</td>\n",
              "      <td id=\"T_13e30_row5_col3\" class=\"data row5 col3\" >0.360253</td>\n",
              "      <td id=\"T_13e30_row5_col4\" class=\"data row5 col4\" >0.083918</td>\n",
              "      <td id=\"T_13e30_row5_col5\" class=\"data row5 col5\" >1.000000</td>\n",
              "    </tr>\n",
              "  </tbody>\n",
              "</table>\n"
            ],
            "text/plain": [
              "<pandas.io.formats.style.Styler at 0x20a9defd340>"
            ]
          },
          "execution_count": 64,
          "metadata": {},
          "output_type": "execute_result"
        }
      ],
      "source": [
        "df_country_suicide.corr().style.background_gradient(cmap='Blues')"
      ]
    },
    {
      "cell_type": "markdown",
      "metadata": {
        "id": "x73tZky07mUX"
      },
      "source": [
        "## 2/Mental Health around the world "
      ]
    },
    {
      "cell_type": "code",
      "execution_count": 65,
      "metadata": {
        "colab": {
          "base_uri": "https://localhost:8080/",
          "height": 331
        },
        "id": "1VWdt0omeLL7",
        "outputId": "1c2d3a7e-9337-49b8-a370-6163432bc529"
      },
      "outputs": [
        {
          "data": {
            "text/html": [
              "<style type=\"text/css\">\n",
              "#T_54165_row0_col0, #T_54165_row1_col1, #T_54165_row2_col2, #T_54165_row3_col3, #T_54165_row4_col4, #T_54165_row5_col5, #T_54165_row6_col6, #T_54165_row7_col7, #T_54165_row8_col8 {\n",
              "  background-color: #08306b;\n",
              "  color: #f1f1f1;\n",
              "}\n",
              "#T_54165_row0_col1 {\n",
              "  background-color: #c4daee;\n",
              "  color: #000000;\n",
              "}\n",
              "#T_54165_row0_col2, #T_54165_row3_col7, #T_54165_row6_col8, #T_54165_row7_col3 {\n",
              "  background-color: #eef5fc;\n",
              "  color: #000000;\n",
              "}\n",
              "#T_54165_row0_col3, #T_54165_row1_col7, #T_54165_row2_col8 {\n",
              "  background-color: #e5eff9;\n",
              "  color: #000000;\n",
              "}\n",
              "#T_54165_row0_col4 {\n",
              "  background-color: #ddeaf7;\n",
              "  color: #000000;\n",
              "}\n",
              "#T_54165_row0_col5 {\n",
              "  background-color: #d2e3f3;\n",
              "  color: #000000;\n",
              "}\n",
              "#T_54165_row0_col6 {\n",
              "  background-color: #dfecf7;\n",
              "  color: #000000;\n",
              "}\n",
              "#T_54165_row0_col7 {\n",
              "  background-color: #ebf3fb;\n",
              "  color: #000000;\n",
              "}\n",
              "#T_54165_row0_col8, #T_54165_row1_col2, #T_54165_row1_col3, #T_54165_row1_col4, #T_54165_row1_col5, #T_54165_row4_col1, #T_54165_row4_col7, #T_54165_row7_col6, #T_54165_row8_col0 {\n",
              "  background-color: #f7fbff;\n",
              "  color: #000000;\n",
              "}\n",
              "#T_54165_row1_col0, #T_54165_row2_col1 {\n",
              "  background-color: #d7e6f5;\n",
              "  color: #000000;\n",
              "}\n",
              "#T_54165_row1_col6 {\n",
              "  background-color: #f5f9fe;\n",
              "  color: #000000;\n",
              "}\n",
              "#T_54165_row1_col8 {\n",
              "  background-color: #e9f2fa;\n",
              "  color: #000000;\n",
              "}\n",
              "#T_54165_row2_col0, #T_54165_row7_col5 {\n",
              "  background-color: #e4eff9;\n",
              "  color: #000000;\n",
              "}\n",
              "#T_54165_row2_col3, #T_54165_row8_col3 {\n",
              "  background-color: #e1edf8;\n",
              "  color: #000000;\n",
              "}\n",
              "#T_54165_row2_col4 {\n",
              "  background-color: #a0cbe2;\n",
              "  color: #000000;\n",
              "}\n",
              "#T_54165_row2_col5 {\n",
              "  background-color: #dce9f6;\n",
              "  color: #000000;\n",
              "}\n",
              "#T_54165_row2_col6 {\n",
              "  background-color: #a9cfe5;\n",
              "  color: #000000;\n",
              "}\n",
              "#T_54165_row2_col7, #T_54165_row3_col2, #T_54165_row4_col8, #T_54165_row7_col0 {\n",
              "  background-color: #eaf2fb;\n",
              "  color: #000000;\n",
              "}\n",
              "#T_54165_row3_col0 {\n",
              "  background-color: #e3eef9;\n",
              "  color: #000000;\n",
              "}\n",
              "#T_54165_row3_col1, #T_54165_row3_col8, #T_54165_row7_col4 {\n",
              "  background-color: #dfebf7;\n",
              "  color: #000000;\n",
              "}\n",
              "#T_54165_row3_col4 {\n",
              "  background-color: #99c7e0;\n",
              "  color: #000000;\n",
              "}\n",
              "#T_54165_row3_col5 {\n",
              "  background-color: #d6e5f4;\n",
              "  color: #000000;\n",
              "}\n",
              "#T_54165_row3_col6, #T_54165_row6_col1 {\n",
              "  background-color: #d8e7f5;\n",
              "  color: #000000;\n",
              "}\n",
              "#T_54165_row4_col0 {\n",
              "  background-color: #f3f8fe;\n",
              "  color: #000000;\n",
              "}\n",
              "#T_54165_row4_col2, #T_54165_row5_col0 {\n",
              "  background-color: #c7dbef;\n",
              "  color: #000000;\n",
              "}\n",
              "#T_54165_row4_col3 {\n",
              "  background-color: #b4d3e9;\n",
              "  color: #000000;\n",
              "}\n",
              "#T_54165_row4_col5 {\n",
              "  background-color: #dceaf6;\n",
              "  color: #000000;\n",
              "}\n",
              "#T_54165_row4_col6 {\n",
              "  background-color: #c1d9ed;\n",
              "  color: #000000;\n",
              "}\n",
              "#T_54165_row5_col1, #T_54165_row8_col1 {\n",
              "  background-color: #d4e4f4;\n",
              "  color: #000000;\n",
              "}\n",
              "#T_54165_row5_col2, #T_54165_row5_col7 {\n",
              "  background-color: #d9e8f5;\n",
              "  color: #000000;\n",
              "}\n",
              "#T_54165_row5_col3 {\n",
              "  background-color: #cbdef1;\n",
              "  color: #000000;\n",
              "}\n",
              "#T_54165_row5_col4 {\n",
              "  background-color: #bad6eb;\n",
              "  color: #000000;\n",
              "}\n",
              "#T_54165_row5_col6 {\n",
              "  background-color: #a6cee4;\n",
              "  color: #000000;\n",
              "}\n",
              "#T_54165_row5_col8 {\n",
              "  background-color: #81badb;\n",
              "  color: #000000;\n",
              "}\n",
              "#T_54165_row6_col0 {\n",
              "  background-color: #d9e7f5;\n",
              "  color: #000000;\n",
              "}\n",
              "#T_54165_row6_col2 {\n",
              "  background-color: #add0e6;\n",
              "  color: #000000;\n",
              "}\n",
              "#T_54165_row6_col3 {\n",
              "  background-color: #d3e3f3;\n",
              "  color: #000000;\n",
              "}\n",
              "#T_54165_row6_col4 {\n",
              "  background-color: #9fcae1;\n",
              "  color: #000000;\n",
              "}\n",
              "#T_54165_row6_col5 {\n",
              "  background-color: #aed1e7;\n",
              "  color: #000000;\n",
              "}\n",
              "#T_54165_row6_col7 {\n",
              "  background-color: #f2f7fd;\n",
              "  color: #000000;\n",
              "}\n",
              "#T_54165_row7_col1 {\n",
              "  background-color: #d0e1f2;\n",
              "  color: #000000;\n",
              "}\n",
              "#T_54165_row7_col2 {\n",
              "  background-color: #f2f8fd;\n",
              "  color: #000000;\n",
              "}\n",
              "#T_54165_row7_col8 {\n",
              "  background-color: #7cb7da;\n",
              "  color: #000000;\n",
              "}\n",
              "#T_54165_row8_col2 {\n",
              "  background-color: #f0f6fd;\n",
              "  color: #000000;\n",
              "}\n",
              "#T_54165_row8_col4 {\n",
              "  background-color: #d5e5f4;\n",
              "  color: #000000;\n",
              "}\n",
              "#T_54165_row8_col5 {\n",
              "  background-color: #92c4de;\n",
              "  color: #000000;\n",
              "}\n",
              "#T_54165_row8_col6 {\n",
              "  background-color: #f5fafe;\n",
              "  color: #000000;\n",
              "}\n",
              "#T_54165_row8_col7 {\n",
              "  background-color: #7db8da;\n",
              "  color: #000000;\n",
              "}\n",
              "</style>\n",
              "<table id=\"T_54165_\">\n",
              "  <thead>\n",
              "    <tr>\n",
              "      <th class=\"blank level0\" >&nbsp;</th>\n",
              "      <th class=\"col_heading level0 col0\" >Suicide Rate</th>\n",
              "      <th class=\"col_heading level0 col1\" >Publication year of the policy or plan (latest revision)</th>\n",
              "      <th class=\"col_heading level0 col2\" >Mental_hospitals</th>\n",
              "      <th class=\"col_heading level0 col3\" >Health_units</th>\n",
              "      <th class=\"col_heading level0 col4\" >Outpatient_facilities</th>\n",
              "      <th class=\"col_heading level0 col5\" >Psychiatrists</th>\n",
              "      <th class=\"col_heading level0 col6\" >Nurses</th>\n",
              "      <th class=\"col_heading level0 col7\" >Social_workers</th>\n",
              "      <th class=\"col_heading level0 col8\" >Psychologists</th>\n",
              "    </tr>\n",
              "  </thead>\n",
              "  <tbody>\n",
              "    <tr>\n",
              "      <th id=\"T_54165_level0_row0\" class=\"row_heading level0 row0\" >Suicide Rate</th>\n",
              "      <td id=\"T_54165_row0_col0\" class=\"data row0 col0\" >1.000000</td>\n",
              "      <td id=\"T_54165_row0_col1\" class=\"data row0 col1\" >0.133710</td>\n",
              "      <td id=\"T_54165_row0_col2\" class=\"data row0 col2\" >0.066248</td>\n",
              "      <td id=\"T_54165_row0_col3\" class=\"data row0 col3\" >0.069341</td>\n",
              "      <td id=\"T_54165_row0_col4\" class=\"data row0 col4\" >-0.012138</td>\n",
              "      <td id=\"T_54165_row0_col5\" class=\"data row0 col5\" >0.223069</td>\n",
              "      <td id=\"T_54165_row0_col6\" class=\"data row0 col6\" >0.123948</td>\n",
              "      <td id=\"T_54165_row0_col7\" class=\"data row0 col7\" >0.037059</td>\n",
              "      <td id=\"T_54165_row0_col8\" class=\"data row0 col8\" >-0.034380</td>\n",
              "    </tr>\n",
              "    <tr>\n",
              "      <th id=\"T_54165_level0_row1\" class=\"row_heading level0 row1\" >Publication year of the policy or plan (latest revision)</th>\n",
              "      <td id=\"T_54165_row1_col0\" class=\"data row1 col0\" >0.133710</td>\n",
              "      <td id=\"T_54165_row1_col1\" class=\"data row1 col1\" >1.000000</td>\n",
              "      <td id=\"T_54165_row1_col2\" class=\"data row1 col2\" >0.023392</td>\n",
              "      <td id=\"T_54165_row1_col3\" class=\"data row1 col3\" >-0.024847</td>\n",
              "      <td id=\"T_54165_row1_col4\" class=\"data row1 col4\" >-0.166790</td>\n",
              "      <td id=\"T_54165_row1_col5\" class=\"data row1 col5\" >0.039441</td>\n",
              "      <td id=\"T_54165_row1_col6\" class=\"data row1 col6\" >0.018098</td>\n",
              "      <td id=\"T_54165_row1_col7\" class=\"data row1 col7\" >0.068703</td>\n",
              "      <td id=\"T_54165_row1_col8\" class=\"data row1 col8\" >0.039278</td>\n",
              "    </tr>\n",
              "    <tr>\n",
              "      <th id=\"T_54165_level0_row2\" class=\"row_heading level0 row2\" >Mental_hospitals</th>\n",
              "      <td id=\"T_54165_row2_col0\" class=\"data row2 col0\" >0.066248</td>\n",
              "      <td id=\"T_54165_row2_col1\" class=\"data row2 col1\" >0.023392</td>\n",
              "      <td id=\"T_54165_row2_col2\" class=\"data row2 col2\" >1.000000</td>\n",
              "      <td id=\"T_54165_row2_col3\" class=\"data row2 col3\" >0.089851</td>\n",
              "      <td id=\"T_54165_row2_col4\" class=\"data row2 col4\" >0.264712</td>\n",
              "      <td id=\"T_54165_row2_col5\" class=\"data row2 col5\" >0.172112</td>\n",
              "      <td id=\"T_54165_row2_col6\" class=\"data row2 col6\" >0.344275</td>\n",
              "      <td id=\"T_54165_row2_col7\" class=\"data row2 col7\" >0.046963</td>\n",
              "      <td id=\"T_54165_row2_col8\" class=\"data row2 col8\" >0.058915</td>\n",
              "    </tr>\n",
              "    <tr>\n",
              "      <th id=\"T_54165_level0_row3\" class=\"row_heading level0 row3\" >Health_units</th>\n",
              "      <td id=\"T_54165_row3_col0\" class=\"data row3 col0\" >0.069341</td>\n",
              "      <td id=\"T_54165_row3_col1\" class=\"data row3 col1\" >-0.024847</td>\n",
              "      <td id=\"T_54165_row3_col2\" class=\"data row3 col2\" >0.089851</td>\n",
              "      <td id=\"T_54165_row3_col3\" class=\"data row3 col3\" >1.000000</td>\n",
              "      <td id=\"T_54165_row3_col4\" class=\"data row3 col4\" >0.287939</td>\n",
              "      <td id=\"T_54165_row3_col5\" class=\"data row3 col5\" >0.204272</td>\n",
              "      <td id=\"T_54165_row3_col6\" class=\"data row3 col6\" >0.164265</td>\n",
              "      <td id=\"T_54165_row3_col7\" class=\"data row3 col7\" >0.019589</td>\n",
              "      <td id=\"T_54165_row3_col8\" class=\"data row3 col8\" >0.091049</td>\n",
              "    </tr>\n",
              "    <tr>\n",
              "      <th id=\"T_54165_level0_row4\" class=\"row_heading level0 row4\" >Outpatient_facilities</th>\n",
              "      <td id=\"T_54165_row4_col0\" class=\"data row4 col0\" >-0.012138</td>\n",
              "      <td id=\"T_54165_row4_col1\" class=\"data row4 col1\" >-0.166790</td>\n",
              "      <td id=\"T_54165_row4_col2\" class=\"data row4 col2\" >0.264712</td>\n",
              "      <td id=\"T_54165_row4_col3\" class=\"data row4 col3\" >0.287939</td>\n",
              "      <td id=\"T_54165_row4_col4\" class=\"data row4 col4\" >1.000000</td>\n",
              "      <td id=\"T_54165_row4_col5\" class=\"data row4 col5\" >0.169225</td>\n",
              "      <td id=\"T_54165_row4_col6\" class=\"data row4 col6\" >0.270514</td>\n",
              "      <td id=\"T_54165_row4_col7\" class=\"data row4 col7\" >-0.024475</td>\n",
              "      <td id=\"T_54165_row4_col8\" class=\"data row4 col8\" >0.034463</td>\n",
              "    </tr>\n",
              "    <tr>\n",
              "      <th id=\"T_54165_level0_row5\" class=\"row_heading level0 row5\" >Psychiatrists</th>\n",
              "      <td id=\"T_54165_row5_col0\" class=\"data row5 col0\" >0.223069</td>\n",
              "      <td id=\"T_54165_row5_col1\" class=\"data row5 col1\" >0.039441</td>\n",
              "      <td id=\"T_54165_row5_col2\" class=\"data row5 col2\" >0.172112</td>\n",
              "      <td id=\"T_54165_row5_col3\" class=\"data row5 col3\" >0.204272</td>\n",
              "      <td id=\"T_54165_row5_col4\" class=\"data row5 col4\" >0.169225</td>\n",
              "      <td id=\"T_54165_row5_col5\" class=\"data row5 col5\" >1.000000</td>\n",
              "      <td id=\"T_54165_row5_col6\" class=\"data row5 col6\" >0.353814</td>\n",
              "      <td id=\"T_54165_row5_col7\" class=\"data row5 col7\" >0.130752</td>\n",
              "      <td id=\"T_54165_row5_col8\" class=\"data row5 col8\" >0.429594</td>\n",
              "    </tr>\n",
              "    <tr>\n",
              "      <th id=\"T_54165_level0_row6\" class=\"row_heading level0 row6\" >Nurses</th>\n",
              "      <td id=\"T_54165_row6_col0\" class=\"data row6 col0\" >0.123948</td>\n",
              "      <td id=\"T_54165_row6_col1\" class=\"data row6 col1\" >0.018098</td>\n",
              "      <td id=\"T_54165_row6_col2\" class=\"data row6 col2\" >0.344275</td>\n",
              "      <td id=\"T_54165_row6_col3\" class=\"data row6 col3\" >0.164265</td>\n",
              "      <td id=\"T_54165_row6_col4\" class=\"data row6 col4\" >0.270514</td>\n",
              "      <td id=\"T_54165_row6_col5\" class=\"data row6 col5\" >0.353814</td>\n",
              "      <td id=\"T_54165_row6_col6\" class=\"data row6 col6\" >1.000000</td>\n",
              "      <td id=\"T_54165_row6_col7\" class=\"data row6 col7\" >0.006002</td>\n",
              "      <td id=\"T_54165_row6_col8\" class=\"data row6 col8\" >0.016377</td>\n",
              "    </tr>\n",
              "    <tr>\n",
              "      <th id=\"T_54165_level0_row7\" class=\"row_heading level0 row7\" >Social_workers</th>\n",
              "      <td id=\"T_54165_row7_col0\" class=\"data row7 col0\" >0.037059</td>\n",
              "      <td id=\"T_54165_row7_col1\" class=\"data row7 col1\" >0.068703</td>\n",
              "      <td id=\"T_54165_row7_col2\" class=\"data row7 col2\" >0.046963</td>\n",
              "      <td id=\"T_54165_row7_col3\" class=\"data row7 col3\" >0.019589</td>\n",
              "      <td id=\"T_54165_row7_col4\" class=\"data row7 col4\" >-0.024475</td>\n",
              "      <td id=\"T_54165_row7_col5\" class=\"data row7 col5\" >0.130752</td>\n",
              "      <td id=\"T_54165_row7_col6\" class=\"data row7 col6\" >0.006002</td>\n",
              "      <td id=\"T_54165_row7_col7\" class=\"data row7 col7\" >1.000000</td>\n",
              "      <td id=\"T_54165_row7_col8\" class=\"data row7 col8\" >0.441985</td>\n",
              "    </tr>\n",
              "    <tr>\n",
              "      <th id=\"T_54165_level0_row8\" class=\"row_heading level0 row8\" >Psychologists</th>\n",
              "      <td id=\"T_54165_row8_col0\" class=\"data row8 col0\" >-0.034380</td>\n",
              "      <td id=\"T_54165_row8_col1\" class=\"data row8 col1\" >0.039278</td>\n",
              "      <td id=\"T_54165_row8_col2\" class=\"data row8 col2\" >0.058915</td>\n",
              "      <td id=\"T_54165_row8_col3\" class=\"data row8 col3\" >0.091049</td>\n",
              "      <td id=\"T_54165_row8_col4\" class=\"data row8 col4\" >0.034463</td>\n",
              "      <td id=\"T_54165_row8_col5\" class=\"data row8 col5\" >0.429594</td>\n",
              "      <td id=\"T_54165_row8_col6\" class=\"data row8 col6\" >0.016377</td>\n",
              "      <td id=\"T_54165_row8_col7\" class=\"data row8 col7\" >0.441985</td>\n",
              "      <td id=\"T_54165_row8_col8\" class=\"data row8 col8\" >1.000000</td>\n",
              "    </tr>\n",
              "  </tbody>\n",
              "</table>\n"
            ],
            "text/plain": [
              "<pandas.io.formats.style.Styler at 0x20a9dde08e0>"
            ]
          },
          "execution_count": 65,
          "metadata": {},
          "output_type": "execute_result"
        }
      ],
      "source": [
        "df_2016.corr().style.background_gradient(cmap='Blues')"
      ]
    },
    {
      "cell_type": "markdown",
      "metadata": {
        "id": "nSTGwe4gfNcx"
      },
      "source": [
        "### Top 5 Highest suicide rate Countries in 2016"
      ]
    },
    {
      "cell_type": "code",
      "execution_count": 66,
      "metadata": {
        "colab": {
          "base_uri": "https://localhost:8080/",
          "height": 1000
        },
        "id": "x8ZLC8DwfQuE",
        "outputId": "63ec853f-647f-474e-cd2b-f13cc258ccdd"
      },
      "outputs": [
        {
          "data": {
            "image/png": "[encoded data removed]",
            "text/plain": [
              "<Figure size 2400x1600 with 8 Axes>"
            ]
          },
          "metadata": {},
          "output_type": "display_data"
        }
      ],
      "source": [
        "#Top 5 Highest suicide rate Countries in 2016\n",
        "df_top_5_suicide_rate_2016=df_2016.sort_values(['Suicide Rate'], ascending=False).head(5)\n",
        "#Visualizing\n",
        "plt.figure(figsize=(30,20))\n",
        "plt.style.use('classic')\n",
        "plt.subplot(331)\n",
        "sns.barplot(data=df_top_5_suicide_rate_2016,x='Country',y='Suicide Rate',palette=\"tab10\")\n",
        "plt.suptitle('Top 5 Highest suicide rate Countries in 2016')\n",
        "plt.xlabel('Country')\n",
        "plt.ylabel('Suicide Rate')\n",
        "\n",
        "plt.subplot(332)\n",
        "sns.barplot(data=df_top_5_suicide_rate_2016,x='Country',y='Mental_hospitals',palette=\"tab10\")\n",
        "plt.xlabel('Country')\n",
        "plt.ylabel('Mental hospitals/100k pop')\n",
        "plt.subplot(334)\n",
        "sns.barplot(data=df_top_5_suicide_rate_2016,x='Country',y='Health_units',palette=\"tab10\")\n",
        "plt.xlabel('Country')\n",
        "plt.ylabel('Health units/100k pop')\n",
        "plt.subplot(335)\n",
        "sns.barplot(data=df_top_5_suicide_rate_2016,x='Country',y='Outpatient_facilities',palette=\"tab10\")\n",
        "plt.xlabel('Country')\n",
        "plt.ylabel('Outpatient facilities/100k pop')\n",
        "plt.subplot(336)\n",
        "sns.barplot(data=df_top_5_suicide_rate_2016,x='Country',y='Psychiatrists',palette=\"tab10\")\n",
        "plt.xlabel('Country')\n",
        "plt.ylabel('Psychiatrists/100k pop')\n",
        "plt.subplot(337)\n",
        "sns.barplot(data=df_top_5_suicide_rate_2016,x='Country',y='Nurses',palette=\"tab10\")\n",
        "plt.xlabel('Country')\n",
        "plt.ylabel('Nurses/100k pop')\n",
        "plt.subplot(338)\n",
        "sns.barplot(data=df_top_5_suicide_rate_2016,x='Country',y='Social_workers',palette=\"tab10\")\n",
        "plt.xlabel('Country')\n",
        "plt.ylabel('Social workers/100k pop')\n",
        "plt.subplot(339)\n",
        "sns.barplot(data=df_top_5_suicide_rate_2016,x='Country',y='Psychologists',palette=\"tab10\")\n",
        "plt.xlabel('Country')\n",
        "plt.ylabel('Psychologists/100k pop')\n",
        "plt.show()"
      ]
    },
    {
      "cell_type": "code",
      "execution_count": 67,
      "metadata": {
        "colab": {
          "base_uri": "https://localhost:8080/",
          "height": 206
        },
        "id": "-juShzkw78bN",
        "outputId": "fdb0ea21-5a62-470c-ce47-790cc59ae537"
      },
      "outputs": [
        {
          "data": {
            "text/html": [
              "<div>\n",
              "<style scoped>\n",
              "    .dataframe tbody tr th:only-of-type {\n",
              "        vertical-align: middle;\n",
              "    }\n",
              "\n",
              "    .dataframe tbody tr th {\n",
              "        vertical-align: top;\n",
              "    }\n",
              "\n",
              "    .dataframe thead th {\n",
              "        text-align: right;\n",
              "    }\n",
              "</style>\n",
              "<table border=\"1\" class=\"dataframe\">\n",
              "  <thead>\n",
              "    <tr style=\"text-align: right;\">\n",
              "      <th></th>\n",
              "      <th>Country</th>\n",
              "      <th>Suicide Rate</th>\n",
              "      <th>Year the law was enacted (latest revision)</th>\n",
              "      <th>Publication year of the policy or plan (latest revision)</th>\n",
              "      <th>Mental_hospitals</th>\n",
              "      <th>Health_units</th>\n",
              "      <th>Outpatient_facilities</th>\n",
              "      <th>Psychiatrists</th>\n",
              "      <th>Nurses</th>\n",
              "      <th>Social_workers</th>\n",
              "      <th>Psychologists</th>\n",
              "    </tr>\n",
              "  </thead>\n",
              "  <tbody>\n",
              "    <tr>\n",
              "      <th>70</th>\n",
              "      <td>Guyana</td>\n",
              "      <td>30.20</td>\n",
              "      <td>1930</td>\n",
              "      <td>2015.00</td>\n",
              "      <td>0.13</td>\n",
              "      <td>0.13</td>\n",
              "      <td>0.26</td>\n",
              "      <td>0.91</td>\n",
              "      <td>12.12</td>\n",
              "      <td>4.83</td>\n",
              "      <td>0.00</td>\n",
              "    </tr>\n",
              "    <tr>\n",
              "      <th>96</th>\n",
              "      <td>Lithuania</td>\n",
              "      <td>25.70</td>\n",
              "      <td>2005</td>\n",
              "      <td>2016.00</td>\n",
              "      <td>0.14</td>\n",
              "      <td>0.68</td>\n",
              "      <td>3.92</td>\n",
              "      <td>18.45</td>\n",
              "      <td>49.76</td>\n",
              "      <td>4.83</td>\n",
              "      <td>15.86</td>\n",
              "    </tr>\n",
              "    <tr>\n",
              "      <th>43</th>\n",
              "      <td>Côte d'Ivoire</td>\n",
              "      <td>23.00</td>\n",
              "      <td>0</td>\n",
              "      <td>2008.00</td>\n",
              "      <td>0.01</td>\n",
              "      <td>0.01</td>\n",
              "      <td>0.02</td>\n",
              "      <td>0.13</td>\n",
              "      <td>0.38</td>\n",
              "      <td>4.83</td>\n",
              "      <td>10.42</td>\n",
              "    </tr>\n",
              "    <tr>\n",
              "      <th>14</th>\n",
              "      <td>Belarus</td>\n",
              "      <td>21.40</td>\n",
              "      <td>2015</td>\n",
              "      <td>2016.00</td>\n",
              "      <td>0.20</td>\n",
              "      <td>0.06</td>\n",
              "      <td>0.12</td>\n",
              "      <td>13.50</td>\n",
              "      <td>12.12</td>\n",
              "      <td>4.83</td>\n",
              "      <td>5.51</td>\n",
              "    </tr>\n",
              "    <tr>\n",
              "      <th>131</th>\n",
              "      <td>Republic of Korea</td>\n",
              "      <td>20.20</td>\n",
              "      <td>2016</td>\n",
              "      <td>2016.00</td>\n",
              "      <td>0.36</td>\n",
              "      <td>0.39</td>\n",
              "      <td>1.79</td>\n",
              "      <td>5.79</td>\n",
              "      <td>13.66</td>\n",
              "      <td>8.40</td>\n",
              "      <td>1.59</td>\n",
              "    </tr>\n",
              "  </tbody>\n",
              "</table>\n",
              "</div>"
            ],
            "text/plain": [
              "               Country  Suicide Rate  \\\n",
              "70              Guyana         30.20   \n",
              "96           Lithuania         25.70   \n",
              "43       Côte d'Ivoire         23.00   \n",
              "14             Belarus         21.40   \n",
              "131  Republic of Korea         20.20   \n",
              "\n",
              "    Year the law was enacted (latest revision)  \\\n",
              "70                                        1930   \n",
              "96                                        2005   \n",
              "43                                           0   \n",
              "14                                        2015   \n",
              "131                                       2016   \n",
              "\n",
              "     Publication year of the policy or plan (latest revision)  \\\n",
              "70                                             2015.00          \n",
              "96                                             2016.00          \n",
              "43                                             2008.00          \n",
              "14                                             2016.00          \n",
              "131                                            2016.00          \n",
              "\n",
              "     Mental_hospitals  Health_units  Outpatient_facilities  Psychiatrists  \\\n",
              "70               0.13          0.13                   0.26           0.91   \n",
              "96               0.14          0.68                   3.92          18.45   \n",
              "43               0.01          0.01                   0.02           0.13   \n",
              "14               0.20          0.06                   0.12          13.50   \n",
              "131              0.36          0.39                   1.79           5.79   \n",
              "\n",
              "     Nurses  Social_workers  Psychologists  \n",
              "70    12.12            4.83           0.00  \n",
              "96    49.76            4.83          15.86  \n",
              "43     0.38            4.83          10.42  \n",
              "14    12.12            4.83           5.51  \n",
              "131   13.66            8.40           1.59  "
            ]
          },
          "execution_count": 67,
          "metadata": {},
          "output_type": "execute_result"
        }
      ],
      "source": [
        "df_top_5_suicide_rate_2016"
      ]
    },
    {
      "cell_type": "markdown",
      "metadata": {
        "id": "N7jyteAHfxZn"
      },
      "source": [
        "### Top 5 Lowest suicide rate Countries in 2016"
      ]
    },
    {
      "cell_type": "code",
      "execution_count": 68,
      "metadata": {
        "colab": {
          "base_uri": "https://localhost:8080/",
          "height": 1000
        },
        "id": "yjin6W8-e8Na",
        "outputId": "742c6061-0a14-4601-8ccc-70b38e3375ce"
      },
      "outputs": [
        {
          "data": {
            "image/png": "[encoded data removed]",
            "text/plain": [
              "<Figure size 2400x1600 with 8 Axes>"
            ]
          },
          "metadata": {},
          "output_type": "display_data"
        }
      ],
      "source": [
        "#Top 5 Lowest suicide rate Countries in 2016\n",
        "df_top_5_suicide_rate_2016=df_2016.sort_values(['Suicide Rate'], ascending=True).head(5)\n",
        "#Visualizing\n",
        "plt.figure(figsize=(30,20))\n",
        "plt.style.use('classic')\n",
        "plt.subplot(331)\n",
        "sns.barplot(data=df_top_5_suicide_rate_2016,x='Country',y='Suicide Rate',palette=\"tab10\")\n",
        "plt.suptitle('Top 5 Lowest suicide rate Countries in 2016')\n",
        "plt.xlabel('Country')\n",
        "plt.ylabel('Suicide Rate')\n",
        "\n",
        "plt.subplot(332)\n",
        "sns.barplot(data=df_top_5_suicide_rate_2016,x='Country',y='Mental_hospitals',palette=\"tab10\")\n",
        "plt.xlabel('Country')\n",
        "plt.ylabel('Mental hospitals/100k pop')\n",
        "plt.subplot(334)\n",
        "sns.barplot(data=df_top_5_suicide_rate_2016,x='Country',y='Health_units',palette=\"tab10\")\n",
        "plt.xlabel('Country')\n",
        "plt.ylabel('Health units/100k pop')\n",
        "plt.subplot(335)\n",
        "sns.barplot(data=df_top_5_suicide_rate_2016,x='Country',y='Outpatient_facilities',palette=\"tab10\")\n",
        "plt.xlabel('Country')\n",
        "plt.ylabel('Outpatient facilities/100k pop')\n",
        "plt.subplot(336)\n",
        "sns.barplot(data=df_top_5_suicide_rate_2016,x='Country',y='Psychiatrists',palette=\"tab10\")\n",
        "plt.xlabel('Country')\n",
        "plt.ylabel('Psychiatrists/100k pop')\n",
        "plt.subplot(337)\n",
        "sns.barplot(data=df_top_5_suicide_rate_2016,x='Country',y='Nurses',palette=\"tab10\")\n",
        "plt.xlabel('Country')\n",
        "plt.ylabel('Nurses/100k pop')\n",
        "plt.subplot(338)\n",
        "sns.barplot(data=df_top_5_suicide_rate_2016,x='Country',y='Social_workers',palette=\"tab10\")\n",
        "plt.xlabel('Country')\n",
        "plt.ylabel('Social workers/100k pop')\n",
        "plt.subplot(339)\n",
        "sns.barplot(data=df_top_5_suicide_rate_2016,x='Country',y='Psychologists',palette=\"tab10\")\n",
        "plt.xlabel('Country')\n",
        "plt.ylabel('Psychologists/100k pop')\n",
        "plt.show()"
      ]
    },
    {
      "cell_type": "code",
      "execution_count": 69,
      "metadata": {
        "colab": {
          "base_uri": "https://localhost:8080/",
          "height": 1000
        },
        "id": "CJlQdpdElTsY",
        "outputId": "3904b4eb-7108-4ce7-a643-7938ea56bb6d"
      },
      "outputs": [
        {
          "data": {
            "image/png": "[encoded data removed]",
            "text/plain": [
              "<Figure size 2400x1600 with 8 Axes>"
            ]
          },
          "metadata": {},
          "output_type": "display_data"
        }
      ],
      "source": [
        "\n",
        "#Top 5 Lowest suicide rate Countries in 2016\n",
        "df_top_5_suicide_rate_2016=df_2016.sort_values(['Suicide Rate'], ascending=True).iloc[53:58]\n",
        "#Visualizing\n",
        "plt.figure(figsize=(30,20))\n",
        "plt.style.use('classic')\n",
        "plt.subplot(331)\n",
        "sns.barplot(data=df_top_5_suicide_rate_2016,x='Country',y='Suicide Rate',palette=\"tab10\")\n",
        "plt.suptitle('Top 5  rate Countries in 2016')\n",
        "plt.xlabel('Country')\n",
        "plt.ylabel('Suicide Rate')\n",
        "\n",
        "plt.subplot(332)\n",
        "sns.barplot(data=df_top_5_suicide_rate_2016,x='Country',y='Mental_hospitals',palette=\"tab10\")\n",
        "plt.xlabel('Country')\n",
        "plt.ylabel('Mental hospitals/100k pop')\n",
        "plt.subplot(334)\n",
        "sns.barplot(data=df_top_5_suicide_rate_2016,x='Country',y='Health_units',palette=\"tab10\")\n",
        "plt.xlabel('Country')\n",
        "plt.ylabel('Health units/100k pop')\n",
        "plt.subplot(335)\n",
        "sns.barplot(data=df_top_5_suicide_rate_2016,x='Country',y='Outpatient_facilities',palette=\"tab10\")\n",
        "plt.xlabel('Country')\n",
        "plt.ylabel('Outpatient facilities/100k pop')\n",
        "plt.subplot(336)\n",
        "sns.barplot(data=df_top_5_suicide_rate_2016,x='Country',y='Psychiatrists',palette=\"tab10\")\n",
        "plt.xlabel('Country')\n",
        "plt.ylabel('Psychiatrists/100k pop')\n",
        "plt.subplot(337)\n",
        "sns.barplot(data=df_top_5_suicide_rate_2016,x='Country',y='Nurses',palette=\"tab10\")\n",
        "plt.xlabel('Country')\n",
        "plt.ylabel('Nurses/100k pop')\n",
        "plt.subplot(338)\n",
        "sns.barplot(data=df_top_5_suicide_rate_2016,x='Country',y='Social_workers',palette=\"tab10\")\n",
        "plt.xlabel('Country')\n",
        "plt.ylabel('Social workers/100k pop')\n",
        "plt.subplot(339)\n",
        "sns.barplot(data=df_top_5_suicide_rate_2016,x='Country',y='Psychologists',palette=\"tab10\")\n",
        "plt.xlabel('Country')\n",
        "plt.ylabel('Psychologists/100k pop')\n",
        "plt.show()"
      ]
    },
    {
      "cell_type": "code",
      "execution_count": 70,
      "metadata": {
        "colab": {
          "base_uri": "https://localhost:8080/",
          "height": 331
        },
        "id": "qH9cP8n8rnWc",
        "outputId": "378b0b7a-61a0-4ec4-d835-b726295444c1"
      },
      "outputs": [
        {
          "data": {
            "text/html": [
              "<div>\n",
              "<style scoped>\n",
              "    .dataframe tbody tr th:only-of-type {\n",
              "        vertical-align: middle;\n",
              "    }\n",
              "\n",
              "    .dataframe tbody tr th {\n",
              "        vertical-align: top;\n",
              "    }\n",
              "\n",
              "    .dataframe thead th {\n",
              "        text-align: right;\n",
              "    }\n",
              "</style>\n",
              "<table border=\"1\" class=\"dataframe\">\n",
              "  <thead>\n",
              "    <tr style=\"text-align: right;\">\n",
              "      <th></th>\n",
              "      <th>Suicide Rate</th>\n",
              "      <th>Publication year of the policy or plan (latest revision)</th>\n",
              "      <th>Mental_hospitals</th>\n",
              "      <th>Health_units</th>\n",
              "      <th>Outpatient_facilities</th>\n",
              "      <th>Psychiatrists</th>\n",
              "      <th>Nurses</th>\n",
              "      <th>Social_workers</th>\n",
              "      <th>Psychologists</th>\n",
              "    </tr>\n",
              "  </thead>\n",
              "  <tbody>\n",
              "    <tr>\n",
              "      <th>Suicide Rate</th>\n",
              "      <td>1.00</td>\n",
              "      <td>0.13</td>\n",
              "      <td>0.07</td>\n",
              "      <td>0.07</td>\n",
              "      <td>-0.01</td>\n",
              "      <td>0.22</td>\n",
              "      <td>0.12</td>\n",
              "      <td>0.04</td>\n",
              "      <td>-0.03</td>\n",
              "    </tr>\n",
              "    <tr>\n",
              "      <th>Publication year of the policy or plan (latest revision)</th>\n",
              "      <td>0.13</td>\n",
              "      <td>1.00</td>\n",
              "      <td>0.02</td>\n",
              "      <td>-0.02</td>\n",
              "      <td>-0.17</td>\n",
              "      <td>0.04</td>\n",
              "      <td>0.02</td>\n",
              "      <td>0.07</td>\n",
              "      <td>0.04</td>\n",
              "    </tr>\n",
              "    <tr>\n",
              "      <th>Mental_hospitals</th>\n",
              "      <td>0.07</td>\n",
              "      <td>0.02</td>\n",
              "      <td>1.00</td>\n",
              "      <td>0.09</td>\n",
              "      <td>0.26</td>\n",
              "      <td>0.17</td>\n",
              "      <td>0.34</td>\n",
              "      <td>0.05</td>\n",
              "      <td>0.06</td>\n",
              "    </tr>\n",
              "    <tr>\n",
              "      <th>Health_units</th>\n",
              "      <td>0.07</td>\n",
              "      <td>-0.02</td>\n",
              "      <td>0.09</td>\n",
              "      <td>1.00</td>\n",
              "      <td>0.29</td>\n",
              "      <td>0.20</td>\n",
              "      <td>0.16</td>\n",
              "      <td>0.02</td>\n",
              "      <td>0.09</td>\n",
              "    </tr>\n",
              "    <tr>\n",
              "      <th>Outpatient_facilities</th>\n",
              "      <td>-0.01</td>\n",
              "      <td>-0.17</td>\n",
              "      <td>0.26</td>\n",
              "      <td>0.29</td>\n",
              "      <td>1.00</td>\n",
              "      <td>0.17</td>\n",
              "      <td>0.27</td>\n",
              "      <td>-0.02</td>\n",
              "      <td>0.03</td>\n",
              "    </tr>\n",
              "    <tr>\n",
              "      <th>Psychiatrists</th>\n",
              "      <td>0.22</td>\n",
              "      <td>0.04</td>\n",
              "      <td>0.17</td>\n",
              "      <td>0.20</td>\n",
              "      <td>0.17</td>\n",
              "      <td>1.00</td>\n",
              "      <td>0.35</td>\n",
              "      <td>0.13</td>\n",
              "      <td>0.43</td>\n",
              "    </tr>\n",
              "    <tr>\n",
              "      <th>Nurses</th>\n",
              "      <td>0.12</td>\n",
              "      <td>0.02</td>\n",
              "      <td>0.34</td>\n",
              "      <td>0.16</td>\n",
              "      <td>0.27</td>\n",
              "      <td>0.35</td>\n",
              "      <td>1.00</td>\n",
              "      <td>0.01</td>\n",
              "      <td>0.02</td>\n",
              "    </tr>\n",
              "    <tr>\n",
              "      <th>Social_workers</th>\n",
              "      <td>0.04</td>\n",
              "      <td>0.07</td>\n",
              "      <td>0.05</td>\n",
              "      <td>0.02</td>\n",
              "      <td>-0.02</td>\n",
              "      <td>0.13</td>\n",
              "      <td>0.01</td>\n",
              "      <td>1.00</td>\n",
              "      <td>0.44</td>\n",
              "    </tr>\n",
              "    <tr>\n",
              "      <th>Psychologists</th>\n",
              "      <td>-0.03</td>\n",
              "      <td>0.04</td>\n",
              "      <td>0.06</td>\n",
              "      <td>0.09</td>\n",
              "      <td>0.03</td>\n",
              "      <td>0.43</td>\n",
              "      <td>0.02</td>\n",
              "      <td>0.44</td>\n",
              "      <td>1.00</td>\n",
              "    </tr>\n",
              "  </tbody>\n",
              "</table>\n",
              "</div>"
            ],
            "text/plain": [
              "                                                    Suicide Rate  \\\n",
              "Suicide Rate                                                1.00   \n",
              "Publication year of the policy or plan (latest ...          0.13   \n",
              "Mental_hospitals                                            0.07   \n",
              "Health_units                                                0.07   \n",
              "Outpatient_facilities                                      -0.01   \n",
              "Psychiatrists                                               0.22   \n",
              "Nurses                                                      0.12   \n",
              "Social_workers                                              0.04   \n",
              "Psychologists                                              -0.03   \n",
              "\n",
              "                                                    Publication year of the policy or plan (latest revision)  \\\n",
              "Suicide Rate                                                                                     0.13          \n",
              "Publication year of the policy or plan (latest ...                                               1.00          \n",
              "Mental_hospitals                                                                                 0.02          \n",
              "Health_units                                                                                    -0.02          \n",
              "Outpatient_facilities                                                                           -0.17          \n",
              "Psychiatrists                                                                                    0.04          \n",
              "Nurses                                                                                           0.02          \n",
              "Social_workers                                                                                   0.07          \n",
              "Psychologists                                                                                    0.04          \n",
              "\n",
              "                                                    Mental_hospitals  \\\n",
              "Suicide Rate                                                    0.07   \n",
              "Publication year of the policy or plan (latest ...              0.02   \n",
              "Mental_hospitals                                                1.00   \n",
              "Health_units                                                    0.09   \n",
              "Outpatient_facilities                                           0.26   \n",
              "Psychiatrists                                                   0.17   \n",
              "Nurses                                                          0.34   \n",
              "Social_workers                                                  0.05   \n",
              "Psychologists                                                   0.06   \n",
              "\n",
              "                                                    Health_units  \\\n",
              "Suicide Rate                                                0.07   \n",
              "Publication year of the policy or plan (latest ...         -0.02   \n",
              "Mental_hospitals                                            0.09   \n",
              "Health_units                                                1.00   \n",
              "Outpatient_facilities                                       0.29   \n",
              "Psychiatrists                                               0.20   \n",
              "Nurses                                                      0.16   \n",
              "Social_workers                                              0.02   \n",
              "Psychologists                                               0.09   \n",
              "\n",
              "                                                    Outpatient_facilities  \\\n",
              "Suicide Rate                                                        -0.01   \n",
              "Publication year of the policy or plan (latest ...                  -0.17   \n",
              "Mental_hospitals                                                     0.26   \n",
              "Health_units                                                         0.29   \n",
              "Outpatient_facilities                                                1.00   \n",
              "Psychiatrists                                                        0.17   \n",
              "Nurses                                                               0.27   \n",
              "Social_workers                                                      -0.02   \n",
              "Psychologists                                                        0.03   \n",
              "\n",
              "                                                    Psychiatrists  Nurses  \\\n",
              "Suicide Rate                                                 0.22    0.12   \n",
              "Publication year of the policy or plan (latest ...           0.04    0.02   \n",
              "Mental_hospitals                                             0.17    0.34   \n",
              "Health_units                                                 0.20    0.16   \n",
              "Outpatient_facilities                                        0.17    0.27   \n",
              "Psychiatrists                                                1.00    0.35   \n",
              "Nurses                                                       0.35    1.00   \n",
              "Social_workers                                               0.13    0.01   \n",
              "Psychologists                                                0.43    0.02   \n",
              "\n",
              "                                                    Social_workers  \\\n",
              "Suicide Rate                                                  0.04   \n",
              "Publication year of the policy or plan (latest ...            0.07   \n",
              "Mental_hospitals                                              0.05   \n",
              "Health_units                                                  0.02   \n",
              "Outpatient_facilities                                        -0.02   \n",
              "Psychiatrists                                                 0.13   \n",
              "Nurses                                                        0.01   \n",
              "Social_workers                                                1.00   \n",
              "Psychologists                                                 0.44   \n",
              "\n",
              "                                                    Psychologists  \n",
              "Suicide Rate                                                -0.03  \n",
              "Publication year of the policy or plan (latest ...           0.04  \n",
              "Mental_hospitals                                             0.06  \n",
              "Health_units                                                 0.09  \n",
              "Outpatient_facilities                                        0.03  \n",
              "Psychiatrists                                                0.43  \n",
              "Nurses                                                       0.02  \n",
              "Social_workers                                               0.44  \n",
              "Psychologists                                                1.00  "
            ]
          },
          "execution_count": 70,
          "metadata": {},
          "output_type": "execute_result"
        }
      ],
      "source": [
        "df_2016.corr()"
      ]
    },
    {
      "cell_type": "markdown",
      "metadata": {
        "id": "-dfh8YPk79R1"
      },
      "source": [
        "# V/Save Dataframe"
      ]
    },
    {
      "cell_type": "markdown",
      "metadata": {
        "id": "bbetc8tU8SHQ"
      },
      "source": [
        "## Save CSV"
      ]
    },
    {
      "cell_type": "code",
      "execution_count": 71,
      "metadata": {
        "id": "vJC0LRpl8QVV"
      },
      "outputs": [],
      "source": [
        "df_country_suicide.to_csv( 'DATASET/CLEANED_DATA/country_suicide_rate.csv',index= False)\n",
        "df_suicide_rate.to_csv( 'DATASET/CLEANED_DATA/suicide_rate.csv',index= False)\n",
        "df_2016.to_csv( 'DATASET/CLEANED_DATA/mental_health.csv',index= False)"
      ]
    },
    {
      "cell_type": "markdown",
      "metadata": {
        "id": "0lF_EnhS8H9F"
      },
      "source": [
        "## Load CSV (Check)"
      ]
    },
    {
      "cell_type": "code",
      "execution_count": 72,
      "metadata": {
        "colab": {
          "base_uri": "https://localhost:8080/"
        },
        "id": "mlqLfH7n8WKC",
        "outputId": "836bdeb9-af8b-40f3-8161-2559b827a268"
      },
      "outputs": [],
      "source": [
        "import numpy as np\n",
        "import re\n",
        "import pandas as pd\n",
        "import seaborn as sns\n",
        "import matplotlib.pyplot as plt\n",
        "df_country_suicide_rate=pd.read_csv('DATASET/CLEANED_DATA/country_suicide_rate.csv')\n",
        "df_suicide_rate=pd.read_csv('DATASET/CLEANED_DATA/suicide_rate.csv')\n",
        "df_mental_health_2016=pd.read_csv('DATASET/CLEANED_DATA/mental_health.csv')"
      ]
    },
    {
      "cell_type": "code",
      "execution_count": 73,
      "metadata": {
        "colab": {
          "base_uri": "https://localhost:8080/",
          "height": 206
        },
        "id": "-i0Y77RzCYhu",
        "outputId": "753d21bd-242b-4b0b-cb71-8be6daa80137"
      },
      "outputs": [
        {
          "data": {
            "text/html": [
              "<div>\n",
              "<style scoped>\n",
              "    .dataframe tbody tr th:only-of-type {\n",
              "        vertical-align: middle;\n",
              "    }\n",
              "\n",
              "    .dataframe tbody tr th {\n",
              "        vertical-align: top;\n",
              "    }\n",
              "\n",
              "    .dataframe thead th {\n",
              "        text-align: right;\n",
              "    }\n",
              "</style>\n",
              "<table border=\"1\" class=\"dataframe\">\n",
              "  <thead>\n",
              "    <tr style=\"text-align: right;\">\n",
              "      <th></th>\n",
              "      <th>Country</th>\n",
              "      <th>Year</th>\n",
              "      <th>GDP ($)</th>\n",
              "      <th>GDP/Capita ($)</th>\n",
              "      <th>No.Suicides</th>\n",
              "      <th>Population</th>\n",
              "      <th>Suicides_rate/100k pop</th>\n",
              "    </tr>\n",
              "  </thead>\n",
              "  <tbody>\n",
              "    <tr>\n",
              "      <th>0</th>\n",
              "      <td>Albania</td>\n",
              "      <td>1987</td>\n",
              "      <td>2156624900</td>\n",
              "      <td>796</td>\n",
              "      <td>73</td>\n",
              "      <td>2709600</td>\n",
              "      <td>2.69</td>\n",
              "    </tr>\n",
              "    <tr>\n",
              "      <th>1</th>\n",
              "      <td>Albania</td>\n",
              "      <td>1988</td>\n",
              "      <td>2126000000</td>\n",
              "      <td>769</td>\n",
              "      <td>63</td>\n",
              "      <td>2764300</td>\n",
              "      <td>2.28</td>\n",
              "    </tr>\n",
              "    <tr>\n",
              "      <th>2</th>\n",
              "      <td>Albania</td>\n",
              "      <td>1989</td>\n",
              "      <td>2335124988</td>\n",
              "      <td>833</td>\n",
              "      <td>68</td>\n",
              "      <td>2803100</td>\n",
              "      <td>2.43</td>\n",
              "    </tr>\n",
              "    <tr>\n",
              "      <th>3</th>\n",
              "      <td>Albania</td>\n",
              "      <td>1992</td>\n",
              "      <td>709452584</td>\n",
              "      <td>251</td>\n",
              "      <td>47</td>\n",
              "      <td>2822500</td>\n",
              "      <td>1.67</td>\n",
              "    </tr>\n",
              "    <tr>\n",
              "      <th>4</th>\n",
              "      <td>Albania</td>\n",
              "      <td>1993</td>\n",
              "      <td>1228071038</td>\n",
              "      <td>437</td>\n",
              "      <td>73</td>\n",
              "      <td>2807300</td>\n",
              "      <td>2.60</td>\n",
              "    </tr>\n",
              "  </tbody>\n",
              "</table>\n",
              "</div>"
            ],
            "text/plain": [
              "   Country  Year     GDP ($)  GDP/Capita ($)  No.Suicides  Population  \\\n",
              "0  Albania  1987  2156624900             796           73     2709600   \n",
              "1  Albania  1988  2126000000             769           63     2764300   \n",
              "2  Albania  1989  2335124988             833           68     2803100   \n",
              "3  Albania  1992   709452584             251           47     2822500   \n",
              "4  Albania  1993  1228071038             437           73     2807300   \n",
              "\n",
              "   Suicides_rate/100k pop  \n",
              "0                    2.69  \n",
              "1                    2.28  \n",
              "2                    2.43  \n",
              "3                    1.67  \n",
              "4                    2.60  "
            ]
          },
          "execution_count": 73,
          "metadata": {},
          "output_type": "execute_result"
        }
      ],
      "source": [
        "df_country_suicide_rate.head()"
      ]
    },
    {
      "cell_type": "code",
      "execution_count": 74,
      "metadata": {
        "colab": {
          "base_uri": "https://localhost:8080/",
          "height": 206
        },
        "id": "klAJViIsEk7a",
        "outputId": "4bc12360-72cb-4478-eb06-131ae0238122"
      },
      "outputs": [
        {
          "data": {
            "text/html": [
              "<div>\n",
              "<style scoped>\n",
              "    .dataframe tbody tr th:only-of-type {\n",
              "        vertical-align: middle;\n",
              "    }\n",
              "\n",
              "    .dataframe tbody tr th {\n",
              "        vertical-align: top;\n",
              "    }\n",
              "\n",
              "    .dataframe thead th {\n",
              "        text-align: right;\n",
              "    }\n",
              "</style>\n",
              "<table border=\"1\" class=\"dataframe\">\n",
              "  <thead>\n",
              "    <tr style=\"text-align: right;\">\n",
              "      <th></th>\n",
              "      <th>Country</th>\n",
              "      <th>Year</th>\n",
              "      <th>Sex</th>\n",
              "      <th>Age</th>\n",
              "      <th>No.Suicides</th>\n",
              "      <th>Population</th>\n",
              "      <th>Suicides_rate/100k pop</th>\n",
              "      <th>GDP ($)</th>\n",
              "      <th>GDP/Capita ($)</th>\n",
              "    </tr>\n",
              "  </thead>\n",
              "  <tbody>\n",
              "    <tr>\n",
              "      <th>0</th>\n",
              "      <td>Albania</td>\n",
              "      <td>1987</td>\n",
              "      <td>Female</td>\n",
              "      <td>05-14 years</td>\n",
              "      <td>0</td>\n",
              "      <td>311000</td>\n",
              "      <td>0.00</td>\n",
              "      <td>2156624900</td>\n",
              "      <td>796</td>\n",
              "    </tr>\n",
              "    <tr>\n",
              "      <th>1</th>\n",
              "      <td>Albania</td>\n",
              "      <td>1987</td>\n",
              "      <td>Female</td>\n",
              "      <td>15-24 years</td>\n",
              "      <td>14</td>\n",
              "      <td>289700</td>\n",
              "      <td>4.83</td>\n",
              "      <td>2156624900</td>\n",
              "      <td>796</td>\n",
              "    </tr>\n",
              "    <tr>\n",
              "      <th>2</th>\n",
              "      <td>Albania</td>\n",
              "      <td>1987</td>\n",
              "      <td>Female</td>\n",
              "      <td>25-34 years</td>\n",
              "      <td>4</td>\n",
              "      <td>257200</td>\n",
              "      <td>1.56</td>\n",
              "      <td>2156624900</td>\n",
              "      <td>796</td>\n",
              "    </tr>\n",
              "    <tr>\n",
              "      <th>3</th>\n",
              "      <td>Albania</td>\n",
              "      <td>1987</td>\n",
              "      <td>Female</td>\n",
              "      <td>35-54 years</td>\n",
              "      <td>6</td>\n",
              "      <td>278800</td>\n",
              "      <td>2.15</td>\n",
              "      <td>2156624900</td>\n",
              "      <td>796</td>\n",
              "    </tr>\n",
              "    <tr>\n",
              "      <th>4</th>\n",
              "      <td>Albania</td>\n",
              "      <td>1987</td>\n",
              "      <td>Female</td>\n",
              "      <td>55-74 years</td>\n",
              "      <td>0</td>\n",
              "      <td>144600</td>\n",
              "      <td>0.00</td>\n",
              "      <td>2156624900</td>\n",
              "      <td>796</td>\n",
              "    </tr>\n",
              "  </tbody>\n",
              "</table>\n",
              "</div>"
            ],
            "text/plain": [
              "   Country  Year     Sex          Age  No.Suicides  Population  \\\n",
              "0  Albania  1987  Female  05-14 years            0      311000   \n",
              "1  Albania  1987  Female  15-24 years           14      289700   \n",
              "2  Albania  1987  Female  25-34 years            4      257200   \n",
              "3  Albania  1987  Female  35-54 years            6      278800   \n",
              "4  Albania  1987  Female  55-74 years            0      144600   \n",
              "\n",
              "   Suicides_rate/100k pop     GDP ($)  GDP/Capita ($)  \n",
              "0                    0.00  2156624900             796  \n",
              "1                    4.83  2156624900             796  \n",
              "2                    1.56  2156624900             796  \n",
              "3                    2.15  2156624900             796  \n",
              "4                    0.00  2156624900             796  "
            ]
          },
          "execution_count": 74,
          "metadata": {},
          "output_type": "execute_result"
        }
      ],
      "source": [
        "df_suicide_rate.head()"
      ]
    },
    {
      "cell_type": "code",
      "execution_count": 75,
      "metadata": {
        "colab": {
          "base_uri": "https://localhost:8080/",
          "height": 206
        },
        "id": "BzaCDa7ZEk1K",
        "outputId": "c6f774f4-59e3-4d37-ddb2-17a3a8bad7f3"
      },
      "outputs": [
        {
          "data": {
            "text/html": [
              "<div>\n",
              "<style scoped>\n",
              "    .dataframe tbody tr th:only-of-type {\n",
              "        vertical-align: middle;\n",
              "    }\n",
              "\n",
              "    .dataframe tbody tr th {\n",
              "        vertical-align: top;\n",
              "    }\n",
              "\n",
              "    .dataframe thead th {\n",
              "        text-align: right;\n",
              "    }\n",
              "</style>\n",
              "<table border=\"1\" class=\"dataframe\">\n",
              "  <thead>\n",
              "    <tr style=\"text-align: right;\">\n",
              "      <th></th>\n",
              "      <th>Country</th>\n",
              "      <th>Suicide Rate</th>\n",
              "      <th>Year the law was enacted (latest revision)</th>\n",
              "      <th>Publication year of the policy or plan (latest revision)</th>\n",
              "      <th>Mental_hospitals</th>\n",
              "      <th>Health_units</th>\n",
              "      <th>Outpatient_facilities</th>\n",
              "      <th>Psychiatrists</th>\n",
              "      <th>Nurses</th>\n",
              "      <th>Social_workers</th>\n",
              "      <th>Psychologists</th>\n",
              "    </tr>\n",
              "  </thead>\n",
              "  <tbody>\n",
              "    <tr>\n",
              "      <th>0</th>\n",
              "      <td>Afghanistan</td>\n",
              "      <td>6.40</td>\n",
              "      <td>1987</td>\n",
              "      <td>2016.00</td>\n",
              "      <td>0.00</td>\n",
              "      <td>0.01</td>\n",
              "      <td>0.01</td>\n",
              "      <td>0.23</td>\n",
              "      <td>0.10</td>\n",
              "      <td>4.83</td>\n",
              "      <td>0.30</td>\n",
              "    </tr>\n",
              "    <tr>\n",
              "      <th>1</th>\n",
              "      <td>Albania</td>\n",
              "      <td>5.60</td>\n",
              "      <td>2012</td>\n",
              "      <td>2013.00</td>\n",
              "      <td>0.07</td>\n",
              "      <td>0.07</td>\n",
              "      <td>0.41</td>\n",
              "      <td>1.47</td>\n",
              "      <td>6.88</td>\n",
              "      <td>1.06</td>\n",
              "      <td>1.23</td>\n",
              "    </tr>\n",
              "    <tr>\n",
              "      <th>2</th>\n",
              "      <td>Algeria</td>\n",
              "      <td>3.30</td>\n",
              "      <td>1905</td>\n",
              "      <td>0.00</td>\n",
              "      <td>0.05</td>\n",
              "      <td>0.07</td>\n",
              "      <td>0.05</td>\n",
              "      <td>4.25</td>\n",
              "      <td>11.82</td>\n",
              "      <td>4.92</td>\n",
              "      <td>10.51</td>\n",
              "    </tr>\n",
              "    <tr>\n",
              "      <th>3</th>\n",
              "      <td>Angola</td>\n",
              "      <td>8.90</td>\n",
              "      <td>0</td>\n",
              "      <td>0.00</td>\n",
              "      <td>0.01</td>\n",
              "      <td>0.32</td>\n",
              "      <td>1.88</td>\n",
              "      <td>0.06</td>\n",
              "      <td>0.66</td>\n",
              "      <td>0.02</td>\n",
              "      <td>0.18</td>\n",
              "    </tr>\n",
              "    <tr>\n",
              "      <th>4</th>\n",
              "      <td>Antigua and Barbuda</td>\n",
              "      <td>0.50</td>\n",
              "      <td>1957</td>\n",
              "      <td>2013.00</td>\n",
              "      <td>1.00</td>\n",
              "      <td>0.32</td>\n",
              "      <td>1.88</td>\n",
              "      <td>1.00</td>\n",
              "      <td>7.00</td>\n",
              "      <td>4.00</td>\n",
              "      <td>10.42</td>\n",
              "    </tr>\n",
              "  </tbody>\n",
              "</table>\n",
              "</div>"
            ],
            "text/plain": [
              "               Country  Suicide Rate  \\\n",
              "0          Afghanistan          6.40   \n",
              "1              Albania          5.60   \n",
              "2              Algeria          3.30   \n",
              "3               Angola          8.90   \n",
              "4  Antigua and Barbuda          0.50   \n",
              "\n",
              "  Year the law was enacted (latest revision)  \\\n",
              "0                                       1987   \n",
              "1                                       2012   \n",
              "2                                       1905   \n",
              "3                                          0   \n",
              "4                                       1957   \n",
              "\n",
              "   Publication year of the policy or plan (latest revision)  Mental_hospitals  \\\n",
              "0                                            2016.00                     0.00   \n",
              "1                                            2013.00                     0.07   \n",
              "2                                               0.00                     0.05   \n",
              "3                                               0.00                     0.01   \n",
              "4                                            2013.00                     1.00   \n",
              "\n",
              "   Health_units  Outpatient_facilities  Psychiatrists  Nurses  Social_workers  \\\n",
              "0          0.01                   0.01           0.23    0.10            4.83   \n",
              "1          0.07                   0.41           1.47    6.88            1.06   \n",
              "2          0.07                   0.05           4.25   11.82            4.92   \n",
              "3          0.32                   1.88           0.06    0.66            0.02   \n",
              "4          0.32                   1.88           1.00    7.00            4.00   \n",
              "\n",
              "   Psychologists  \n",
              "0           0.30  \n",
              "1           1.23  \n",
              "2          10.51  \n",
              "3           0.18  \n",
              "4          10.42  "
            ]
          },
          "execution_count": 75,
          "metadata": {},
          "output_type": "execute_result"
        }
      ],
      "source": [
        "df_mental_health_2016.head()"
      ]
    }
  ],
  "metadata": {
    "colab": {
      "collapsed_sections": [],
      "name": "DATA_ANALYSIS.ipynb",
      "provenance": []
    },
    "kernelspec": {
      "display_name": "Python 3",
      "name": "python3"
    },
    "language_info": {
      "codemirror_mode": {
        "name": "ipython",
        "version": 3
      },
      "file_extension": ".py",
      "mimetype": "text/x-python",
      "name": "python",
      "nbconvert_exporter": "python",
      "pygments_lexer": "ipython3",
      "version": "3.9.5"
    }
  },
  "nbformat": 4,
  "nbformat_minor": 0
}
